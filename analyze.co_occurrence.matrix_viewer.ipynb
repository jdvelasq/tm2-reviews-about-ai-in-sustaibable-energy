{
 "cells": [
  {
   "cell_type": "code",
   "execution_count": 1,
   "id": "125bd1e7-e700-4e9f-b150-538110f5812c",
   "metadata": {},
   "outputs": [],
   "source": [
    "from techminer2.analyze.co_occurrence import matrix_viewer"
   ]
  },
  {
   "cell_type": "code",
   "execution_count": 3,
   "id": "73386271-1a1f-41ff-9886-204c61072170",
   "metadata": {},
   "outputs": [
    {
     "data": {
      "application/vnd.plotly.v1+json": {
       "config": {
        "plotlyServerURL": "https://plot.ly"
       },
       "data": [
        {
         "hoverinfo": "none",
         "line": {
          "color": "#E8E8E8",
          "dash": "solid",
          "width": 0.7
         },
         "mode": "lines",
         "type": "scatter",
         "x": [
          -0.02255445849607741,
          0.04881175386657501
         ],
         "y": [
          -0.08027263031689079,
          0.01944277062717638
         ]
        },
        {
         "hoverinfo": "none",
         "line": {
          "color": "#E8E8E8",
          "dash": "solid",
          "width": 0.7
         },
         "mode": "lines",
         "type": "scatter",
         "x": [
          -0.02255445849607741,
          0.0429122785328855
         ],
         "y": [
          -0.08027263031689079,
          0.14095673312259907
         ]
        },
        {
         "hoverinfo": "none",
         "line": {
          "color": "#E8E8E8",
          "dash": "solid",
          "width": 0.7
         },
         "mode": "lines",
         "type": "scatter",
         "x": [
          -0.02255445849607741,
          0.10925689071633819
         ],
         "y": [
          -0.08027263031689079,
          0.11010146346982091
         ]
        },
        {
         "hoverinfo": "none",
         "line": {
          "color": "#E8E8E8",
          "dash": "solid",
          "width": 0.7
         },
         "mode": "lines",
         "type": "scatter",
         "x": [
          -0.02255445849607741,
          0.05331442071425577
         ],
         "y": [
          -0.08027263031689079,
          -0.07893475661902369
         ]
        },
        {
         "hoverinfo": "none",
         "line": {
          "color": "#E8E8E8",
          "dash": "solid",
          "width": 0.7
         },
         "mode": "lines",
         "type": "scatter",
         "x": [
          -0.02255445849607741,
          -0.029583570089209407
         ],
         "y": [
          -0.08027263031689079,
          -0.11385733988125694
         ]
        },
        {
         "hoverinfo": "none",
         "line": {
          "color": "#E8E8E8",
          "dash": "solid",
          "width": 0.7
         },
         "mode": "lines",
         "type": "scatter",
         "x": [
          -0.02255445849607741,
          0.05677264608881407
         ],
         "y": [
          -0.08027263031689079,
          0.06110489881926472
         ]
        },
        {
         "hoverinfo": "none",
         "line": {
          "color": "#E8E8E8",
          "dash": "solid",
          "width": 0.7
         },
         "mode": "lines",
         "type": "scatter",
         "x": [
          -0.02255445849607741,
          0.07054972484232797
         ],
         "y": [
          -0.08027263031689079,
          0.18463618836255125
         ]
        },
        {
         "hoverinfo": "none",
         "line": {
          "color": "#E8E8E8",
          "dash": "solid",
          "width": 0.7
         },
         "mode": "lines",
         "type": "scatter",
         "x": [
          -0.02255445849607741,
          0.17987280261923122
         ],
         "y": [
          -0.08027263031689079,
          -0.0526411189593778
         ]
        },
        {
         "hoverinfo": "none",
         "line": {
          "color": "#E8E8E8",
          "dash": "solid",
          "width": 0.7
         },
         "mode": "lines",
         "type": "scatter",
         "x": [
          -0.02255445849607741,
          0.15139500288560356
         ],
         "y": [
          -0.08027263031689079,
          0.11912451908541347
         ]
        },
        {
         "hoverinfo": "none",
         "line": {
          "color": "#E8E8E8",
          "dash": "solid",
          "width": 0.7
         },
         "mode": "lines",
         "type": "scatter",
         "x": [
          -0.02255445849607741,
          0.09851911586340306
         ],
         "y": [
          -0.08027263031689079,
          -0.15617504689855694
         ]
        },
        {
         "hoverinfo": "none",
         "line": {
          "color": "#E8E8E8",
          "dash": "solid",
          "width": 0.7
         },
         "mode": "lines",
         "type": "scatter",
         "x": [
          -0.02255445849607741,
          -0.06961446972372612
         ],
         "y": [
          -0.08027263031689079,
          0.12226732652610431
         ]
        },
        {
         "hoverinfo": "none",
         "line": {
          "color": "#E8E8E8",
          "dash": "solid",
          "width": 0.7
         },
         "mode": "lines",
         "type": "scatter",
         "x": [
          -0.02255445849607741,
          -0.1336542052629159
         ],
         "y": [
          -0.08027263031689079,
          0.13209859572922225
         ]
        },
        {
         "hoverinfo": "none",
         "line": {
          "color": "#E8E8E8",
          "dash": "solid",
          "width": 0.7
         },
         "mode": "lines",
         "type": "scatter",
         "x": [
          -0.07302517807265257,
          0.08454043703939625
         ],
         "y": [
          -0.03507102863817463,
          -0.028587744644051612
         ]
        },
        {
         "hoverinfo": "none",
         "line": {
          "color": "#E8E8E8",
          "dash": "solid",
          "width": 0.7
         },
         "mode": "lines",
         "type": "scatter",
         "x": [
          -0.07302517807265257,
          -0.042670106985513684
         ],
         "y": [
          -0.03507102863817463,
          -0.24786919397009546
         ]
        },
        {
         "hoverinfo": "none",
         "line": {
          "color": "#E8E8E8",
          "dash": "solid",
          "width": 0.7
         },
         "mode": "lines",
         "type": "scatter",
         "x": [
          -0.07302517807265257,
          0.04881175386657501
         ],
         "y": [
          -0.03507102863817463,
          0.01944277062717638
         ]
        },
        {
         "hoverinfo": "none",
         "line": {
          "color": "#E8E8E8",
          "dash": "solid",
          "width": 0.7
         },
         "mode": "lines",
         "type": "scatter",
         "x": [
          -0.07302517807265257,
          0.06785103515693583
         ],
         "y": [
          -0.03507102863817463,
          0.035862581526662815
         ]
        },
        {
         "hoverinfo": "none",
         "line": {
          "color": "#E8E8E8",
          "dash": "solid",
          "width": 0.7
         },
         "mode": "lines",
         "type": "scatter",
         "x": [
          -0.07302517807265257,
          0.015375274835434157
         ],
         "y": [
          -0.03507102863817463,
          -0.22541852025411738
         ]
        },
        {
         "hoverinfo": "none",
         "line": {
          "color": "#E8E8E8",
          "dash": "solid",
          "width": 0.7
         },
         "mode": "lines",
         "type": "scatter",
         "x": [
          -0.07302517807265257,
          0.05331442071425577
         ],
         "y": [
          -0.03507102863817463,
          -0.07893475661902369
         ]
        },
        {
         "hoverinfo": "none",
         "line": {
          "color": "#E8E8E8",
          "dash": "solid",
          "width": 0.7
         },
         "mode": "lines",
         "type": "scatter",
         "x": [
          -0.07302517807265257,
          0.12993462954978785
         ],
         "y": [
          -0.03507102863817463,
          -0.1563171772286875
         ]
        },
        {
         "hoverinfo": "none",
         "line": {
          "color": "#E8E8E8",
          "dash": "solid",
          "width": 0.7
         },
         "mode": "lines",
         "type": "scatter",
         "x": [
          -0.07302517807265257,
          0.024100532088113642
         ],
         "y": [
          -0.03507102863817463,
          -0.2523412728071196
         ]
        },
        {
         "hoverinfo": "none",
         "line": {
          "color": "#E8E8E8",
          "dash": "solid",
          "width": 0.7
         },
         "mode": "lines",
         "type": "scatter",
         "x": [
          -0.07302517807265257,
          -0.22282847311132453
         ],
         "y": [
          -0.03507102863817463,
          -0.0980183233713624
         ]
        },
        {
         "hoverinfo": "none",
         "line": {
          "color": "#E8E8E8",
          "dash": "solid",
          "width": 0.7
         },
         "mode": "lines",
         "type": "scatter",
         "x": [
          -0.07302517807265257,
          0.1629398261141471
         ],
         "y": [
          -0.03507102863817463,
          -0.11103709893423747
         ]
        },
        {
         "hoverinfo": "none",
         "line": {
          "color": "#E8E8E8",
          "dash": "solid",
          "width": 0.7
         },
         "mode": "lines",
         "type": "scatter",
         "x": [
          -0.07302517807265257,
          -0.06961446972372612
         ],
         "y": [
          -0.03507102863817463,
          0.12226732652610431
         ]
        },
        {
         "hoverinfo": "none",
         "line": {
          "color": "#E8E8E8",
          "dash": "solid",
          "width": 0.7
         },
         "mode": "lines",
         "type": "scatter",
         "x": [
          -0.07302517807265257,
          -0.15002438170646445
         ],
         "y": [
          -0.03507102863817463,
          0.34963395440696804
         ]
        },
        {
         "hoverinfo": "none",
         "line": {
          "color": "#E8E8E8",
          "dash": "solid",
          "width": 0.7
         },
         "mode": "lines",
         "type": "scatter",
         "x": [
          -0.07302517807265257,
          -0.1336542052629159
         ],
         "y": [
          -0.03507102863817463,
          0.13209859572922225
         ]
        },
        {
         "hoverinfo": "none",
         "line": {
          "color": "#E8E8E8",
          "dash": "solid",
          "width": 0.7
         },
         "mode": "lines",
         "type": "scatter",
         "x": [
          -0.07302517807265257,
          -0.05567826942269471
         ],
         "y": [
          -0.03507102863817463,
          -0.19248655738290024
         ]
        },
        {
         "hoverinfo": "none",
         "line": {
          "color": "#E8E8E8",
          "dash": "solid",
          "width": 0.7
         },
         "mode": "lines",
         "type": "scatter",
         "x": [
          -0.04411474174643428,
          0.04881175386657501
         ],
         "y": [
          -0.02570351964636365,
          0.01944277062717638
         ]
        },
        {
         "hoverinfo": "none",
         "line": {
          "color": "#E8E8E8",
          "dash": "solid",
          "width": 0.7
         },
         "mode": "lines",
         "type": "scatter",
         "x": [
          -0.04411474174643428,
          -0.05743664108679999
         ],
         "y": [
          -0.02570351964636365,
          0.02205456565204265
         ]
        },
        {
         "hoverinfo": "none",
         "line": {
          "color": "#E8E8E8",
          "dash": "solid",
          "width": 0.7
         },
         "mode": "lines",
         "type": "scatter",
         "x": [
          -0.04411474174643428,
          -0.028531869662610156
         ],
         "y": [
          -0.02570351964636365,
          0.04347368601494208
         ]
        },
        {
         "hoverinfo": "none",
         "line": {
          "color": "#E8E8E8",
          "dash": "solid",
          "width": 0.7
         },
         "mode": "lines",
         "type": "scatter",
         "x": [
          -0.04411474174643428,
          -0.11852981431706612
         ],
         "y": [
          -0.02570351964636365,
          -0.06908282270504768
         ]
        },
        {
         "hoverinfo": "none",
         "line": {
          "color": "#E8E8E8",
          "dash": "solid",
          "width": 0.7
         },
         "mode": "lines",
         "type": "scatter",
         "x": [
          -0.04411474174643428,
          -0.12418001476300108
         ],
         "y": [
          -0.02570351964636365,
          -0.12457297487950686
         ]
        },
        {
         "hoverinfo": "none",
         "line": {
          "color": "#E8E8E8",
          "dash": "solid",
          "width": 0.7
         },
         "mode": "lines",
         "type": "scatter",
         "x": [
          -0.04411474174643428,
          -0.13898107580962668
         ],
         "y": [
          -0.02570351964636365,
          -0.1491506013185887
         ]
        },
        {
         "hoverinfo": "none",
         "line": {
          "color": "#E8E8E8",
          "dash": "solid",
          "width": 0.7
         },
         "mode": "lines",
         "type": "scatter",
         "x": [
          -0.04411474174643428,
          -0.19994489303716426
         ],
         "y": [
          -0.02570351964636365,
          -0.05531259315115445
         ]
        },
        {
         "hoverinfo": "none",
         "line": {
          "color": "#E8E8E8",
          "dash": "solid",
          "width": 0.7
         },
         "mode": "lines",
         "type": "scatter",
         "x": [
          -0.04411474174643428,
          0.12993462954978785
         ],
         "y": [
          -0.02570351964636365,
          -0.1563171772286875
         ]
        },
        {
         "hoverinfo": "none",
         "line": {
          "color": "#E8E8E8",
          "dash": "solid",
          "width": 0.7
         },
         "mode": "lines",
         "type": "scatter",
         "x": [
          -0.04411474174643428,
          -0.18195453098118677
         ],
         "y": [
          -0.02570351964636365,
          0.10886380939931106
         ]
        },
        {
         "hoverinfo": "none",
         "line": {
          "color": "#E8E8E8",
          "dash": "solid",
          "width": 0.7
         },
         "mode": "lines",
         "type": "scatter",
         "x": [
          -0.04411474174643428,
          0.04645437665232618
         ],
         "y": [
          -0.02570351964636365,
          0.09566720919718977
         ]
        },
        {
         "hoverinfo": "none",
         "line": {
          "color": "#E8E8E8",
          "dash": "solid",
          "width": 0.7
         },
         "mode": "lines",
         "type": "scatter",
         "x": [
          -0.04411474174643428,
          0.0505300072439258
         ],
         "y": [
          -0.02570351964636365,
          -0.1483416769659575
         ]
        },
        {
         "hoverinfo": "none",
         "line": {
          "color": "#E8E8E8",
          "dash": "solid",
          "width": 0.7
         },
         "mode": "lines",
         "type": "scatter",
         "x": [
          -0.04411474174643428,
          0.1629398261141471
         ],
         "y": [
          -0.02570351964636365,
          -0.11103709893423747
         ]
        },
        {
         "hoverinfo": "none",
         "line": {
          "color": "#E8E8E8",
          "dash": "solid",
          "width": 0.7
         },
         "mode": "lines",
         "type": "scatter",
         "x": [
          -0.04411474174643428,
          0.04893262955072509
         ],
         "y": [
          -0.02570351964636365,
          -0.19740398728816083
         ]
        },
        {
         "hoverinfo": "none",
         "line": {
          "color": "#E8E8E8",
          "dash": "solid",
          "width": 0.7
         },
         "mode": "lines",
         "type": "scatter",
         "x": [
          -0.04411474174643428,
          -0.06961446972372612
         ],
         "y": [
          -0.02570351964636365,
          0.12226732652610431
         ]
        },
        {
         "hoverinfo": "none",
         "line": {
          "color": "#E8E8E8",
          "dash": "solid",
          "width": 0.7
         },
         "mode": "lines",
         "type": "scatter",
         "x": [
          -0.04411474174643428,
          -0.05567826942269471
         ],
         "y": [
          -0.02570351964636365,
          -0.19248655738290024
         ]
        },
        {
         "hoverinfo": "none",
         "line": {
          "color": "#E8E8E8",
          "dash": "solid",
          "width": 0.7
         },
         "mode": "lines",
         "type": "scatter",
         "x": [
          0.08454043703939625,
          0.04881175386657501
         ],
         "y": [
          -0.028587744644051612,
          0.01944277062717638
         ]
        },
        {
         "hoverinfo": "none",
         "line": {
          "color": "#E8E8E8",
          "dash": "solid",
          "width": 0.7
         },
         "mode": "lines",
         "type": "scatter",
         "x": [
          0.08454043703939625,
          0.01754902091177313
         ],
         "y": [
          -0.028587744644051612,
          -0.022860884368591298
         ]
        },
        {
         "hoverinfo": "none",
         "line": {
          "color": "#E8E8E8",
          "dash": "solid",
          "width": 0.7
         },
         "mode": "lines",
         "type": "scatter",
         "x": [
          0.08454043703939625,
          -0.028531869662610156
         ],
         "y": [
          -0.028587744644051612,
          0.04347368601494208
         ]
        },
        {
         "hoverinfo": "none",
         "line": {
          "color": "#E8E8E8",
          "dash": "solid",
          "width": 0.7
         },
         "mode": "lines",
         "type": "scatter",
         "x": [
          0.08454043703939625,
          0.0429122785328855
         ],
         "y": [
          -0.028587744644051612,
          0.14095673312259907
         ]
        },
        {
         "hoverinfo": "none",
         "line": {
          "color": "#E8E8E8",
          "dash": "solid",
          "width": 0.7
         },
         "mode": "lines",
         "type": "scatter",
         "x": [
          0.08454043703939625,
          0.15139500288560356
         ],
         "y": [
          -0.028587744644051612,
          0.11912451908541347
         ]
        },
        {
         "hoverinfo": "none",
         "line": {
          "color": "#E8E8E8",
          "dash": "solid",
          "width": 0.7
         },
         "mode": "lines",
         "type": "scatter",
         "x": [
          0.08454043703939625,
          0.09851911586340306
         ],
         "y": [
          -0.028587744644051612,
          -0.15617504689855694
         ]
        },
        {
         "hoverinfo": "none",
         "line": {
          "color": "#E8E8E8",
          "dash": "solid",
          "width": 0.7
         },
         "mode": "lines",
         "type": "scatter",
         "x": [
          0.08454043703939625,
          0.12865044068409745
         ],
         "y": [
          -0.028587744644051612,
          -0.07965475491803664
         ]
        },
        {
         "hoverinfo": "none",
         "line": {
          "color": "#E8E8E8",
          "dash": "solid",
          "width": 0.7
         },
         "mode": "lines",
         "type": "scatter",
         "x": [
          0.08454043703939625,
          -0.06961446972372612
         ],
         "y": [
          -0.028587744644051612,
          0.12226732652610431
         ]
        },
        {
         "hoverinfo": "none",
         "line": {
          "color": "#E8E8E8",
          "dash": "solid",
          "width": 0.7
         },
         "mode": "lines",
         "type": "scatter",
         "x": [
          0.08454043703939625,
          0.20985144520622326
         ],
         "y": [
          -0.028587744644051612,
          -0.053745137854570565
         ]
        },
        {
         "hoverinfo": "none",
         "line": {
          "color": "#E8E8E8",
          "dash": "solid",
          "width": 0.7
         },
         "mode": "lines",
         "type": "scatter",
         "x": [
          0.08454043703939625,
          0.2647041771882963
         ],
         "y": [
          -0.028587744644051612,
          -0.11834360961746553
         ]
        },
        {
         "hoverinfo": "none",
         "line": {
          "color": "#E8E8E8",
          "dash": "solid",
          "width": 0.7
         },
         "mode": "lines",
         "type": "scatter",
         "x": [
          0.08454043703939625,
          -0.05567826942269471
         ],
         "y": [
          -0.028587744644051612,
          -0.19248655738290024
         ]
        },
        {
         "hoverinfo": "none",
         "line": {
          "color": "#E8E8E8",
          "dash": "solid",
          "width": 0.7
         },
         "mode": "lines",
         "type": "scatter",
         "x": [
          0.03349324352788613,
          -0.12297866697639599
         ],
         "y": [
          -0.1157046877996965,
          -0.017694577327360822
         ]
        },
        {
         "hoverinfo": "none",
         "line": {
          "color": "#E8E8E8",
          "dash": "solid",
          "width": 0.7
         },
         "mode": "lines",
         "type": "scatter",
         "x": [
          0.03349324352788613,
          -0.028531869662610156
         ],
         "y": [
          -0.1157046877996965,
          0.04347368601494208
         ]
        },
        {
         "hoverinfo": "none",
         "line": {
          "color": "#E8E8E8",
          "dash": "solid",
          "width": 0.7
         },
         "mode": "lines",
         "type": "scatter",
         "x": [
          0.03349324352788613,
          0.22212978070237124
         ],
         "y": [
          -0.1157046877996965,
          0.027184782024261556
         ]
        },
        {
         "hoverinfo": "none",
         "line": {
          "color": "#E8E8E8",
          "dash": "solid",
          "width": 0.7
         },
         "mode": "lines",
         "type": "scatter",
         "x": [
          0.03349324352788613,
          -0.12281203031820706
         ],
         "y": [
          -0.1157046877996965,
          -0.09843536964066334
         ]
        },
        {
         "hoverinfo": "none",
         "line": {
          "color": "#E8E8E8",
          "dash": "solid",
          "width": 0.7
         },
         "mode": "lines",
         "type": "scatter",
         "x": [
          0.03349324352788613,
          -0.029583570089209407
         ],
         "y": [
          -0.1157046877996965,
          -0.11385733988125694
         ]
        },
        {
         "hoverinfo": "none",
         "line": {
          "color": "#E8E8E8",
          "dash": "solid",
          "width": 0.7
         },
         "mode": "lines",
         "type": "scatter",
         "x": [
          0.03349324352788613,
          0.12993462954978785
         ],
         "y": [
          -0.1157046877996965,
          -0.1563171772286875
         ]
        },
        {
         "hoverinfo": "none",
         "line": {
          "color": "#E8E8E8",
          "dash": "solid",
          "width": 0.7
         },
         "mode": "lines",
         "type": "scatter",
         "x": [
          0.03349324352788613,
          0.05677264608881407
         ],
         "y": [
          -0.1157046877996965,
          0.06110489881926472
         ]
        },
        {
         "hoverinfo": "none",
         "line": {
          "color": "#E8E8E8",
          "dash": "solid",
          "width": 0.7
         },
         "mode": "lines",
         "type": "scatter",
         "x": [
          0.03349324352788613,
          0.17987280261923122
         ],
         "y": [
          -0.1157046877996965,
          -0.0526411189593778
         ]
        },
        {
         "hoverinfo": "none",
         "line": {
          "color": "#E8E8E8",
          "dash": "solid",
          "width": 0.7
         },
         "mode": "lines",
         "type": "scatter",
         "x": [
          0.03349324352788613,
          0.1629398261141471
         ],
         "y": [
          -0.1157046877996965,
          -0.11103709893423747
         ]
        },
        {
         "hoverinfo": "none",
         "line": {
          "color": "#E8E8E8",
          "dash": "solid",
          "width": 0.7
         },
         "mode": "lines",
         "type": "scatter",
         "x": [
          0.03349324352788613,
          0.15139500288560356
         ],
         "y": [
          -0.1157046877996965,
          0.11912451908541347
         ]
        },
        {
         "hoverinfo": "none",
         "line": {
          "color": "#E8E8E8",
          "dash": "solid",
          "width": 0.7
         },
         "mode": "lines",
         "type": "scatter",
         "x": [
          0.03349324352788613,
          -0.17196493272656052
         ],
         "y": [
          -0.1157046877996965,
          -0.12740813074216217
         ]
        },
        {
         "hoverinfo": "none",
         "line": {
          "color": "#E8E8E8",
          "dash": "solid",
          "width": 0.7
         },
         "mode": "lines",
         "type": "scatter",
         "x": [
          0.03349324352788613,
          0.09851911586340306
         ],
         "y": [
          -0.1157046877996965,
          -0.15617504689855694
         ]
        },
        {
         "hoverinfo": "none",
         "line": {
          "color": "#E8E8E8",
          "dash": "solid",
          "width": 0.7
         },
         "mode": "lines",
         "type": "scatter",
         "x": [
          0.03349324352788613,
          0.12865044068409745
         ],
         "y": [
          -0.1157046877996965,
          -0.07965475491803664
         ]
        },
        {
         "hoverinfo": "none",
         "line": {
          "color": "#E8E8E8",
          "dash": "solid",
          "width": 0.7
         },
         "mode": "lines",
         "type": "scatter",
         "x": [
          0.03349324352788613,
          0.2647041771882963
         ],
         "y": [
          -0.1157046877996965,
          -0.11834360961746553
         ]
        },
        {
         "hoverinfo": "none",
         "line": {
          "color": "#E8E8E8",
          "dash": "solid",
          "width": 0.7
         },
         "mode": "lines",
         "type": "scatter",
         "x": [
          -0.05022313516650214,
          -0.12297866697639599
         ],
         "y": [
          -0.005931601344967606,
          -0.017694577327360822
         ]
        },
        {
         "hoverinfo": "none",
         "line": {
          "color": "#E8E8E8",
          "dash": "solid",
          "width": 0.7
         },
         "mode": "lines",
         "type": "scatter",
         "x": [
          -0.05022313516650214,
          -0.028531869662610156
         ],
         "y": [
          -0.005931601344967606,
          0.04347368601494208
         ]
        },
        {
         "hoverinfo": "none",
         "line": {
          "color": "#E8E8E8",
          "dash": "solid",
          "width": 0.7
         },
         "mode": "lines",
         "type": "scatter",
         "x": [
          -0.05022313516650214,
          -0.04494137109334906
         ],
         "y": [
          -0.005931601344967606,
          0.09626481248136597
         ]
        },
        {
         "hoverinfo": "none",
         "line": {
          "color": "#E8E8E8",
          "dash": "solid",
          "width": 0.7
         },
         "mode": "lines",
         "type": "scatter",
         "x": [
          -0.05022313516650214,
          -0.185969777356427
         ],
         "y": [
          -0.005931601344967606,
          0.02332577388026551
         ]
        },
        {
         "hoverinfo": "none",
         "line": {
          "color": "#E8E8E8",
          "dash": "solid",
          "width": 0.7
         },
         "mode": "lines",
         "type": "scatter",
         "x": [
          -0.05022313516650214,
          0.05331442071425577
         ],
         "y": [
          -0.005931601344967606,
          -0.07893475661902369
         ]
        },
        {
         "hoverinfo": "none",
         "line": {
          "color": "#E8E8E8",
          "dash": "solid",
          "width": 0.7
         },
         "mode": "lines",
         "type": "scatter",
         "x": [
          -0.05022313516650214,
          0.12993462954978785
         ],
         "y": [
          -0.005931601344967606,
          -0.1563171772286875
         ]
        },
        {
         "hoverinfo": "none",
         "line": {
          "color": "#E8E8E8",
          "dash": "solid",
          "width": 0.7
         },
         "mode": "lines",
         "type": "scatter",
         "x": [
          -0.05022313516650214,
          -0.18195453098118677
         ],
         "y": [
          -0.005931601344967606,
          0.10886380939931106
         ]
        },
        {
         "hoverinfo": "none",
         "line": {
          "color": "#E8E8E8",
          "dash": "solid",
          "width": 0.7
         },
         "mode": "lines",
         "type": "scatter",
         "x": [
          -0.05022313516650214,
          -0.1092578961238818
         ],
         "y": [
          -0.005931601344967606,
          -0.15960943916650963
         ]
        },
        {
         "hoverinfo": "none",
         "line": {
          "color": "#E8E8E8",
          "dash": "solid",
          "width": 0.7
         },
         "mode": "lines",
         "type": "scatter",
         "x": [
          -0.05022313516650214,
          0.04645437665232618
         ],
         "y": [
          -0.005931601344967606,
          0.09566720919718977
         ]
        },
        {
         "hoverinfo": "none",
         "line": {
          "color": "#E8E8E8",
          "dash": "solid",
          "width": 0.7
         },
         "mode": "lines",
         "type": "scatter",
         "x": [
          -0.05022313516650214,
          -0.22282847311132453
         ],
         "y": [
          -0.005931601344967606,
          -0.0980183233713624
         ]
        },
        {
         "hoverinfo": "none",
         "line": {
          "color": "#E8E8E8",
          "dash": "solid",
          "width": 0.7
         },
         "mode": "lines",
         "type": "scatter",
         "x": [
          -0.05022313516650214,
          -0.0845170272992704
         ],
         "y": [
          -0.005931601344967606,
          0.19638202589624437
         ]
        },
        {
         "hoverinfo": "none",
         "line": {
          "color": "#E8E8E8",
          "dash": "solid",
          "width": 0.7
         },
         "mode": "lines",
         "type": "scatter",
         "x": [
          -0.05022313516650214,
          -0.06961446972372612
         ],
         "y": [
          -0.005931601344967606,
          0.12226732652610431
         ]
        },
        {
         "hoverinfo": "none",
         "line": {
          "color": "#E8E8E8",
          "dash": "solid",
          "width": 0.7
         },
         "mode": "lines",
         "type": "scatter",
         "x": [
          -0.05022313516650214,
          0.20985144520622326
         ],
         "y": [
          -0.005931601344967606,
          -0.053745137854570565
         ]
        },
        {
         "hoverinfo": "none",
         "line": {
          "color": "#E8E8E8",
          "dash": "solid",
          "width": 0.7
         },
         "mode": "lines",
         "type": "scatter",
         "x": [
          -0.10867589590122384,
          0.04881175386657501
         ],
         "y": [
          0.012581899781084321,
          0.01944277062717638
         ]
        },
        {
         "hoverinfo": "none",
         "line": {
          "color": "#E8E8E8",
          "dash": "solid",
          "width": 0.7
         },
         "mode": "lines",
         "type": "scatter",
         "x": [
          -0.10867589590122384,
          -0.04494137109334906
         ],
         "y": [
          0.012581899781084321,
          0.09626481248136597
         ]
        },
        {
         "hoverinfo": "none",
         "line": {
          "color": "#E8E8E8",
          "dash": "solid",
          "width": 0.7
         },
         "mode": "lines",
         "type": "scatter",
         "x": [
          -0.10867589590122384,
          -0.185969777356427
         ],
         "y": [
          0.012581899781084321,
          0.02332577388026551
         ]
        },
        {
         "hoverinfo": "none",
         "line": {
          "color": "#E8E8E8",
          "dash": "solid",
          "width": 0.7
         },
         "mode": "lines",
         "type": "scatter",
         "x": [
          -0.10867589590122384,
          -0.22617170516911447
         ],
         "y": [
          0.012581899781084321,
          0.0603623399545939
         ]
        },
        {
         "hoverinfo": "none",
         "line": {
          "color": "#E8E8E8",
          "dash": "solid",
          "width": 0.7
         },
         "mode": "lines",
         "type": "scatter",
         "x": [
          -0.10867589590122384,
          -0.20322555557068964
         ],
         "y": [
          0.012581899781084321,
          0.15596519720010432
         ]
        },
        {
         "hoverinfo": "none",
         "line": {
          "color": "#E8E8E8",
          "dash": "solid",
          "width": 0.7
         },
         "mode": "lines",
         "type": "scatter",
         "x": [
          -0.10867589590122384,
          0.05331442071425577
         ],
         "y": [
          0.012581899781084321,
          -0.07893475661902369
         ]
        },
        {
         "hoverinfo": "none",
         "line": {
          "color": "#E8E8E8",
          "dash": "solid",
          "width": 0.7
         },
         "mode": "lines",
         "type": "scatter",
         "x": [
          -0.10867589590122384,
          -0.18195453098118677
         ],
         "y": [
          0.012581899781084321,
          0.10886380939931106
         ]
        },
        {
         "hoverinfo": "none",
         "line": {
          "color": "#E8E8E8",
          "dash": "solid",
          "width": 0.7
         },
         "mode": "lines",
         "type": "scatter",
         "x": [
          -0.10867589590122384,
          0.05677264608881407
         ],
         "y": [
          0.012581899781084321,
          0.06110489881926472
         ]
        },
        {
         "hoverinfo": "none",
         "line": {
          "color": "#E8E8E8",
          "dash": "solid",
          "width": 0.7
         },
         "mode": "lines",
         "type": "scatter",
         "x": [
          -0.10867589590122384,
          -0.22282847311132453
         ],
         "y": [
          0.012581899781084321,
          -0.0980183233713624
         ]
        },
        {
         "hoverinfo": "none",
         "line": {
          "color": "#E8E8E8",
          "dash": "solid",
          "width": 0.7
         },
         "mode": "lines",
         "type": "scatter",
         "x": [
          -0.10867589590122384,
          -0.24520841550402134
         ],
         "y": [
          0.012581899781084321,
          0.13374798501657167
         ]
        },
        {
         "hoverinfo": "none",
         "line": {
          "color": "#E8E8E8",
          "dash": "solid",
          "width": 0.7
         },
         "mode": "lines",
         "type": "scatter",
         "x": [
          -0.10867589590122384,
          0.0505300072439258
         ],
         "y": [
          0.012581899781084321,
          -0.1483416769659575
         ]
        },
        {
         "hoverinfo": "none",
         "line": {
          "color": "#E8E8E8",
          "dash": "solid",
          "width": 0.7
         },
         "mode": "lines",
         "type": "scatter",
         "x": [
          -0.10867589590122384,
          -0.17196493272656052
         ],
         "y": [
          0.012581899781084321,
          -0.12740813074216217
         ]
        },
        {
         "hoverinfo": "none",
         "line": {
          "color": "#E8E8E8",
          "dash": "solid",
          "width": 0.7
         },
         "mode": "lines",
         "type": "scatter",
         "x": [
          -0.10867589590122384,
          0.04893262955072509
         ],
         "y": [
          0.012581899781084321,
          -0.19740398728816083
         ]
        },
        {
         "hoverinfo": "none",
         "line": {
          "color": "#E8E8E8",
          "dash": "solid",
          "width": 0.7
         },
         "mode": "lines",
         "type": "scatter",
         "x": [
          -0.10867589590122384,
          -0.05567826942269471
         ],
         "y": [
          0.012581899781084321,
          -0.19248655738290024
         ]
        },
        {
         "hoverinfo": "none",
         "line": {
          "color": "#E8E8E8",
          "dash": "solid",
          "width": 0.7
         },
         "mode": "lines",
         "type": "scatter",
         "x": [
          -0.042670106985513684,
          -0.1092578961238818
         ],
         "y": [
          -0.24786919397009546,
          -0.15960943916650963
         ]
        },
        {
         "hoverinfo": "none",
         "line": {
          "color": "#E8E8E8",
          "dash": "solid",
          "width": 0.7
         },
         "mode": "lines",
         "type": "scatter",
         "x": [
          -0.12297866697639599,
          -0.11876863509836466
         ],
         "y": [
          -0.017694577327360822,
          0.0306078948548714
         ]
        },
        {
         "hoverinfo": "none",
         "line": {
          "color": "#E8E8E8",
          "dash": "solid",
          "width": 0.7
         },
         "mode": "lines",
         "type": "scatter",
         "x": [
          -0.12297866697639599,
          0.01754902091177313
         ],
         "y": [
          -0.017694577327360822,
          -0.022860884368591298
         ]
        },
        {
         "hoverinfo": "none",
         "line": {
          "color": "#E8E8E8",
          "dash": "solid",
          "width": 0.7
         },
         "mode": "lines",
         "type": "scatter",
         "x": [
          -0.12297866697639599,
          0.0429122785328855
         ],
         "y": [
          -0.017694577327360822,
          0.14095673312259907
         ]
        },
        {
         "hoverinfo": "none",
         "line": {
          "color": "#E8E8E8",
          "dash": "solid",
          "width": 0.7
         },
         "mode": "lines",
         "type": "scatter",
         "x": [
          -0.12297866697639599,
          0.10925689071633819
         ],
         "y": [
          -0.017694577327360822,
          0.11010146346982091
         ]
        },
        {
         "hoverinfo": "none",
         "line": {
          "color": "#E8E8E8",
          "dash": "solid",
          "width": 0.7
         },
         "mode": "lines",
         "type": "scatter",
         "x": [
          -0.12297866697639599,
          -0.22617170516911447
         ],
         "y": [
          -0.017694577327360822,
          0.0603623399545939
         ]
        },
        {
         "hoverinfo": "none",
         "line": {
          "color": "#E8E8E8",
          "dash": "solid",
          "width": 0.7
         },
         "mode": "lines",
         "type": "scatter",
         "x": [
          -0.12297866697639599,
          -0.12418001476300108
         ],
         "y": [
          -0.017694577327360822,
          -0.12457297487950686
         ]
        },
        {
         "hoverinfo": "none",
         "line": {
          "color": "#E8E8E8",
          "dash": "solid",
          "width": 0.7
         },
         "mode": "lines",
         "type": "scatter",
         "x": [
          -0.12297866697639599,
          0.05677264608881407
         ],
         "y": [
          -0.017694577327360822,
          0.06110489881926472
         ]
        },
        {
         "hoverinfo": "none",
         "line": {
          "color": "#E8E8E8",
          "dash": "solid",
          "width": 0.7
         },
         "mode": "lines",
         "type": "scatter",
         "x": [
          -0.12297866697639599,
          -0.24520841550402134
         ],
         "y": [
          -0.017694577327360822,
          0.13374798501657167
         ]
        },
        {
         "hoverinfo": "none",
         "line": {
          "color": "#E8E8E8",
          "dash": "solid",
          "width": 0.7
         },
         "mode": "lines",
         "type": "scatter",
         "x": [
          -0.12297866697639599,
          0.09851911586340306
         ],
         "y": [
          -0.017694577327360822,
          -0.15617504689855694
         ]
        },
        {
         "hoverinfo": "none",
         "line": {
          "color": "#E8E8E8",
          "dash": "solid",
          "width": 0.7
         },
         "mode": "lines",
         "type": "scatter",
         "x": [
          0.04881175386657501,
          -0.11876863509836466
         ],
         "y": [
          0.01944277062717638,
          0.0306078948548714
         ]
        },
        {
         "hoverinfo": "none",
         "line": {
          "color": "#E8E8E8",
          "dash": "solid",
          "width": 0.7
         },
         "mode": "lines",
         "type": "scatter",
         "x": [
          0.04881175386657501,
          0.0429122785328855
         ],
         "y": [
          0.01944277062717638,
          0.14095673312259907
         ]
        },
        {
         "hoverinfo": "none",
         "line": {
          "color": "#E8E8E8",
          "dash": "solid",
          "width": 0.7
         },
         "mode": "lines",
         "type": "scatter",
         "x": [
          0.04881175386657501,
          -0.04494137109334906
         ],
         "y": [
          0.01944277062717638,
          0.09626481248136597
         ]
        },
        {
         "hoverinfo": "none",
         "line": {
          "color": "#E8E8E8",
          "dash": "solid",
          "width": 0.7
         },
         "mode": "lines",
         "type": "scatter",
         "x": [
          0.04881175386657501,
          0.22212978070237124
         ],
         "y": [
          0.01944277062717638,
          0.027184782024261556
         ]
        },
        {
         "hoverinfo": "none",
         "line": {
          "color": "#E8E8E8",
          "dash": "solid",
          "width": 0.7
         },
         "mode": "lines",
         "type": "scatter",
         "x": [
          0.04881175386657501,
          0.10925689071633819
         ],
         "y": [
          0.01944277062717638,
          0.11010146346982091
         ]
        },
        {
         "hoverinfo": "none",
         "line": {
          "color": "#E8E8E8",
          "dash": "solid",
          "width": 0.7
         },
         "mode": "lines",
         "type": "scatter",
         "x": [
          0.04881175386657501,
          0.12993462954978785
         ],
         "y": [
          0.01944277062717638,
          -0.1563171772286875
         ]
        },
        {
         "hoverinfo": "none",
         "line": {
          "color": "#E8E8E8",
          "dash": "solid",
          "width": 0.7
         },
         "mode": "lines",
         "type": "scatter",
         "x": [
          0.04881175386657501,
          0.04645437665232618
         ],
         "y": [
          0.01944277062717638,
          0.09566720919718977
         ]
        },
        {
         "hoverinfo": "none",
         "line": {
          "color": "#E8E8E8",
          "dash": "solid",
          "width": 0.7
         },
         "mode": "lines",
         "type": "scatter",
         "x": [
          0.04881175386657501,
          0.05677264608881407
         ],
         "y": [
          0.01944277062717638,
          0.06110489881926472
         ]
        },
        {
         "hoverinfo": "none",
         "line": {
          "color": "#E8E8E8",
          "dash": "solid",
          "width": 0.7
         },
         "mode": "lines",
         "type": "scatter",
         "x": [
          0.04881175386657501,
          0.0505300072439258
         ],
         "y": [
          0.01944277062717638,
          -0.1483416769659575
         ]
        },
        {
         "hoverinfo": "none",
         "line": {
          "color": "#E8E8E8",
          "dash": "solid",
          "width": 0.7
         },
         "mode": "lines",
         "type": "scatter",
         "x": [
          0.04881175386657501,
          0.15139500288560356
         ],
         "y": [
          0.01944277062717638,
          0.11912451908541347
         ]
        },
        {
         "hoverinfo": "none",
         "line": {
          "color": "#E8E8E8",
          "dash": "solid",
          "width": 0.7
         },
         "mode": "lines",
         "type": "scatter",
         "x": [
          0.04881175386657501,
          -0.17196493272656052
         ],
         "y": [
          0.01944277062717638,
          -0.12740813074216217
         ]
        },
        {
         "hoverinfo": "none",
         "line": {
          "color": "#E8E8E8",
          "dash": "solid",
          "width": 0.7
         },
         "mode": "lines",
         "type": "scatter",
         "x": [
          0.06785103515693583,
          -0.11876863509836466
         ],
         "y": [
          0.035862581526662815,
          0.0306078948548714
         ]
        },
        {
         "hoverinfo": "none",
         "line": {
          "color": "#E8E8E8",
          "dash": "solid",
          "width": 0.7
         },
         "mode": "lines",
         "type": "scatter",
         "x": [
          0.06785103515693583,
          0.01754902091177313
         ],
         "y": [
          0.035862581526662815,
          -0.022860884368591298
         ]
        },
        {
         "hoverinfo": "none",
         "line": {
          "color": "#E8E8E8",
          "dash": "solid",
          "width": 0.7
         },
         "mode": "lines",
         "type": "scatter",
         "x": [
          0.06785103515693583,
          -0.24520841550402134
         ],
         "y": [
          0.035862581526662815,
          0.13374798501657167
         ]
        },
        {
         "hoverinfo": "none",
         "line": {
          "color": "#E8E8E8",
          "dash": "solid",
          "width": 0.7
         },
         "mode": "lines",
         "type": "scatter",
         "x": [
          0.06785103515693583,
          0.15139500288560356
         ],
         "y": [
          0.035862581526662815,
          0.11912451908541347
         ]
        },
        {
         "hoverinfo": "none",
         "line": {
          "color": "#E8E8E8",
          "dash": "solid",
          "width": 0.7
         },
         "mode": "lines",
         "type": "scatter",
         "x": [
          0.06785103515693583,
          -0.17196493272656052
         ],
         "y": [
          0.035862581526662815,
          -0.12740813074216217
         ]
        },
        {
         "hoverinfo": "none",
         "line": {
          "color": "#E8E8E8",
          "dash": "solid",
          "width": 0.7
         },
         "mode": "lines",
         "type": "scatter",
         "x": [
          0.06785103515693583,
          0.12865044068409745
         ],
         "y": [
          0.035862581526662815,
          -0.07965475491803664
         ]
        },
        {
         "hoverinfo": "none",
         "line": {
          "color": "#E8E8E8",
          "dash": "solid",
          "width": 0.7
         },
         "mode": "lines",
         "type": "scatter",
         "x": [
          0.06785103515693583,
          -0.1336542052629159
         ],
         "y": [
          0.035862581526662815,
          0.13209859572922225
         ]
        },
        {
         "hoverinfo": "none",
         "line": {
          "color": "#E8E8E8",
          "dash": "solid",
          "width": 0.7
         },
         "mode": "lines",
         "type": "scatter",
         "x": [
          -0.11876863509836466,
          -0.028531869662610156
         ],
         "y": [
          0.0306078948548714,
          0.04347368601494208
         ]
        },
        {
         "hoverinfo": "none",
         "line": {
          "color": "#E8E8E8",
          "dash": "solid",
          "width": 0.7
         },
         "mode": "lines",
         "type": "scatter",
         "x": [
          -0.11876863509836466,
          -0.11852981431706612
         ],
         "y": [
          0.0306078948548714,
          -0.06908282270504768
         ]
        },
        {
         "hoverinfo": "none",
         "line": {
          "color": "#E8E8E8",
          "dash": "solid",
          "width": 0.7
         },
         "mode": "lines",
         "type": "scatter",
         "x": [
          -0.11876863509836466,
          0.10925689071633819
         ],
         "y": [
          0.0306078948548714,
          0.11010146346982091
         ]
        },
        {
         "hoverinfo": "none",
         "line": {
          "color": "#E8E8E8",
          "dash": "solid",
          "width": 0.7
         },
         "mode": "lines",
         "type": "scatter",
         "x": [
          -0.11876863509836466,
          -0.20322555557068964
         ],
         "y": [
          0.0306078948548714,
          0.15596519720010432
         ]
        },
        {
         "hoverinfo": "none",
         "line": {
          "color": "#E8E8E8",
          "dash": "solid",
          "width": 0.7
         },
         "mode": "lines",
         "type": "scatter",
         "x": [
          -0.11876863509836466,
          -0.19994489303716426
         ],
         "y": [
          0.0306078948548714,
          -0.05531259315115445
         ]
        },
        {
         "hoverinfo": "none",
         "line": {
          "color": "#E8E8E8",
          "dash": "solid",
          "width": 0.7
         },
         "mode": "lines",
         "type": "scatter",
         "x": [
          0.01754902091177313,
          -0.12281203031820706
         ],
         "y": [
          -0.022860884368591298,
          -0.09843536964066334
         ]
        },
        {
         "hoverinfo": "none",
         "line": {
          "color": "#E8E8E8",
          "dash": "solid",
          "width": 0.7
         },
         "mode": "lines",
         "type": "scatter",
         "x": [
          0.01754902091177313,
          0.05331442071425577
         ],
         "y": [
          -0.022860884368591298,
          -0.07893475661902369
         ]
        },
        {
         "hoverinfo": "none",
         "line": {
          "color": "#E8E8E8",
          "dash": "solid",
          "width": 0.7
         },
         "mode": "lines",
         "type": "scatter",
         "x": [
          0.01754902091177313,
          -0.1092578961238818
         ],
         "y": [
          -0.022860884368591298,
          -0.15960943916650963
         ]
        },
        {
         "hoverinfo": "none",
         "line": {
          "color": "#E8E8E8",
          "dash": "solid",
          "width": 0.7
         },
         "mode": "lines",
         "type": "scatter",
         "x": [
          0.01754902091177313,
          0.05677264608881407
         ],
         "y": [
          -0.022860884368591298,
          0.06110489881926472
         ]
        },
        {
         "hoverinfo": "none",
         "line": {
          "color": "#E8E8E8",
          "dash": "solid",
          "width": 0.7
         },
         "mode": "lines",
         "type": "scatter",
         "x": [
          0.01754902091177313,
          -0.0845170272992704
         ],
         "y": [
          -0.022860884368591298,
          0.19638202589624437
         ]
        },
        {
         "hoverinfo": "none",
         "line": {
          "color": "#E8E8E8",
          "dash": "solid",
          "width": 0.7
         },
         "mode": "lines",
         "type": "scatter",
         "x": [
          -0.05743664108679999,
          -0.12281203031820706
         ],
         "y": [
          0.02205456565204265,
          -0.09843536964066334
         ]
        },
        {
         "hoverinfo": "none",
         "line": {
          "color": "#E8E8E8",
          "dash": "solid",
          "width": 0.7
         },
         "mode": "lines",
         "type": "scatter",
         "x": [
          -0.05743664108679999,
          -0.22617170516911447
         ],
         "y": [
          0.02205456565204265,
          0.0603623399545939
         ]
        },
        {
         "hoverinfo": "none",
         "line": {
          "color": "#E8E8E8",
          "dash": "solid",
          "width": 0.7
         },
         "mode": "lines",
         "type": "scatter",
         "x": [
          -0.05743664108679999,
          0.12993462954978785
         ],
         "y": [
          0.02205456565204265,
          -0.1563171772286875
         ]
        },
        {
         "hoverinfo": "none",
         "line": {
          "color": "#E8E8E8",
          "dash": "solid",
          "width": 0.7
         },
         "mode": "lines",
         "type": "scatter",
         "x": [
          -0.05743664108679999,
          -0.18195453098118677
         ],
         "y": [
          0.02205456565204265,
          0.10886380939931106
         ]
        },
        {
         "hoverinfo": "none",
         "line": {
          "color": "#E8E8E8",
          "dash": "solid",
          "width": 0.7
         },
         "mode": "lines",
         "type": "scatter",
         "x": [
          -0.05743664108679999,
          0.05677264608881407
         ],
         "y": [
          0.02205456565204265,
          0.06110489881926472
         ]
        },
        {
         "hoverinfo": "none",
         "line": {
          "color": "#E8E8E8",
          "dash": "solid",
          "width": 0.7
         },
         "mode": "lines",
         "type": "scatter",
         "x": [
          -0.05743664108679999,
          -0.24520841550402134
         ],
         "y": [
          0.02205456565204265,
          0.13374798501657167
         ]
        },
        {
         "hoverinfo": "none",
         "line": {
          "color": "#E8E8E8",
          "dash": "solid",
          "width": 0.7
         },
         "mode": "lines",
         "type": "scatter",
         "x": [
          -0.05743664108679999,
          0.0505300072439258
         ],
         "y": [
          0.02205456565204265,
          -0.1483416769659575
         ]
        },
        {
         "hoverinfo": "none",
         "line": {
          "color": "#E8E8E8",
          "dash": "solid",
          "width": 0.7
         },
         "mode": "lines",
         "type": "scatter",
         "x": [
          -0.05743664108679999,
          -0.0845170272992704
         ],
         "y": [
          0.02205456565204265,
          0.19638202589624437
         ]
        },
        {
         "hoverinfo": "none",
         "line": {
          "color": "#E8E8E8",
          "dash": "solid",
          "width": 0.7
         },
         "mode": "lines",
         "type": "scatter",
         "x": [
          -0.05743664108679999,
          -0.17196493272656052
         ],
         "y": [
          0.02205456565204265,
          -0.12740813074216217
         ]
        },
        {
         "hoverinfo": "none",
         "line": {
          "color": "#E8E8E8",
          "dash": "solid",
          "width": 0.7
         },
         "mode": "lines",
         "type": "scatter",
         "x": [
          -0.028531869662610156,
          -0.04494137109334906
         ],
         "y": [
          0.04347368601494208,
          0.09626481248136597
         ]
        },
        {
         "hoverinfo": "none",
         "line": {
          "color": "#E8E8E8",
          "dash": "solid",
          "width": 0.7
         },
         "mode": "lines",
         "type": "scatter",
         "x": [
          -0.028531869662610156,
          -0.12281203031820706
         ],
         "y": [
          0.04347368601494208,
          -0.09843536964066334
         ]
        },
        {
         "hoverinfo": "none",
         "line": {
          "color": "#E8E8E8",
          "dash": "solid",
          "width": 0.7
         },
         "mode": "lines",
         "type": "scatter",
         "x": [
          -0.028531869662610156,
          -0.20322555557068964
         ],
         "y": [
          0.04347368601494208,
          0.15596519720010432
         ]
        },
        {
         "hoverinfo": "none",
         "line": {
          "color": "#E8E8E8",
          "dash": "solid",
          "width": 0.7
         },
         "mode": "lines",
         "type": "scatter",
         "x": [
          -0.028531869662610156,
          -0.029583570089209407
         ],
         "y": [
          0.04347368601494208,
          -0.11385733988125694
         ]
        },
        {
         "hoverinfo": "none",
         "line": {
          "color": "#E8E8E8",
          "dash": "solid",
          "width": 0.7
         },
         "mode": "lines",
         "type": "scatter",
         "x": [
          -0.028531869662610156,
          0.17987280261923122
         ],
         "y": [
          0.04347368601494208,
          -0.0526411189593778
         ]
        },
        {
         "hoverinfo": "none",
         "line": {
          "color": "#E8E8E8",
          "dash": "solid",
          "width": 0.7
         },
         "mode": "lines",
         "type": "scatter",
         "x": [
          -0.028531869662610156,
          -0.24520841550402134
         ],
         "y": [
          0.04347368601494208,
          0.13374798501657167
         ]
        },
        {
         "hoverinfo": "none",
         "line": {
          "color": "#E8E8E8",
          "dash": "solid",
          "width": 0.7
         },
         "mode": "lines",
         "type": "scatter",
         "x": [
          -0.028531869662610156,
          -0.0845170272992704
         ],
         "y": [
          0.04347368601494208,
          0.19638202589624437
         ]
        },
        {
         "hoverinfo": "none",
         "line": {
          "color": "#E8E8E8",
          "dash": "solid",
          "width": 0.7
         },
         "mode": "lines",
         "type": "scatter",
         "x": [
          -0.028531869662610156,
          0.1629398261141471
         ],
         "y": [
          0.04347368601494208,
          -0.11103709893423747
         ]
        },
        {
         "hoverinfo": "none",
         "line": {
          "color": "#E8E8E8",
          "dash": "solid",
          "width": 0.7
         },
         "mode": "lines",
         "type": "scatter",
         "x": [
          -0.028531869662610156,
          0.09851911586340306
         ],
         "y": [
          0.04347368601494208,
          -0.15617504689855694
         ]
        },
        {
         "hoverinfo": "none",
         "line": {
          "color": "#E8E8E8",
          "dash": "solid",
          "width": 0.7
         },
         "mode": "lines",
         "type": "scatter",
         "x": [
          -0.028531869662610156,
          -0.1523779696754982
         ],
         "y": [
          0.04347368601494208,
          0.22344848946648113
         ]
        },
        {
         "hoverinfo": "none",
         "line": {
          "color": "#E8E8E8",
          "dash": "solid",
          "width": 0.7
         },
         "mode": "lines",
         "type": "scatter",
         "x": [
          -0.028531869662610156,
          0.2647041771882963
         ],
         "y": [
          0.04347368601494208,
          -0.11834360961746553
         ]
        },
        {
         "hoverinfo": "none",
         "line": {
          "color": "#E8E8E8",
          "dash": "solid",
          "width": 0.7
         },
         "mode": "lines",
         "type": "scatter",
         "x": [
          -0.028531869662610156,
          0.28344486598556645
         ],
         "y": [
          0.04347368601494208,
          0.04243165910201216
         ]
        },
        {
         "hoverinfo": "none",
         "line": {
          "color": "#E8E8E8",
          "dash": "solid",
          "width": 0.7
         },
         "mode": "lines",
         "type": "scatter",
         "x": [
          0.15067676022460644,
          0.0429122785328855
         ],
         "y": [
          0.02232923283115474,
          0.14095673312259907
         ]
        },
        {
         "hoverinfo": "none",
         "line": {
          "color": "#E8E8E8",
          "dash": "solid",
          "width": 0.7
         },
         "mode": "lines",
         "type": "scatter",
         "x": [
          0.15067676022460644,
          -0.11852981431706612
         ],
         "y": [
          0.02232923283115474,
          -0.06908282270504768
         ]
        },
        {
         "hoverinfo": "none",
         "line": {
          "color": "#E8E8E8",
          "dash": "solid",
          "width": 0.7
         },
         "mode": "lines",
         "type": "scatter",
         "x": [
          0.15067676022460644,
          0.05331442071425577
         ],
         "y": [
          0.02232923283115474,
          -0.07893475661902369
         ]
        },
        {
         "hoverinfo": "none",
         "line": {
          "color": "#E8E8E8",
          "dash": "solid",
          "width": 0.7
         },
         "mode": "lines",
         "type": "scatter",
         "x": [
          0.15067676022460644,
          -0.029583570089209407
         ],
         "y": [
          0.02232923283115474,
          -0.11385733988125694
         ]
        },
        {
         "hoverinfo": "none",
         "line": {
          "color": "#E8E8E8",
          "dash": "solid",
          "width": 0.7
         },
         "mode": "lines",
         "type": "scatter",
         "x": [
          0.15067676022460644,
          0.04645437665232618
         ],
         "y": [
          0.02232923283115474,
          0.09566720919718977
         ]
        },
        {
         "hoverinfo": "none",
         "line": {
          "color": "#E8E8E8",
          "dash": "solid",
          "width": 0.7
         },
         "mode": "lines",
         "type": "scatter",
         "x": [
          0.0429122785328855,
          0.09463985170778691
         ],
         "y": [
          0.14095673312259907,
          -0.007683810103451875
         ]
        },
        {
         "hoverinfo": "none",
         "line": {
          "color": "#E8E8E8",
          "dash": "solid",
          "width": 0.7
         },
         "mode": "lines",
         "type": "scatter",
         "x": [
          0.0429122785328855,
          0.09851911586340306
         ],
         "y": [
          0.14095673312259907,
          -0.15617504689855694
         ]
        },
        {
         "hoverinfo": "none",
         "line": {
          "color": "#E8E8E8",
          "dash": "solid",
          "width": 0.7
         },
         "mode": "lines",
         "type": "scatter",
         "x": [
          0.0429122785328855,
          -0.1523779696754982
         ],
         "y": [
          0.14095673312259907,
          0.22344848946648113
         ]
        },
        {
         "hoverinfo": "none",
         "line": {
          "color": "#E8E8E8",
          "dash": "solid",
          "width": 0.7
         },
         "mode": "lines",
         "type": "scatter",
         "x": [
          0.0429122785328855,
          -0.1336542052629159
         ],
         "y": [
          0.14095673312259907,
          0.13209859572922225
         ]
        },
        {
         "hoverinfo": "none",
         "line": {
          "color": "#E8E8E8",
          "dash": "solid",
          "width": 0.7
         },
         "mode": "lines",
         "type": "scatter",
         "x": [
          -0.04494137109334906,
          -0.22617170516911447
         ],
         "y": [
          0.09626481248136597,
          0.0603623399545939
         ]
        },
        {
         "hoverinfo": "none",
         "line": {
          "color": "#E8E8E8",
          "dash": "solid",
          "width": 0.7
         },
         "mode": "lines",
         "type": "scatter",
         "x": [
          -0.04494137109334906,
          0.15139500288560356
         ],
         "y": [
          0.09626481248136597,
          0.11912451908541347
         ]
        },
        {
         "hoverinfo": "none",
         "line": {
          "color": "#E8E8E8",
          "dash": "solid",
          "width": 0.7
         },
         "mode": "lines",
         "type": "scatter",
         "x": [
          -0.04494137109334906,
          0.12865044068409745
         ],
         "y": [
          0.09626481248136597,
          -0.07965475491803664
         ]
        },
        {
         "hoverinfo": "none",
         "line": {
          "color": "#E8E8E8",
          "dash": "solid",
          "width": 0.7
         },
         "mode": "lines",
         "type": "scatter",
         "x": [
          -0.04494137109334906,
          -0.1336542052629159
         ],
         "y": [
          0.09626481248136597,
          0.13209859572922225
         ]
        },
        {
         "hoverinfo": "none",
         "line": {
          "color": "#E8E8E8",
          "dash": "solid",
          "width": 0.7
         },
         "mode": "lines",
         "type": "scatter",
         "x": [
          -0.11852981431706612,
          0.05331442071425577
         ],
         "y": [
          -0.06908282270504768,
          -0.07893475661902369
         ]
        },
        {
         "hoverinfo": "none",
         "line": {
          "color": "#E8E8E8",
          "dash": "solid",
          "width": 0.7
         },
         "mode": "lines",
         "type": "scatter",
         "x": [
          -0.11852981431706612,
          -0.029583570089209407
         ],
         "y": [
          -0.06908282270504768,
          -0.11385733988125694
         ]
        },
        {
         "hoverinfo": "none",
         "line": {
          "color": "#E8E8E8",
          "dash": "solid",
          "width": 0.7
         },
         "mode": "lines",
         "type": "scatter",
         "x": [
          -0.11852981431706612,
          0.12865044068409745
         ],
         "y": [
          -0.06908282270504768,
          -0.07965475491803664
         ]
        },
        {
         "hoverinfo": "none",
         "line": {
          "color": "#E8E8E8",
          "dash": "solid",
          "width": 0.7
         },
         "mode": "lines",
         "type": "scatter",
         "x": [
          -0.11852981431706612,
          -0.06961446972372612
         ],
         "y": [
          -0.06908282270504768,
          0.12226732652610431
         ]
        },
        {
         "hoverinfo": "none",
         "line": {
          "color": "#E8E8E8",
          "dash": "solid",
          "width": 0.7
         },
         "mode": "lines",
         "type": "scatter",
         "x": [
          -0.185969777356427,
          -0.12281203031820706
         ],
         "y": [
          0.02332577388026551,
          -0.09843536964066334
         ]
        },
        {
         "hoverinfo": "none",
         "line": {
          "color": "#E8E8E8",
          "dash": "solid",
          "width": 0.7
         },
         "mode": "lines",
         "type": "scatter",
         "x": [
          -0.185969777356427,
          -0.12418001476300108
         ],
         "y": [
          0.02332577388026551,
          -0.12457297487950686
         ]
        },
        {
         "hoverinfo": "none",
         "line": {
          "color": "#E8E8E8",
          "dash": "solid",
          "width": 0.7
         },
         "mode": "lines",
         "type": "scatter",
         "x": [
          -0.185969777356427,
          -0.1523779696754982
         ],
         "y": [
          0.02332577388026551,
          0.22344848946648113
         ]
        },
        {
         "hoverinfo": "none",
         "line": {
          "color": "#E8E8E8",
          "dash": "solid",
          "width": 0.7
         },
         "mode": "lines",
         "type": "scatter",
         "x": [
          0.22212978070237124,
          0.05677264608881407
         ],
         "y": [
          0.027184782024261556,
          0.06110489881926472
         ]
        },
        {
         "hoverinfo": "none",
         "line": {
          "color": "#E8E8E8",
          "dash": "solid",
          "width": 0.7
         },
         "mode": "lines",
         "type": "scatter",
         "x": [
          0.22212978070237124,
          0.2647041771882963
         ],
         "y": [
          0.027184782024261556,
          -0.11834360961746553
         ]
        },
        {
         "hoverinfo": "none",
         "line": {
          "color": "#E8E8E8",
          "dash": "solid",
          "width": 0.7
         },
         "mode": "lines",
         "type": "scatter",
         "x": [
          0.10925689071633819,
          0.04645437665232618
         ],
         "y": [
          0.11010146346982091,
          0.09566720919718977
         ]
        },
        {
         "hoverinfo": "none",
         "line": {
          "color": "#E8E8E8",
          "dash": "solid",
          "width": 0.7
         },
         "mode": "lines",
         "type": "scatter",
         "x": [
          0.10925689071633819,
          0.09463985170778691
         ],
         "y": [
          0.11010146346982091,
          -0.007683810103451875
         ]
        },
        {
         "hoverinfo": "none",
         "line": {
          "color": "#E8E8E8",
          "dash": "solid",
          "width": 0.7
         },
         "mode": "lines",
         "type": "scatter",
         "x": [
          0.10925689071633819,
          0.07054972484232797
         ],
         "y": [
          0.11010146346982091,
          0.18463618836255125
         ]
        },
        {
         "hoverinfo": "none",
         "line": {
          "color": "#E8E8E8",
          "dash": "solid",
          "width": 0.7
         },
         "mode": "lines",
         "type": "scatter",
         "x": [
          0.10925689071633819,
          0.17987280261923122
         ],
         "y": [
          0.11010146346982091,
          -0.0526411189593778
         ]
        },
        {
         "hoverinfo": "none",
         "line": {
          "color": "#E8E8E8",
          "dash": "solid",
          "width": 0.7
         },
         "mode": "lines",
         "type": "scatter",
         "x": [
          -0.12281203031820706,
          -0.12418001476300108
         ],
         "y": [
          -0.09843536964066334,
          -0.12457297487950686
         ]
        },
        {
         "hoverinfo": "none",
         "line": {
          "color": "#E8E8E8",
          "dash": "solid",
          "width": 0.7
         },
         "mode": "lines",
         "type": "scatter",
         "x": [
          -0.12281203031820706,
          0.024100532088113642
         ],
         "y": [
          -0.09843536964066334,
          -0.2523412728071196
         ]
        },
        {
         "hoverinfo": "none",
         "line": {
          "color": "#E8E8E8",
          "dash": "solid",
          "width": 0.7
         },
         "mode": "lines",
         "type": "scatter",
         "x": [
          -0.20322555557068964,
          -0.19994489303716426
         ],
         "y": [
          0.15596519720010432,
          -0.05531259315115445
         ]
        },
        {
         "hoverinfo": "none",
         "line": {
          "color": "#E8E8E8",
          "dash": "solid",
          "width": 0.7
         },
         "mode": "lines",
         "type": "scatter",
         "x": [
          -0.20322555557068964,
          -0.24520841550402134
         ],
         "y": [
          0.15596519720010432,
          0.13374798501657167
         ]
        },
        {
         "hoverinfo": "none",
         "line": {
          "color": "#E8E8E8",
          "dash": "solid",
          "width": 0.7
         },
         "mode": "lines",
         "type": "scatter",
         "x": [
          0.05331442071425577,
          -0.13898107580962668
         ],
         "y": [
          -0.07893475661902369,
          -0.1491506013185887
         ]
        },
        {
         "hoverinfo": "none",
         "line": {
          "color": "#E8E8E8",
          "dash": "solid",
          "width": 0.7
         },
         "mode": "lines",
         "type": "scatter",
         "x": [
          0.05331442071425577,
          0.04645437665232618
         ],
         "y": [
          -0.07893475661902369,
          0.09566720919718977
         ]
        },
        {
         "hoverinfo": "none",
         "line": {
          "color": "#E8E8E8",
          "dash": "solid",
          "width": 0.7
         },
         "mode": "lines",
         "type": "scatter",
         "x": [
          0.05331442071425577,
          0.09463985170778691
         ],
         "y": [
          -0.07893475661902369,
          -0.007683810103451875
         ]
        },
        {
         "hoverinfo": "none",
         "line": {
          "color": "#E8E8E8",
          "dash": "solid",
          "width": 0.7
         },
         "mode": "lines",
         "type": "scatter",
         "x": [
          0.05331442071425577,
          0.04893262955072509
         ],
         "y": [
          -0.07893475661902369,
          -0.19740398728816083
         ]
        },
        {
         "hoverinfo": "none",
         "line": {
          "color": "#E8E8E8",
          "dash": "solid",
          "width": 0.7
         },
         "mode": "lines",
         "type": "scatter",
         "x": [
          0.05331442071425577,
          0.12865044068409745
         ],
         "y": [
          -0.07893475661902369,
          -0.07965475491803664
         ]
        },
        {
         "hoverinfo": "none",
         "line": {
          "color": "#E8E8E8",
          "dash": "solid",
          "width": 0.7
         },
         "mode": "lines",
         "type": "scatter",
         "x": [
          0.05331442071425577,
          0.28344486598556645
         ],
         "y": [
          -0.07893475661902369,
          0.04243165910201216
         ]
        },
        {
         "hoverinfo": "none",
         "line": {
          "color": "#E8E8E8",
          "dash": "solid",
          "width": 0.7
         },
         "mode": "lines",
         "type": "scatter",
         "x": [
          -0.12418001476300108,
          -0.06961446972372612
         ],
         "y": [
          -0.12457297487950686,
          0.12226732652610431
         ]
        },
        {
         "hoverinfo": "none",
         "line": {
          "color": "#E8E8E8",
          "dash": "solid",
          "width": 0.7
         },
         "mode": "lines",
         "type": "scatter",
         "x": [
          -0.13898107580962668,
          0.09463985170778691
         ],
         "y": [
          -0.1491506013185887,
          -0.007683810103451875
         ]
        },
        {
         "hoverinfo": "none",
         "line": {
          "color": "#E8E8E8",
          "dash": "solid",
          "width": 0.7
         },
         "mode": "lines",
         "type": "scatter",
         "x": [
          -0.13898107580962668,
          0.04893262955072509
         ],
         "y": [
          -0.1491506013185887,
          -0.19740398728816083
         ]
        },
        {
         "hoverinfo": "none",
         "line": {
          "color": "#E8E8E8",
          "dash": "solid",
          "width": 0.7
         },
         "mode": "lines",
         "type": "scatter",
         "x": [
          -0.19994489303716426,
          -0.18195453098118677
         ],
         "y": [
          -0.05531259315115445,
          0.10886380939931106
         ]
        },
        {
         "hoverinfo": "none",
         "line": {
          "color": "#E8E8E8",
          "dash": "solid",
          "width": 0.7
         },
         "mode": "lines",
         "type": "scatter",
         "x": [
          -0.029583570089209407,
          0.12865044068409745
         ],
         "y": [
          -0.11385733988125694,
          -0.07965475491803664
         ]
        },
        {
         "hoverinfo": "none",
         "line": {
          "color": "#E8E8E8",
          "dash": "solid",
          "width": 0.7
         },
         "mode": "lines",
         "type": "scatter",
         "x": [
          0.12993462954978785,
          0.0505300072439258
         ],
         "y": [
          -0.1563171772286875,
          -0.1483416769659575
         ]
        },
        {
         "hoverinfo": "none",
         "line": {
          "color": "#E8E8E8",
          "dash": "solid",
          "width": 0.7
         },
         "mode": "lines",
         "type": "scatter",
         "x": [
          0.12993462954978785,
          0.04893262955072509
         ],
         "y": [
          -0.1563171772286875,
          -0.19740398728816083
         ]
        },
        {
         "hoverinfo": "none",
         "line": {
          "color": "#E8E8E8",
          "dash": "solid",
          "width": 0.7
         },
         "mode": "lines",
         "type": "scatter",
         "x": [
          -0.18195453098118677,
          -0.0845170272992704
         ],
         "y": [
          0.10886380939931106,
          0.19638202589624437
         ]
        },
        {
         "hoverinfo": "none",
         "line": {
          "color": "#E8E8E8",
          "dash": "solid",
          "width": 0.7
         },
         "mode": "lines",
         "type": "scatter",
         "x": [
          -0.18195453098118677,
          -0.1523779696754982
         ],
         "y": [
          0.10886380939931106,
          0.22344848946648113
         ]
        },
        {
         "hoverinfo": "none",
         "line": {
          "color": "#E8E8E8",
          "dash": "solid",
          "width": 0.7
         },
         "mode": "lines",
         "type": "scatter",
         "x": [
          -0.1092578961238818,
          -0.1336542052629159
         ],
         "y": [
          -0.15960943916650963,
          0.13209859572922225
         ]
        },
        {
         "hoverinfo": "none",
         "line": {
          "color": "#E8E8E8",
          "dash": "solid",
          "width": 0.7
         },
         "mode": "lines",
         "type": "scatter",
         "x": [
          0.04645437665232618,
          0.0505300072439258
         ],
         "y": [
          0.09566720919718977,
          -0.1483416769659575
         ]
        },
        {
         "hoverinfo": "none",
         "line": {
          "color": "#E8E8E8",
          "dash": "solid",
          "width": 0.7
         },
         "mode": "lines",
         "type": "scatter",
         "x": [
          0.04645437665232618,
          0.28344486598556645
         ],
         "y": [
          0.09566720919718977,
          0.04243165910201216
         ]
        },
        {
         "hoverinfo": "none",
         "line": {
          "color": "#E8E8E8",
          "dash": "solid",
          "width": 0.7
         },
         "mode": "lines",
         "type": "scatter",
         "x": [
          0.05677264608881407,
          0.09463985170778691
         ],
         "y": [
          0.06110489881926472,
          -0.007683810103451875
         ]
        },
        {
         "hoverinfo": "none",
         "line": {
          "color": "#E8E8E8",
          "dash": "solid",
          "width": 0.7
         },
         "mode": "lines",
         "type": "scatter",
         "x": [
          0.05677264608881407,
          0.07054972484232797
         ],
         "y": [
          0.06110489881926472,
          0.18463618836255125
         ]
        },
        {
         "hoverinfo": "none",
         "line": {
          "color": "#E8E8E8",
          "dash": "solid",
          "width": 0.7
         },
         "mode": "lines",
         "type": "scatter",
         "x": [
          0.09463985170778691,
          0.07054972484232797
         ],
         "y": [
          -0.007683810103451875,
          0.18463618836255125
         ]
        },
        {
         "hoverinfo": "none",
         "line": {
          "color": "#E8E8E8",
          "dash": "solid",
          "width": 0.7
         },
         "mode": "lines",
         "type": "scatter",
         "x": [
          0.09463985170778691,
          0.04893262955072509
         ],
         "y": [
          -0.007683810103451875,
          -0.19740398728816083
         ]
        },
        {
         "hoverinfo": "none",
         "line": {
          "color": "#E8E8E8",
          "dash": "solid",
          "width": 0.7
         },
         "mode": "lines",
         "type": "scatter",
         "x": [
          0.07054972484232797,
          0.15139500288560356
         ],
         "y": [
          0.18463618836255125,
          0.11912451908541347
         ]
        },
        {
         "hoverinfo": "none",
         "line": {
          "color": "#E8E8E8",
          "dash": "solid",
          "width": 0.7
         },
         "mode": "lines",
         "type": "scatter",
         "x": [
          0.07054972484232797,
          -0.1523779696754982
         ],
         "y": [
          0.18463618836255125,
          0.22344848946648113
         ]
        },
        {
         "hoverinfo": "none",
         "line": {
          "color": "#E8E8E8",
          "dash": "solid",
          "width": 0.7
         },
         "mode": "lines",
         "type": "scatter",
         "x": [
          0.024100532088113642,
          0.12865044068409745
         ],
         "y": [
          -0.2523412728071196,
          -0.07965475491803664
         ]
        },
        {
         "hoverinfo": "none",
         "line": {
          "color": "#E8E8E8",
          "dash": "solid",
          "width": 0.7
         },
         "mode": "lines",
         "type": "scatter",
         "x": [
          0.17987280261923122,
          0.1629398261141471
         ],
         "y": [
          -0.0526411189593778,
          -0.11103709893423747
         ]
        },
        {
         "hoverinfo": "none",
         "line": {
          "color": "#E8E8E8",
          "dash": "solid",
          "width": 0.7
         },
         "mode": "lines",
         "type": "scatter",
         "x": [
          0.17987280261923122,
          0.09851911586340306
         ],
         "y": [
          -0.0526411189593778,
          -0.15617504689855694
         ]
        },
        {
         "hoverinfo": "none",
         "line": {
          "color": "#E8E8E8",
          "dash": "solid",
          "width": 0.7
         },
         "mode": "lines",
         "type": "scatter",
         "x": [
          0.17987280261923122,
          0.2647041771882963
         ],
         "y": [
          -0.0526411189593778,
          -0.11834360961746553
         ]
        },
        {
         "hoverinfo": "none",
         "line": {
          "color": "#E8E8E8",
          "dash": "solid",
          "width": 0.7
         },
         "mode": "lines",
         "type": "scatter",
         "x": [
          0.17987280261923122,
          0.28344486598556645
         ],
         "y": [
          -0.0526411189593778,
          0.04243165910201216
         ]
        },
        {
         "hoverinfo": "none",
         "line": {
          "color": "#E8E8E8",
          "dash": "solid",
          "width": 0.7
         },
         "mode": "lines",
         "type": "scatter",
         "x": [
          0.17987280261923122,
          -0.05567826942269471
         ],
         "y": [
          -0.0526411189593778,
          -0.19248655738290024
         ]
        },
        {
         "hoverinfo": "none",
         "line": {
          "color": "#E8E8E8",
          "dash": "solid",
          "width": 0.7
         },
         "mode": "lines",
         "type": "scatter",
         "x": [
          0.0505300072439258,
          -0.17196493272656052
         ],
         "y": [
          -0.1483416769659575,
          -0.12740813074216217
         ]
        },
        {
         "hoverinfo": "none",
         "line": {
          "color": "#E8E8E8",
          "dash": "solid",
          "width": 0.7
         },
         "mode": "lines",
         "type": "scatter",
         "x": [
          0.1629398261141471,
          0.09851911586340306
         ],
         "y": [
          -0.11103709893423747,
          -0.15617504689855694
         ]
        },
        {
         "hoverinfo": "none",
         "line": {
          "color": "#E8E8E8",
          "dash": "solid",
          "width": 0.7
         },
         "mode": "lines",
         "type": "scatter",
         "x": [
          0.1629398261141471,
          0.04893262955072509
         ],
         "y": [
          -0.11103709893423747,
          -0.19740398728816083
         ]
        },
        {
         "hoverinfo": "none",
         "line": {
          "color": "#E8E8E8",
          "dash": "solid",
          "width": 0.7
         },
         "mode": "lines",
         "type": "scatter",
         "x": [
          0.15139500288560356,
          0.12865044068409745
         ],
         "y": [
          0.11912451908541347,
          -0.07965475491803664
         ]
        },
        {
         "hoverinfo": "none",
         "line": {
          "color": "#E8E8E8",
          "dash": "solid",
          "width": 0.7
         },
         "mode": "lines",
         "type": "scatter",
         "x": [
          0.09851911586340306,
          0.2647041771882963
         ],
         "y": [
          -0.15617504689855694,
          -0.11834360961746553
         ]
        },
        {
         "hoverinfo": "none",
         "line": {
          "color": "#E8E8E8",
          "dash": "solid",
          "width": 0.7
         },
         "mode": "lines",
         "type": "scatter",
         "x": [
          0.20985144520622326,
          0.28344486598556645
         ],
         "y": [
          -0.053745137854570565,
          0.04243165910201216
         ]
        },
        {
         "hoverinfo": "none",
         "line": {
          "color": "#E8E8E8",
          "dash": "solid",
          "width": 0.9771084337349396
         },
         "mode": "lines",
         "type": "scatter",
         "x": [
          -0.02255445849607741,
          -0.10867589590122384
         ],
         "y": [
          -0.08027263031689079,
          0.012581899781084321
         ]
        },
        {
         "hoverinfo": "none",
         "line": {
          "color": "#E8E8E8",
          "dash": "solid",
          "width": 0.9771084337349396
         },
         "mode": "lines",
         "type": "scatter",
         "x": [
          -0.02255445849607741,
          -0.12297866697639599
         ],
         "y": [
          -0.08027263031689079,
          -0.017694577327360822
         ]
        },
        {
         "hoverinfo": "none",
         "line": {
          "color": "#E8E8E8",
          "dash": "solid",
          "width": 0.9771084337349396
         },
         "mode": "lines",
         "type": "scatter",
         "x": [
          -0.02255445849607741,
          0.06785103515693583
         ],
         "y": [
          -0.08027263031689079,
          0.035862581526662815
         ]
        },
        {
         "hoverinfo": "none",
         "line": {
          "color": "#E8E8E8",
          "dash": "solid",
          "width": 0.9771084337349396
         },
         "mode": "lines",
         "type": "scatter",
         "x": [
          -0.02255445849607741,
          -0.11852981431706612
         ],
         "y": [
          -0.08027263031689079,
          -0.06908282270504768
         ]
        },
        {
         "hoverinfo": "none",
         "line": {
          "color": "#E8E8E8",
          "dash": "solid",
          "width": 0.9771084337349396
         },
         "mode": "lines",
         "type": "scatter",
         "x": [
          -0.02255445849607741,
          -0.185969777356427
         ],
         "y": [
          -0.08027263031689079,
          0.02332577388026551
         ]
        },
        {
         "hoverinfo": "none",
         "line": {
          "color": "#E8E8E8",
          "dash": "solid",
          "width": 0.9771084337349396
         },
         "mode": "lines",
         "type": "scatter",
         "x": [
          -0.02255445849607741,
          -0.12418001476300108
         ],
         "y": [
          -0.08027263031689079,
          -0.12457297487950686
         ]
        },
        {
         "hoverinfo": "none",
         "line": {
          "color": "#E8E8E8",
          "dash": "solid",
          "width": 0.9771084337349396
         },
         "mode": "lines",
         "type": "scatter",
         "x": [
          -0.02255445849607741,
          -0.13898107580962668
         ],
         "y": [
          -0.08027263031689079,
          -0.1491506013185887
         ]
        },
        {
         "hoverinfo": "none",
         "line": {
          "color": "#E8E8E8",
          "dash": "solid",
          "width": 0.9771084337349396
         },
         "mode": "lines",
         "type": "scatter",
         "x": [
          -0.02255445849607741,
          0.09463985170778691
         ],
         "y": [
          -0.08027263031689079,
          -0.007683810103451875
         ]
        },
        {
         "hoverinfo": "none",
         "line": {
          "color": "#E8E8E8",
          "dash": "solid",
          "width": 0.9771084337349396
         },
         "mode": "lines",
         "type": "scatter",
         "x": [
          -0.02255445849607741,
          0.20985144520622326
         ],
         "y": [
          -0.08027263031689079,
          -0.053745137854570565
         ]
        },
        {
         "hoverinfo": "none",
         "line": {
          "color": "#E8E8E8",
          "dash": "solid",
          "width": 0.9771084337349396
         },
         "mode": "lines",
         "type": "scatter",
         "x": [
          -0.02255445849607741,
          -0.05567826942269471
         ],
         "y": [
          -0.08027263031689079,
          -0.19248655738290024
         ]
        },
        {
         "hoverinfo": "none",
         "line": {
          "color": "#E8E8E8",
          "dash": "solid",
          "width": 0.9771084337349396
         },
         "mode": "lines",
         "type": "scatter",
         "x": [
          -0.07302517807265257,
          0.03349324352788613
         ],
         "y": [
          -0.03507102863817463,
          -0.1157046877996965
         ]
        },
        {
         "hoverinfo": "none",
         "line": {
          "color": "#E8E8E8",
          "dash": "solid",
          "width": 0.9771084337349396
         },
         "mode": "lines",
         "type": "scatter",
         "x": [
          -0.07302517807265257,
          -0.028531869662610156
         ],
         "y": [
          -0.03507102863817463,
          0.04347368601494208
         ]
        },
        {
         "hoverinfo": "none",
         "line": {
          "color": "#E8E8E8",
          "dash": "solid",
          "width": 0.9771084337349396
         },
         "mode": "lines",
         "type": "scatter",
         "x": [
          -0.07302517807265257,
          -0.11852981431706612
         ],
         "y": [
          -0.03507102863817463,
          -0.06908282270504768
         ]
        },
        {
         "hoverinfo": "none",
         "line": {
          "color": "#E8E8E8",
          "dash": "solid",
          "width": 0.9771084337349396
         },
         "mode": "lines",
         "type": "scatter",
         "x": [
          -0.07302517807265257,
          -0.185969777356427
         ],
         "y": [
          -0.03507102863817463,
          0.02332577388026551
         ]
        },
        {
         "hoverinfo": "none",
         "line": {
          "color": "#E8E8E8",
          "dash": "solid",
          "width": 0.9771084337349396
         },
         "mode": "lines",
         "type": "scatter",
         "x": [
          -0.07302517807265257,
          -0.22617170516911447
         ],
         "y": [
          -0.03507102863817463,
          0.0603623399545939
         ]
        },
        {
         "hoverinfo": "none",
         "line": {
          "color": "#E8E8E8",
          "dash": "solid",
          "width": 0.9771084337349396
         },
         "mode": "lines",
         "type": "scatter",
         "x": [
          -0.07302517807265257,
          -0.20322555557068964
         ],
         "y": [
          -0.03507102863817463,
          0.15596519720010432
         ]
        },
        {
         "hoverinfo": "none",
         "line": {
          "color": "#E8E8E8",
          "dash": "solid",
          "width": 0.9771084337349396
         },
         "mode": "lines",
         "type": "scatter",
         "x": [
          -0.07302517807265257,
          -0.13898107580962668
         ],
         "y": [
          -0.03507102863817463,
          -0.1491506013185887
         ]
        },
        {
         "hoverinfo": "none",
         "line": {
          "color": "#E8E8E8",
          "dash": "solid",
          "width": 0.9771084337349396
         },
         "mode": "lines",
         "type": "scatter",
         "x": [
          -0.07302517807265257,
          -0.029583570089209407
         ],
         "y": [
          -0.03507102863817463,
          -0.11385733988125694
         ]
        },
        {
         "hoverinfo": "none",
         "line": {
          "color": "#E8E8E8",
          "dash": "solid",
          "width": 0.9771084337349396
         },
         "mode": "lines",
         "type": "scatter",
         "x": [
          -0.07302517807265257,
          0.04645437665232618
         ],
         "y": [
          -0.03507102863817463,
          0.09566720919718977
         ]
        },
        {
         "hoverinfo": "none",
         "line": {
          "color": "#E8E8E8",
          "dash": "solid",
          "width": 0.9771084337349396
         },
         "mode": "lines",
         "type": "scatter",
         "x": [
          -0.07302517807265257,
          0.04893262955072509
         ],
         "y": [
          -0.03507102863817463,
          -0.19740398728816083
         ]
        },
        {
         "hoverinfo": "none",
         "line": {
          "color": "#E8E8E8",
          "dash": "solid",
          "width": 0.9771084337349396
         },
         "mode": "lines",
         "type": "scatter",
         "x": [
          -0.04411474174643428,
          0.01754902091177313
         ],
         "y": [
          -0.02570351964636365,
          -0.022860884368591298
         ]
        },
        {
         "hoverinfo": "none",
         "line": {
          "color": "#E8E8E8",
          "dash": "solid",
          "width": 0.9771084337349396
         },
         "mode": "lines",
         "type": "scatter",
         "x": [
          -0.04411474174643428,
          -0.12281203031820706
         ],
         "y": [
          -0.02570351964636365,
          -0.09843536964066334
         ]
        },
        {
         "hoverinfo": "none",
         "line": {
          "color": "#E8E8E8",
          "dash": "solid",
          "width": 0.9771084337349396
         },
         "mode": "lines",
         "type": "scatter",
         "x": [
          -0.04411474174643428,
          -0.1092578961238818
         ],
         "y": [
          -0.02570351964636365,
          -0.15960943916650963
         ]
        },
        {
         "hoverinfo": "none",
         "line": {
          "color": "#E8E8E8",
          "dash": "solid",
          "width": 0.9771084337349396
         },
         "mode": "lines",
         "type": "scatter",
         "x": [
          -0.04411474174643428,
          0.05677264608881407
         ],
         "y": [
          -0.02570351964636365,
          0.06110489881926472
         ]
        },
        {
         "hoverinfo": "none",
         "line": {
          "color": "#E8E8E8",
          "dash": "solid",
          "width": 0.9771084337349396
         },
         "mode": "lines",
         "type": "scatter",
         "x": [
          -0.04411474174643428,
          0.09463985170778691
         ],
         "y": [
          -0.02570351964636365,
          -0.007683810103451875
         ]
        },
        {
         "hoverinfo": "none",
         "line": {
          "color": "#E8E8E8",
          "dash": "solid",
          "width": 0.9771084337349396
         },
         "mode": "lines",
         "type": "scatter",
         "x": [
          -0.04411474174643428,
          -0.0845170272992704
         ],
         "y": [
          -0.02570351964636365,
          0.19638202589624437
         ]
        },
        {
         "hoverinfo": "none",
         "line": {
          "color": "#E8E8E8",
          "dash": "solid",
          "width": 0.9771084337349396
         },
         "mode": "lines",
         "type": "scatter",
         "x": [
          0.08454043703939625,
          0.10925689071633819
         ],
         "y": [
          -0.028587744644051612,
          0.11010146346982091
         ]
        },
        {
         "hoverinfo": "none",
         "line": {
          "color": "#E8E8E8",
          "dash": "solid",
          "width": 0.9771084337349396
         },
         "mode": "lines",
         "type": "scatter",
         "x": [
          0.08454043703939625,
          0.09463985170778691
         ],
         "y": [
          -0.028587744644051612,
          -0.007683810103451875
         ]
        },
        {
         "hoverinfo": "none",
         "line": {
          "color": "#E8E8E8",
          "dash": "solid",
          "width": 0.9771084337349396
         },
         "mode": "lines",
         "type": "scatter",
         "x": [
          0.08454043703939625,
          0.1629398261141471
         ],
         "y": [
          -0.028587744644051612,
          -0.11103709893423747
         ]
        },
        {
         "hoverinfo": "none",
         "line": {
          "color": "#E8E8E8",
          "dash": "solid",
          "width": 0.9771084337349396
         },
         "mode": "lines",
         "type": "scatter",
         "x": [
          0.03349324352788613,
          0.04881175386657501
         ],
         "y": [
          -0.1157046877996965,
          0.01944277062717638
         ]
        },
        {
         "hoverinfo": "none",
         "line": {
          "color": "#E8E8E8",
          "dash": "solid",
          "width": 0.9771084337349396
         },
         "mode": "lines",
         "type": "scatter",
         "x": [
          0.03349324352788613,
          -0.05743664108679999
         ],
         "y": [
          -0.1157046877996965,
          0.02205456565204265
         ]
        },
        {
         "hoverinfo": "none",
         "line": {
          "color": "#E8E8E8",
          "dash": "solid",
          "width": 0.9771084337349396
         },
         "mode": "lines",
         "type": "scatter",
         "x": [
          -0.05022313516650214,
          -0.10867589590122384
         ],
         "y": [
          -0.005931601344967606,
          0.012581899781084321
         ]
        },
        {
         "hoverinfo": "none",
         "line": {
          "color": "#E8E8E8",
          "dash": "solid",
          "width": 0.9771084337349396
         },
         "mode": "lines",
         "type": "scatter",
         "x": [
          -0.05022313516650214,
          -0.12281203031820706
         ],
         "y": [
          -0.005931601344967606,
          -0.09843536964066334
         ]
        },
        {
         "hoverinfo": "none",
         "line": {
          "color": "#E8E8E8",
          "dash": "solid",
          "width": 0.9771084337349396
         },
         "mode": "lines",
         "type": "scatter",
         "x": [
          -0.10867589590122384,
          -0.12297866697639599
         ],
         "y": [
          0.012581899781084321,
          -0.017694577327360822
         ]
        },
        {
         "hoverinfo": "none",
         "line": {
          "color": "#E8E8E8",
          "dash": "solid",
          "width": 0.9771084337349396
         },
         "mode": "lines",
         "type": "scatter",
         "x": [
          -0.10867589590122384,
          0.01754902091177313
         ],
         "y": [
          0.012581899781084321,
          -0.022860884368591298
         ]
        },
        {
         "hoverinfo": "none",
         "line": {
          "color": "#E8E8E8",
          "dash": "solid",
          "width": 0.9771084337349396
         },
         "mode": "lines",
         "type": "scatter",
         "x": [
          -0.10867589590122384,
          -0.05743664108679999
         ],
         "y": [
          0.012581899781084321,
          0.02205456565204265
         ]
        },
        {
         "hoverinfo": "none",
         "line": {
          "color": "#E8E8E8",
          "dash": "solid",
          "width": 0.9771084337349396
         },
         "mode": "lines",
         "type": "scatter",
         "x": [
          -0.10867589590122384,
          -0.028531869662610156
         ],
         "y": [
          0.012581899781084321,
          0.04347368601494208
         ]
        },
        {
         "hoverinfo": "none",
         "line": {
          "color": "#E8E8E8",
          "dash": "solid",
          "width": 0.9771084337349396
         },
         "mode": "lines",
         "type": "scatter",
         "x": [
          -0.10867589590122384,
          -0.19994489303716426
         ],
         "y": [
          0.012581899781084321,
          -0.05531259315115445
         ]
        },
        {
         "hoverinfo": "none",
         "line": {
          "color": "#E8E8E8",
          "dash": "solid",
          "width": 0.9771084337349396
         },
         "mode": "lines",
         "type": "scatter",
         "x": [
          -0.10867589590122384,
          -0.1523779696754982
         ],
         "y": [
          0.012581899781084321,
          0.22344848946648113
         ]
        },
        {
         "hoverinfo": "none",
         "line": {
          "color": "#E8E8E8",
          "dash": "solid",
          "width": 0.9771084337349396
         },
         "mode": "lines",
         "type": "scatter",
         "x": [
          -0.042670106985513684,
          0.024100532088113642
         ],
         "y": [
          -0.24786919397009546,
          -0.2523412728071196
         ]
        },
        {
         "hoverinfo": "none",
         "line": {
          "color": "#E8E8E8",
          "dash": "solid",
          "width": 0.9771084337349396
         },
         "mode": "lines",
         "type": "scatter",
         "x": [
          -0.12297866697639599,
          -0.11852981431706612
         ],
         "y": [
          -0.017694577327360822,
          -0.06908282270504768
         ]
        },
        {
         "hoverinfo": "none",
         "line": {
          "color": "#E8E8E8",
          "dash": "solid",
          "width": 0.9771084337349396
         },
         "mode": "lines",
         "type": "scatter",
         "x": [
          -0.12297866697639599,
          -0.12281203031820706
         ],
         "y": [
          -0.017694577327360822,
          -0.09843536964066334
         ]
        },
        {
         "hoverinfo": "none",
         "line": {
          "color": "#E8E8E8",
          "dash": "solid",
          "width": 0.9771084337349396
         },
         "mode": "lines",
         "type": "scatter",
         "x": [
          0.04881175386657501,
          0.06785103515693583
         ],
         "y": [
          0.01944277062717638,
          0.035862581526662815
         ]
        },
        {
         "hoverinfo": "none",
         "line": {
          "color": "#E8E8E8",
          "dash": "solid",
          "width": 0.9771084337349396
         },
         "mode": "lines",
         "type": "scatter",
         "x": [
          0.04881175386657501,
          -0.05743664108679999
         ],
         "y": [
          0.01944277062717638,
          0.02205456565204265
         ]
        },
        {
         "hoverinfo": "none",
         "line": {
          "color": "#E8E8E8",
          "dash": "solid",
          "width": 0.9771084337349396
         },
         "mode": "lines",
         "type": "scatter",
         "x": [
          0.04881175386657501,
          0.15067676022460644
         ],
         "y": [
          0.01944277062717638,
          0.02232923283115474
         ]
        },
        {
         "hoverinfo": "none",
         "line": {
          "color": "#E8E8E8",
          "dash": "solid",
          "width": 0.9771084337349396
         },
         "mode": "lines",
         "type": "scatter",
         "x": [
          0.04881175386657501,
          0.1629398261141471
         ],
         "y": [
          0.01944277062717638,
          -0.11103709893423747
         ]
        },
        {
         "hoverinfo": "none",
         "line": {
          "color": "#E8E8E8",
          "dash": "solid",
          "width": 0.9771084337349396
         },
         "mode": "lines",
         "type": "scatter",
         "x": [
          0.06785103515693583,
          0.22212978070237124
         ],
         "y": [
          0.035862581526662815,
          0.027184782024261556
         ]
        },
        {
         "hoverinfo": "none",
         "line": {
          "color": "#E8E8E8",
          "dash": "solid",
          "width": 0.9771084337349396
         },
         "mode": "lines",
         "type": "scatter",
         "x": [
          0.06785103515693583,
          0.05677264608881407
         ],
         "y": [
          0.035862581526662815,
          0.06110489881926472
         ]
        },
        {
         "hoverinfo": "none",
         "line": {
          "color": "#E8E8E8",
          "dash": "solid",
          "width": 0.9771084337349396
         },
         "mode": "lines",
         "type": "scatter",
         "x": [
          0.06785103515693583,
          0.07054972484232797
         ],
         "y": [
          0.035862581526662815,
          0.18463618836255125
         ]
        },
        {
         "hoverinfo": "none",
         "line": {
          "color": "#E8E8E8",
          "dash": "solid",
          "width": 0.9771084337349396
         },
         "mode": "lines",
         "type": "scatter",
         "x": [
          0.06785103515693583,
          0.17987280261923122
         ],
         "y": [
          0.035862581526662815,
          -0.0526411189593778
         ]
        },
        {
         "hoverinfo": "none",
         "line": {
          "color": "#E8E8E8",
          "dash": "solid",
          "width": 0.9771084337349396
         },
         "mode": "lines",
         "type": "scatter",
         "x": [
          -0.11876863509836466,
          -0.05743664108679999
         ],
         "y": [
          0.0306078948548714,
          0.02205456565204265
         ]
        },
        {
         "hoverinfo": "none",
         "line": {
          "color": "#E8E8E8",
          "dash": "solid",
          "width": 0.9771084337349396
         },
         "mode": "lines",
         "type": "scatter",
         "x": [
          -0.11876863509836466,
          -0.13898107580962668
         ],
         "y": [
          0.0306078948548714,
          -0.1491506013185887
         ]
        },
        {
         "hoverinfo": "none",
         "line": {
          "color": "#E8E8E8",
          "dash": "solid",
          "width": 0.9771084337349396
         },
         "mode": "lines",
         "type": "scatter",
         "x": [
          -0.11876863509836466,
          0.04645437665232618
         ],
         "y": [
          0.0306078948548714,
          0.09566720919718977
         ]
        },
        {
         "hoverinfo": "none",
         "line": {
          "color": "#E8E8E8",
          "dash": "solid",
          "width": 0.9771084337349396
         },
         "mode": "lines",
         "type": "scatter",
         "x": [
          -0.11876863509836466,
          -0.22282847311132453
         ],
         "y": [
          0.0306078948548714,
          -0.0980183233713624
         ]
        },
        {
         "hoverinfo": "none",
         "line": {
          "color": "#E8E8E8",
          "dash": "solid",
          "width": 0.9771084337349396
         },
         "mode": "lines",
         "type": "scatter",
         "x": [
          0.01754902091177313,
          0.20985144520622326
         ],
         "y": [
          -0.022860884368591298,
          -0.053745137854570565
         ]
        },
        {
         "hoverinfo": "none",
         "line": {
          "color": "#E8E8E8",
          "dash": "solid",
          "width": 0.9771084337349396
         },
         "mode": "lines",
         "type": "scatter",
         "x": [
          -0.05743664108679999,
          -0.029583570089209407
         ],
         "y": [
          0.02205456565204265,
          -0.11385733988125694
         ]
        },
        {
         "hoverinfo": "none",
         "line": {
          "color": "#E8E8E8",
          "dash": "solid",
          "width": 0.9771084337349396
         },
         "mode": "lines",
         "type": "scatter",
         "x": [
          -0.05743664108679999,
          0.04645437665232618
         ],
         "y": [
          0.02205456565204265,
          0.09566720919718977
         ]
        },
        {
         "hoverinfo": "none",
         "line": {
          "color": "#E8E8E8",
          "dash": "solid",
          "width": 0.9771084337349396
         },
         "mode": "lines",
         "type": "scatter",
         "x": [
          -0.028531869662610156,
          -0.22617170516911447
         ],
         "y": [
          0.04347368601494208,
          0.0603623399545939
         ]
        },
        {
         "hoverinfo": "none",
         "line": {
          "color": "#E8E8E8",
          "dash": "solid",
          "width": 0.9771084337349396
         },
         "mode": "lines",
         "type": "scatter",
         "x": [
          0.15067676022460644,
          0.05677264608881407
         ],
         "y": [
          0.02232923283115474,
          0.06110489881926472
         ]
        },
        {
         "hoverinfo": "none",
         "line": {
          "color": "#E8E8E8",
          "dash": "solid",
          "width": 0.9771084337349396
         },
         "mode": "lines",
         "type": "scatter",
         "x": [
          0.15067676022460644,
          0.12865044068409745
         ],
         "y": [
          0.02232923283115474,
          -0.07965475491803664
         ]
        },
        {
         "hoverinfo": "none",
         "line": {
          "color": "#E8E8E8",
          "dash": "solid",
          "width": 0.9771084337349396
         },
         "mode": "lines",
         "type": "scatter",
         "x": [
          0.0429122785328855,
          0.10925689071633819
         ],
         "y": [
          0.14095673312259907,
          0.11010146346982091
         ]
        },
        {
         "hoverinfo": "none",
         "line": {
          "color": "#E8E8E8",
          "dash": "solid",
          "width": 0.9771084337349396
         },
         "mode": "lines",
         "type": "scatter",
         "x": [
          0.0429122785328855,
          0.07054972484232797
         ],
         "y": [
          0.14095673312259907,
          0.18463618836255125
         ]
        },
        {
         "hoverinfo": "none",
         "line": {
          "color": "#E8E8E8",
          "dash": "solid",
          "width": 0.9771084337349396
         },
         "mode": "lines",
         "type": "scatter",
         "x": [
          0.0429122785328855,
          0.15139500288560356
         ],
         "y": [
          0.14095673312259907,
          0.11912451908541347
         ]
        },
        {
         "hoverinfo": "none",
         "line": {
          "color": "#E8E8E8",
          "dash": "solid",
          "width": 0.9771084337349396
         },
         "mode": "lines",
         "type": "scatter",
         "x": [
          -0.11852981431706612,
          -0.22282847311132453
         ],
         "y": [
          -0.06908282270504768,
          -0.0980183233713624
         ]
        },
        {
         "hoverinfo": "none",
         "line": {
          "color": "#E8E8E8",
          "dash": "solid",
          "width": 0.9771084337349396
         },
         "mode": "lines",
         "type": "scatter",
         "x": [
          -0.12281203031820706,
          -0.029583570089209407
         ],
         "y": [
          -0.09843536964066334,
          -0.11385733988125694
         ]
        },
        {
         "hoverinfo": "none",
         "line": {
          "color": "#E8E8E8",
          "dash": "solid",
          "width": 0.9771084337349396
         },
         "mode": "lines",
         "type": "scatter",
         "x": [
          -0.22617170516911447,
          -0.24520841550402134
         ],
         "y": [
          0.0603623399545939,
          0.13374798501657167
         ]
        },
        {
         "hoverinfo": "none",
         "line": {
          "color": "#E8E8E8",
          "dash": "solid",
          "width": 0.9771084337349396
         },
         "mode": "lines",
         "type": "scatter",
         "x": [
          0.05331442071425577,
          -0.029583570089209407
         ],
         "y": [
          -0.07893475661902369,
          -0.11385733988125694
         ]
        },
        {
         "hoverinfo": "none",
         "line": {
          "color": "#E8E8E8",
          "dash": "solid",
          "width": 0.9771084337349396
         },
         "mode": "lines",
         "type": "scatter",
         "x": [
          -0.12418001476300108,
          -0.05567826942269471
         ],
         "y": [
          -0.12457297487950686,
          -0.19248655738290024
         ]
        },
        {
         "hoverinfo": "none",
         "line": {
          "color": "#E8E8E8",
          "dash": "solid",
          "width": 0.9771084337349396
         },
         "mode": "lines",
         "type": "scatter",
         "x": [
          -0.13898107580962668,
          -0.22282847311132453
         ],
         "y": [
          -0.1491506013185887,
          -0.0980183233713624
         ]
        },
        {
         "hoverinfo": "none",
         "line": {
          "color": "#E8E8E8",
          "dash": "solid",
          "width": 0.9771084337349396
         },
         "mode": "lines",
         "type": "scatter",
         "x": [
          -0.19994489303716426,
          -0.22282847311132453
         ],
         "y": [
          -0.05531259315115445,
          -0.0980183233713624
         ]
        },
        {
         "hoverinfo": "none",
         "line": {
          "color": "#E8E8E8",
          "dash": "solid",
          "width": 0.9771084337349396
         },
         "mode": "lines",
         "type": "scatter",
         "x": [
          -0.1092578961238818,
          -0.05567826942269471
         ],
         "y": [
          -0.15960943916650963,
          -0.19248655738290024
         ]
        },
        {
         "hoverinfo": "none",
         "line": {
          "color": "#E8E8E8",
          "dash": "solid",
          "width": 0.9771084337349396
         },
         "mode": "lines",
         "type": "scatter",
         "x": [
          -0.0845170272992704,
          -0.15002438170646445
         ],
         "y": [
          0.19638202589624437,
          0.34963395440696804
         ]
        },
        {
         "hoverinfo": "none",
         "line": {
          "color": "#E8E8E8",
          "dash": "solid",
          "width": 0.9771084337349396
         },
         "mode": "lines",
         "type": "scatter",
         "x": [
          0.1629398261141471,
          0.2647041771882963
         ],
         "y": [
          -0.11103709893423747,
          -0.11834360961746553
         ]
        },
        {
         "hoverinfo": "none",
         "line": {
          "color": "#E8E8E8",
          "dash": "solid",
          "width": 1.2542168674698795
         },
         "mode": "lines",
         "type": "scatter",
         "x": [
          -0.02255445849607741,
          -0.19994489303716426
         ],
         "y": [
          -0.08027263031689079,
          -0.05531259315115445
         ]
        },
        {
         "hoverinfo": "none",
         "line": {
          "color": "#E8E8E8",
          "dash": "solid",
          "width": 1.2542168674698795
         },
         "mode": "lines",
         "type": "scatter",
         "x": [
          -0.02255445849607741,
          0.024100532088113642
         ],
         "y": [
          -0.08027263031689079,
          -0.2523412728071196
         ]
        },
        {
         "hoverinfo": "none",
         "line": {
          "color": "#E8E8E8",
          "dash": "solid",
          "width": 1.2542168674698795
         },
         "mode": "lines",
         "type": "scatter",
         "x": [
          -0.02255445849607741,
          -0.22282847311132453
         ],
         "y": [
          -0.08027263031689079,
          -0.0980183233713624
         ]
        },
        {
         "hoverinfo": "none",
         "line": {
          "color": "#E8E8E8",
          "dash": "solid",
          "width": 1.2542168674698795
         },
         "mode": "lines",
         "type": "scatter",
         "x": [
          -0.07302517807265257,
          -0.12281203031820706
         ],
         "y": [
          -0.03507102863817463,
          -0.09843536964066334
         ]
        },
        {
         "hoverinfo": "none",
         "line": {
          "color": "#E8E8E8",
          "dash": "solid",
          "width": 1.2542168674698795
         },
         "mode": "lines",
         "type": "scatter",
         "x": [
          -0.07302517807265257,
          -0.12418001476300108
         ],
         "y": [
          -0.03507102863817463,
          -0.12457297487950686
         ]
        },
        {
         "hoverinfo": "none",
         "line": {
          "color": "#E8E8E8",
          "dash": "solid",
          "width": 1.2542168674698795
         },
         "mode": "lines",
         "type": "scatter",
         "x": [
          -0.07302517807265257,
          -0.19994489303716426
         ],
         "y": [
          -0.03507102863817463,
          -0.05531259315115445
         ]
        },
        {
         "hoverinfo": "none",
         "line": {
          "color": "#E8E8E8",
          "dash": "solid",
          "width": 1.2542168674698795
         },
         "mode": "lines",
         "type": "scatter",
         "x": [
          -0.04411474174643428,
          0.08454043703939625
         ],
         "y": [
          -0.02570351964636365,
          -0.028587744644051612
         ]
        },
        {
         "hoverinfo": "none",
         "line": {
          "color": "#E8E8E8",
          "dash": "solid",
          "width": 1.2542168674698795
         },
         "mode": "lines",
         "type": "scatter",
         "x": [
          -0.04411474174643428,
          -0.05022313516650214
         ],
         "y": [
          -0.02570351964636365,
          -0.005931601344967606
         ]
        },
        {
         "hoverinfo": "none",
         "line": {
          "color": "#E8E8E8",
          "dash": "solid",
          "width": 1.2542168674698795
         },
         "mode": "lines",
         "type": "scatter",
         "x": [
          -0.04411474174643428,
          -0.12297866697639599
         ],
         "y": [
          -0.02570351964636365,
          -0.017694577327360822
         ]
        },
        {
         "hoverinfo": "none",
         "line": {
          "color": "#E8E8E8",
          "dash": "solid",
          "width": 1.2542168674698795
         },
         "mode": "lines",
         "type": "scatter",
         "x": [
          -0.04411474174643428,
          -0.185969777356427
         ],
         "y": [
          -0.02570351964636365,
          0.02332577388026551
         ]
        },
        {
         "hoverinfo": "none",
         "line": {
          "color": "#E8E8E8",
          "dash": "solid",
          "width": 1.2542168674698795
         },
         "mode": "lines",
         "type": "scatter",
         "x": [
          0.08454043703939625,
          0.06785103515693583
         ],
         "y": [
          -0.028587744644051612,
          0.035862581526662815
         ]
        },
        {
         "hoverinfo": "none",
         "line": {
          "color": "#E8E8E8",
          "dash": "solid",
          "width": 1.2542168674698795
         },
         "mode": "lines",
         "type": "scatter",
         "x": [
          0.08454043703939625,
          0.22212978070237124
         ],
         "y": [
          -0.028587744644051612,
          0.027184782024261556
         ]
        },
        {
         "hoverinfo": "none",
         "line": {
          "color": "#E8E8E8",
          "dash": "solid",
          "width": 1.2542168674698795
         },
         "mode": "lines",
         "type": "scatter",
         "x": [
          0.08454043703939625,
          0.05677264608881407
         ],
         "y": [
          -0.028587744644051612,
          0.06110489881926472
         ]
        },
        {
         "hoverinfo": "none",
         "line": {
          "color": "#E8E8E8",
          "dash": "solid",
          "width": 1.2542168674698795
         },
         "mode": "lines",
         "type": "scatter",
         "x": [
          0.03349324352788613,
          -0.042670106985513684
         ],
         "y": [
          -0.1157046877996965,
          -0.24786919397009546
         ]
        },
        {
         "hoverinfo": "none",
         "line": {
          "color": "#E8E8E8",
          "dash": "solid",
          "width": 1.2542168674698795
         },
         "mode": "lines",
         "type": "scatter",
         "x": [
          -0.05022313516650214,
          -0.12418001476300108
         ],
         "y": [
          -0.005931601344967606,
          -0.12457297487950686
         ]
        },
        {
         "hoverinfo": "none",
         "line": {
          "color": "#E8E8E8",
          "dash": "solid",
          "width": 1.2542168674698795
         },
         "mode": "lines",
         "type": "scatter",
         "x": [
          -0.042670106985513684,
          -0.010866533329472718
         ],
         "y": [
          -0.24786919397009546,
          -0.26282440909225024
         ]
        },
        {
         "hoverinfo": "none",
         "line": {
          "color": "#E8E8E8",
          "dash": "solid",
          "width": 1.2542168674698795
         },
         "mode": "lines",
         "type": "scatter",
         "x": [
          -0.11876863509836466,
          -0.04494137109334906
         ],
         "y": [
          0.0306078948548714,
          0.09626481248136597
         ]
        },
        {
         "hoverinfo": "none",
         "line": {
          "color": "#E8E8E8",
          "dash": "solid",
          "width": 1.2542168674698795
         },
         "mode": "lines",
         "type": "scatter",
         "x": [
          -0.028531869662610156,
          -0.18195453098118677
         ],
         "y": [
          0.04347368601494208,
          0.10886380939931106
         ]
        },
        {
         "hoverinfo": "none",
         "line": {
          "color": "#E8E8E8",
          "dash": "solid",
          "width": 1.2542168674698795
         },
         "mode": "lines",
         "type": "scatter",
         "x": [
          -0.04494137109334906,
          0.04645437665232618
         ],
         "y": [
          0.09626481248136597,
          0.09566720919718977
         ]
        },
        {
         "hoverinfo": "none",
         "line": {
          "color": "#E8E8E8",
          "dash": "solid",
          "width": 1.2542168674698795
         },
         "mode": "lines",
         "type": "scatter",
         "x": [
          -0.11852981431706612,
          -0.19994489303716426
         ],
         "y": [
          -0.06908282270504768,
          -0.05531259315115445
         ]
        },
        {
         "hoverinfo": "none",
         "line": {
          "color": "#E8E8E8",
          "dash": "solid",
          "width": 1.2542168674698795
         },
         "mode": "lines",
         "type": "scatter",
         "x": [
          0.10925689071633819,
          0.15139500288560356
         ],
         "y": [
          0.11010146346982091,
          0.11912451908541347
         ]
        },
        {
         "hoverinfo": "none",
         "line": {
          "color": "#E8E8E8",
          "dash": "solid",
          "width": 1.2542168674698795
         },
         "mode": "lines",
         "type": "scatter",
         "x": [
          -0.12418001476300108,
          -0.1092578961238818
         ],
         "y": [
          -0.12457297487950686,
          -0.15960943916650963
         ]
        },
        {
         "hoverinfo": "none",
         "line": {
          "color": "#E8E8E8",
          "dash": "solid",
          "width": 1.5313253012048191
         },
         "mode": "lines",
         "type": "scatter",
         "x": [
          -0.02255445849607741,
          -0.05022313516650214
         ],
         "y": [
          -0.08027263031689079,
          -0.005931601344967606
         ]
        },
        {
         "hoverinfo": "none",
         "line": {
          "color": "#E8E8E8",
          "dash": "solid",
          "width": 1.5313253012048191
         },
         "mode": "lines",
         "type": "scatter",
         "x": [
          -0.02255445849607741,
          -0.010866533329472718
         ],
         "y": [
          -0.08027263031689079,
          -0.26282440909225024
         ]
        },
        {
         "hoverinfo": "none",
         "line": {
          "color": "#E8E8E8",
          "dash": "solid",
          "width": 1.5313253012048191
         },
         "mode": "lines",
         "type": "scatter",
         "x": [
          -0.07302517807265257,
          -0.11876863509836466
         ],
         "y": [
          -0.03507102863817463,
          0.0306078948548714
         ]
        },
        {
         "hoverinfo": "none",
         "line": {
          "color": "#E8E8E8",
          "dash": "solid",
          "width": 1.5313253012048191
         },
         "mode": "lines",
         "type": "scatter",
         "x": [
          0.08454043703939625,
          0.17987280261923122
         ],
         "y": [
          -0.028587744644051612,
          -0.0526411189593778
         ]
        },
        {
         "hoverinfo": "none",
         "line": {
          "color": "#E8E8E8",
          "dash": "solid",
          "width": 1.5313253012048191
         },
         "mode": "lines",
         "type": "scatter",
         "x": [
          0.03349324352788613,
          0.06785103515693583
         ],
         "y": [
          -0.1157046877996965,
          0.035862581526662815
         ]
        },
        {
         "hoverinfo": "none",
         "line": {
          "color": "#E8E8E8",
          "dash": "solid",
          "width": 1.5313253012048191
         },
         "mode": "lines",
         "type": "scatter",
         "x": [
          0.03349324352788613,
          -0.010866533329472718
         ],
         "y": [
          -0.1157046877996965,
          -0.26282440909225024
         ]
        },
        {
         "hoverinfo": "none",
         "line": {
          "color": "#E8E8E8",
          "dash": "solid",
          "width": 1.5313253012048191
         },
         "mode": "lines",
         "type": "scatter",
         "x": [
          0.04881175386657501,
          0.07054972484232797
         ],
         "y": [
          0.01944277062717638,
          0.18463618836255125
         ]
        },
        {
         "hoverinfo": "none",
         "line": {
          "color": "#E8E8E8",
          "dash": "solid",
          "width": 1.5313253012048191
         },
         "mode": "lines",
         "type": "scatter",
         "x": [
          -0.05743664108679999,
          -0.028531869662610156
         ],
         "y": [
          0.02205456565204265,
          0.04347368601494208
         ]
        },
        {
         "hoverinfo": "none",
         "line": {
          "color": "#E8E8E8",
          "dash": "solid",
          "width": 1.5313253012048191
         },
         "mode": "lines",
         "type": "scatter",
         "x": [
          -0.11852981431706612,
          -0.13898107580962668
         ],
         "y": [
          -0.06908282270504768,
          -0.1491506013185887
         ]
        },
        {
         "hoverinfo": "none",
         "line": {
          "color": "#E8E8E8",
          "dash": "solid",
          "width": 1.5313253012048191
         },
         "mode": "lines",
         "type": "scatter",
         "x": [
          0.015375274835434157,
          0.024100532088113642
         ],
         "y": [
          -0.22541852025411738,
          -0.2523412728071196
         ]
        },
        {
         "hoverinfo": "none",
         "line": {
          "color": "#E8E8E8",
          "dash": "solid",
          "width": 1.5313253012048191
         },
         "mode": "lines",
         "type": "scatter",
         "x": [
          -0.13898107580962668,
          -0.19994489303716426
         ],
         "y": [
          -0.1491506013185887,
          -0.05531259315115445
         ]
        },
        {
         "hoverinfo": "none",
         "line": {
          "color": "#E8E8E8",
          "dash": "solid",
          "width": 1.5313253012048191
         },
         "mode": "lines",
         "type": "scatter",
         "x": [
          -0.010866533329472718,
          0.024100532088113642
         ],
         "y": [
          -0.26282440909225024,
          -0.2523412728071196
         ]
        },
        {
         "hoverinfo": "none",
         "line": {
          "color": "#E8E8E8",
          "dash": "solid",
          "width": 1.8084337349397588
         },
         "mode": "lines",
         "type": "scatter",
         "x": [
          -0.02255445849607741,
          -0.042670106985513684
         ],
         "y": [
          -0.08027263031689079,
          -0.24786919397009546
         ]
        },
        {
         "hoverinfo": "none",
         "line": {
          "color": "#E8E8E8",
          "dash": "solid",
          "width": 1.8084337349397588
         },
         "mode": "lines",
         "type": "scatter",
         "x": [
          -0.02255445849607741,
          -0.11876863509836466
         ],
         "y": [
          -0.08027263031689079,
          0.0306078948548714
         ]
        },
        {
         "hoverinfo": "none",
         "line": {
          "color": "#E8E8E8",
          "dash": "solid",
          "width": 1.8084337349397588
         },
         "mode": "lines",
         "type": "scatter",
         "x": [
          -0.02255445849607741,
          0.01754902091177313
         ],
         "y": [
          -0.08027263031689079,
          -0.022860884368591298
         ]
        },
        {
         "hoverinfo": "none",
         "line": {
          "color": "#E8E8E8",
          "dash": "solid",
          "width": 1.8084337349397588
         },
         "mode": "lines",
         "type": "scatter",
         "x": [
          -0.02255445849607741,
          0.015375274835434157
         ],
         "y": [
          -0.08027263031689079,
          -0.22541852025411738
         ]
        },
        {
         "hoverinfo": "none",
         "line": {
          "color": "#E8E8E8",
          "dash": "solid",
          "width": 1.8084337349397588
         },
         "mode": "lines",
         "type": "scatter",
         "x": [
          -0.07302517807265257,
          -0.05022313516650214
         ],
         "y": [
          -0.03507102863817463,
          -0.005931601344967606
         ]
        },
        {
         "hoverinfo": "none",
         "line": {
          "color": "#E8E8E8",
          "dash": "solid",
          "width": 1.8084337349397588
         },
         "mode": "lines",
         "type": "scatter",
         "x": [
          -0.07302517807265257,
          -0.10867589590122384
         ],
         "y": [
          -0.03507102863817463,
          0.012581899781084321
         ]
        },
        {
         "hoverinfo": "none",
         "line": {
          "color": "#E8E8E8",
          "dash": "solid",
          "width": 1.8084337349397588
         },
         "mode": "lines",
         "type": "scatter",
         "x": [
          -0.07302517807265257,
          -0.04494137109334906
         ],
         "y": [
          -0.03507102863817463,
          0.09626481248136597
         ]
        },
        {
         "hoverinfo": "none",
         "line": {
          "color": "#E8E8E8",
          "dash": "solid",
          "width": 1.8084337349397588
         },
         "mode": "lines",
         "type": "scatter",
         "x": [
          -0.04411474174643428,
          -0.10867589590122384
         ],
         "y": [
          -0.02570351964636365,
          0.012581899781084321
         ]
        },
        {
         "hoverinfo": "none",
         "line": {
          "color": "#E8E8E8",
          "dash": "solid",
          "width": 1.8084337349397588
         },
         "mode": "lines",
         "type": "scatter",
         "x": [
          0.08454043703939625,
          0.03349324352788613
         ],
         "y": [
          -0.028587744644051612,
          -0.1157046877996965
         ]
        },
        {
         "hoverinfo": "none",
         "line": {
          "color": "#E8E8E8",
          "dash": "solid",
          "width": 1.8084337349397588
         },
         "mode": "lines",
         "type": "scatter",
         "x": [
          0.03349324352788613,
          0.024100532088113642
         ],
         "y": [
          -0.1157046877996965,
          -0.2523412728071196
         ]
        },
        {
         "hoverinfo": "none",
         "line": {
          "color": "#E8E8E8",
          "dash": "solid",
          "width": 1.8084337349397588
         },
         "mode": "lines",
         "type": "scatter",
         "x": [
          -0.11876863509836466,
          -0.22617170516911447
         ],
         "y": [
          0.0306078948548714,
          0.0603623399545939
         ]
        },
        {
         "hoverinfo": "none",
         "line": {
          "color": "#E8E8E8",
          "dash": "solid",
          "width": 1.8084337349397588
         },
         "mode": "lines",
         "type": "scatter",
         "x": [
          -0.05743664108679999,
          -0.04494137109334906
         ],
         "y": [
          0.02205456565204265,
          0.09626481248136597
         ]
        },
        {
         "hoverinfo": "none",
         "line": {
          "color": "#E8E8E8",
          "dash": "solid",
          "width": 1.8084337349397588
         },
         "mode": "lines",
         "type": "scatter",
         "x": [
          0.15067676022460644,
          0.22212978070237124
         ],
         "y": [
          0.02232923283115474,
          0.027184782024261556
         ]
        },
        {
         "hoverinfo": "none",
         "line": {
          "color": "#E8E8E8",
          "dash": "solid",
          "width": 2.0855421686746984
         },
         "mode": "lines",
         "type": "scatter",
         "x": [
          -0.02255445849607741,
          -0.07302517807265257
         ],
         "y": [
          -0.08027263031689079,
          -0.03507102863817463
         ]
        },
        {
         "hoverinfo": "none",
         "line": {
          "color": "#E8E8E8",
          "dash": "solid",
          "width": 2.0855421686746984
         },
         "mode": "lines",
         "type": "scatter",
         "x": [
          -0.02255445849607741,
          -0.1092578961238818
         ],
         "y": [
          -0.08027263031689079,
          -0.15960943916650963
         ]
        },
        {
         "hoverinfo": "none",
         "line": {
          "color": "#E8E8E8",
          "dash": "solid",
          "width": 2.0855421686746984
         },
         "mode": "lines",
         "type": "scatter",
         "x": [
          -0.07302517807265257,
          -0.04411474174643428
         ],
         "y": [
          -0.03507102863817463,
          -0.02570351964636365
         ]
        },
        {
         "hoverinfo": "none",
         "line": {
          "color": "#E8E8E8",
          "dash": "solid",
          "width": 2.0855421686746984
         },
         "mode": "lines",
         "type": "scatter",
         "x": [
          -0.07302517807265257,
          -0.05743664108679999
         ],
         "y": [
          -0.03507102863817463,
          0.02205456565204265
         ]
        },
        {
         "hoverinfo": "none",
         "line": {
          "color": "#E8E8E8",
          "dash": "solid",
          "width": 2.0855421686746984
         },
         "mode": "lines",
         "type": "scatter",
         "x": [
          0.03349324352788613,
          0.015375274835434157
         ],
         "y": [
          -0.1157046877996965,
          -0.22541852025411738
         ]
        },
        {
         "hoverinfo": "none",
         "line": {
          "color": "#E8E8E8",
          "dash": "solid",
          "width": 2.0855421686746984
         },
         "mode": "lines",
         "type": "scatter",
         "x": [
          -0.042670106985513684,
          0.015375274835434157
         ],
         "y": [
          -0.24786919397009546,
          -0.22541852025411738
         ]
        },
        {
         "hoverinfo": "none",
         "line": {
          "color": "#E8E8E8",
          "dash": "solid",
          "width": 2.362650602409638
         },
         "mode": "lines",
         "type": "scatter",
         "x": [
          -0.02255445849607741,
          -0.04411474174643428
         ],
         "y": [
          -0.08027263031689079,
          -0.02570351964636365
         ]
        },
        {
         "hoverinfo": "none",
         "line": {
          "color": "#E8E8E8",
          "dash": "solid",
          "width": 2.362650602409638
         },
         "mode": "lines",
         "type": "scatter",
         "x": [
          0.08454043703939625,
          0.15067676022460644
         ],
         "y": [
          -0.028587744644051612,
          0.02232923283115474
         ]
        },
        {
         "hoverinfo": "none",
         "line": {
          "color": "#E8E8E8",
          "dash": "solid",
          "width": 2.362650602409638
         },
         "mode": "lines",
         "type": "scatter",
         "x": [
          0.015375274835434157,
          -0.010866533329472718
         ],
         "y": [
          -0.22541852025411738,
          -0.26282440909225024
         ]
        },
        {
         "hoverinfo": "none",
         "line": {
          "color": "#E8E8E8",
          "dash": "solid",
          "width": 2.6397590361445777
         },
         "mode": "lines",
         "type": "scatter",
         "x": [
          -0.02255445849607741,
          0.03349324352788613
         ],
         "y": [
          -0.08027263031689079,
          -0.1157046877996965
         ]
        },
        {
         "hoverinfo": "none",
         "line": {
          "color": "#E8E8E8",
          "dash": "solid",
          "width": 2.6397590361445777
         },
         "mode": "lines",
         "type": "scatter",
         "x": [
          -0.05022313516650214,
          0.01754902091177313
         ],
         "y": [
          -0.005931601344967606,
          -0.022860884368591298
         ]
        },
        {
         "hoverinfo": "none",
         "line": {
          "color": "#E8E8E8",
          "dash": "solid",
          "width": 3.193975903614457
         },
         "mode": "lines",
         "type": "scatter",
         "x": [
          -0.02255445849607741,
          0.08454043703939625
         ],
         "y": [
          -0.08027263031689079,
          -0.028587744644051612
         ]
        },
        {
         "hoverinfo": "text",
         "marker": {
          "color": [
           "#7793a5",
           "#7793a5",
           "#7793a5",
           "#7793a5",
           "#7793a5",
           "#7793a5",
           "#7793a5",
           "#7793a5",
           "#7793a5",
           "#7793a5",
           "#7793a5",
           "#7793a5",
           "#7793a5",
           "#7793a5",
           "#7793a5",
           "#7793a5",
           "#7793a5",
           "#7793a5",
           "#7793a5",
           "#7793a5",
           "#7793a5",
           "#7793a5",
           "#7793a5",
           "#7793a5",
           "#7793a5",
           "#7793a5",
           "#7793a5",
           "#7793a5",
           "#7793a5",
           "#7793a5",
           "#7793a5",
           "#7793a5",
           "#7793a5",
           "#7793a5",
           "#7793a5",
           "#7793a5",
           "#7793a5",
           "#7793a5",
           "#7793a5",
           "#7793a5",
           "#7793a5",
           "#7793a5",
           "#7793a5",
           "#7793a5",
           "#7793a5",
           "#7793a5",
           "#7793a5",
           "#7793a5",
           "#7793a5",
           "#7793a5",
           "#7793a5",
           "#7793a5",
           "#7793a5",
           "#7793a5",
           "#7793a5",
           "#7793a5",
           "#7793a5",
           "#7793a5",
           "#7793a5",
           "#7793a5",
           "#7793a5"
          ],
          "line": {
           "color": "white",
           "width": 1.5
          },
          "opacity": 1,
          "size": [
           28,
           26.03921568627451,
           20.549019607843135,
           20.549019607843135,
           17.80392156862745,
           15.058823529411764,
           13.490196078431373,
           13.098039215686274,
           12.705882352941178,
           12.705882352941178,
           12.705882352941178,
           12.313725490196079,
           12.313725490196079,
           11.92156862745098,
           11.92156862745098,
           10.745098039215687,
           10.745098039215687,
           10.352941176470589,
           10.352941176470589,
           10.352941176470589,
           9.96078431372549,
           9.96078431372549,
           9.96078431372549,
           9.568627450980392,
           9.568627450980392,
           9.568627450980392,
           9.568627450980392,
           9.176470588235293,
           9.176470588235293,
           9.176470588235293,
           9.176470588235293,
           9.176470588235293,
           9.176470588235293,
           9.176470588235293,
           9.176470588235293,
           8.784313725490197,
           8.784313725490197,
           8.784313725490197,
           8.784313725490197,
           8.784313725490197,
           8.784313725490197,
           8.784313725490197,
           8.392156862745098,
           8.392156862745098,
           8.392156862745098,
           8.392156862745098,
           8.392156862745098,
           8.392156862745098,
           8.392156862745098,
           8.392156862745098,
           8.392156862745098,
           8,
           8,
           8,
           8,
           8,
           8,
           8,
           8,
           8,
           8
          ]
         },
         "mode": "markers",
         "text": [
          "DEEP_LEARNING 56:2479",
          "NEURAL_NETWORKS 51:4292",
          "RENEWABLE_ENERGIES 37:2859",
          "SMART_GRID 37:1742",
          "ELECTRIC_VEHICLES 30:1093",
          "SOLAR_ENERGY 23:2447",
          "PHOTOVOLTAICS 19:0610",
          "LITHIUM_ION_BATTERIES 18:0566",
          "ARTIFICIAL_NEURAL_NETWORKS 17:2266",
          "ENERGY_MANAGEMENT 17:0712",
          "REINFORCEMENT_LEARNING 17:0450",
          "PHOTOVOLTAIC_SYSTEMS 16:1628",
          "WIND_ENERGY 16:0861",
          "GENETIC_ALGORITHMS 15:1987",
          "PARTICLE_SWARM_OPTIMIZATION 15:0892",
          "MULTI_AGENT_SYSTEMS 12:0514",
          "ENERGY_EFFICIENCY 12:0350",
          "FUZZY_LOGIC 11:1752",
          "WIND_TURBINES 11:0882",
          "SOLAR_RADIATION 11:0845",
          "MICROGRID 10:0405",
          "STATE_OF_CHARGE 10:0385",
          "INTERNET_OF_THINGS 10:0258",
          "SUPPORT_VECTOR_MACHINES 09:1758",
          "MAXIMUM_POWER_POINT_TRACKING 09:0647",
          "MPPT 09:0490",
          "HYBRID_RENEWABLE_ENERGY_SYSTEMS 09:0169",
          "SOLAR_RADIATION_PREDICTIONS 08:2217",
          "CONDITION_MONITORING 08:0977",
          "FAULT_DETECTION 08:0672",
          "FUEL_CELLS 08:0644",
          "META_HEURISTIC_ALGORITHM 08:0427",
          "METAHEURISTIC 08:0314",
          "STATE_OF_HEALTH 08:0263",
          "LONG_SHORT_TERM_MEMORY 08:0228",
          "HYBRID_SYSTEMS 07:1321",
          "POWER_SYSTEM 07:0540",
          "BIG_DATA 07:0363",
          "DEEP_REINFORCEMENT_LEARNING 07:0284",
          "BATTERY_MANAGEMENT_SYSTEMS 07:0258",
          "DEMAND_RESPONSE 07:0190",
          "FAULT_DIAGNOSIS 07:0106",
          "PARTIAL_SHADING 06:0721",
          "EVOLUTIONARY_ALGORITHMS 06:0434",
          "BIOENERGY 06:0293",
          "COMPUTATIONAL_INTELLIGENCE 06:0193",
          "SMART_BUILDINGS 06:0188",
          "CHARGING 06:0186",
          "ENERGY_STORAGE 06:0137",
          "WIND_POWER 06:0093",
          "ENERGY_MANAGEMENT_SYSTEMS 06:0063",
          "DATA_MINING 05:0243",
          "ENERGY_HARVESTING 05:0117",
          "BIOFUELS 05:0111",
          "ENERGY_CONSUMPTION 05:0111",
          "ADSORPTION 05:0088",
          "RENEWABLE_ENERGY_SOURCE 05:0059",
          "DISTRIBUTED_ENERGY_RESOURCES 05:0056",
          "ELECTROCATALYSIS 05:0047",
          "ENERGY 05:0041",
          "CONVOLUTIONAL_NEURAL_NETWORK 05:0005"
         ],
         "type": "scatter",
         "x": [
          -0.02255445849607741,
          -0.07302517807265257,
          -0.04411474174643428,
          0.08454043703939625,
          0.03349324352788613,
          -0.05022313516650214,
          -0.10867589590122384,
          -0.042670106985513684,
          -0.12297866697639599,
          0.04881175386657501,
          0.06785103515693583,
          -0.11876863509836466,
          0.01754902091177313,
          -0.05743664108679999,
          -0.028531869662610156,
          0.15067676022460644,
          0.0429122785328855,
          -0.04494137109334906,
          -0.11852981431706612,
          -0.185969777356427,
          0.22212978070237124,
          0.015375274835434157,
          0.10925689071633819,
          -0.12281203031820706,
          -0.22617170516911447,
          -0.20322555557068964,
          0.05331442071425577,
          -0.12418001476300108,
          -0.13898107580962668,
          -0.19994489303716426,
          -0.029583570089209407,
          0.12993462954978785,
          -0.18195453098118677,
          -0.010866533329472718,
          -0.1092578961238818,
          0.04645437665232618,
          0.05677264608881407,
          0.09463985170778691,
          0.07054972484232797,
          0.024100532088113642,
          0.17987280261923122,
          -0.22282847311132453,
          -0.24520841550402134,
          0.0505300072439258,
          -0.0845170272992704,
          0.1629398261141471,
          0.15139500288560356,
          -0.17196493272656052,
          0.09851911586340306,
          0.04893262955072509,
          0.12865044068409745,
          -0.06961446972372612,
          -0.1523779696754982,
          -0.15002438170646445,
          -0.1336542052629159,
          -0.19593672891538652,
          0.20985144520622326,
          0.2647041771882963,
          1,
          0.28344486598556645,
          -0.05567826942269471
         ],
         "y": [
          -0.08027263031689079,
          -0.03507102863817463,
          -0.02570351964636365,
          -0.028587744644051612,
          -0.1157046877996965,
          -0.005931601344967606,
          0.012581899781084321,
          -0.24786919397009546,
          -0.017694577327360822,
          0.01944277062717638,
          0.035862581526662815,
          0.0306078948548714,
          -0.022860884368591298,
          0.02205456565204265,
          0.04347368601494208,
          0.02232923283115474,
          0.14095673312259907,
          0.09626481248136597,
          -0.06908282270504768,
          0.02332577388026551,
          0.027184782024261556,
          -0.22541852025411738,
          0.11010146346982091,
          -0.09843536964066334,
          0.0603623399545939,
          0.15596519720010432,
          -0.07893475661902369,
          -0.12457297487950686,
          -0.1491506013185887,
          -0.05531259315115445,
          -0.11385733988125694,
          -0.1563171772286875,
          0.10886380939931106,
          -0.26282440909225024,
          -0.15960943916650963,
          0.09566720919718977,
          0.06110489881926472,
          -0.007683810103451875,
          0.18463618836255125,
          -0.2523412728071196,
          -0.0526411189593778,
          -0.0980183233713624,
          0.13374798501657167,
          -0.1483416769659575,
          0.19638202589624437,
          -0.11103709893423747,
          0.11912451908541347,
          -0.12740813074216217,
          -0.15617504689855694,
          -0.19740398728816083,
          -0.07965475491803664,
          0.12226732652610431,
          0.22344848946648113,
          0.34963395440696804,
          0.13209859572922225,
          0.9419869523172495,
          -0.053745137854570565,
          -0.11834360961746553,
          0.15658505109083465,
          0.04243165910201216,
          -0.19248655738290024
         ]
        }
       ],
       "layout": {
        "annotations": [
         {
          "align": "left",
          "font": {
           "size": 10
          },
          "showarrow": false,
          "text": "",
          "x": 0.005,
          "xref": "paper",
          "y": -0.002,
          "yref": "paper"
         },
         {
          "bgcolor": "white",
          "bordercolor": "grey",
          "font": {
           "size": 8
          },
          "opacity": 0.5,
          "showarrow": false,
          "text": "CONVOLUTIONAL_NEURAL_NETWORK 05:0005",
          "x": -0.05567826942269471,
          "xanchor": "right",
          "xshift": -4,
          "y": -0.19248655738290024,
          "yanchor": "top",
          "yshift": -4
         },
         {
          "bgcolor": "white",
          "bordercolor": "grey",
          "font": {
           "size": 8
          },
          "opacity": 0.5,
          "showarrow": false,
          "text": "ENERGY 05:0041",
          "x": 0.28344486598556645,
          "xanchor": "left",
          "xshift": 4,
          "y": 0.04243165910201216,
          "yanchor": "bottom",
          "yshift": 4
         },
         {
          "bgcolor": "white",
          "bordercolor": "grey",
          "font": {
           "size": 8
          },
          "opacity": 0.5,
          "showarrow": false,
          "text": "ELECTROCATALYSIS 05:0047",
          "x": 1,
          "xanchor": "left",
          "xshift": 4,
          "y": 0.15658505109083465,
          "yanchor": "bottom",
          "yshift": 4
         },
         {
          "bgcolor": "white",
          "bordercolor": "grey",
          "font": {
           "size": 8
          },
          "opacity": 0.5,
          "showarrow": false,
          "text": "DISTRIBUTED_ENERGY_RESOURCES 05:0056",
          "x": 0.2647041771882963,
          "xanchor": "left",
          "xshift": 4,
          "y": -0.11834360961746553,
          "yanchor": "top",
          "yshift": -4
         },
         {
          "bgcolor": "white",
          "bordercolor": "grey",
          "font": {
           "size": 8
          },
          "opacity": 0.5,
          "showarrow": false,
          "text": "RENEWABLE_ENERGY_SOURCE 05:0059",
          "x": 0.20985144520622326,
          "xanchor": "left",
          "xshift": 4,
          "y": -0.053745137854570565,
          "yanchor": "top",
          "yshift": -4
         },
         {
          "bgcolor": "white",
          "bordercolor": "grey",
          "font": {
           "size": 8
          },
          "opacity": 0.5,
          "showarrow": false,
          "text": "ADSORPTION 05:0088",
          "x": -0.19593672891538652,
          "xanchor": "right",
          "xshift": -4,
          "y": 0.9419869523172495,
          "yanchor": "bottom",
          "yshift": 4
         },
         {
          "bgcolor": "white",
          "bordercolor": "grey",
          "font": {
           "size": 8
          },
          "opacity": 0.5,
          "showarrow": false,
          "text": "ENERGY_CONSUMPTION 05:0111",
          "x": -0.1336542052629159,
          "xanchor": "right",
          "xshift": -4,
          "y": 0.13209859572922225,
          "yanchor": "bottom",
          "yshift": 4
         },
         {
          "bgcolor": "white",
          "bordercolor": "grey",
          "font": {
           "size": 8
          },
          "opacity": 0.5,
          "showarrow": false,
          "text": "BIOFUELS 05:0111",
          "x": -0.15002438170646445,
          "xanchor": "right",
          "xshift": -4,
          "y": 0.34963395440696804,
          "yanchor": "bottom",
          "yshift": 4
         },
         {
          "bgcolor": "white",
          "bordercolor": "grey",
          "font": {
           "size": 8
          },
          "opacity": 0.5,
          "showarrow": false,
          "text": "ENERGY_HARVESTING 05:0117",
          "x": -0.1523779696754982,
          "xanchor": "right",
          "xshift": -4,
          "y": 0.22344848946648113,
          "yanchor": "bottom",
          "yshift": 4
         },
         {
          "bgcolor": "white",
          "bordercolor": "grey",
          "font": {
           "size": 8
          },
          "opacity": 0.5,
          "showarrow": false,
          "text": "DATA_MINING 05:0243",
          "x": -0.06961446972372612,
          "xanchor": "right",
          "xshift": -4,
          "y": 0.12226732652610431,
          "yanchor": "bottom",
          "yshift": 4
         },
         {
          "bgcolor": "white",
          "bordercolor": "grey",
          "font": {
           "size": 8.117647058823529
          },
          "opacity": 0.5144957554275266,
          "showarrow": false,
          "text": "ENERGY_MANAGEMENT_SYSTEMS 06:0063",
          "x": 0.12865044068409745,
          "xanchor": "left",
          "xshift": 4,
          "y": -0.07965475491803664,
          "yanchor": "top",
          "yshift": -4
         },
         {
          "bgcolor": "white",
          "bordercolor": "grey",
          "font": {
           "size": 8.117647058823529
          },
          "opacity": 0.5144957554275266,
          "showarrow": false,
          "text": "WIND_POWER 06:0093",
          "x": 0.04893262955072509,
          "xanchor": "left",
          "xshift": 4,
          "y": -0.19740398728816083,
          "yanchor": "top",
          "yshift": -4
         },
         {
          "bgcolor": "white",
          "bordercolor": "grey",
          "font": {
           "size": 8.117647058823529
          },
          "opacity": 0.5144957554275266,
          "showarrow": false,
          "text": "ENERGY_STORAGE 06:0137",
          "x": 0.09851911586340306,
          "xanchor": "left",
          "xshift": 4,
          "y": -0.15617504689855694,
          "yanchor": "top",
          "yshift": -4
         },
         {
          "bgcolor": "white",
          "bordercolor": "grey",
          "font": {
           "size": 8.117647058823529
          },
          "opacity": 0.5144957554275266,
          "showarrow": false,
          "text": "CHARGING 06:0186",
          "x": -0.17196493272656052,
          "xanchor": "right",
          "xshift": -4,
          "y": -0.12740813074216217,
          "yanchor": "top",
          "yshift": -4
         },
         {
          "bgcolor": "white",
          "bordercolor": "grey",
          "font": {
           "size": 8.117647058823529
          },
          "opacity": 0.5144957554275266,
          "showarrow": false,
          "text": "SMART_BUILDINGS 06:0188",
          "x": 0.15139500288560356,
          "xanchor": "left",
          "xshift": 4,
          "y": 0.11912451908541347,
          "yanchor": "bottom",
          "yshift": 4
         },
         {
          "bgcolor": "white",
          "bordercolor": "grey",
          "font": {
           "size": 8.117647058823529
          },
          "opacity": 0.5144957554275266,
          "showarrow": false,
          "text": "COMPUTATIONAL_INTELLIGENCE 06:0193",
          "x": 0.1629398261141471,
          "xanchor": "left",
          "xshift": 4,
          "y": -0.11103709893423747,
          "yanchor": "top",
          "yshift": -4
         },
         {
          "bgcolor": "white",
          "bordercolor": "grey",
          "font": {
           "size": 8.117647058823529
          },
          "opacity": 0.5144957554275266,
          "showarrow": false,
          "text": "BIOENERGY 06:0293",
          "x": -0.0845170272992704,
          "xanchor": "right",
          "xshift": -4,
          "y": 0.19638202589624437,
          "yanchor": "bottom",
          "yshift": 4
         },
         {
          "bgcolor": "white",
          "bordercolor": "grey",
          "font": {
           "size": 8.117647058823529
          },
          "opacity": 0.5144957554275266,
          "showarrow": false,
          "text": "EVOLUTIONARY_ALGORITHMS 06:0434",
          "x": 0.0505300072439258,
          "xanchor": "left",
          "xshift": 4,
          "y": -0.1483416769659575,
          "yanchor": "top",
          "yshift": -4
         },
         {
          "bgcolor": "white",
          "bordercolor": "grey",
          "font": {
           "size": 8.117647058823529
          },
          "opacity": 0.5144957554275266,
          "showarrow": false,
          "text": "PARTIAL_SHADING 06:0721",
          "x": -0.24520841550402134,
          "xanchor": "right",
          "xshift": -4,
          "y": 0.13374798501657167,
          "yanchor": "bottom",
          "yshift": 4
         },
         {
          "bgcolor": "white",
          "bordercolor": "grey",
          "font": {
           "size": 8.235294117647058
          },
          "opacity": 0.5285941398709244,
          "showarrow": false,
          "text": "FAULT_DIAGNOSIS 07:0106",
          "x": -0.22282847311132453,
          "xanchor": "right",
          "xshift": -4,
          "y": -0.0980183233713624,
          "yanchor": "top",
          "yshift": -4
         },
         {
          "bgcolor": "white",
          "bordercolor": "grey",
          "font": {
           "size": 8.235294117647058
          },
          "opacity": 0.5285941398709244,
          "showarrow": false,
          "text": "DEMAND_RESPONSE 07:0190",
          "x": 0.17987280261923122,
          "xanchor": "left",
          "xshift": 4,
          "y": -0.0526411189593778,
          "yanchor": "top",
          "yshift": -4
         },
         {
          "bgcolor": "white",
          "bordercolor": "grey",
          "font": {
           "size": 8.235294117647058
          },
          "opacity": 0.5285941398709244,
          "showarrow": false,
          "text": "BATTERY_MANAGEMENT_SYSTEMS 07:0258",
          "x": 0.024100532088113642,
          "xanchor": "left",
          "xshift": 4,
          "y": -0.2523412728071196,
          "yanchor": "top",
          "yshift": -4
         },
         {
          "bgcolor": "white",
          "bordercolor": "grey",
          "font": {
           "size": 8.235294117647058
          },
          "opacity": 0.5285941398709244,
          "showarrow": false,
          "text": "DEEP_REINFORCEMENT_LEARNING 07:0284",
          "x": 0.07054972484232797,
          "xanchor": "left",
          "xshift": 4,
          "y": 0.18463618836255125,
          "yanchor": "bottom",
          "yshift": 4
         },
         {
          "bgcolor": "white",
          "bordercolor": "grey",
          "font": {
           "size": 8.235294117647058
          },
          "opacity": 0.5285941398709244,
          "showarrow": false,
          "text": "BIG_DATA 07:0363",
          "x": 0.09463985170778691,
          "xanchor": "left",
          "xshift": 4,
          "y": -0.007683810103451875,
          "yanchor": "top",
          "yshift": -4
         },
         {
          "bgcolor": "white",
          "bordercolor": "grey",
          "font": {
           "size": 8.235294117647058
          },
          "opacity": 0.5285941398709244,
          "showarrow": false,
          "text": "POWER_SYSTEM 07:0540",
          "x": 0.05677264608881407,
          "xanchor": "left",
          "xshift": 4,
          "y": 0.06110489881926472,
          "yanchor": "bottom",
          "yshift": 4
         },
         {
          "bgcolor": "white",
          "bordercolor": "grey",
          "font": {
           "size": 8.235294117647058
          },
          "opacity": 0.5285941398709244,
          "showarrow": false,
          "text": "HYBRID_SYSTEMS 07:1321",
          "x": 0.04645437665232618,
          "xanchor": "left",
          "xshift": 4,
          "y": 0.09566720919718977,
          "yanchor": "bottom",
          "yshift": 4
         },
         {
          "bgcolor": "white",
          "bordercolor": "grey",
          "font": {
           "size": 8.352941176470589
          },
          "opacity": 0.5423261445466404,
          "showarrow": false,
          "text": "LONG_SHORT_TERM_MEMORY 08:0228",
          "x": -0.1092578961238818,
          "xanchor": "right",
          "xshift": -4,
          "y": -0.15960943916650963,
          "yanchor": "top",
          "yshift": -4
         },
         {
          "bgcolor": "white",
          "bordercolor": "grey",
          "font": {
           "size": 8.352941176470589
          },
          "opacity": 0.5423261445466404,
          "showarrow": false,
          "text": "STATE_OF_HEALTH 08:0263",
          "x": -0.010866533329472718,
          "xanchor": "right",
          "xshift": -4,
          "y": -0.26282440909225024,
          "yanchor": "top",
          "yshift": -4
         },
         {
          "bgcolor": "white",
          "bordercolor": "grey",
          "font": {
           "size": 8.352941176470589
          },
          "opacity": 0.5423261445466404,
          "showarrow": false,
          "text": "METAHEURISTIC 08:0314",
          "x": -0.18195453098118677,
          "xanchor": "right",
          "xshift": -4,
          "y": 0.10886380939931106,
          "yanchor": "bottom",
          "yshift": 4
         },
         {
          "bgcolor": "white",
          "bordercolor": "grey",
          "font": {
           "size": 8.352941176470589
          },
          "opacity": 0.5423261445466404,
          "showarrow": false,
          "text": "META_HEURISTIC_ALGORITHM 08:0427",
          "x": 0.12993462954978785,
          "xanchor": "left",
          "xshift": 4,
          "y": -0.1563171772286875,
          "yanchor": "top",
          "yshift": -4
         },
         {
          "bgcolor": "white",
          "bordercolor": "grey",
          "font": {
           "size": 8.352941176470589
          },
          "opacity": 0.5423261445466404,
          "showarrow": false,
          "text": "FUEL_CELLS 08:0644",
          "x": -0.029583570089209407,
          "xanchor": "right",
          "xshift": -4,
          "y": -0.11385733988125694,
          "yanchor": "top",
          "yshift": -4
         },
         {
          "bgcolor": "white",
          "bordercolor": "grey",
          "font": {
           "size": 8.352941176470589
          },
          "opacity": 0.5423261445466404,
          "showarrow": false,
          "text": "FAULT_DETECTION 08:0672",
          "x": -0.19994489303716426,
          "xanchor": "right",
          "xshift": -4,
          "y": -0.05531259315115445,
          "yanchor": "top",
          "yshift": -4
         },
         {
          "bgcolor": "white",
          "bordercolor": "grey",
          "font": {
           "size": 8.352941176470589
          },
          "opacity": 0.5423261445466404,
          "showarrow": false,
          "text": "CONDITION_MONITORING 08:0977",
          "x": -0.13898107580962668,
          "xanchor": "right",
          "xshift": -4,
          "y": -0.1491506013185887,
          "yanchor": "top",
          "yshift": -4
         },
         {
          "bgcolor": "white",
          "bordercolor": "grey",
          "font": {
           "size": 8.352941176470589
          },
          "opacity": 0.5423261445466404,
          "showarrow": false,
          "text": "SOLAR_RADIATION_PREDICTIONS 08:2217",
          "x": -0.12418001476300108,
          "xanchor": "right",
          "xshift": -4,
          "y": -0.12457297487950686,
          "yanchor": "top",
          "yshift": -4
         },
         {
          "bgcolor": "white",
          "bordercolor": "grey",
          "font": {
           "size": 8.470588235294118
          },
          "opacity": 0.5557189302262113,
          "showarrow": false,
          "text": "HYBRID_RENEWABLE_ENERGY_SYSTEMS 09:0169",
          "x": 0.05331442071425577,
          "xanchor": "left",
          "xshift": 4,
          "y": -0.07893475661902369,
          "yanchor": "top",
          "yshift": -4
         },
         {
          "bgcolor": "white",
          "bordercolor": "grey",
          "font": {
           "size": 8.470588235294118
          },
          "opacity": 0.5557189302262113,
          "showarrow": false,
          "text": "MPPT 09:0490",
          "x": -0.20322555557068964,
          "xanchor": "right",
          "xshift": -4,
          "y": 0.15596519720010432,
          "yanchor": "bottom",
          "yshift": 4
         },
         {
          "bgcolor": "white",
          "bordercolor": "grey",
          "font": {
           "size": 8.470588235294118
          },
          "opacity": 0.5557189302262113,
          "showarrow": false,
          "text": "MAXIMUM_POWER_POINT_TRACKING 09:0647",
          "x": -0.22617170516911447,
          "xanchor": "right",
          "xshift": -4,
          "y": 0.0603623399545939,
          "yanchor": "bottom",
          "yshift": 4
         },
         {
          "bgcolor": "white",
          "bordercolor": "grey",
          "font": {
           "size": 8.470588235294118
          },
          "opacity": 0.5557189302262113,
          "showarrow": false,
          "text": "SUPPORT_VECTOR_MACHINES 09:1758",
          "x": -0.12281203031820706,
          "xanchor": "right",
          "xshift": -4,
          "y": -0.09843536964066334,
          "yanchor": "top",
          "yshift": -4
         },
         {
          "bgcolor": "white",
          "bordercolor": "grey",
          "font": {
           "size": 8.588235294117647
          },
          "opacity": 0.568796458994521,
          "showarrow": false,
          "text": "INTERNET_OF_THINGS 10:0258",
          "x": 0.10925689071633819,
          "xanchor": "left",
          "xshift": 4,
          "y": 0.11010146346982091,
          "yanchor": "bottom",
          "yshift": 4
         },
         {
          "bgcolor": "white",
          "bordercolor": "grey",
          "font": {
           "size": 8.588235294117647
          },
          "opacity": 0.568796458994521,
          "showarrow": false,
          "text": "STATE_OF_CHARGE 10:0385",
          "x": 0.015375274835434157,
          "xanchor": "left",
          "xshift": 4,
          "y": -0.22541852025411738,
          "yanchor": "top",
          "yshift": -4
         },
         {
          "bgcolor": "white",
          "bordercolor": "grey",
          "font": {
           "size": 8.588235294117647
          },
          "opacity": 0.568796458994521,
          "showarrow": false,
          "text": "MICROGRID 10:0405",
          "x": 0.22212978070237124,
          "xanchor": "left",
          "xshift": 4,
          "y": 0.027184782024261556,
          "yanchor": "bottom",
          "yshift": 4
         },
         {
          "bgcolor": "white",
          "bordercolor": "grey",
          "font": {
           "size": 8.705882352941176
          },
          "opacity": 0.5815799980377997,
          "showarrow": false,
          "text": "SOLAR_RADIATION 11:0845",
          "x": -0.185969777356427,
          "xanchor": "right",
          "xshift": -4,
          "y": 0.02332577388026551,
          "yanchor": "bottom",
          "yshift": 4
         },
         {
          "bgcolor": "white",
          "bordercolor": "grey",
          "font": {
           "size": 8.705882352941176
          },
          "opacity": 0.5815799980377997,
          "showarrow": false,
          "text": "WIND_TURBINES 11:0882",
          "x": -0.11852981431706612,
          "xanchor": "right",
          "xshift": -4,
          "y": -0.06908282270504768,
          "yanchor": "top",
          "yshift": -4
         },
         {
          "bgcolor": "white",
          "bordercolor": "grey",
          "font": {
           "size": 8.705882352941176
          },
          "opacity": 0.5815799980377997,
          "showarrow": false,
          "text": "FUZZY_LOGIC 11:1752",
          "x": -0.04494137109334906,
          "xanchor": "right",
          "xshift": -4,
          "y": 0.09626481248136597,
          "yanchor": "bottom",
          "yshift": 4
         },
         {
          "bgcolor": "white",
          "bordercolor": "grey",
          "font": {
           "size": 8.823529411764707
          },
          "opacity": 0.5940885257860046,
          "showarrow": false,
          "text": "ENERGY_EFFICIENCY 12:0350",
          "x": 0.0429122785328855,
          "xanchor": "left",
          "xshift": 4,
          "y": 0.14095673312259907,
          "yanchor": "bottom",
          "yshift": 4
         },
         {
          "bgcolor": "white",
          "bordercolor": "grey",
          "font": {
           "size": 8.823529411764707
          },
          "opacity": 0.5940885257860046,
          "showarrow": false,
          "text": "MULTI_AGENT_SYSTEMS 12:0514",
          "x": 0.15067676022460644,
          "xanchor": "left",
          "xshift": 4,
          "y": 0.02232923283115474,
          "yanchor": "bottom",
          "yshift": 4
         },
         {
          "bgcolor": "white",
          "bordercolor": "grey",
          "font": {
           "size": 9.176470588235293
          },
          "opacity": 0.6301260378126045,
          "showarrow": false,
          "text": "PARTICLE_SWARM_OPTIMIZATION 15:0892",
          "x": -0.028531869662610156,
          "xanchor": "right",
          "xshift": -4,
          "y": 0.04347368601494208,
          "yanchor": "bottom",
          "yshift": 4
         },
         {
          "bgcolor": "white",
          "bordercolor": "grey",
          "font": {
           "size": 9.176470588235293
          },
          "opacity": 0.6301260378126045,
          "showarrow": false,
          "text": "GENETIC_ALGORITHMS 15:1987",
          "x": -0.05743664108679999,
          "xanchor": "right",
          "xshift": -4,
          "y": 0.02205456565204265,
          "yanchor": "bottom",
          "yshift": 4
         },
         {
          "bgcolor": "white",
          "bordercolor": "grey",
          "font": {
           "size": 9.294117647058824
          },
          "opacity": 0.6416889479197478,
          "showarrow": false,
          "text": "WIND_ENERGY 16:0861",
          "x": 0.01754902091177313,
          "xanchor": "left",
          "xshift": 4,
          "y": -0.022860884368591298,
          "yanchor": "top",
          "yshift": -4
         },
         {
          "bgcolor": "white",
          "bordercolor": "grey",
          "font": {
           "size": 9.294117647058824
          },
          "opacity": 0.6416889479197478,
          "showarrow": false,
          "text": "PHOTOVOLTAIC_SYSTEMS 16:1628",
          "x": -0.11876863509836466,
          "xanchor": "right",
          "xshift": -4,
          "y": 0.0306078948548714,
          "yanchor": "bottom",
          "yshift": 4
         },
         {
          "bgcolor": "white",
          "bordercolor": "grey",
          "font": {
           "size": 9.411764705882353
          },
          "opacity": 0.6530471562110152,
          "showarrow": false,
          "text": "REINFORCEMENT_LEARNING 17:0450",
          "x": 0.06785103515693583,
          "xanchor": "left",
          "xshift": 4,
          "y": 0.035862581526662815,
          "yanchor": "bottom",
          "yshift": 4
         },
         {
          "bgcolor": "white",
          "bordercolor": "grey",
          "font": {
           "size": 9.411764705882353
          },
          "opacity": 0.6530471562110152,
          "showarrow": false,
          "text": "ENERGY_MANAGEMENT 17:0712",
          "x": 0.04881175386657501,
          "xanchor": "left",
          "xshift": 4,
          "y": 0.01944277062717638,
          "yanchor": "bottom",
          "yshift": 4
         },
         {
          "bgcolor": "white",
          "bordercolor": "grey",
          "font": {
           "size": 9.411764705882353
          },
          "opacity": 0.6530471562110152,
          "showarrow": false,
          "text": "ARTIFICIAL_NEURAL_NETWORKS 17:2266",
          "x": -0.12297866697639599,
          "xanchor": "right",
          "xshift": -4,
          "y": -0.017694577327360822,
          "yanchor": "top",
          "yshift": -4
         },
         {
          "bgcolor": "white",
          "bordercolor": "grey",
          "font": {
           "size": 9.529411764705882
          },
          "opacity": 0.6642111641550714,
          "showarrow": false,
          "text": "LITHIUM_ION_BATTERIES 18:0566",
          "x": -0.042670106985513684,
          "xanchor": "right",
          "xshift": -4,
          "y": -0.24786919397009546,
          "yanchor": "top",
          "yshift": -4
         },
         {
          "bgcolor": "white",
          "bordercolor": "grey",
          "font": {
           "size": 9.647058823529411
          },
          "opacity": 0.6751906048969998,
          "showarrow": false,
          "text": "PHOTOVOLTAICS 19:0610",
          "x": -0.10867589590122384,
          "xanchor": "right",
          "xshift": -4,
          "y": 0.012581899781084321,
          "yanchor": "bottom",
          "yshift": 4
         },
         {
          "bgcolor": "white",
          "bordercolor": "grey",
          "font": {
           "size": 10.117647058823529
          },
          "opacity": 0.7174300539794393,
          "showarrow": false,
          "text": "SOLAR_ENERGY 23:2447",
          "x": -0.05022313516650214,
          "xanchor": "right",
          "xshift": -4,
          "y": -0.005931601344967606,
          "yanchor": "top",
          "yshift": -4
         },
         {
          "bgcolor": "white",
          "bordercolor": "grey",
          "font": {
           "size": 10.941176470588236
          },
          "opacity": 0.7859052479933758,
          "showarrow": false,
          "text": "ELECTRIC_VEHICLES 30:1093",
          "x": 0.03349324352788613,
          "xanchor": "left",
          "xshift": 4,
          "y": -0.1157046877996965,
          "yanchor": "top",
          "yshift": -4
         },
         {
          "bgcolor": "white",
          "bordercolor": "grey",
          "font": {
           "size": 11.764705882352942
          },
          "opacity": 0.8488746876271654,
          "showarrow": false,
          "text": "SMART_GRID 37:1742",
          "x": 0.08454043703939625,
          "xanchor": "left",
          "xshift": 4,
          "y": -0.028587744644051612,
          "yanchor": "top",
          "yshift": -4
         },
         {
          "bgcolor": "white",
          "bordercolor": "grey",
          "font": {
           "size": 11.764705882352942
          },
          "opacity": 0.8488746876271654,
          "showarrow": false,
          "text": "RENEWABLE_ENERGIES 37:2859",
          "x": -0.04411474174643428,
          "xanchor": "right",
          "xshift": -4,
          "y": -0.02570351964636365,
          "yanchor": "top",
          "yshift": -4
         },
         {
          "bgcolor": "white",
          "bordercolor": "grey",
          "font": {
           "size": 13.411764705882353
          },
          "opacity": 0.9625334218796219,
          "showarrow": false,
          "text": "NEURAL_NETWORKS 51:4292",
          "x": -0.07302517807265257,
          "xanchor": "right",
          "xshift": -4,
          "y": -0.03507102863817463,
          "yanchor": "top",
          "yshift": -4
         },
         {
          "bgcolor": "white",
          "bordercolor": "grey",
          "font": {
           "size": 14
          },
          "opacity": 1,
          "showarrow": false,
          "text": "DEEP_LEARNING 56:2479",
          "x": -0.02255445849607741,
          "xanchor": "right",
          "xshift": -4,
          "y": -0.08027263031689079,
          "yanchor": "top",
          "yshift": -4
         }
        ],
        "height": 1100,
        "hoverlabel": {
         "bgcolor": "white",
         "font": {
          "family": "monospace"
         }
        },
        "hovermode": "closest",
        "margin": {
         "b": 0,
         "l": 0,
         "r": 0,
         "t": 0
        },
        "paper_bgcolor": "white",
        "plot_bgcolor": "white",
        "showlegend": false,
        "template": {
         "data": {
          "bar": [
           {
            "error_x": {
             "color": "#2a3f5f"
            },
            "error_y": {
             "color": "#2a3f5f"
            },
            "marker": {
             "line": {
              "color": "#E5ECF6",
              "width": 0.5
             },
             "pattern": {
              "fillmode": "overlay",
              "size": 10,
              "solidity": 0.2
             }
            },
            "type": "bar"
           }
          ],
          "barpolar": [
           {
            "marker": {
             "line": {
              "color": "#E5ECF6",
              "width": 0.5
             },
             "pattern": {
              "fillmode": "overlay",
              "size": 10,
              "solidity": 0.2
             }
            },
            "type": "barpolar"
           }
          ],
          "carpet": [
           {
            "aaxis": {
             "endlinecolor": "#2a3f5f",
             "gridcolor": "white",
             "linecolor": "white",
             "minorgridcolor": "white",
             "startlinecolor": "#2a3f5f"
            },
            "baxis": {
             "endlinecolor": "#2a3f5f",
             "gridcolor": "white",
             "linecolor": "white",
             "minorgridcolor": "white",
             "startlinecolor": "#2a3f5f"
            },
            "type": "carpet"
           }
          ],
          "choropleth": [
           {
            "colorbar": {
             "outlinewidth": 0,
             "ticks": ""
            },
            "type": "choropleth"
           }
          ],
          "contour": [
           {
            "colorbar": {
             "outlinewidth": 0,
             "ticks": ""
            },
            "colorscale": [
             [
              0,
              "#0d0887"
             ],
             [
              0.1111111111111111,
              "#46039f"
             ],
             [
              0.2222222222222222,
              "#7201a8"
             ],
             [
              0.3333333333333333,
              "#9c179e"
             ],
             [
              0.4444444444444444,
              "#bd3786"
             ],
             [
              0.5555555555555556,
              "#d8576b"
             ],
             [
              0.6666666666666666,
              "#ed7953"
             ],
             [
              0.7777777777777778,
              "#fb9f3a"
             ],
             [
              0.8888888888888888,
              "#fdca26"
             ],
             [
              1,
              "#f0f921"
             ]
            ],
            "type": "contour"
           }
          ],
          "contourcarpet": [
           {
            "colorbar": {
             "outlinewidth": 0,
             "ticks": ""
            },
            "type": "contourcarpet"
           }
          ],
          "heatmap": [
           {
            "colorbar": {
             "outlinewidth": 0,
             "ticks": ""
            },
            "colorscale": [
             [
              0,
              "#0d0887"
             ],
             [
              0.1111111111111111,
              "#46039f"
             ],
             [
              0.2222222222222222,
              "#7201a8"
             ],
             [
              0.3333333333333333,
              "#9c179e"
             ],
             [
              0.4444444444444444,
              "#bd3786"
             ],
             [
              0.5555555555555556,
              "#d8576b"
             ],
             [
              0.6666666666666666,
              "#ed7953"
             ],
             [
              0.7777777777777778,
              "#fb9f3a"
             ],
             [
              0.8888888888888888,
              "#fdca26"
             ],
             [
              1,
              "#f0f921"
             ]
            ],
            "type": "heatmap"
           }
          ],
          "heatmapgl": [
           {
            "colorbar": {
             "outlinewidth": 0,
             "ticks": ""
            },
            "colorscale": [
             [
              0,
              "#0d0887"
             ],
             [
              0.1111111111111111,
              "#46039f"
             ],
             [
              0.2222222222222222,
              "#7201a8"
             ],
             [
              0.3333333333333333,
              "#9c179e"
             ],
             [
              0.4444444444444444,
              "#bd3786"
             ],
             [
              0.5555555555555556,
              "#d8576b"
             ],
             [
              0.6666666666666666,
              "#ed7953"
             ],
             [
              0.7777777777777778,
              "#fb9f3a"
             ],
             [
              0.8888888888888888,
              "#fdca26"
             ],
             [
              1,
              "#f0f921"
             ]
            ],
            "type": "heatmapgl"
           }
          ],
          "histogram": [
           {
            "marker": {
             "pattern": {
              "fillmode": "overlay",
              "size": 10,
              "solidity": 0.2
             }
            },
            "type": "histogram"
           }
          ],
          "histogram2d": [
           {
            "colorbar": {
             "outlinewidth": 0,
             "ticks": ""
            },
            "colorscale": [
             [
              0,
              "#0d0887"
             ],
             [
              0.1111111111111111,
              "#46039f"
             ],
             [
              0.2222222222222222,
              "#7201a8"
             ],
             [
              0.3333333333333333,
              "#9c179e"
             ],
             [
              0.4444444444444444,
              "#bd3786"
             ],
             [
              0.5555555555555556,
              "#d8576b"
             ],
             [
              0.6666666666666666,
              "#ed7953"
             ],
             [
              0.7777777777777778,
              "#fb9f3a"
             ],
             [
              0.8888888888888888,
              "#fdca26"
             ],
             [
              1,
              "#f0f921"
             ]
            ],
            "type": "histogram2d"
           }
          ],
          "histogram2dcontour": [
           {
            "colorbar": {
             "outlinewidth": 0,
             "ticks": ""
            },
            "colorscale": [
             [
              0,
              "#0d0887"
             ],
             [
              0.1111111111111111,
              "#46039f"
             ],
             [
              0.2222222222222222,
              "#7201a8"
             ],
             [
              0.3333333333333333,
              "#9c179e"
             ],
             [
              0.4444444444444444,
              "#bd3786"
             ],
             [
              0.5555555555555556,
              "#d8576b"
             ],
             [
              0.6666666666666666,
              "#ed7953"
             ],
             [
              0.7777777777777778,
              "#fb9f3a"
             ],
             [
              0.8888888888888888,
              "#fdca26"
             ],
             [
              1,
              "#f0f921"
             ]
            ],
            "type": "histogram2dcontour"
           }
          ],
          "mesh3d": [
           {
            "colorbar": {
             "outlinewidth": 0,
             "ticks": ""
            },
            "type": "mesh3d"
           }
          ],
          "parcoords": [
           {
            "line": {
             "colorbar": {
              "outlinewidth": 0,
              "ticks": ""
             }
            },
            "type": "parcoords"
           }
          ],
          "pie": [
           {
            "automargin": true,
            "type": "pie"
           }
          ],
          "scatter": [
           {
            "fillpattern": {
             "fillmode": "overlay",
             "size": 10,
             "solidity": 0.2
            },
            "type": "scatter"
           }
          ],
          "scatter3d": [
           {
            "line": {
             "colorbar": {
              "outlinewidth": 0,
              "ticks": ""
             }
            },
            "marker": {
             "colorbar": {
              "outlinewidth": 0,
              "ticks": ""
             }
            },
            "type": "scatter3d"
           }
          ],
          "scattercarpet": [
           {
            "marker": {
             "colorbar": {
              "outlinewidth": 0,
              "ticks": ""
             }
            },
            "type": "scattercarpet"
           }
          ],
          "scattergeo": [
           {
            "marker": {
             "colorbar": {
              "outlinewidth": 0,
              "ticks": ""
             }
            },
            "type": "scattergeo"
           }
          ],
          "scattergl": [
           {
            "marker": {
             "colorbar": {
              "outlinewidth": 0,
              "ticks": ""
             }
            },
            "type": "scattergl"
           }
          ],
          "scattermapbox": [
           {
            "marker": {
             "colorbar": {
              "outlinewidth": 0,
              "ticks": ""
             }
            },
            "type": "scattermapbox"
           }
          ],
          "scatterpolar": [
           {
            "marker": {
             "colorbar": {
              "outlinewidth": 0,
              "ticks": ""
             }
            },
            "type": "scatterpolar"
           }
          ],
          "scatterpolargl": [
           {
            "marker": {
             "colorbar": {
              "outlinewidth": 0,
              "ticks": ""
             }
            },
            "type": "scatterpolargl"
           }
          ],
          "scatterternary": [
           {
            "marker": {
             "colorbar": {
              "outlinewidth": 0,
              "ticks": ""
             }
            },
            "type": "scatterternary"
           }
          ],
          "surface": [
           {
            "colorbar": {
             "outlinewidth": 0,
             "ticks": ""
            },
            "colorscale": [
             [
              0,
              "#0d0887"
             ],
             [
              0.1111111111111111,
              "#46039f"
             ],
             [
              0.2222222222222222,
              "#7201a8"
             ],
             [
              0.3333333333333333,
              "#9c179e"
             ],
             [
              0.4444444444444444,
              "#bd3786"
             ],
             [
              0.5555555555555556,
              "#d8576b"
             ],
             [
              0.6666666666666666,
              "#ed7953"
             ],
             [
              0.7777777777777778,
              "#fb9f3a"
             ],
             [
              0.8888888888888888,
              "#fdca26"
             ],
             [
              1,
              "#f0f921"
             ]
            ],
            "type": "surface"
           }
          ],
          "table": [
           {
            "cells": {
             "fill": {
              "color": "#EBF0F8"
             },
             "line": {
              "color": "white"
             }
            },
            "header": {
             "fill": {
              "color": "#C8D4E3"
             },
             "line": {
              "color": "white"
             }
            },
            "type": "table"
           }
          ]
         },
         "layout": {
          "annotationdefaults": {
           "arrowcolor": "#2a3f5f",
           "arrowhead": 0,
           "arrowwidth": 1
          },
          "autotypenumbers": "strict",
          "coloraxis": {
           "colorbar": {
            "outlinewidth": 0,
            "ticks": ""
           }
          },
          "colorscale": {
           "diverging": [
            [
             0,
             "#8e0152"
            ],
            [
             0.1,
             "#c51b7d"
            ],
            [
             0.2,
             "#de77ae"
            ],
            [
             0.3,
             "#f1b6da"
            ],
            [
             0.4,
             "#fde0ef"
            ],
            [
             0.5,
             "#f7f7f7"
            ],
            [
             0.6,
             "#e6f5d0"
            ],
            [
             0.7,
             "#b8e186"
            ],
            [
             0.8,
             "#7fbc41"
            ],
            [
             0.9,
             "#4d9221"
            ],
            [
             1,
             "#276419"
            ]
           ],
           "sequential": [
            [
             0,
             "#0d0887"
            ],
            [
             0.1111111111111111,
             "#46039f"
            ],
            [
             0.2222222222222222,
             "#7201a8"
            ],
            [
             0.3333333333333333,
             "#9c179e"
            ],
            [
             0.4444444444444444,
             "#bd3786"
            ],
            [
             0.5555555555555556,
             "#d8576b"
            ],
            [
             0.6666666666666666,
             "#ed7953"
            ],
            [
             0.7777777777777778,
             "#fb9f3a"
            ],
            [
             0.8888888888888888,
             "#fdca26"
            ],
            [
             1,
             "#f0f921"
            ]
           ],
           "sequentialminus": [
            [
             0,
             "#0d0887"
            ],
            [
             0.1111111111111111,
             "#46039f"
            ],
            [
             0.2222222222222222,
             "#7201a8"
            ],
            [
             0.3333333333333333,
             "#9c179e"
            ],
            [
             0.4444444444444444,
             "#bd3786"
            ],
            [
             0.5555555555555556,
             "#d8576b"
            ],
            [
             0.6666666666666666,
             "#ed7953"
            ],
            [
             0.7777777777777778,
             "#fb9f3a"
            ],
            [
             0.8888888888888888,
             "#fdca26"
            ],
            [
             1,
             "#f0f921"
            ]
           ]
          },
          "colorway": [
           "#636efa",
           "#EF553B",
           "#00cc96",
           "#ab63fa",
           "#FFA15A",
           "#19d3f3",
           "#FF6692",
           "#B6E880",
           "#FF97FF",
           "#FECB52"
          ],
          "font": {
           "color": "#2a3f5f"
          },
          "geo": {
           "bgcolor": "white",
           "lakecolor": "white",
           "landcolor": "#E5ECF6",
           "showlakes": true,
           "showland": true,
           "subunitcolor": "white"
          },
          "hoverlabel": {
           "align": "left"
          },
          "hovermode": "closest",
          "mapbox": {
           "style": "light"
          },
          "paper_bgcolor": "white",
          "plot_bgcolor": "#E5ECF6",
          "polar": {
           "angularaxis": {
            "gridcolor": "white",
            "linecolor": "white",
            "ticks": ""
           },
           "bgcolor": "#E5ECF6",
           "radialaxis": {
            "gridcolor": "white",
            "linecolor": "white",
            "ticks": ""
           }
          },
          "scene": {
           "xaxis": {
            "backgroundcolor": "#E5ECF6",
            "gridcolor": "white",
            "gridwidth": 2,
            "linecolor": "white",
            "showbackground": true,
            "ticks": "",
            "zerolinecolor": "white"
           },
           "yaxis": {
            "backgroundcolor": "#E5ECF6",
            "gridcolor": "white",
            "gridwidth": 2,
            "linecolor": "white",
            "showbackground": true,
            "ticks": "",
            "zerolinecolor": "white"
           },
           "zaxis": {
            "backgroundcolor": "#E5ECF6",
            "gridcolor": "white",
            "gridwidth": 2,
            "linecolor": "white",
            "showbackground": true,
            "ticks": "",
            "zerolinecolor": "white"
           }
          },
          "shapedefaults": {
           "line": {
            "color": "#2a3f5f"
           }
          },
          "ternary": {
           "aaxis": {
            "gridcolor": "white",
            "linecolor": "white",
            "ticks": ""
           },
           "baxis": {
            "gridcolor": "white",
            "linecolor": "white",
            "ticks": ""
           },
           "bgcolor": "#E5ECF6",
           "caxis": {
            "gridcolor": "white",
            "linecolor": "white",
            "ticks": ""
           }
          },
          "title": {
           "x": 0.05
          },
          "xaxis": {
           "automargin": true,
           "gridcolor": "white",
           "linecolor": "white",
           "ticks": "",
           "title": {
            "standoff": 15
           },
           "zerolinecolor": "white",
           "zerolinewidth": 2
          },
          "yaxis": {
           "automargin": true,
           "gridcolor": "white",
           "linecolor": "white",
           "ticks": "",
           "title": {
            "standoff": 15
           },
           "zerolinecolor": "white",
           "zerolinewidth": 2
          }
         }
        },
        "title": {
         "font": {
          "size": 16
         },
         "text": ""
        },
        "width": 1100,
        "xaxis": {
         "autorange": true,
         "range": [
          -0.5627678595292636,
          1.200354853785803
         ],
         "showgrid": false,
         "showticklabels": false,
         "type": "linear",
         "zeroline": false
        },
        "yaxis": {
         "autorange": true,
         "range": [
          -0.33754840552746923,
          1.015806299885214
         ],
         "showgrid": false,
         "showticklabels": false,
         "type": "linear",
         "zeroline": false
        }
       }
      },
      "image/png": "[encoded data removed]",
      "text/html": [
       "<div>                            <div id=\"ebdc77a5-b107-486a-8e92-f91e405fcaf3\" class=\"plotly-graph-div\" style=\"height:1100px; width:1100px;\"></div>            <script type=\"text/javascript\">                require([\"plotly\"], function(Plotly) {                    window.PLOTLYENV=window.PLOTLYENV || {};                                    if (document.getElementById(\"ebdc77a5-b107-486a-8e92-f91e405fcaf3\")) {                    Plotly.newPlot(                        \"ebdc77a5-b107-486a-8e92-f91e405fcaf3\",                        [{\"hoverinfo\":\"none\",\"line\":{\"color\":\"#E8E8E8\",\"dash\":\"solid\",\"width\":0.7},\"mode\":\"lines\",\"x\":[-0.02255445849607741,0.04881175386657501],\"y\":[-0.08027263031689079,0.01944277062717638],\"type\":\"scatter\"},{\"hoverinfo\":\"none\",\"line\":{\"color\":\"#E8E8E8\",\"dash\":\"solid\",\"width\":0.7},\"mode\":\"lines\",\"x\":[-0.02255445849607741,0.0429122785328855],\"y\":[-0.08027263031689079,0.14095673312259907],\"type\":\"scatter\"},{\"hoverinfo\":\"none\",\"line\":{\"color\":\"#E8E8E8\",\"dash\":\"solid\",\"width\":0.7},\"mode\":\"lines\",\"x\":[-0.02255445849607741,0.10925689071633819],\"y\":[-0.08027263031689079,0.11010146346982091],\"type\":\"scatter\"},{\"hoverinfo\":\"none\",\"line\":{\"color\":\"#E8E8E8\",\"dash\":\"solid\",\"width\":0.7},\"mode\":\"lines\",\"x\":[-0.02255445849607741,0.05331442071425577],\"y\":[-0.08027263031689079,-0.07893475661902369],\"type\":\"scatter\"},{\"hoverinfo\":\"none\",\"line\":{\"color\":\"#E8E8E8\",\"dash\":\"solid\",\"width\":0.7},\"mode\":\"lines\",\"x\":[-0.02255445849607741,-0.029583570089209407],\"y\":[-0.08027263031689079,-0.11385733988125694],\"type\":\"scatter\"},{\"hoverinfo\":\"none\",\"line\":{\"color\":\"#E8E8E8\",\"dash\":\"solid\",\"width\":0.7},\"mode\":\"lines\",\"x\":[-0.02255445849607741,0.05677264608881407],\"y\":[-0.08027263031689079,0.06110489881926472],\"type\":\"scatter\"},{\"hoverinfo\":\"none\",\"line\":{\"color\":\"#E8E8E8\",\"dash\":\"solid\",\"width\":0.7},\"mode\":\"lines\",\"x\":[-0.02255445849607741,0.07054972484232797],\"y\":[-0.08027263031689079,0.18463618836255125],\"type\":\"scatter\"},{\"hoverinfo\":\"none\",\"line\":{\"color\":\"#E8E8E8\",\"dash\":\"solid\",\"width\":0.7},\"mode\":\"lines\",\"x\":[-0.02255445849607741,0.17987280261923122],\"y\":[-0.08027263031689079,-0.0526411189593778],\"type\":\"scatter\"},{\"hoverinfo\":\"none\",\"line\":{\"color\":\"#E8E8E8\",\"dash\":\"solid\",\"width\":0.7},\"mode\":\"lines\",\"x\":[-0.02255445849607741,0.15139500288560356],\"y\":[-0.08027263031689079,0.11912451908541347],\"type\":\"scatter\"},{\"hoverinfo\":\"none\",\"line\":{\"color\":\"#E8E8E8\",\"dash\":\"solid\",\"width\":0.7},\"mode\":\"lines\",\"x\":[-0.02255445849607741,0.09851911586340306],\"y\":[-0.08027263031689079,-0.15617504689855694],\"type\":\"scatter\"},{\"hoverinfo\":\"none\",\"line\":{\"color\":\"#E8E8E8\",\"dash\":\"solid\",\"width\":0.7},\"mode\":\"lines\",\"x\":[-0.02255445849607741,-0.06961446972372612],\"y\":[-0.08027263031689079,0.12226732652610431],\"type\":\"scatter\"},{\"hoverinfo\":\"none\",\"line\":{\"color\":\"#E8E8E8\",\"dash\":\"solid\",\"width\":0.7},\"mode\":\"lines\",\"x\":[-0.02255445849607741,-0.1336542052629159],\"y\":[-0.08027263031689079,0.13209859572922225],\"type\":\"scatter\"},{\"hoverinfo\":\"none\",\"line\":{\"color\":\"#E8E8E8\",\"dash\":\"solid\",\"width\":0.7},\"mode\":\"lines\",\"x\":[-0.07302517807265257,0.08454043703939625],\"y\":[-0.03507102863817463,-0.028587744644051612],\"type\":\"scatter\"},{\"hoverinfo\":\"none\",\"line\":{\"color\":\"#E8E8E8\",\"dash\":\"solid\",\"width\":0.7},\"mode\":\"lines\",\"x\":[-0.07302517807265257,-0.042670106985513684],\"y\":[-0.03507102863817463,-0.24786919397009546],\"type\":\"scatter\"},{\"hoverinfo\":\"none\",\"line\":{\"color\":\"#E8E8E8\",\"dash\":\"solid\",\"width\":0.7},\"mode\":\"lines\",\"x\":[-0.07302517807265257,0.04881175386657501],\"y\":[-0.03507102863817463,0.01944277062717638],\"type\":\"scatter\"},{\"hoverinfo\":\"none\",\"line\":{\"color\":\"#E8E8E8\",\"dash\":\"solid\",\"width\":0.7},\"mode\":\"lines\",\"x\":[-0.07302517807265257,0.06785103515693583],\"y\":[-0.03507102863817463,0.035862581526662815],\"type\":\"scatter\"},{\"hoverinfo\":\"none\",\"line\":{\"color\":\"#E8E8E8\",\"dash\":\"solid\",\"width\":0.7},\"mode\":\"lines\",\"x\":[-0.07302517807265257,0.015375274835434157],\"y\":[-0.03507102863817463,-0.22541852025411738],\"type\":\"scatter\"},{\"hoverinfo\":\"none\",\"line\":{\"color\":\"#E8E8E8\",\"dash\":\"solid\",\"width\":0.7},\"mode\":\"lines\",\"x\":[-0.07302517807265257,0.05331442071425577],\"y\":[-0.03507102863817463,-0.07893475661902369],\"type\":\"scatter\"},{\"hoverinfo\":\"none\",\"line\":{\"color\":\"#E8E8E8\",\"dash\":\"solid\",\"width\":0.7},\"mode\":\"lines\",\"x\":[-0.07302517807265257,0.12993462954978785],\"y\":[-0.03507102863817463,-0.1563171772286875],\"type\":\"scatter\"},{\"hoverinfo\":\"none\",\"line\":{\"color\":\"#E8E8E8\",\"dash\":\"solid\",\"width\":0.7},\"mode\":\"lines\",\"x\":[-0.07302517807265257,0.024100532088113642],\"y\":[-0.03507102863817463,-0.2523412728071196],\"type\":\"scatter\"},{\"hoverinfo\":\"none\",\"line\":{\"color\":\"#E8E8E8\",\"dash\":\"solid\",\"width\":0.7},\"mode\":\"lines\",\"x\":[-0.07302517807265257,-0.22282847311132453],\"y\":[-0.03507102863817463,-0.0980183233713624],\"type\":\"scatter\"},{\"hoverinfo\":\"none\",\"line\":{\"color\":\"#E8E8E8\",\"dash\":\"solid\",\"width\":0.7},\"mode\":\"lines\",\"x\":[-0.07302517807265257,0.1629398261141471],\"y\":[-0.03507102863817463,-0.11103709893423747],\"type\":\"scatter\"},{\"hoverinfo\":\"none\",\"line\":{\"color\":\"#E8E8E8\",\"dash\":\"solid\",\"width\":0.7},\"mode\":\"lines\",\"x\":[-0.07302517807265257,-0.06961446972372612],\"y\":[-0.03507102863817463,0.12226732652610431],\"type\":\"scatter\"},{\"hoverinfo\":\"none\",\"line\":{\"color\":\"#E8E8E8\",\"dash\":\"solid\",\"width\":0.7},\"mode\":\"lines\",\"x\":[-0.07302517807265257,-0.15002438170646445],\"y\":[-0.03507102863817463,0.34963395440696804],\"type\":\"scatter\"},{\"hoverinfo\":\"none\",\"line\":{\"color\":\"#E8E8E8\",\"dash\":\"solid\",\"width\":0.7},\"mode\":\"lines\",\"x\":[-0.07302517807265257,-0.1336542052629159],\"y\":[-0.03507102863817463,0.13209859572922225],\"type\":\"scatter\"},{\"hoverinfo\":\"none\",\"line\":{\"color\":\"#E8E8E8\",\"dash\":\"solid\",\"width\":0.7},\"mode\":\"lines\",\"x\":[-0.07302517807265257,-0.05567826942269471],\"y\":[-0.03507102863817463,-0.19248655738290024],\"type\":\"scatter\"},{\"hoverinfo\":\"none\",\"line\":{\"color\":\"#E8E8E8\",\"dash\":\"solid\",\"width\":0.7},\"mode\":\"lines\",\"x\":[-0.04411474174643428,0.04881175386657501],\"y\":[-0.02570351964636365,0.01944277062717638],\"type\":\"scatter\"},{\"hoverinfo\":\"none\",\"line\":{\"color\":\"#E8E8E8\",\"dash\":\"solid\",\"width\":0.7},\"mode\":\"lines\",\"x\":[-0.04411474174643428,-0.05743664108679999],\"y\":[-0.02570351964636365,0.02205456565204265],\"type\":\"scatter\"},{\"hoverinfo\":\"none\",\"line\":{\"color\":\"#E8E8E8\",\"dash\":\"solid\",\"width\":0.7},\"mode\":\"lines\",\"x\":[-0.04411474174643428,-0.028531869662610156],\"y\":[-0.02570351964636365,0.04347368601494208],\"type\":\"scatter\"},{\"hoverinfo\":\"none\",\"line\":{\"color\":\"#E8E8E8\",\"dash\":\"solid\",\"width\":0.7},\"mode\":\"lines\",\"x\":[-0.04411474174643428,-0.11852981431706612],\"y\":[-0.02570351964636365,-0.06908282270504768],\"type\":\"scatter\"},{\"hoverinfo\":\"none\",\"line\":{\"color\":\"#E8E8E8\",\"dash\":\"solid\",\"width\":0.7},\"mode\":\"lines\",\"x\":[-0.04411474174643428,-0.12418001476300108],\"y\":[-0.02570351964636365,-0.12457297487950686],\"type\":\"scatter\"},{\"hoverinfo\":\"none\",\"line\":{\"color\":\"#E8E8E8\",\"dash\":\"solid\",\"width\":0.7},\"mode\":\"lines\",\"x\":[-0.04411474174643428,-0.13898107580962668],\"y\":[-0.02570351964636365,-0.1491506013185887],\"type\":\"scatter\"},{\"hoverinfo\":\"none\",\"line\":{\"color\":\"#E8E8E8\",\"dash\":\"solid\",\"width\":0.7},\"mode\":\"lines\",\"x\":[-0.04411474174643428,-0.19994489303716426],\"y\":[-0.02570351964636365,-0.05531259315115445],\"type\":\"scatter\"},{\"hoverinfo\":\"none\",\"line\":{\"color\":\"#E8E8E8\",\"dash\":\"solid\",\"width\":0.7},\"mode\":\"lines\",\"x\":[-0.04411474174643428,0.12993462954978785],\"y\":[-0.02570351964636365,-0.1563171772286875],\"type\":\"scatter\"},{\"hoverinfo\":\"none\",\"line\":{\"color\":\"#E8E8E8\",\"dash\":\"solid\",\"width\":0.7},\"mode\":\"lines\",\"x\":[-0.04411474174643428,-0.18195453098118677],\"y\":[-0.02570351964636365,0.10886380939931106],\"type\":\"scatter\"},{\"hoverinfo\":\"none\",\"line\":{\"color\":\"#E8E8E8\",\"dash\":\"solid\",\"width\":0.7},\"mode\":\"lines\",\"x\":[-0.04411474174643428,0.04645437665232618],\"y\":[-0.02570351964636365,0.09566720919718977],\"type\":\"scatter\"},{\"hoverinfo\":\"none\",\"line\":{\"color\":\"#E8E8E8\",\"dash\":\"solid\",\"width\":0.7},\"mode\":\"lines\",\"x\":[-0.04411474174643428,0.0505300072439258],\"y\":[-0.02570351964636365,-0.1483416769659575],\"type\":\"scatter\"},{\"hoverinfo\":\"none\",\"line\":{\"color\":\"#E8E8E8\",\"dash\":\"solid\",\"width\":0.7},\"mode\":\"lines\",\"x\":[-0.04411474174643428,0.1629398261141471],\"y\":[-0.02570351964636365,-0.11103709893423747],\"type\":\"scatter\"},{\"hoverinfo\":\"none\",\"line\":{\"color\":\"#E8E8E8\",\"dash\":\"solid\",\"width\":0.7},\"mode\":\"lines\",\"x\":[-0.04411474174643428,0.04893262955072509],\"y\":[-0.02570351964636365,-0.19740398728816083],\"type\":\"scatter\"},{\"hoverinfo\":\"none\",\"line\":{\"color\":\"#E8E8E8\",\"dash\":\"solid\",\"width\":0.7},\"mode\":\"lines\",\"x\":[-0.04411474174643428,-0.06961446972372612],\"y\":[-0.02570351964636365,0.12226732652610431],\"type\":\"scatter\"},{\"hoverinfo\":\"none\",\"line\":{\"color\":\"#E8E8E8\",\"dash\":\"solid\",\"width\":0.7},\"mode\":\"lines\",\"x\":[-0.04411474174643428,-0.05567826942269471],\"y\":[-0.02570351964636365,-0.19248655738290024],\"type\":\"scatter\"},{\"hoverinfo\":\"none\",\"line\":{\"color\":\"#E8E8E8\",\"dash\":\"solid\",\"width\":0.7},\"mode\":\"lines\",\"x\":[0.08454043703939625,0.04881175386657501],\"y\":[-0.028587744644051612,0.01944277062717638],\"type\":\"scatter\"},{\"hoverinfo\":\"none\",\"line\":{\"color\":\"#E8E8E8\",\"dash\":\"solid\",\"width\":0.7},\"mode\":\"lines\",\"x\":[0.08454043703939625,0.01754902091177313],\"y\":[-0.028587744644051612,-0.022860884368591298],\"type\":\"scatter\"},{\"hoverinfo\":\"none\",\"line\":{\"color\":\"#E8E8E8\",\"dash\":\"solid\",\"width\":0.7},\"mode\":\"lines\",\"x\":[0.08454043703939625,-0.028531869662610156],\"y\":[-0.028587744644051612,0.04347368601494208],\"type\":\"scatter\"},{\"hoverinfo\":\"none\",\"line\":{\"color\":\"#E8E8E8\",\"dash\":\"solid\",\"width\":0.7},\"mode\":\"lines\",\"x\":[0.08454043703939625,0.0429122785328855],\"y\":[-0.028587744644051612,0.14095673312259907],\"type\":\"scatter\"},{\"hoverinfo\":\"none\",\"line\":{\"color\":\"#E8E8E8\",\"dash\":\"solid\",\"width\":0.7},\"mode\":\"lines\",\"x\":[0.08454043703939625,0.15139500288560356],\"y\":[-0.028587744644051612,0.11912451908541347],\"type\":\"scatter\"},{\"hoverinfo\":\"none\",\"line\":{\"color\":\"#E8E8E8\",\"dash\":\"solid\",\"width\":0.7},\"mode\":\"lines\",\"x\":[0.08454043703939625,0.09851911586340306],\"y\":[-0.028587744644051612,-0.15617504689855694],\"type\":\"scatter\"},{\"hoverinfo\":\"none\",\"line\":{\"color\":\"#E8E8E8\",\"dash\":\"solid\",\"width\":0.7},\"mode\":\"lines\",\"x\":[0.08454043703939625,0.12865044068409745],\"y\":[-0.028587744644051612,-0.07965475491803664],\"type\":\"scatter\"},{\"hoverinfo\":\"none\",\"line\":{\"color\":\"#E8E8E8\",\"dash\":\"solid\",\"width\":0.7},\"mode\":\"lines\",\"x\":[0.08454043703939625,-0.06961446972372612],\"y\":[-0.028587744644051612,0.12226732652610431],\"type\":\"scatter\"},{\"hoverinfo\":\"none\",\"line\":{\"color\":\"#E8E8E8\",\"dash\":\"solid\",\"width\":0.7},\"mode\":\"lines\",\"x\":[0.08454043703939625,0.20985144520622326],\"y\":[-0.028587744644051612,-0.053745137854570565],\"type\":\"scatter\"},{\"hoverinfo\":\"none\",\"line\":{\"color\":\"#E8E8E8\",\"dash\":\"solid\",\"width\":0.7},\"mode\":\"lines\",\"x\":[0.08454043703939625,0.2647041771882963],\"y\":[-0.028587744644051612,-0.11834360961746553],\"type\":\"scatter\"},{\"hoverinfo\":\"none\",\"line\":{\"color\":\"#E8E8E8\",\"dash\":\"solid\",\"width\":0.7},\"mode\":\"lines\",\"x\":[0.08454043703939625,-0.05567826942269471],\"y\":[-0.028587744644051612,-0.19248655738290024],\"type\":\"scatter\"},{\"hoverinfo\":\"none\",\"line\":{\"color\":\"#E8E8E8\",\"dash\":\"solid\",\"width\":0.7},\"mode\":\"lines\",\"x\":[0.03349324352788613,-0.12297866697639599],\"y\":[-0.1157046877996965,-0.017694577327360822],\"type\":\"scatter\"},{\"hoverinfo\":\"none\",\"line\":{\"color\":\"#E8E8E8\",\"dash\":\"solid\",\"width\":0.7},\"mode\":\"lines\",\"x\":[0.03349324352788613,-0.028531869662610156],\"y\":[-0.1157046877996965,0.04347368601494208],\"type\":\"scatter\"},{\"hoverinfo\":\"none\",\"line\":{\"color\":\"#E8E8E8\",\"dash\":\"solid\",\"width\":0.7},\"mode\":\"lines\",\"x\":[0.03349324352788613,0.22212978070237124],\"y\":[-0.1157046877996965,0.027184782024261556],\"type\":\"scatter\"},{\"hoverinfo\":\"none\",\"line\":{\"color\":\"#E8E8E8\",\"dash\":\"solid\",\"width\":0.7},\"mode\":\"lines\",\"x\":[0.03349324352788613,-0.12281203031820706],\"y\":[-0.1157046877996965,-0.09843536964066334],\"type\":\"scatter\"},{\"hoverinfo\":\"none\",\"line\":{\"color\":\"#E8E8E8\",\"dash\":\"solid\",\"width\":0.7},\"mode\":\"lines\",\"x\":[0.03349324352788613,-0.029583570089209407],\"y\":[-0.1157046877996965,-0.11385733988125694],\"type\":\"scatter\"},{\"hoverinfo\":\"none\",\"line\":{\"color\":\"#E8E8E8\",\"dash\":\"solid\",\"width\":0.7},\"mode\":\"lines\",\"x\":[0.03349324352788613,0.12993462954978785],\"y\":[-0.1157046877996965,-0.1563171772286875],\"type\":\"scatter\"},{\"hoverinfo\":\"none\",\"line\":{\"color\":\"#E8E8E8\",\"dash\":\"solid\",\"width\":0.7},\"mode\":\"lines\",\"x\":[0.03349324352788613,0.05677264608881407],\"y\":[-0.1157046877996965,0.06110489881926472],\"type\":\"scatter\"},{\"hoverinfo\":\"none\",\"line\":{\"color\":\"#E8E8E8\",\"dash\":\"solid\",\"width\":0.7},\"mode\":\"lines\",\"x\":[0.03349324352788613,0.17987280261923122],\"y\":[-0.1157046877996965,-0.0526411189593778],\"type\":\"scatter\"},{\"hoverinfo\":\"none\",\"line\":{\"color\":\"#E8E8E8\",\"dash\":\"solid\",\"width\":0.7},\"mode\":\"lines\",\"x\":[0.03349324352788613,0.1629398261141471],\"y\":[-0.1157046877996965,-0.11103709893423747],\"type\":\"scatter\"},{\"hoverinfo\":\"none\",\"line\":{\"color\":\"#E8E8E8\",\"dash\":\"solid\",\"width\":0.7},\"mode\":\"lines\",\"x\":[0.03349324352788613,0.15139500288560356],\"y\":[-0.1157046877996965,0.11912451908541347],\"type\":\"scatter\"},{\"hoverinfo\":\"none\",\"line\":{\"color\":\"#E8E8E8\",\"dash\":\"solid\",\"width\":0.7},\"mode\":\"lines\",\"x\":[0.03349324352788613,-0.17196493272656052],\"y\":[-0.1157046877996965,-0.12740813074216217],\"type\":\"scatter\"},{\"hoverinfo\":\"none\",\"line\":{\"color\":\"#E8E8E8\",\"dash\":\"solid\",\"width\":0.7},\"mode\":\"lines\",\"x\":[0.03349324352788613,0.09851911586340306],\"y\":[-0.1157046877996965,-0.15617504689855694],\"type\":\"scatter\"},{\"hoverinfo\":\"none\",\"line\":{\"color\":\"#E8E8E8\",\"dash\":\"solid\",\"width\":0.7},\"mode\":\"lines\",\"x\":[0.03349324352788613,0.12865044068409745],\"y\":[-0.1157046877996965,-0.07965475491803664],\"type\":\"scatter\"},{\"hoverinfo\":\"none\",\"line\":{\"color\":\"#E8E8E8\",\"dash\":\"solid\",\"width\":0.7},\"mode\":\"lines\",\"x\":[0.03349324352788613,0.2647041771882963],\"y\":[-0.1157046877996965,-0.11834360961746553],\"type\":\"scatter\"},{\"hoverinfo\":\"none\",\"line\":{\"color\":\"#E8E8E8\",\"dash\":\"solid\",\"width\":0.7},\"mode\":\"lines\",\"x\":[-0.05022313516650214,-0.12297866697639599],\"y\":[-0.005931601344967606,-0.017694577327360822],\"type\":\"scatter\"},{\"hoverinfo\":\"none\",\"line\":{\"color\":\"#E8E8E8\",\"dash\":\"solid\",\"width\":0.7},\"mode\":\"lines\",\"x\":[-0.05022313516650214,-0.028531869662610156],\"y\":[-0.005931601344967606,0.04347368601494208],\"type\":\"scatter\"},{\"hoverinfo\":\"none\",\"line\":{\"color\":\"#E8E8E8\",\"dash\":\"solid\",\"width\":0.7},\"mode\":\"lines\",\"x\":[-0.05022313516650214,-0.04494137109334906],\"y\":[-0.005931601344967606,0.09626481248136597],\"type\":\"scatter\"},{\"hoverinfo\":\"none\",\"line\":{\"color\":\"#E8E8E8\",\"dash\":\"solid\",\"width\":0.7},\"mode\":\"lines\",\"x\":[-0.05022313516650214,-0.185969777356427],\"y\":[-0.005931601344967606,0.02332577388026551],\"type\":\"scatter\"},{\"hoverinfo\":\"none\",\"line\":{\"color\":\"#E8E8E8\",\"dash\":\"solid\",\"width\":0.7},\"mode\":\"lines\",\"x\":[-0.05022313516650214,0.05331442071425577],\"y\":[-0.005931601344967606,-0.07893475661902369],\"type\":\"scatter\"},{\"hoverinfo\":\"none\",\"line\":{\"color\":\"#E8E8E8\",\"dash\":\"solid\",\"width\":0.7},\"mode\":\"lines\",\"x\":[-0.05022313516650214,0.12993462954978785],\"y\":[-0.005931601344967606,-0.1563171772286875],\"type\":\"scatter\"},{\"hoverinfo\":\"none\",\"line\":{\"color\":\"#E8E8E8\",\"dash\":\"solid\",\"width\":0.7},\"mode\":\"lines\",\"x\":[-0.05022313516650214,-0.18195453098118677],\"y\":[-0.005931601344967606,0.10886380939931106],\"type\":\"scatter\"},{\"hoverinfo\":\"none\",\"line\":{\"color\":\"#E8E8E8\",\"dash\":\"solid\",\"width\":0.7},\"mode\":\"lines\",\"x\":[-0.05022313516650214,-0.1092578961238818],\"y\":[-0.005931601344967606,-0.15960943916650963],\"type\":\"scatter\"},{\"hoverinfo\":\"none\",\"line\":{\"color\":\"#E8E8E8\",\"dash\":\"solid\",\"width\":0.7},\"mode\":\"lines\",\"x\":[-0.05022313516650214,0.04645437665232618],\"y\":[-0.005931601344967606,0.09566720919718977],\"type\":\"scatter\"},{\"hoverinfo\":\"none\",\"line\":{\"color\":\"#E8E8E8\",\"dash\":\"solid\",\"width\":0.7},\"mode\":\"lines\",\"x\":[-0.05022313516650214,-0.22282847311132453],\"y\":[-0.005931601344967606,-0.0980183233713624],\"type\":\"scatter\"},{\"hoverinfo\":\"none\",\"line\":{\"color\":\"#E8E8E8\",\"dash\":\"solid\",\"width\":0.7},\"mode\":\"lines\",\"x\":[-0.05022313516650214,-0.0845170272992704],\"y\":[-0.005931601344967606,0.19638202589624437],\"type\":\"scatter\"},{\"hoverinfo\":\"none\",\"line\":{\"color\":\"#E8E8E8\",\"dash\":\"solid\",\"width\":0.7},\"mode\":\"lines\",\"x\":[-0.05022313516650214,-0.06961446972372612],\"y\":[-0.005931601344967606,0.12226732652610431],\"type\":\"scatter\"},{\"hoverinfo\":\"none\",\"line\":{\"color\":\"#E8E8E8\",\"dash\":\"solid\",\"width\":0.7},\"mode\":\"lines\",\"x\":[-0.05022313516650214,0.20985144520622326],\"y\":[-0.005931601344967606,-0.053745137854570565],\"type\":\"scatter\"},{\"hoverinfo\":\"none\",\"line\":{\"color\":\"#E8E8E8\",\"dash\":\"solid\",\"width\":0.7},\"mode\":\"lines\",\"x\":[-0.10867589590122384,0.04881175386657501],\"y\":[0.012581899781084321,0.01944277062717638],\"type\":\"scatter\"},{\"hoverinfo\":\"none\",\"line\":{\"color\":\"#E8E8E8\",\"dash\":\"solid\",\"width\":0.7},\"mode\":\"lines\",\"x\":[-0.10867589590122384,-0.04494137109334906],\"y\":[0.012581899781084321,0.09626481248136597],\"type\":\"scatter\"},{\"hoverinfo\":\"none\",\"line\":{\"color\":\"#E8E8E8\",\"dash\":\"solid\",\"width\":0.7},\"mode\":\"lines\",\"x\":[-0.10867589590122384,-0.185969777356427],\"y\":[0.012581899781084321,0.02332577388026551],\"type\":\"scatter\"},{\"hoverinfo\":\"none\",\"line\":{\"color\":\"#E8E8E8\",\"dash\":\"solid\",\"width\":0.7},\"mode\":\"lines\",\"x\":[-0.10867589590122384,-0.22617170516911447],\"y\":[0.012581899781084321,0.0603623399545939],\"type\":\"scatter\"},{\"hoverinfo\":\"none\",\"line\":{\"color\":\"#E8E8E8\",\"dash\":\"solid\",\"width\":0.7},\"mode\":\"lines\",\"x\":[-0.10867589590122384,-0.20322555557068964],\"y\":[0.012581899781084321,0.15596519720010432],\"type\":\"scatter\"},{\"hoverinfo\":\"none\",\"line\":{\"color\":\"#E8E8E8\",\"dash\":\"solid\",\"width\":0.7},\"mode\":\"lines\",\"x\":[-0.10867589590122384,0.05331442071425577],\"y\":[0.012581899781084321,-0.07893475661902369],\"type\":\"scatter\"},{\"hoverinfo\":\"none\",\"line\":{\"color\":\"#E8E8E8\",\"dash\":\"solid\",\"width\":0.7},\"mode\":\"lines\",\"x\":[-0.10867589590122384,-0.18195453098118677],\"y\":[0.012581899781084321,0.10886380939931106],\"type\":\"scatter\"},{\"hoverinfo\":\"none\",\"line\":{\"color\":\"#E8E8E8\",\"dash\":\"solid\",\"width\":0.7},\"mode\":\"lines\",\"x\":[-0.10867589590122384,0.05677264608881407],\"y\":[0.012581899781084321,0.06110489881926472],\"type\":\"scatter\"},{\"hoverinfo\":\"none\",\"line\":{\"color\":\"#E8E8E8\",\"dash\":\"solid\",\"width\":0.7},\"mode\":\"lines\",\"x\":[-0.10867589590122384,-0.22282847311132453],\"y\":[0.012581899781084321,-0.0980183233713624],\"type\":\"scatter\"},{\"hoverinfo\":\"none\",\"line\":{\"color\":\"#E8E8E8\",\"dash\":\"solid\",\"width\":0.7},\"mode\":\"lines\",\"x\":[-0.10867589590122384,-0.24520841550402134],\"y\":[0.012581899781084321,0.13374798501657167],\"type\":\"scatter\"},{\"hoverinfo\":\"none\",\"line\":{\"color\":\"#E8E8E8\",\"dash\":\"solid\",\"width\":0.7},\"mode\":\"lines\",\"x\":[-0.10867589590122384,0.0505300072439258],\"y\":[0.012581899781084321,-0.1483416769659575],\"type\":\"scatter\"},{\"hoverinfo\":\"none\",\"line\":{\"color\":\"#E8E8E8\",\"dash\":\"solid\",\"width\":0.7},\"mode\":\"lines\",\"x\":[-0.10867589590122384,-0.17196493272656052],\"y\":[0.012581899781084321,-0.12740813074216217],\"type\":\"scatter\"},{\"hoverinfo\":\"none\",\"line\":{\"color\":\"#E8E8E8\",\"dash\":\"solid\",\"width\":0.7},\"mode\":\"lines\",\"x\":[-0.10867589590122384,0.04893262955072509],\"y\":[0.012581899781084321,-0.19740398728816083],\"type\":\"scatter\"},{\"hoverinfo\":\"none\",\"line\":{\"color\":\"#E8E8E8\",\"dash\":\"solid\",\"width\":0.7},\"mode\":\"lines\",\"x\":[-0.10867589590122384,-0.05567826942269471],\"y\":[0.012581899781084321,-0.19248655738290024],\"type\":\"scatter\"},{\"hoverinfo\":\"none\",\"line\":{\"color\":\"#E8E8E8\",\"dash\":\"solid\",\"width\":0.7},\"mode\":\"lines\",\"x\":[-0.042670106985513684,-0.1092578961238818],\"y\":[-0.24786919397009546,-0.15960943916650963],\"type\":\"scatter\"},{\"hoverinfo\":\"none\",\"line\":{\"color\":\"#E8E8E8\",\"dash\":\"solid\",\"width\":0.7},\"mode\":\"lines\",\"x\":[-0.12297866697639599,-0.11876863509836466],\"y\":[-0.017694577327360822,0.0306078948548714],\"type\":\"scatter\"},{\"hoverinfo\":\"none\",\"line\":{\"color\":\"#E8E8E8\",\"dash\":\"solid\",\"width\":0.7},\"mode\":\"lines\",\"x\":[-0.12297866697639599,0.01754902091177313],\"y\":[-0.017694577327360822,-0.022860884368591298],\"type\":\"scatter\"},{\"hoverinfo\":\"none\",\"line\":{\"color\":\"#E8E8E8\",\"dash\":\"solid\",\"width\":0.7},\"mode\":\"lines\",\"x\":[-0.12297866697639599,0.0429122785328855],\"y\":[-0.017694577327360822,0.14095673312259907],\"type\":\"scatter\"},{\"hoverinfo\":\"none\",\"line\":{\"color\":\"#E8E8E8\",\"dash\":\"solid\",\"width\":0.7},\"mode\":\"lines\",\"x\":[-0.12297866697639599,0.10925689071633819],\"y\":[-0.017694577327360822,0.11010146346982091],\"type\":\"scatter\"},{\"hoverinfo\":\"none\",\"line\":{\"color\":\"#E8E8E8\",\"dash\":\"solid\",\"width\":0.7},\"mode\":\"lines\",\"x\":[-0.12297866697639599,-0.22617170516911447],\"y\":[-0.017694577327360822,0.0603623399545939],\"type\":\"scatter\"},{\"hoverinfo\":\"none\",\"line\":{\"color\":\"#E8E8E8\",\"dash\":\"solid\",\"width\":0.7},\"mode\":\"lines\",\"x\":[-0.12297866697639599,-0.12418001476300108],\"y\":[-0.017694577327360822,-0.12457297487950686],\"type\":\"scatter\"},{\"hoverinfo\":\"none\",\"line\":{\"color\":\"#E8E8E8\",\"dash\":\"solid\",\"width\":0.7},\"mode\":\"lines\",\"x\":[-0.12297866697639599,0.05677264608881407],\"y\":[-0.017694577327360822,0.06110489881926472],\"type\":\"scatter\"},{\"hoverinfo\":\"none\",\"line\":{\"color\":\"#E8E8E8\",\"dash\":\"solid\",\"width\":0.7},\"mode\":\"lines\",\"x\":[-0.12297866697639599,-0.24520841550402134],\"y\":[-0.017694577327360822,0.13374798501657167],\"type\":\"scatter\"},{\"hoverinfo\":\"none\",\"line\":{\"color\":\"#E8E8E8\",\"dash\":\"solid\",\"width\":0.7},\"mode\":\"lines\",\"x\":[-0.12297866697639599,0.09851911586340306],\"y\":[-0.017694577327360822,-0.15617504689855694],\"type\":\"scatter\"},{\"hoverinfo\":\"none\",\"line\":{\"color\":\"#E8E8E8\",\"dash\":\"solid\",\"width\":0.7},\"mode\":\"lines\",\"x\":[0.04881175386657501,-0.11876863509836466],\"y\":[0.01944277062717638,0.0306078948548714],\"type\":\"scatter\"},{\"hoverinfo\":\"none\",\"line\":{\"color\":\"#E8E8E8\",\"dash\":\"solid\",\"width\":0.7},\"mode\":\"lines\",\"x\":[0.04881175386657501,0.0429122785328855],\"y\":[0.01944277062717638,0.14095673312259907],\"type\":\"scatter\"},{\"hoverinfo\":\"none\",\"line\":{\"color\":\"#E8E8E8\",\"dash\":\"solid\",\"width\":0.7},\"mode\":\"lines\",\"x\":[0.04881175386657501,-0.04494137109334906],\"y\":[0.01944277062717638,0.09626481248136597],\"type\":\"scatter\"},{\"hoverinfo\":\"none\",\"line\":{\"color\":\"#E8E8E8\",\"dash\":\"solid\",\"width\":0.7},\"mode\":\"lines\",\"x\":[0.04881175386657501,0.22212978070237124],\"y\":[0.01944277062717638,0.027184782024261556],\"type\":\"scatter\"},{\"hoverinfo\":\"none\",\"line\":{\"color\":\"#E8E8E8\",\"dash\":\"solid\",\"width\":0.7},\"mode\":\"lines\",\"x\":[0.04881175386657501,0.10925689071633819],\"y\":[0.01944277062717638,0.11010146346982091],\"type\":\"scatter\"},{\"hoverinfo\":\"none\",\"line\":{\"color\":\"#E8E8E8\",\"dash\":\"solid\",\"width\":0.7},\"mode\":\"lines\",\"x\":[0.04881175386657501,0.12993462954978785],\"y\":[0.01944277062717638,-0.1563171772286875],\"type\":\"scatter\"},{\"hoverinfo\":\"none\",\"line\":{\"color\":\"#E8E8E8\",\"dash\":\"solid\",\"width\":0.7},\"mode\":\"lines\",\"x\":[0.04881175386657501,0.04645437665232618],\"y\":[0.01944277062717638,0.09566720919718977],\"type\":\"scatter\"},{\"hoverinfo\":\"none\",\"line\":{\"color\":\"#E8E8E8\",\"dash\":\"solid\",\"width\":0.7},\"mode\":\"lines\",\"x\":[0.04881175386657501,0.05677264608881407],\"y\":[0.01944277062717638,0.06110489881926472],\"type\":\"scatter\"},{\"hoverinfo\":\"none\",\"line\":{\"color\":\"#E8E8E8\",\"dash\":\"solid\",\"width\":0.7},\"mode\":\"lines\",\"x\":[0.04881175386657501,0.0505300072439258],\"y\":[0.01944277062717638,-0.1483416769659575],\"type\":\"scatter\"},{\"hoverinfo\":\"none\",\"line\":{\"color\":\"#E8E8E8\",\"dash\":\"solid\",\"width\":0.7},\"mode\":\"lines\",\"x\":[0.04881175386657501,0.15139500288560356],\"y\":[0.01944277062717638,0.11912451908541347],\"type\":\"scatter\"},{\"hoverinfo\":\"none\",\"line\":{\"color\":\"#E8E8E8\",\"dash\":\"solid\",\"width\":0.7},\"mode\":\"lines\",\"x\":[0.04881175386657501,-0.17196493272656052],\"y\":[0.01944277062717638,-0.12740813074216217],\"type\":\"scatter\"},{\"hoverinfo\":\"none\",\"line\":{\"color\":\"#E8E8E8\",\"dash\":\"solid\",\"width\":0.7},\"mode\":\"lines\",\"x\":[0.06785103515693583,-0.11876863509836466],\"y\":[0.035862581526662815,0.0306078948548714],\"type\":\"scatter\"},{\"hoverinfo\":\"none\",\"line\":{\"color\":\"#E8E8E8\",\"dash\":\"solid\",\"width\":0.7},\"mode\":\"lines\",\"x\":[0.06785103515693583,0.01754902091177313],\"y\":[0.035862581526662815,-0.022860884368591298],\"type\":\"scatter\"},{\"hoverinfo\":\"none\",\"line\":{\"color\":\"#E8E8E8\",\"dash\":\"solid\",\"width\":0.7},\"mode\":\"lines\",\"x\":[0.06785103515693583,-0.24520841550402134],\"y\":[0.035862581526662815,0.13374798501657167],\"type\":\"scatter\"},{\"hoverinfo\":\"none\",\"line\":{\"color\":\"#E8E8E8\",\"dash\":\"solid\",\"width\":0.7},\"mode\":\"lines\",\"x\":[0.06785103515693583,0.15139500288560356],\"y\":[0.035862581526662815,0.11912451908541347],\"type\":\"scatter\"},{\"hoverinfo\":\"none\",\"line\":{\"color\":\"#E8E8E8\",\"dash\":\"solid\",\"width\":0.7},\"mode\":\"lines\",\"x\":[0.06785103515693583,-0.17196493272656052],\"y\":[0.035862581526662815,-0.12740813074216217],\"type\":\"scatter\"},{\"hoverinfo\":\"none\",\"line\":{\"color\":\"#E8E8E8\",\"dash\":\"solid\",\"width\":0.7},\"mode\":\"lines\",\"x\":[0.06785103515693583,0.12865044068409745],\"y\":[0.035862581526662815,-0.07965475491803664],\"type\":\"scatter\"},{\"hoverinfo\":\"none\",\"line\":{\"color\":\"#E8E8E8\",\"dash\":\"solid\",\"width\":0.7},\"mode\":\"lines\",\"x\":[0.06785103515693583,-0.1336542052629159],\"y\":[0.035862581526662815,0.13209859572922225],\"type\":\"scatter\"},{\"hoverinfo\":\"none\",\"line\":{\"color\":\"#E8E8E8\",\"dash\":\"solid\",\"width\":0.7},\"mode\":\"lines\",\"x\":[-0.11876863509836466,-0.028531869662610156],\"y\":[0.0306078948548714,0.04347368601494208],\"type\":\"scatter\"},{\"hoverinfo\":\"none\",\"line\":{\"color\":\"#E8E8E8\",\"dash\":\"solid\",\"width\":0.7},\"mode\":\"lines\",\"x\":[-0.11876863509836466,-0.11852981431706612],\"y\":[0.0306078948548714,-0.06908282270504768],\"type\":\"scatter\"},{\"hoverinfo\":\"none\",\"line\":{\"color\":\"#E8E8E8\",\"dash\":\"solid\",\"width\":0.7},\"mode\":\"lines\",\"x\":[-0.11876863509836466,0.10925689071633819],\"y\":[0.0306078948548714,0.11010146346982091],\"type\":\"scatter\"},{\"hoverinfo\":\"none\",\"line\":{\"color\":\"#E8E8E8\",\"dash\":\"solid\",\"width\":0.7},\"mode\":\"lines\",\"x\":[-0.11876863509836466,-0.20322555557068964],\"y\":[0.0306078948548714,0.15596519720010432],\"type\":\"scatter\"},{\"hoverinfo\":\"none\",\"line\":{\"color\":\"#E8E8E8\",\"dash\":\"solid\",\"width\":0.7},\"mode\":\"lines\",\"x\":[-0.11876863509836466,-0.19994489303716426],\"y\":[0.0306078948548714,-0.05531259315115445],\"type\":\"scatter\"},{\"hoverinfo\":\"none\",\"line\":{\"color\":\"#E8E8E8\",\"dash\":\"solid\",\"width\":0.7},\"mode\":\"lines\",\"x\":[0.01754902091177313,-0.12281203031820706],\"y\":[-0.022860884368591298,-0.09843536964066334],\"type\":\"scatter\"},{\"hoverinfo\":\"none\",\"line\":{\"color\":\"#E8E8E8\",\"dash\":\"solid\",\"width\":0.7},\"mode\":\"lines\",\"x\":[0.01754902091177313,0.05331442071425577],\"y\":[-0.022860884368591298,-0.07893475661902369],\"type\":\"scatter\"},{\"hoverinfo\":\"none\",\"line\":{\"color\":\"#E8E8E8\",\"dash\":\"solid\",\"width\":0.7},\"mode\":\"lines\",\"x\":[0.01754902091177313,-0.1092578961238818],\"y\":[-0.022860884368591298,-0.15960943916650963],\"type\":\"scatter\"},{\"hoverinfo\":\"none\",\"line\":{\"color\":\"#E8E8E8\",\"dash\":\"solid\",\"width\":0.7},\"mode\":\"lines\",\"x\":[0.01754902091177313,0.05677264608881407],\"y\":[-0.022860884368591298,0.06110489881926472],\"type\":\"scatter\"},{\"hoverinfo\":\"none\",\"line\":{\"color\":\"#E8E8E8\",\"dash\":\"solid\",\"width\":0.7},\"mode\":\"lines\",\"x\":[0.01754902091177313,-0.0845170272992704],\"y\":[-0.022860884368591298,0.19638202589624437],\"type\":\"scatter\"},{\"hoverinfo\":\"none\",\"line\":{\"color\":\"#E8E8E8\",\"dash\":\"solid\",\"width\":0.7},\"mode\":\"lines\",\"x\":[-0.05743664108679999,-0.12281203031820706],\"y\":[0.02205456565204265,-0.09843536964066334],\"type\":\"scatter\"},{\"hoverinfo\":\"none\",\"line\":{\"color\":\"#E8E8E8\",\"dash\":\"solid\",\"width\":0.7},\"mode\":\"lines\",\"x\":[-0.05743664108679999,-0.22617170516911447],\"y\":[0.02205456565204265,0.0603623399545939],\"type\":\"scatter\"},{\"hoverinfo\":\"none\",\"line\":{\"color\":\"#E8E8E8\",\"dash\":\"solid\",\"width\":0.7},\"mode\":\"lines\",\"x\":[-0.05743664108679999,0.12993462954978785],\"y\":[0.02205456565204265,-0.1563171772286875],\"type\":\"scatter\"},{\"hoverinfo\":\"none\",\"line\":{\"color\":\"#E8E8E8\",\"dash\":\"solid\",\"width\":0.7},\"mode\":\"lines\",\"x\":[-0.05743664108679999,-0.18195453098118677],\"y\":[0.02205456565204265,0.10886380939931106],\"type\":\"scatter\"},{\"hoverinfo\":\"none\",\"line\":{\"color\":\"#E8E8E8\",\"dash\":\"solid\",\"width\":0.7},\"mode\":\"lines\",\"x\":[-0.05743664108679999,0.05677264608881407],\"y\":[0.02205456565204265,0.06110489881926472],\"type\":\"scatter\"},{\"hoverinfo\":\"none\",\"line\":{\"color\":\"#E8E8E8\",\"dash\":\"solid\",\"width\":0.7},\"mode\":\"lines\",\"x\":[-0.05743664108679999,-0.24520841550402134],\"y\":[0.02205456565204265,0.13374798501657167],\"type\":\"scatter\"},{\"hoverinfo\":\"none\",\"line\":{\"color\":\"#E8E8E8\",\"dash\":\"solid\",\"width\":0.7},\"mode\":\"lines\",\"x\":[-0.05743664108679999,0.0505300072439258],\"y\":[0.02205456565204265,-0.1483416769659575],\"type\":\"scatter\"},{\"hoverinfo\":\"none\",\"line\":{\"color\":\"#E8E8E8\",\"dash\":\"solid\",\"width\":0.7},\"mode\":\"lines\",\"x\":[-0.05743664108679999,-0.0845170272992704],\"y\":[0.02205456565204265,0.19638202589624437],\"type\":\"scatter\"},{\"hoverinfo\":\"none\",\"line\":{\"color\":\"#E8E8E8\",\"dash\":\"solid\",\"width\":0.7},\"mode\":\"lines\",\"x\":[-0.05743664108679999,-0.17196493272656052],\"y\":[0.02205456565204265,-0.12740813074216217],\"type\":\"scatter\"},{\"hoverinfo\":\"none\",\"line\":{\"color\":\"#E8E8E8\",\"dash\":\"solid\",\"width\":0.7},\"mode\":\"lines\",\"x\":[-0.028531869662610156,-0.04494137109334906],\"y\":[0.04347368601494208,0.09626481248136597],\"type\":\"scatter\"},{\"hoverinfo\":\"none\",\"line\":{\"color\":\"#E8E8E8\",\"dash\":\"solid\",\"width\":0.7},\"mode\":\"lines\",\"x\":[-0.028531869662610156,-0.12281203031820706],\"y\":[0.04347368601494208,-0.09843536964066334],\"type\":\"scatter\"},{\"hoverinfo\":\"none\",\"line\":{\"color\":\"#E8E8E8\",\"dash\":\"solid\",\"width\":0.7},\"mode\":\"lines\",\"x\":[-0.028531869662610156,-0.20322555557068964],\"y\":[0.04347368601494208,0.15596519720010432],\"type\":\"scatter\"},{\"hoverinfo\":\"none\",\"line\":{\"color\":\"#E8E8E8\",\"dash\":\"solid\",\"width\":0.7},\"mode\":\"lines\",\"x\":[-0.028531869662610156,-0.029583570089209407],\"y\":[0.04347368601494208,-0.11385733988125694],\"type\":\"scatter\"},{\"hoverinfo\":\"none\",\"line\":{\"color\":\"#E8E8E8\",\"dash\":\"solid\",\"width\":0.7},\"mode\":\"lines\",\"x\":[-0.028531869662610156,0.17987280261923122],\"y\":[0.04347368601494208,-0.0526411189593778],\"type\":\"scatter\"},{\"hoverinfo\":\"none\",\"line\":{\"color\":\"#E8E8E8\",\"dash\":\"solid\",\"width\":0.7},\"mode\":\"lines\",\"x\":[-0.028531869662610156,-0.24520841550402134],\"y\":[0.04347368601494208,0.13374798501657167],\"type\":\"scatter\"},{\"hoverinfo\":\"none\",\"line\":{\"color\":\"#E8E8E8\",\"dash\":\"solid\",\"width\":0.7},\"mode\":\"lines\",\"x\":[-0.028531869662610156,-0.0845170272992704],\"y\":[0.04347368601494208,0.19638202589624437],\"type\":\"scatter\"},{\"hoverinfo\":\"none\",\"line\":{\"color\":\"#E8E8E8\",\"dash\":\"solid\",\"width\":0.7},\"mode\":\"lines\",\"x\":[-0.028531869662610156,0.1629398261141471],\"y\":[0.04347368601494208,-0.11103709893423747],\"type\":\"scatter\"},{\"hoverinfo\":\"none\",\"line\":{\"color\":\"#E8E8E8\",\"dash\":\"solid\",\"width\":0.7},\"mode\":\"lines\",\"x\":[-0.028531869662610156,0.09851911586340306],\"y\":[0.04347368601494208,-0.15617504689855694],\"type\":\"scatter\"},{\"hoverinfo\":\"none\",\"line\":{\"color\":\"#E8E8E8\",\"dash\":\"solid\",\"width\":0.7},\"mode\":\"lines\",\"x\":[-0.028531869662610156,-0.1523779696754982],\"y\":[0.04347368601494208,0.22344848946648113],\"type\":\"scatter\"},{\"hoverinfo\":\"none\",\"line\":{\"color\":\"#E8E8E8\",\"dash\":\"solid\",\"width\":0.7},\"mode\":\"lines\",\"x\":[-0.028531869662610156,0.2647041771882963],\"y\":[0.04347368601494208,-0.11834360961746553],\"type\":\"scatter\"},{\"hoverinfo\":\"none\",\"line\":{\"color\":\"#E8E8E8\",\"dash\":\"solid\",\"width\":0.7},\"mode\":\"lines\",\"x\":[-0.028531869662610156,0.28344486598556645],\"y\":[0.04347368601494208,0.04243165910201216],\"type\":\"scatter\"},{\"hoverinfo\":\"none\",\"line\":{\"color\":\"#E8E8E8\",\"dash\":\"solid\",\"width\":0.7},\"mode\":\"lines\",\"x\":[0.15067676022460644,0.0429122785328855],\"y\":[0.02232923283115474,0.14095673312259907],\"type\":\"scatter\"},{\"hoverinfo\":\"none\",\"line\":{\"color\":\"#E8E8E8\",\"dash\":\"solid\",\"width\":0.7},\"mode\":\"lines\",\"x\":[0.15067676022460644,-0.11852981431706612],\"y\":[0.02232923283115474,-0.06908282270504768],\"type\":\"scatter\"},{\"hoverinfo\":\"none\",\"line\":{\"color\":\"#E8E8E8\",\"dash\":\"solid\",\"width\":0.7},\"mode\":\"lines\",\"x\":[0.15067676022460644,0.05331442071425577],\"y\":[0.02232923283115474,-0.07893475661902369],\"type\":\"scatter\"},{\"hoverinfo\":\"none\",\"line\":{\"color\":\"#E8E8E8\",\"dash\":\"solid\",\"width\":0.7},\"mode\":\"lines\",\"x\":[0.15067676022460644,-0.029583570089209407],\"y\":[0.02232923283115474,-0.11385733988125694],\"type\":\"scatter\"},{\"hoverinfo\":\"none\",\"line\":{\"color\":\"#E8E8E8\",\"dash\":\"solid\",\"width\":0.7},\"mode\":\"lines\",\"x\":[0.15067676022460644,0.04645437665232618],\"y\":[0.02232923283115474,0.09566720919718977],\"type\":\"scatter\"},{\"hoverinfo\":\"none\",\"line\":{\"color\":\"#E8E8E8\",\"dash\":\"solid\",\"width\":0.7},\"mode\":\"lines\",\"x\":[0.0429122785328855,0.09463985170778691],\"y\":[0.14095673312259907,-0.007683810103451875],\"type\":\"scatter\"},{\"hoverinfo\":\"none\",\"line\":{\"color\":\"#E8E8E8\",\"dash\":\"solid\",\"width\":0.7},\"mode\":\"lines\",\"x\":[0.0429122785328855,0.09851911586340306],\"y\":[0.14095673312259907,-0.15617504689855694],\"type\":\"scatter\"},{\"hoverinfo\":\"none\",\"line\":{\"color\":\"#E8E8E8\",\"dash\":\"solid\",\"width\":0.7},\"mode\":\"lines\",\"x\":[0.0429122785328855,-0.1523779696754982],\"y\":[0.14095673312259907,0.22344848946648113],\"type\":\"scatter\"},{\"hoverinfo\":\"none\",\"line\":{\"color\":\"#E8E8E8\",\"dash\":\"solid\",\"width\":0.7},\"mode\":\"lines\",\"x\":[0.0429122785328855,-0.1336542052629159],\"y\":[0.14095673312259907,0.13209859572922225],\"type\":\"scatter\"},{\"hoverinfo\":\"none\",\"line\":{\"color\":\"#E8E8E8\",\"dash\":\"solid\",\"width\":0.7},\"mode\":\"lines\",\"x\":[-0.04494137109334906,-0.22617170516911447],\"y\":[0.09626481248136597,0.0603623399545939],\"type\":\"scatter\"},{\"hoverinfo\":\"none\",\"line\":{\"color\":\"#E8E8E8\",\"dash\":\"solid\",\"width\":0.7},\"mode\":\"lines\",\"x\":[-0.04494137109334906,0.15139500288560356],\"y\":[0.09626481248136597,0.11912451908541347],\"type\":\"scatter\"},{\"hoverinfo\":\"none\",\"line\":{\"color\":\"#E8E8E8\",\"dash\":\"solid\",\"width\":0.7},\"mode\":\"lines\",\"x\":[-0.04494137109334906,0.12865044068409745],\"y\":[0.09626481248136597,-0.07965475491803664],\"type\":\"scatter\"},{\"hoverinfo\":\"none\",\"line\":{\"color\":\"#E8E8E8\",\"dash\":\"solid\",\"width\":0.7},\"mode\":\"lines\",\"x\":[-0.04494137109334906,-0.1336542052629159],\"y\":[0.09626481248136597,0.13209859572922225],\"type\":\"scatter\"},{\"hoverinfo\":\"none\",\"line\":{\"color\":\"#E8E8E8\",\"dash\":\"solid\",\"width\":0.7},\"mode\":\"lines\",\"x\":[-0.11852981431706612,0.05331442071425577],\"y\":[-0.06908282270504768,-0.07893475661902369],\"type\":\"scatter\"},{\"hoverinfo\":\"none\",\"line\":{\"color\":\"#E8E8E8\",\"dash\":\"solid\",\"width\":0.7},\"mode\":\"lines\",\"x\":[-0.11852981431706612,-0.029583570089209407],\"y\":[-0.06908282270504768,-0.11385733988125694],\"type\":\"scatter\"},{\"hoverinfo\":\"none\",\"line\":{\"color\":\"#E8E8E8\",\"dash\":\"solid\",\"width\":0.7},\"mode\":\"lines\",\"x\":[-0.11852981431706612,0.12865044068409745],\"y\":[-0.06908282270504768,-0.07965475491803664],\"type\":\"scatter\"},{\"hoverinfo\":\"none\",\"line\":{\"color\":\"#E8E8E8\",\"dash\":\"solid\",\"width\":0.7},\"mode\":\"lines\",\"x\":[-0.11852981431706612,-0.06961446972372612],\"y\":[-0.06908282270504768,0.12226732652610431],\"type\":\"scatter\"},{\"hoverinfo\":\"none\",\"line\":{\"color\":\"#E8E8E8\",\"dash\":\"solid\",\"width\":0.7},\"mode\":\"lines\",\"x\":[-0.185969777356427,-0.12281203031820706],\"y\":[0.02332577388026551,-0.09843536964066334],\"type\":\"scatter\"},{\"hoverinfo\":\"none\",\"line\":{\"color\":\"#E8E8E8\",\"dash\":\"solid\",\"width\":0.7},\"mode\":\"lines\",\"x\":[-0.185969777356427,-0.12418001476300108],\"y\":[0.02332577388026551,-0.12457297487950686],\"type\":\"scatter\"},{\"hoverinfo\":\"none\",\"line\":{\"color\":\"#E8E8E8\",\"dash\":\"solid\",\"width\":0.7},\"mode\":\"lines\",\"x\":[-0.185969777356427,-0.1523779696754982],\"y\":[0.02332577388026551,0.22344848946648113],\"type\":\"scatter\"},{\"hoverinfo\":\"none\",\"line\":{\"color\":\"#E8E8E8\",\"dash\":\"solid\",\"width\":0.7},\"mode\":\"lines\",\"x\":[0.22212978070237124,0.05677264608881407],\"y\":[0.027184782024261556,0.06110489881926472],\"type\":\"scatter\"},{\"hoverinfo\":\"none\",\"line\":{\"color\":\"#E8E8E8\",\"dash\":\"solid\",\"width\":0.7},\"mode\":\"lines\",\"x\":[0.22212978070237124,0.2647041771882963],\"y\":[0.027184782024261556,-0.11834360961746553],\"type\":\"scatter\"},{\"hoverinfo\":\"none\",\"line\":{\"color\":\"#E8E8E8\",\"dash\":\"solid\",\"width\":0.7},\"mode\":\"lines\",\"x\":[0.10925689071633819,0.04645437665232618],\"y\":[0.11010146346982091,0.09566720919718977],\"type\":\"scatter\"},{\"hoverinfo\":\"none\",\"line\":{\"color\":\"#E8E8E8\",\"dash\":\"solid\",\"width\":0.7},\"mode\":\"lines\",\"x\":[0.10925689071633819,0.09463985170778691],\"y\":[0.11010146346982091,-0.007683810103451875],\"type\":\"scatter\"},{\"hoverinfo\":\"none\",\"line\":{\"color\":\"#E8E8E8\",\"dash\":\"solid\",\"width\":0.7},\"mode\":\"lines\",\"x\":[0.10925689071633819,0.07054972484232797],\"y\":[0.11010146346982091,0.18463618836255125],\"type\":\"scatter\"},{\"hoverinfo\":\"none\",\"line\":{\"color\":\"#E8E8E8\",\"dash\":\"solid\",\"width\":0.7},\"mode\":\"lines\",\"x\":[0.10925689071633819,0.17987280261923122],\"y\":[0.11010146346982091,-0.0526411189593778],\"type\":\"scatter\"},{\"hoverinfo\":\"none\",\"line\":{\"color\":\"#E8E8E8\",\"dash\":\"solid\",\"width\":0.7},\"mode\":\"lines\",\"x\":[-0.12281203031820706,-0.12418001476300108],\"y\":[-0.09843536964066334,-0.12457297487950686],\"type\":\"scatter\"},{\"hoverinfo\":\"none\",\"line\":{\"color\":\"#E8E8E8\",\"dash\":\"solid\",\"width\":0.7},\"mode\":\"lines\",\"x\":[-0.12281203031820706,0.024100532088113642],\"y\":[-0.09843536964066334,-0.2523412728071196],\"type\":\"scatter\"},{\"hoverinfo\":\"none\",\"line\":{\"color\":\"#E8E8E8\",\"dash\":\"solid\",\"width\":0.7},\"mode\":\"lines\",\"x\":[-0.20322555557068964,-0.19994489303716426],\"y\":[0.15596519720010432,-0.05531259315115445],\"type\":\"scatter\"},{\"hoverinfo\":\"none\",\"line\":{\"color\":\"#E8E8E8\",\"dash\":\"solid\",\"width\":0.7},\"mode\":\"lines\",\"x\":[-0.20322555557068964,-0.24520841550402134],\"y\":[0.15596519720010432,0.13374798501657167],\"type\":\"scatter\"},{\"hoverinfo\":\"none\",\"line\":{\"color\":\"#E8E8E8\",\"dash\":\"solid\",\"width\":0.7},\"mode\":\"lines\",\"x\":[0.05331442071425577,-0.13898107580962668],\"y\":[-0.07893475661902369,-0.1491506013185887],\"type\":\"scatter\"},{\"hoverinfo\":\"none\",\"line\":{\"color\":\"#E8E8E8\",\"dash\":\"solid\",\"width\":0.7},\"mode\":\"lines\",\"x\":[0.05331442071425577,0.04645437665232618],\"y\":[-0.07893475661902369,0.09566720919718977],\"type\":\"scatter\"},{\"hoverinfo\":\"none\",\"line\":{\"color\":\"#E8E8E8\",\"dash\":\"solid\",\"width\":0.7},\"mode\":\"lines\",\"x\":[0.05331442071425577,0.09463985170778691],\"y\":[-0.07893475661902369,-0.007683810103451875],\"type\":\"scatter\"},{\"hoverinfo\":\"none\",\"line\":{\"color\":\"#E8E8E8\",\"dash\":\"solid\",\"width\":0.7},\"mode\":\"lines\",\"x\":[0.05331442071425577,0.04893262955072509],\"y\":[-0.07893475661902369,-0.19740398728816083],\"type\":\"scatter\"},{\"hoverinfo\":\"none\",\"line\":{\"color\":\"#E8E8E8\",\"dash\":\"solid\",\"width\":0.7},\"mode\":\"lines\",\"x\":[0.05331442071425577,0.12865044068409745],\"y\":[-0.07893475661902369,-0.07965475491803664],\"type\":\"scatter\"},{\"hoverinfo\":\"none\",\"line\":{\"color\":\"#E8E8E8\",\"dash\":\"solid\",\"width\":0.7},\"mode\":\"lines\",\"x\":[0.05331442071425577,0.28344486598556645],\"y\":[-0.07893475661902369,0.04243165910201216],\"type\":\"scatter\"},{\"hoverinfo\":\"none\",\"line\":{\"color\":\"#E8E8E8\",\"dash\":\"solid\",\"width\":0.7},\"mode\":\"lines\",\"x\":[-0.12418001476300108,-0.06961446972372612],\"y\":[-0.12457297487950686,0.12226732652610431],\"type\":\"scatter\"},{\"hoverinfo\":\"none\",\"line\":{\"color\":\"#E8E8E8\",\"dash\":\"solid\",\"width\":0.7},\"mode\":\"lines\",\"x\":[-0.13898107580962668,0.09463985170778691],\"y\":[-0.1491506013185887,-0.007683810103451875],\"type\":\"scatter\"},{\"hoverinfo\":\"none\",\"line\":{\"color\":\"#E8E8E8\",\"dash\":\"solid\",\"width\":0.7},\"mode\":\"lines\",\"x\":[-0.13898107580962668,0.04893262955072509],\"y\":[-0.1491506013185887,-0.19740398728816083],\"type\":\"scatter\"},{\"hoverinfo\":\"none\",\"line\":{\"color\":\"#E8E8E8\",\"dash\":\"solid\",\"width\":0.7},\"mode\":\"lines\",\"x\":[-0.19994489303716426,-0.18195453098118677],\"y\":[-0.05531259315115445,0.10886380939931106],\"type\":\"scatter\"},{\"hoverinfo\":\"none\",\"line\":{\"color\":\"#E8E8E8\",\"dash\":\"solid\",\"width\":0.7},\"mode\":\"lines\",\"x\":[-0.029583570089209407,0.12865044068409745],\"y\":[-0.11385733988125694,-0.07965475491803664],\"type\":\"scatter\"},{\"hoverinfo\":\"none\",\"line\":{\"color\":\"#E8E8E8\",\"dash\":\"solid\",\"width\":0.7},\"mode\":\"lines\",\"x\":[0.12993462954978785,0.0505300072439258],\"y\":[-0.1563171772286875,-0.1483416769659575],\"type\":\"scatter\"},{\"hoverinfo\":\"none\",\"line\":{\"color\":\"#E8E8E8\",\"dash\":\"solid\",\"width\":0.7},\"mode\":\"lines\",\"x\":[0.12993462954978785,0.04893262955072509],\"y\":[-0.1563171772286875,-0.19740398728816083],\"type\":\"scatter\"},{\"hoverinfo\":\"none\",\"line\":{\"color\":\"#E8E8E8\",\"dash\":\"solid\",\"width\":0.7},\"mode\":\"lines\",\"x\":[-0.18195453098118677,-0.0845170272992704],\"y\":[0.10886380939931106,0.19638202589624437],\"type\":\"scatter\"},{\"hoverinfo\":\"none\",\"line\":{\"color\":\"#E8E8E8\",\"dash\":\"solid\",\"width\":0.7},\"mode\":\"lines\",\"x\":[-0.18195453098118677,-0.1523779696754982],\"y\":[0.10886380939931106,0.22344848946648113],\"type\":\"scatter\"},{\"hoverinfo\":\"none\",\"line\":{\"color\":\"#E8E8E8\",\"dash\":\"solid\",\"width\":0.7},\"mode\":\"lines\",\"x\":[-0.1092578961238818,-0.1336542052629159],\"y\":[-0.15960943916650963,0.13209859572922225],\"type\":\"scatter\"},{\"hoverinfo\":\"none\",\"line\":{\"color\":\"#E8E8E8\",\"dash\":\"solid\",\"width\":0.7},\"mode\":\"lines\",\"x\":[0.04645437665232618,0.0505300072439258],\"y\":[0.09566720919718977,-0.1483416769659575],\"type\":\"scatter\"},{\"hoverinfo\":\"none\",\"line\":{\"color\":\"#E8E8E8\",\"dash\":\"solid\",\"width\":0.7},\"mode\":\"lines\",\"x\":[0.04645437665232618,0.28344486598556645],\"y\":[0.09566720919718977,0.04243165910201216],\"type\":\"scatter\"},{\"hoverinfo\":\"none\",\"line\":{\"color\":\"#E8E8E8\",\"dash\":\"solid\",\"width\":0.7},\"mode\":\"lines\",\"x\":[0.05677264608881407,0.09463985170778691],\"y\":[0.06110489881926472,-0.007683810103451875],\"type\":\"scatter\"},{\"hoverinfo\":\"none\",\"line\":{\"color\":\"#E8E8E8\",\"dash\":\"solid\",\"width\":0.7},\"mode\":\"lines\",\"x\":[0.05677264608881407,0.07054972484232797],\"y\":[0.06110489881926472,0.18463618836255125],\"type\":\"scatter\"},{\"hoverinfo\":\"none\",\"line\":{\"color\":\"#E8E8E8\",\"dash\":\"solid\",\"width\":0.7},\"mode\":\"lines\",\"x\":[0.09463985170778691,0.07054972484232797],\"y\":[-0.007683810103451875,0.18463618836255125],\"type\":\"scatter\"},{\"hoverinfo\":\"none\",\"line\":{\"color\":\"#E8E8E8\",\"dash\":\"solid\",\"width\":0.7},\"mode\":\"lines\",\"x\":[0.09463985170778691,0.04893262955072509],\"y\":[-0.007683810103451875,-0.19740398728816083],\"type\":\"scatter\"},{\"hoverinfo\":\"none\",\"line\":{\"color\":\"#E8E8E8\",\"dash\":\"solid\",\"width\":0.7},\"mode\":\"lines\",\"x\":[0.07054972484232797,0.15139500288560356],\"y\":[0.18463618836255125,0.11912451908541347],\"type\":\"scatter\"},{\"hoverinfo\":\"none\",\"line\":{\"color\":\"#E8E8E8\",\"dash\":\"solid\",\"width\":0.7},\"mode\":\"lines\",\"x\":[0.07054972484232797,-0.1523779696754982],\"y\":[0.18463618836255125,0.22344848946648113],\"type\":\"scatter\"},{\"hoverinfo\":\"none\",\"line\":{\"color\":\"#E8E8E8\",\"dash\":\"solid\",\"width\":0.7},\"mode\":\"lines\",\"x\":[0.024100532088113642,0.12865044068409745],\"y\":[-0.2523412728071196,-0.07965475491803664],\"type\":\"scatter\"},{\"hoverinfo\":\"none\",\"line\":{\"color\":\"#E8E8E8\",\"dash\":\"solid\",\"width\":0.7},\"mode\":\"lines\",\"x\":[0.17987280261923122,0.1629398261141471],\"y\":[-0.0526411189593778,-0.11103709893423747],\"type\":\"scatter\"},{\"hoverinfo\":\"none\",\"line\":{\"color\":\"#E8E8E8\",\"dash\":\"solid\",\"width\":0.7},\"mode\":\"lines\",\"x\":[0.17987280261923122,0.09851911586340306],\"y\":[-0.0526411189593778,-0.15617504689855694],\"type\":\"scatter\"},{\"hoverinfo\":\"none\",\"line\":{\"color\":\"#E8E8E8\",\"dash\":\"solid\",\"width\":0.7},\"mode\":\"lines\",\"x\":[0.17987280261923122,0.2647041771882963],\"y\":[-0.0526411189593778,-0.11834360961746553],\"type\":\"scatter\"},{\"hoverinfo\":\"none\",\"line\":{\"color\":\"#E8E8E8\",\"dash\":\"solid\",\"width\":0.7},\"mode\":\"lines\",\"x\":[0.17987280261923122,0.28344486598556645],\"y\":[-0.0526411189593778,0.04243165910201216],\"type\":\"scatter\"},{\"hoverinfo\":\"none\",\"line\":{\"color\":\"#E8E8E8\",\"dash\":\"solid\",\"width\":0.7},\"mode\":\"lines\",\"x\":[0.17987280261923122,-0.05567826942269471],\"y\":[-0.0526411189593778,-0.19248655738290024],\"type\":\"scatter\"},{\"hoverinfo\":\"none\",\"line\":{\"color\":\"#E8E8E8\",\"dash\":\"solid\",\"width\":0.7},\"mode\":\"lines\",\"x\":[0.0505300072439258,-0.17196493272656052],\"y\":[-0.1483416769659575,-0.12740813074216217],\"type\":\"scatter\"},{\"hoverinfo\":\"none\",\"line\":{\"color\":\"#E8E8E8\",\"dash\":\"solid\",\"width\":0.7},\"mode\":\"lines\",\"x\":[0.1629398261141471,0.09851911586340306],\"y\":[-0.11103709893423747,-0.15617504689855694],\"type\":\"scatter\"},{\"hoverinfo\":\"none\",\"line\":{\"color\":\"#E8E8E8\",\"dash\":\"solid\",\"width\":0.7},\"mode\":\"lines\",\"x\":[0.1629398261141471,0.04893262955072509],\"y\":[-0.11103709893423747,-0.19740398728816083],\"type\":\"scatter\"},{\"hoverinfo\":\"none\",\"line\":{\"color\":\"#E8E8E8\",\"dash\":\"solid\",\"width\":0.7},\"mode\":\"lines\",\"x\":[0.15139500288560356,0.12865044068409745],\"y\":[0.11912451908541347,-0.07965475491803664],\"type\":\"scatter\"},{\"hoverinfo\":\"none\",\"line\":{\"color\":\"#E8E8E8\",\"dash\":\"solid\",\"width\":0.7},\"mode\":\"lines\",\"x\":[0.09851911586340306,0.2647041771882963],\"y\":[-0.15617504689855694,-0.11834360961746553],\"type\":\"scatter\"},{\"hoverinfo\":\"none\",\"line\":{\"color\":\"#E8E8E8\",\"dash\":\"solid\",\"width\":0.7},\"mode\":\"lines\",\"x\":[0.20985144520622326,0.28344486598556645],\"y\":[-0.053745137854570565,0.04243165910201216],\"type\":\"scatter\"},{\"hoverinfo\":\"none\",\"line\":{\"color\":\"#E8E8E8\",\"dash\":\"solid\",\"width\":0.9771084337349396},\"mode\":\"lines\",\"x\":[-0.02255445849607741,-0.10867589590122384],\"y\":[-0.08027263031689079,0.012581899781084321],\"type\":\"scatter\"},{\"hoverinfo\":\"none\",\"line\":{\"color\":\"#E8E8E8\",\"dash\":\"solid\",\"width\":0.9771084337349396},\"mode\":\"lines\",\"x\":[-0.02255445849607741,-0.12297866697639599],\"y\":[-0.08027263031689079,-0.017694577327360822],\"type\":\"scatter\"},{\"hoverinfo\":\"none\",\"line\":{\"color\":\"#E8E8E8\",\"dash\":\"solid\",\"width\":0.9771084337349396},\"mode\":\"lines\",\"x\":[-0.02255445849607741,0.06785103515693583],\"y\":[-0.08027263031689079,0.035862581526662815],\"type\":\"scatter\"},{\"hoverinfo\":\"none\",\"line\":{\"color\":\"#E8E8E8\",\"dash\":\"solid\",\"width\":0.9771084337349396},\"mode\":\"lines\",\"x\":[-0.02255445849607741,-0.11852981431706612],\"y\":[-0.08027263031689079,-0.06908282270504768],\"type\":\"scatter\"},{\"hoverinfo\":\"none\",\"line\":{\"color\":\"#E8E8E8\",\"dash\":\"solid\",\"width\":0.9771084337349396},\"mode\":\"lines\",\"x\":[-0.02255445849607741,-0.185969777356427],\"y\":[-0.08027263031689079,0.02332577388026551],\"type\":\"scatter\"},{\"hoverinfo\":\"none\",\"line\":{\"color\":\"#E8E8E8\",\"dash\":\"solid\",\"width\":0.9771084337349396},\"mode\":\"lines\",\"x\":[-0.02255445849607741,-0.12418001476300108],\"y\":[-0.08027263031689079,-0.12457297487950686],\"type\":\"scatter\"},{\"hoverinfo\":\"none\",\"line\":{\"color\":\"#E8E8E8\",\"dash\":\"solid\",\"width\":0.9771084337349396},\"mode\":\"lines\",\"x\":[-0.02255445849607741,-0.13898107580962668],\"y\":[-0.08027263031689079,-0.1491506013185887],\"type\":\"scatter\"},{\"hoverinfo\":\"none\",\"line\":{\"color\":\"#E8E8E8\",\"dash\":\"solid\",\"width\":0.9771084337349396},\"mode\":\"lines\",\"x\":[-0.02255445849607741,0.09463985170778691],\"y\":[-0.08027263031689079,-0.007683810103451875],\"type\":\"scatter\"},{\"hoverinfo\":\"none\",\"line\":{\"color\":\"#E8E8E8\",\"dash\":\"solid\",\"width\":0.9771084337349396},\"mode\":\"lines\",\"x\":[-0.02255445849607741,0.20985144520622326],\"y\":[-0.08027263031689079,-0.053745137854570565],\"type\":\"scatter\"},{\"hoverinfo\":\"none\",\"line\":{\"color\":\"#E8E8E8\",\"dash\":\"solid\",\"width\":0.9771084337349396},\"mode\":\"lines\",\"x\":[-0.02255445849607741,-0.05567826942269471],\"y\":[-0.08027263031689079,-0.19248655738290024],\"type\":\"scatter\"},{\"hoverinfo\":\"none\",\"line\":{\"color\":\"#E8E8E8\",\"dash\":\"solid\",\"width\":0.9771084337349396},\"mode\":\"lines\",\"x\":[-0.07302517807265257,0.03349324352788613],\"y\":[-0.03507102863817463,-0.1157046877996965],\"type\":\"scatter\"},{\"hoverinfo\":\"none\",\"line\":{\"color\":\"#E8E8E8\",\"dash\":\"solid\",\"width\":0.9771084337349396},\"mode\":\"lines\",\"x\":[-0.07302517807265257,-0.028531869662610156],\"y\":[-0.03507102863817463,0.04347368601494208],\"type\":\"scatter\"},{\"hoverinfo\":\"none\",\"line\":{\"color\":\"#E8E8E8\",\"dash\":\"solid\",\"width\":0.9771084337349396},\"mode\":\"lines\",\"x\":[-0.07302517807265257,-0.11852981431706612],\"y\":[-0.03507102863817463,-0.06908282270504768],\"type\":\"scatter\"},{\"hoverinfo\":\"none\",\"line\":{\"color\":\"#E8E8E8\",\"dash\":\"solid\",\"width\":0.9771084337349396},\"mode\":\"lines\",\"x\":[-0.07302517807265257,-0.185969777356427],\"y\":[-0.03507102863817463,0.02332577388026551],\"type\":\"scatter\"},{\"hoverinfo\":\"none\",\"line\":{\"color\":\"#E8E8E8\",\"dash\":\"solid\",\"width\":0.9771084337349396},\"mode\":\"lines\",\"x\":[-0.07302517807265257,-0.22617170516911447],\"y\":[-0.03507102863817463,0.0603623399545939],\"type\":\"scatter\"},{\"hoverinfo\":\"none\",\"line\":{\"color\":\"#E8E8E8\",\"dash\":\"solid\",\"width\":0.9771084337349396},\"mode\":\"lines\",\"x\":[-0.07302517807265257,-0.20322555557068964],\"y\":[-0.03507102863817463,0.15596519720010432],\"type\":\"scatter\"},{\"hoverinfo\":\"none\",\"line\":{\"color\":\"#E8E8E8\",\"dash\":\"solid\",\"width\":0.9771084337349396},\"mode\":\"lines\",\"x\":[-0.07302517807265257,-0.13898107580962668],\"y\":[-0.03507102863817463,-0.1491506013185887],\"type\":\"scatter\"},{\"hoverinfo\":\"none\",\"line\":{\"color\":\"#E8E8E8\",\"dash\":\"solid\",\"width\":0.9771084337349396},\"mode\":\"lines\",\"x\":[-0.07302517807265257,-0.029583570089209407],\"y\":[-0.03507102863817463,-0.11385733988125694],\"type\":\"scatter\"},{\"hoverinfo\":\"none\",\"line\":{\"color\":\"#E8E8E8\",\"dash\":\"solid\",\"width\":0.9771084337349396},\"mode\":\"lines\",\"x\":[-0.07302517807265257,0.04645437665232618],\"y\":[-0.03507102863817463,0.09566720919718977],\"type\":\"scatter\"},{\"hoverinfo\":\"none\",\"line\":{\"color\":\"#E8E8E8\",\"dash\":\"solid\",\"width\":0.9771084337349396},\"mode\":\"lines\",\"x\":[-0.07302517807265257,0.04893262955072509],\"y\":[-0.03507102863817463,-0.19740398728816083],\"type\":\"scatter\"},{\"hoverinfo\":\"none\",\"line\":{\"color\":\"#E8E8E8\",\"dash\":\"solid\",\"width\":0.9771084337349396},\"mode\":\"lines\",\"x\":[-0.04411474174643428,0.01754902091177313],\"y\":[-0.02570351964636365,-0.022860884368591298],\"type\":\"scatter\"},{\"hoverinfo\":\"none\",\"line\":{\"color\":\"#E8E8E8\",\"dash\":\"solid\",\"width\":0.9771084337349396},\"mode\":\"lines\",\"x\":[-0.04411474174643428,-0.12281203031820706],\"y\":[-0.02570351964636365,-0.09843536964066334],\"type\":\"scatter\"},{\"hoverinfo\":\"none\",\"line\":{\"color\":\"#E8E8E8\",\"dash\":\"solid\",\"width\":0.9771084337349396},\"mode\":\"lines\",\"x\":[-0.04411474174643428,-0.1092578961238818],\"y\":[-0.02570351964636365,-0.15960943916650963],\"type\":\"scatter\"},{\"hoverinfo\":\"none\",\"line\":{\"color\":\"#E8E8E8\",\"dash\":\"solid\",\"width\":0.9771084337349396},\"mode\":\"lines\",\"x\":[-0.04411474174643428,0.05677264608881407],\"y\":[-0.02570351964636365,0.06110489881926472],\"type\":\"scatter\"},{\"hoverinfo\":\"none\",\"line\":{\"color\":\"#E8E8E8\",\"dash\":\"solid\",\"width\":0.9771084337349396},\"mode\":\"lines\",\"x\":[-0.04411474174643428,0.09463985170778691],\"y\":[-0.02570351964636365,-0.007683810103451875],\"type\":\"scatter\"},{\"hoverinfo\":\"none\",\"line\":{\"color\":\"#E8E8E8\",\"dash\":\"solid\",\"width\":0.9771084337349396},\"mode\":\"lines\",\"x\":[-0.04411474174643428,-0.0845170272992704],\"y\":[-0.02570351964636365,0.19638202589624437],\"type\":\"scatter\"},{\"hoverinfo\":\"none\",\"line\":{\"color\":\"#E8E8E8\",\"dash\":\"solid\",\"width\":0.9771084337349396},\"mode\":\"lines\",\"x\":[0.08454043703939625,0.10925689071633819],\"y\":[-0.028587744644051612,0.11010146346982091],\"type\":\"scatter\"},{\"hoverinfo\":\"none\",\"line\":{\"color\":\"#E8E8E8\",\"dash\":\"solid\",\"width\":0.9771084337349396},\"mode\":\"lines\",\"x\":[0.08454043703939625,0.09463985170778691],\"y\":[-0.028587744644051612,-0.007683810103451875],\"type\":\"scatter\"},{\"hoverinfo\":\"none\",\"line\":{\"color\":\"#E8E8E8\",\"dash\":\"solid\",\"width\":0.9771084337349396},\"mode\":\"lines\",\"x\":[0.08454043703939625,0.1629398261141471],\"y\":[-0.028587744644051612,-0.11103709893423747],\"type\":\"scatter\"},{\"hoverinfo\":\"none\",\"line\":{\"color\":\"#E8E8E8\",\"dash\":\"solid\",\"width\":0.9771084337349396},\"mode\":\"lines\",\"x\":[0.03349324352788613,0.04881175386657501],\"y\":[-0.1157046877996965,0.01944277062717638],\"type\":\"scatter\"},{\"hoverinfo\":\"none\",\"line\":{\"color\":\"#E8E8E8\",\"dash\":\"solid\",\"width\":0.9771084337349396},\"mode\":\"lines\",\"x\":[0.03349324352788613,-0.05743664108679999],\"y\":[-0.1157046877996965,0.02205456565204265],\"type\":\"scatter\"},{\"hoverinfo\":\"none\",\"line\":{\"color\":\"#E8E8E8\",\"dash\":\"solid\",\"width\":0.9771084337349396},\"mode\":\"lines\",\"x\":[-0.05022313516650214,-0.10867589590122384],\"y\":[-0.005931601344967606,0.012581899781084321],\"type\":\"scatter\"},{\"hoverinfo\":\"none\",\"line\":{\"color\":\"#E8E8E8\",\"dash\":\"solid\",\"width\":0.9771084337349396},\"mode\":\"lines\",\"x\":[-0.05022313516650214,-0.12281203031820706],\"y\":[-0.005931601344967606,-0.09843536964066334],\"type\":\"scatter\"},{\"hoverinfo\":\"none\",\"line\":{\"color\":\"#E8E8E8\",\"dash\":\"solid\",\"width\":0.9771084337349396},\"mode\":\"lines\",\"x\":[-0.10867589590122384,-0.12297866697639599],\"y\":[0.012581899781084321,-0.017694577327360822],\"type\":\"scatter\"},{\"hoverinfo\":\"none\",\"line\":{\"color\":\"#E8E8E8\",\"dash\":\"solid\",\"width\":0.9771084337349396},\"mode\":\"lines\",\"x\":[-0.10867589590122384,0.01754902091177313],\"y\":[0.012581899781084321,-0.022860884368591298],\"type\":\"scatter\"},{\"hoverinfo\":\"none\",\"line\":{\"color\":\"#E8E8E8\",\"dash\":\"solid\",\"width\":0.9771084337349396},\"mode\":\"lines\",\"x\":[-0.10867589590122384,-0.05743664108679999],\"y\":[0.012581899781084321,0.02205456565204265],\"type\":\"scatter\"},{\"hoverinfo\":\"none\",\"line\":{\"color\":\"#E8E8E8\",\"dash\":\"solid\",\"width\":0.9771084337349396},\"mode\":\"lines\",\"x\":[-0.10867589590122384,-0.028531869662610156],\"y\":[0.012581899781084321,0.04347368601494208],\"type\":\"scatter\"},{\"hoverinfo\":\"none\",\"line\":{\"color\":\"#E8E8E8\",\"dash\":\"solid\",\"width\":0.9771084337349396},\"mode\":\"lines\",\"x\":[-0.10867589590122384,-0.19994489303716426],\"y\":[0.012581899781084321,-0.05531259315115445],\"type\":\"scatter\"},{\"hoverinfo\":\"none\",\"line\":{\"color\":\"#E8E8E8\",\"dash\":\"solid\",\"width\":0.9771084337349396},\"mode\":\"lines\",\"x\":[-0.10867589590122384,-0.1523779696754982],\"y\":[0.012581899781084321,0.22344848946648113],\"type\":\"scatter\"},{\"hoverinfo\":\"none\",\"line\":{\"color\":\"#E8E8E8\",\"dash\":\"solid\",\"width\":0.9771084337349396},\"mode\":\"lines\",\"x\":[-0.042670106985513684,0.024100532088113642],\"y\":[-0.24786919397009546,-0.2523412728071196],\"type\":\"scatter\"},{\"hoverinfo\":\"none\",\"line\":{\"color\":\"#E8E8E8\",\"dash\":\"solid\",\"width\":0.9771084337349396},\"mode\":\"lines\",\"x\":[-0.12297866697639599,-0.11852981431706612],\"y\":[-0.017694577327360822,-0.06908282270504768],\"type\":\"scatter\"},{\"hoverinfo\":\"none\",\"line\":{\"color\":\"#E8E8E8\",\"dash\":\"solid\",\"width\":0.9771084337349396},\"mode\":\"lines\",\"x\":[-0.12297866697639599,-0.12281203031820706],\"y\":[-0.017694577327360822,-0.09843536964066334],\"type\":\"scatter\"},{\"hoverinfo\":\"none\",\"line\":{\"color\":\"#E8E8E8\",\"dash\":\"solid\",\"width\":0.9771084337349396},\"mode\":\"lines\",\"x\":[0.04881175386657501,0.06785103515693583],\"y\":[0.01944277062717638,0.035862581526662815],\"type\":\"scatter\"},{\"hoverinfo\":\"none\",\"line\":{\"color\":\"#E8E8E8\",\"dash\":\"solid\",\"width\":0.9771084337349396},\"mode\":\"lines\",\"x\":[0.04881175386657501,-0.05743664108679999],\"y\":[0.01944277062717638,0.02205456565204265],\"type\":\"scatter\"},{\"hoverinfo\":\"none\",\"line\":{\"color\":\"#E8E8E8\",\"dash\":\"solid\",\"width\":0.9771084337349396},\"mode\":\"lines\",\"x\":[0.04881175386657501,0.15067676022460644],\"y\":[0.01944277062717638,0.02232923283115474],\"type\":\"scatter\"},{\"hoverinfo\":\"none\",\"line\":{\"color\":\"#E8E8E8\",\"dash\":\"solid\",\"width\":0.9771084337349396},\"mode\":\"lines\",\"x\":[0.04881175386657501,0.1629398261141471],\"y\":[0.01944277062717638,-0.11103709893423747],\"type\":\"scatter\"},{\"hoverinfo\":\"none\",\"line\":{\"color\":\"#E8E8E8\",\"dash\":\"solid\",\"width\":0.9771084337349396},\"mode\":\"lines\",\"x\":[0.06785103515693583,0.22212978070237124],\"y\":[0.035862581526662815,0.027184782024261556],\"type\":\"scatter\"},{\"hoverinfo\":\"none\",\"line\":{\"color\":\"#E8E8E8\",\"dash\":\"solid\",\"width\":0.9771084337349396},\"mode\":\"lines\",\"x\":[0.06785103515693583,0.05677264608881407],\"y\":[0.035862581526662815,0.06110489881926472],\"type\":\"scatter\"},{\"hoverinfo\":\"none\",\"line\":{\"color\":\"#E8E8E8\",\"dash\":\"solid\",\"width\":0.9771084337349396},\"mode\":\"lines\",\"x\":[0.06785103515693583,0.07054972484232797],\"y\":[0.035862581526662815,0.18463618836255125],\"type\":\"scatter\"},{\"hoverinfo\":\"none\",\"line\":{\"color\":\"#E8E8E8\",\"dash\":\"solid\",\"width\":0.9771084337349396},\"mode\":\"lines\",\"x\":[0.06785103515693583,0.17987280261923122],\"y\":[0.035862581526662815,-0.0526411189593778],\"type\":\"scatter\"},{\"hoverinfo\":\"none\",\"line\":{\"color\":\"#E8E8E8\",\"dash\":\"solid\",\"width\":0.9771084337349396},\"mode\":\"lines\",\"x\":[-0.11876863509836466,-0.05743664108679999],\"y\":[0.0306078948548714,0.02205456565204265],\"type\":\"scatter\"},{\"hoverinfo\":\"none\",\"line\":{\"color\":\"#E8E8E8\",\"dash\":\"solid\",\"width\":0.9771084337349396},\"mode\":\"lines\",\"x\":[-0.11876863509836466,-0.13898107580962668],\"y\":[0.0306078948548714,-0.1491506013185887],\"type\":\"scatter\"},{\"hoverinfo\":\"none\",\"line\":{\"color\":\"#E8E8E8\",\"dash\":\"solid\",\"width\":0.9771084337349396},\"mode\":\"lines\",\"x\":[-0.11876863509836466,0.04645437665232618],\"y\":[0.0306078948548714,0.09566720919718977],\"type\":\"scatter\"},{\"hoverinfo\":\"none\",\"line\":{\"color\":\"#E8E8E8\",\"dash\":\"solid\",\"width\":0.9771084337349396},\"mode\":\"lines\",\"x\":[-0.11876863509836466,-0.22282847311132453],\"y\":[0.0306078948548714,-0.0980183233713624],\"type\":\"scatter\"},{\"hoverinfo\":\"none\",\"line\":{\"color\":\"#E8E8E8\",\"dash\":\"solid\",\"width\":0.9771084337349396},\"mode\":\"lines\",\"x\":[0.01754902091177313,0.20985144520622326],\"y\":[-0.022860884368591298,-0.053745137854570565],\"type\":\"scatter\"},{\"hoverinfo\":\"none\",\"line\":{\"color\":\"#E8E8E8\",\"dash\":\"solid\",\"width\":0.9771084337349396},\"mode\":\"lines\",\"x\":[-0.05743664108679999,-0.029583570089209407],\"y\":[0.02205456565204265,-0.11385733988125694],\"type\":\"scatter\"},{\"hoverinfo\":\"none\",\"line\":{\"color\":\"#E8E8E8\",\"dash\":\"solid\",\"width\":0.9771084337349396},\"mode\":\"lines\",\"x\":[-0.05743664108679999,0.04645437665232618],\"y\":[0.02205456565204265,0.09566720919718977],\"type\":\"scatter\"},{\"hoverinfo\":\"none\",\"line\":{\"color\":\"#E8E8E8\",\"dash\":\"solid\",\"width\":0.9771084337349396},\"mode\":\"lines\",\"x\":[-0.028531869662610156,-0.22617170516911447],\"y\":[0.04347368601494208,0.0603623399545939],\"type\":\"scatter\"},{\"hoverinfo\":\"none\",\"line\":{\"color\":\"#E8E8E8\",\"dash\":\"solid\",\"width\":0.9771084337349396},\"mode\":\"lines\",\"x\":[0.15067676022460644,0.05677264608881407],\"y\":[0.02232923283115474,0.06110489881926472],\"type\":\"scatter\"},{\"hoverinfo\":\"none\",\"line\":{\"color\":\"#E8E8E8\",\"dash\":\"solid\",\"width\":0.9771084337349396},\"mode\":\"lines\",\"x\":[0.15067676022460644,0.12865044068409745],\"y\":[0.02232923283115474,-0.07965475491803664],\"type\":\"scatter\"},{\"hoverinfo\":\"none\",\"line\":{\"color\":\"#E8E8E8\",\"dash\":\"solid\",\"width\":0.9771084337349396},\"mode\":\"lines\",\"x\":[0.0429122785328855,0.10925689071633819],\"y\":[0.14095673312259907,0.11010146346982091],\"type\":\"scatter\"},{\"hoverinfo\":\"none\",\"line\":{\"color\":\"#E8E8E8\",\"dash\":\"solid\",\"width\":0.9771084337349396},\"mode\":\"lines\",\"x\":[0.0429122785328855,0.07054972484232797],\"y\":[0.14095673312259907,0.18463618836255125],\"type\":\"scatter\"},{\"hoverinfo\":\"none\",\"line\":{\"color\":\"#E8E8E8\",\"dash\":\"solid\",\"width\":0.9771084337349396},\"mode\":\"lines\",\"x\":[0.0429122785328855,0.15139500288560356],\"y\":[0.14095673312259907,0.11912451908541347],\"type\":\"scatter\"},{\"hoverinfo\":\"none\",\"line\":{\"color\":\"#E8E8E8\",\"dash\":\"solid\",\"width\":0.9771084337349396},\"mode\":\"lines\",\"x\":[-0.11852981431706612,-0.22282847311132453],\"y\":[-0.06908282270504768,-0.0980183233713624],\"type\":\"scatter\"},{\"hoverinfo\":\"none\",\"line\":{\"color\":\"#E8E8E8\",\"dash\":\"solid\",\"width\":0.9771084337349396},\"mode\":\"lines\",\"x\":[-0.12281203031820706,-0.029583570089209407],\"y\":[-0.09843536964066334,-0.11385733988125694],\"type\":\"scatter\"},{\"hoverinfo\":\"none\",\"line\":{\"color\":\"#E8E8E8\",\"dash\":\"solid\",\"width\":0.9771084337349396},\"mode\":\"lines\",\"x\":[-0.22617170516911447,-0.24520841550402134],\"y\":[0.0603623399545939,0.13374798501657167],\"type\":\"scatter\"},{\"hoverinfo\":\"none\",\"line\":{\"color\":\"#E8E8E8\",\"dash\":\"solid\",\"width\":0.9771084337349396},\"mode\":\"lines\",\"x\":[0.05331442071425577,-0.029583570089209407],\"y\":[-0.07893475661902369,-0.11385733988125694],\"type\":\"scatter\"},{\"hoverinfo\":\"none\",\"line\":{\"color\":\"#E8E8E8\",\"dash\":\"solid\",\"width\":0.9771084337349396},\"mode\":\"lines\",\"x\":[-0.12418001476300108,-0.05567826942269471],\"y\":[-0.12457297487950686,-0.19248655738290024],\"type\":\"scatter\"},{\"hoverinfo\":\"none\",\"line\":{\"color\":\"#E8E8E8\",\"dash\":\"solid\",\"width\":0.9771084337349396},\"mode\":\"lines\",\"x\":[-0.13898107580962668,-0.22282847311132453],\"y\":[-0.1491506013185887,-0.0980183233713624],\"type\":\"scatter\"},{\"hoverinfo\":\"none\",\"line\":{\"color\":\"#E8E8E8\",\"dash\":\"solid\",\"width\":0.9771084337349396},\"mode\":\"lines\",\"x\":[-0.19994489303716426,-0.22282847311132453],\"y\":[-0.05531259315115445,-0.0980183233713624],\"type\":\"scatter\"},{\"hoverinfo\":\"none\",\"line\":{\"color\":\"#E8E8E8\",\"dash\":\"solid\",\"width\":0.9771084337349396},\"mode\":\"lines\",\"x\":[-0.1092578961238818,-0.05567826942269471],\"y\":[-0.15960943916650963,-0.19248655738290024],\"type\":\"scatter\"},{\"hoverinfo\":\"none\",\"line\":{\"color\":\"#E8E8E8\",\"dash\":\"solid\",\"width\":0.9771084337349396},\"mode\":\"lines\",\"x\":[-0.0845170272992704,-0.15002438170646445],\"y\":[0.19638202589624437,0.34963395440696804],\"type\":\"scatter\"},{\"hoverinfo\":\"none\",\"line\":{\"color\":\"#E8E8E8\",\"dash\":\"solid\",\"width\":0.9771084337349396},\"mode\":\"lines\",\"x\":[0.1629398261141471,0.2647041771882963],\"y\":[-0.11103709893423747,-0.11834360961746553],\"type\":\"scatter\"},{\"hoverinfo\":\"none\",\"line\":{\"color\":\"#E8E8E8\",\"dash\":\"solid\",\"width\":1.2542168674698795},\"mode\":\"lines\",\"x\":[-0.02255445849607741,-0.19994489303716426],\"y\":[-0.08027263031689079,-0.05531259315115445],\"type\":\"scatter\"},{\"hoverinfo\":\"none\",\"line\":{\"color\":\"#E8E8E8\",\"dash\":\"solid\",\"width\":1.2542168674698795},\"mode\":\"lines\",\"x\":[-0.02255445849607741,0.024100532088113642],\"y\":[-0.08027263031689079,-0.2523412728071196],\"type\":\"scatter\"},{\"hoverinfo\":\"none\",\"line\":{\"color\":\"#E8E8E8\",\"dash\":\"solid\",\"width\":1.2542168674698795},\"mode\":\"lines\",\"x\":[-0.02255445849607741,-0.22282847311132453],\"y\":[-0.08027263031689079,-0.0980183233713624],\"type\":\"scatter\"},{\"hoverinfo\":\"none\",\"line\":{\"color\":\"#E8E8E8\",\"dash\":\"solid\",\"width\":1.2542168674698795},\"mode\":\"lines\",\"x\":[-0.07302517807265257,-0.12281203031820706],\"y\":[-0.03507102863817463,-0.09843536964066334],\"type\":\"scatter\"},{\"hoverinfo\":\"none\",\"line\":{\"color\":\"#E8E8E8\",\"dash\":\"solid\",\"width\":1.2542168674698795},\"mode\":\"lines\",\"x\":[-0.07302517807265257,-0.12418001476300108],\"y\":[-0.03507102863817463,-0.12457297487950686],\"type\":\"scatter\"},{\"hoverinfo\":\"none\",\"line\":{\"color\":\"#E8E8E8\",\"dash\":\"solid\",\"width\":1.2542168674698795},\"mode\":\"lines\",\"x\":[-0.07302517807265257,-0.19994489303716426],\"y\":[-0.03507102863817463,-0.05531259315115445],\"type\":\"scatter\"},{\"hoverinfo\":\"none\",\"line\":{\"color\":\"#E8E8E8\",\"dash\":\"solid\",\"width\":1.2542168674698795},\"mode\":\"lines\",\"x\":[-0.04411474174643428,0.08454043703939625],\"y\":[-0.02570351964636365,-0.028587744644051612],\"type\":\"scatter\"},{\"hoverinfo\":\"none\",\"line\":{\"color\":\"#E8E8E8\",\"dash\":\"solid\",\"width\":1.2542168674698795},\"mode\":\"lines\",\"x\":[-0.04411474174643428,-0.05022313516650214],\"y\":[-0.02570351964636365,-0.005931601344967606],\"type\":\"scatter\"},{\"hoverinfo\":\"none\",\"line\":{\"color\":\"#E8E8E8\",\"dash\":\"solid\",\"width\":1.2542168674698795},\"mode\":\"lines\",\"x\":[-0.04411474174643428,-0.12297866697639599],\"y\":[-0.02570351964636365,-0.017694577327360822],\"type\":\"scatter\"},{\"hoverinfo\":\"none\",\"line\":{\"color\":\"#E8E8E8\",\"dash\":\"solid\",\"width\":1.2542168674698795},\"mode\":\"lines\",\"x\":[-0.04411474174643428,-0.185969777356427],\"y\":[-0.02570351964636365,0.02332577388026551],\"type\":\"scatter\"},{\"hoverinfo\":\"none\",\"line\":{\"color\":\"#E8E8E8\",\"dash\":\"solid\",\"width\":1.2542168674698795},\"mode\":\"lines\",\"x\":[0.08454043703939625,0.06785103515693583],\"y\":[-0.028587744644051612,0.035862581526662815],\"type\":\"scatter\"},{\"hoverinfo\":\"none\",\"line\":{\"color\":\"#E8E8E8\",\"dash\":\"solid\",\"width\":1.2542168674698795},\"mode\":\"lines\",\"x\":[0.08454043703939625,0.22212978070237124],\"y\":[-0.028587744644051612,0.027184782024261556],\"type\":\"scatter\"},{\"hoverinfo\":\"none\",\"line\":{\"color\":\"#E8E8E8\",\"dash\":\"solid\",\"width\":1.2542168674698795},\"mode\":\"lines\",\"x\":[0.08454043703939625,0.05677264608881407],\"y\":[-0.028587744644051612,0.06110489881926472],\"type\":\"scatter\"},{\"hoverinfo\":\"none\",\"line\":{\"color\":\"#E8E8E8\",\"dash\":\"solid\",\"width\":1.2542168674698795},\"mode\":\"lines\",\"x\":[0.03349324352788613,-0.042670106985513684],\"y\":[-0.1157046877996965,-0.24786919397009546],\"type\":\"scatter\"},{\"hoverinfo\":\"none\",\"line\":{\"color\":\"#E8E8E8\",\"dash\":\"solid\",\"width\":1.2542168674698795},\"mode\":\"lines\",\"x\":[-0.05022313516650214,-0.12418001476300108],\"y\":[-0.005931601344967606,-0.12457297487950686],\"type\":\"scatter\"},{\"hoverinfo\":\"none\",\"line\":{\"color\":\"#E8E8E8\",\"dash\":\"solid\",\"width\":1.2542168674698795},\"mode\":\"lines\",\"x\":[-0.042670106985513684,-0.010866533329472718],\"y\":[-0.24786919397009546,-0.26282440909225024],\"type\":\"scatter\"},{\"hoverinfo\":\"none\",\"line\":{\"color\":\"#E8E8E8\",\"dash\":\"solid\",\"width\":1.2542168674698795},\"mode\":\"lines\",\"x\":[-0.11876863509836466,-0.04494137109334906],\"y\":[0.0306078948548714,0.09626481248136597],\"type\":\"scatter\"},{\"hoverinfo\":\"none\",\"line\":{\"color\":\"#E8E8E8\",\"dash\":\"solid\",\"width\":1.2542168674698795},\"mode\":\"lines\",\"x\":[-0.028531869662610156,-0.18195453098118677],\"y\":[0.04347368601494208,0.10886380939931106],\"type\":\"scatter\"},{\"hoverinfo\":\"none\",\"line\":{\"color\":\"#E8E8E8\",\"dash\":\"solid\",\"width\":1.2542168674698795},\"mode\":\"lines\",\"x\":[-0.04494137109334906,0.04645437665232618],\"y\":[0.09626481248136597,0.09566720919718977],\"type\":\"scatter\"},{\"hoverinfo\":\"none\",\"line\":{\"color\":\"#E8E8E8\",\"dash\":\"solid\",\"width\":1.2542168674698795},\"mode\":\"lines\",\"x\":[-0.11852981431706612,-0.19994489303716426],\"y\":[-0.06908282270504768,-0.05531259315115445],\"type\":\"scatter\"},{\"hoverinfo\":\"none\",\"line\":{\"color\":\"#E8E8E8\",\"dash\":\"solid\",\"width\":1.2542168674698795},\"mode\":\"lines\",\"x\":[0.10925689071633819,0.15139500288560356],\"y\":[0.11010146346982091,0.11912451908541347],\"type\":\"scatter\"},{\"hoverinfo\":\"none\",\"line\":{\"color\":\"#E8E8E8\",\"dash\":\"solid\",\"width\":1.2542168674698795},\"mode\":\"lines\",\"x\":[-0.12418001476300108,-0.1092578961238818],\"y\":[-0.12457297487950686,-0.15960943916650963],\"type\":\"scatter\"},{\"hoverinfo\":\"none\",\"line\":{\"color\":\"#E8E8E8\",\"dash\":\"solid\",\"width\":1.5313253012048191},\"mode\":\"lines\",\"x\":[-0.02255445849607741,-0.05022313516650214],\"y\":[-0.08027263031689079,-0.005931601344967606],\"type\":\"scatter\"},{\"hoverinfo\":\"none\",\"line\":{\"color\":\"#E8E8E8\",\"dash\":\"solid\",\"width\":1.5313253012048191},\"mode\":\"lines\",\"x\":[-0.02255445849607741,-0.010866533329472718],\"y\":[-0.08027263031689079,-0.26282440909225024],\"type\":\"scatter\"},{\"hoverinfo\":\"none\",\"line\":{\"color\":\"#E8E8E8\",\"dash\":\"solid\",\"width\":1.5313253012048191},\"mode\":\"lines\",\"x\":[-0.07302517807265257,-0.11876863509836466],\"y\":[-0.03507102863817463,0.0306078948548714],\"type\":\"scatter\"},{\"hoverinfo\":\"none\",\"line\":{\"color\":\"#E8E8E8\",\"dash\":\"solid\",\"width\":1.5313253012048191},\"mode\":\"lines\",\"x\":[0.08454043703939625,0.17987280261923122],\"y\":[-0.028587744644051612,-0.0526411189593778],\"type\":\"scatter\"},{\"hoverinfo\":\"none\",\"line\":{\"color\":\"#E8E8E8\",\"dash\":\"solid\",\"width\":1.5313253012048191},\"mode\":\"lines\",\"x\":[0.03349324352788613,0.06785103515693583],\"y\":[-0.1157046877996965,0.035862581526662815],\"type\":\"scatter\"},{\"hoverinfo\":\"none\",\"line\":{\"color\":\"#E8E8E8\",\"dash\":\"solid\",\"width\":1.5313253012048191},\"mode\":\"lines\",\"x\":[0.03349324352788613,-0.010866533329472718],\"y\":[-0.1157046877996965,-0.26282440909225024],\"type\":\"scatter\"},{\"hoverinfo\":\"none\",\"line\":{\"color\":\"#E8E8E8\",\"dash\":\"solid\",\"width\":1.5313253012048191},\"mode\":\"lines\",\"x\":[0.04881175386657501,0.07054972484232797],\"y\":[0.01944277062717638,0.18463618836255125],\"type\":\"scatter\"},{\"hoverinfo\":\"none\",\"line\":{\"color\":\"#E8E8E8\",\"dash\":\"solid\",\"width\":1.5313253012048191},\"mode\":\"lines\",\"x\":[-0.05743664108679999,-0.028531869662610156],\"y\":[0.02205456565204265,0.04347368601494208],\"type\":\"scatter\"},{\"hoverinfo\":\"none\",\"line\":{\"color\":\"#E8E8E8\",\"dash\":\"solid\",\"width\":1.5313253012048191},\"mode\":\"lines\",\"x\":[-0.11852981431706612,-0.13898107580962668],\"y\":[-0.06908282270504768,-0.1491506013185887],\"type\":\"scatter\"},{\"hoverinfo\":\"none\",\"line\":{\"color\":\"#E8E8E8\",\"dash\":\"solid\",\"width\":1.5313253012048191},\"mode\":\"lines\",\"x\":[0.015375274835434157,0.024100532088113642],\"y\":[-0.22541852025411738,-0.2523412728071196],\"type\":\"scatter\"},{\"hoverinfo\":\"none\",\"line\":{\"color\":\"#E8E8E8\",\"dash\":\"solid\",\"width\":1.5313253012048191},\"mode\":\"lines\",\"x\":[-0.13898107580962668,-0.19994489303716426],\"y\":[-0.1491506013185887,-0.05531259315115445],\"type\":\"scatter\"},{\"hoverinfo\":\"none\",\"line\":{\"color\":\"#E8E8E8\",\"dash\":\"solid\",\"width\":1.5313253012048191},\"mode\":\"lines\",\"x\":[-0.010866533329472718,0.024100532088113642],\"y\":[-0.26282440909225024,-0.2523412728071196],\"type\":\"scatter\"},{\"hoverinfo\":\"none\",\"line\":{\"color\":\"#E8E8E8\",\"dash\":\"solid\",\"width\":1.8084337349397588},\"mode\":\"lines\",\"x\":[-0.02255445849607741,-0.042670106985513684],\"y\":[-0.08027263031689079,-0.24786919397009546],\"type\":\"scatter\"},{\"hoverinfo\":\"none\",\"line\":{\"color\":\"#E8E8E8\",\"dash\":\"solid\",\"width\":1.8084337349397588},\"mode\":\"lines\",\"x\":[-0.02255445849607741,-0.11876863509836466],\"y\":[-0.08027263031689079,0.0306078948548714],\"type\":\"scatter\"},{\"hoverinfo\":\"none\",\"line\":{\"color\":\"#E8E8E8\",\"dash\":\"solid\",\"width\":1.8084337349397588},\"mode\":\"lines\",\"x\":[-0.02255445849607741,0.01754902091177313],\"y\":[-0.08027263031689079,-0.022860884368591298],\"type\":\"scatter\"},{\"hoverinfo\":\"none\",\"line\":{\"color\":\"#E8E8E8\",\"dash\":\"solid\",\"width\":1.8084337349397588},\"mode\":\"lines\",\"x\":[-0.02255445849607741,0.015375274835434157],\"y\":[-0.08027263031689079,-0.22541852025411738],\"type\":\"scatter\"},{\"hoverinfo\":\"none\",\"line\":{\"color\":\"#E8E8E8\",\"dash\":\"solid\",\"width\":1.8084337349397588},\"mode\":\"lines\",\"x\":[-0.07302517807265257,-0.05022313516650214],\"y\":[-0.03507102863817463,-0.005931601344967606],\"type\":\"scatter\"},{\"hoverinfo\":\"none\",\"line\":{\"color\":\"#E8E8E8\",\"dash\":\"solid\",\"width\":1.8084337349397588},\"mode\":\"lines\",\"x\":[-0.07302517807265257,-0.10867589590122384],\"y\":[-0.03507102863817463,0.012581899781084321],\"type\":\"scatter\"},{\"hoverinfo\":\"none\",\"line\":{\"color\":\"#E8E8E8\",\"dash\":\"solid\",\"width\":1.8084337349397588},\"mode\":\"lines\",\"x\":[-0.07302517807265257,-0.04494137109334906],\"y\":[-0.03507102863817463,0.09626481248136597],\"type\":\"scatter\"},{\"hoverinfo\":\"none\",\"line\":{\"color\":\"#E8E8E8\",\"dash\":\"solid\",\"width\":1.8084337349397588},\"mode\":\"lines\",\"x\":[-0.04411474174643428,-0.10867589590122384],\"y\":[-0.02570351964636365,0.012581899781084321],\"type\":\"scatter\"},{\"hoverinfo\":\"none\",\"line\":{\"color\":\"#E8E8E8\",\"dash\":\"solid\",\"width\":1.8084337349397588},\"mode\":\"lines\",\"x\":[0.08454043703939625,0.03349324352788613],\"y\":[-0.028587744644051612,-0.1157046877996965],\"type\":\"scatter\"},{\"hoverinfo\":\"none\",\"line\":{\"color\":\"#E8E8E8\",\"dash\":\"solid\",\"width\":1.8084337349397588},\"mode\":\"lines\",\"x\":[0.03349324352788613,0.024100532088113642],\"y\":[-0.1157046877996965,-0.2523412728071196],\"type\":\"scatter\"},{\"hoverinfo\":\"none\",\"line\":{\"color\":\"#E8E8E8\",\"dash\":\"solid\",\"width\":1.8084337349397588},\"mode\":\"lines\",\"x\":[-0.11876863509836466,-0.22617170516911447],\"y\":[0.0306078948548714,0.0603623399545939],\"type\":\"scatter\"},{\"hoverinfo\":\"none\",\"line\":{\"color\":\"#E8E8E8\",\"dash\":\"solid\",\"width\":1.8084337349397588},\"mode\":\"lines\",\"x\":[-0.05743664108679999,-0.04494137109334906],\"y\":[0.02205456565204265,0.09626481248136597],\"type\":\"scatter\"},{\"hoverinfo\":\"none\",\"line\":{\"color\":\"#E8E8E8\",\"dash\":\"solid\",\"width\":1.8084337349397588},\"mode\":\"lines\",\"x\":[0.15067676022460644,0.22212978070237124],\"y\":[0.02232923283115474,0.027184782024261556],\"type\":\"scatter\"},{\"hoverinfo\":\"none\",\"line\":{\"color\":\"#E8E8E8\",\"dash\":\"solid\",\"width\":2.0855421686746984},\"mode\":\"lines\",\"x\":[-0.02255445849607741,-0.07302517807265257],\"y\":[-0.08027263031689079,-0.03507102863817463],\"type\":\"scatter\"},{\"hoverinfo\":\"none\",\"line\":{\"color\":\"#E8E8E8\",\"dash\":\"solid\",\"width\":2.0855421686746984},\"mode\":\"lines\",\"x\":[-0.02255445849607741,-0.1092578961238818],\"y\":[-0.08027263031689079,-0.15960943916650963],\"type\":\"scatter\"},{\"hoverinfo\":\"none\",\"line\":{\"color\":\"#E8E8E8\",\"dash\":\"solid\",\"width\":2.0855421686746984},\"mode\":\"lines\",\"x\":[-0.07302517807265257,-0.04411474174643428],\"y\":[-0.03507102863817463,-0.02570351964636365],\"type\":\"scatter\"},{\"hoverinfo\":\"none\",\"line\":{\"color\":\"#E8E8E8\",\"dash\":\"solid\",\"width\":2.0855421686746984},\"mode\":\"lines\",\"x\":[-0.07302517807265257,-0.05743664108679999],\"y\":[-0.03507102863817463,0.02205456565204265],\"type\":\"scatter\"},{\"hoverinfo\":\"none\",\"line\":{\"color\":\"#E8E8E8\",\"dash\":\"solid\",\"width\":2.0855421686746984},\"mode\":\"lines\",\"x\":[0.03349324352788613,0.015375274835434157],\"y\":[-0.1157046877996965,-0.22541852025411738],\"type\":\"scatter\"},{\"hoverinfo\":\"none\",\"line\":{\"color\":\"#E8E8E8\",\"dash\":\"solid\",\"width\":2.0855421686746984},\"mode\":\"lines\",\"x\":[-0.042670106985513684,0.015375274835434157],\"y\":[-0.24786919397009546,-0.22541852025411738],\"type\":\"scatter\"},{\"hoverinfo\":\"none\",\"line\":{\"color\":\"#E8E8E8\",\"dash\":\"solid\",\"width\":2.362650602409638},\"mode\":\"lines\",\"x\":[-0.02255445849607741,-0.04411474174643428],\"y\":[-0.08027263031689079,-0.02570351964636365],\"type\":\"scatter\"},{\"hoverinfo\":\"none\",\"line\":{\"color\":\"#E8E8E8\",\"dash\":\"solid\",\"width\":2.362650602409638},\"mode\":\"lines\",\"x\":[0.08454043703939625,0.15067676022460644],\"y\":[-0.028587744644051612,0.02232923283115474],\"type\":\"scatter\"},{\"hoverinfo\":\"none\",\"line\":{\"color\":\"#E8E8E8\",\"dash\":\"solid\",\"width\":2.362650602409638},\"mode\":\"lines\",\"x\":[0.015375274835434157,-0.010866533329472718],\"y\":[-0.22541852025411738,-0.26282440909225024],\"type\":\"scatter\"},{\"hoverinfo\":\"none\",\"line\":{\"color\":\"#E8E8E8\",\"dash\":\"solid\",\"width\":2.6397590361445777},\"mode\":\"lines\",\"x\":[-0.02255445849607741,0.03349324352788613],\"y\":[-0.08027263031689079,-0.1157046877996965],\"type\":\"scatter\"},{\"hoverinfo\":\"none\",\"line\":{\"color\":\"#E8E8E8\",\"dash\":\"solid\",\"width\":2.6397590361445777},\"mode\":\"lines\",\"x\":[-0.05022313516650214,0.01754902091177313],\"y\":[-0.005931601344967606,-0.022860884368591298],\"type\":\"scatter\"},{\"hoverinfo\":\"none\",\"line\":{\"color\":\"#E8E8E8\",\"dash\":\"solid\",\"width\":3.193975903614457},\"mode\":\"lines\",\"x\":[-0.02255445849607741,0.08454043703939625],\"y\":[-0.08027263031689079,-0.028587744644051612],\"type\":\"scatter\"},{\"hoverinfo\":\"text\",\"marker\":{\"color\":[\"#7793a5\",\"#7793a5\",\"#7793a5\",\"#7793a5\",\"#7793a5\",\"#7793a5\",\"#7793a5\",\"#7793a5\",\"#7793a5\",\"#7793a5\",\"#7793a5\",\"#7793a5\",\"#7793a5\",\"#7793a5\",\"#7793a5\",\"#7793a5\",\"#7793a5\",\"#7793a5\",\"#7793a5\",\"#7793a5\",\"#7793a5\",\"#7793a5\",\"#7793a5\",\"#7793a5\",\"#7793a5\",\"#7793a5\",\"#7793a5\",\"#7793a5\",\"#7793a5\",\"#7793a5\",\"#7793a5\",\"#7793a5\",\"#7793a5\",\"#7793a5\",\"#7793a5\",\"#7793a5\",\"#7793a5\",\"#7793a5\",\"#7793a5\",\"#7793a5\",\"#7793a5\",\"#7793a5\",\"#7793a5\",\"#7793a5\",\"#7793a5\",\"#7793a5\",\"#7793a5\",\"#7793a5\",\"#7793a5\",\"#7793a5\",\"#7793a5\",\"#7793a5\",\"#7793a5\",\"#7793a5\",\"#7793a5\",\"#7793a5\",\"#7793a5\",\"#7793a5\",\"#7793a5\",\"#7793a5\",\"#7793a5\"],\"line\":{\"color\":\"white\",\"width\":1.5},\"opacity\":1.0,\"size\":[28.0,26.03921568627451,20.549019607843135,20.549019607843135,17.80392156862745,15.058823529411764,13.490196078431373,13.098039215686274,12.705882352941178,12.705882352941178,12.705882352941178,12.313725490196079,12.313725490196079,11.92156862745098,11.92156862745098,10.745098039215687,10.745098039215687,10.352941176470589,10.352941176470589,10.352941176470589,9.96078431372549,9.96078431372549,9.96078431372549,9.568627450980392,9.568627450980392,9.568627450980392,9.568627450980392,9.176470588235293,9.176470588235293,9.176470588235293,9.176470588235293,9.176470588235293,9.176470588235293,9.176470588235293,9.176470588235293,8.784313725490197,8.784313725490197,8.784313725490197,8.784313725490197,8.784313725490197,8.784313725490197,8.784313725490197,8.392156862745098,8.392156862745098,8.392156862745098,8.392156862745098,8.392156862745098,8.392156862745098,8.392156862745098,8.392156862745098,8.392156862745098,8.0,8.0,8.0,8.0,8.0,8.0,8.0,8.0,8.0,8.0]},\"mode\":\"markers\",\"text\":[\"DEEP_LEARNING 56:2479\",\"NEURAL_NETWORKS 51:4292\",\"RENEWABLE_ENERGIES 37:2859\",\"SMART_GRID 37:1742\",\"ELECTRIC_VEHICLES 30:1093\",\"SOLAR_ENERGY 23:2447\",\"PHOTOVOLTAICS 19:0610\",\"LITHIUM_ION_BATTERIES 18:0566\",\"ARTIFICIAL_NEURAL_NETWORKS 17:2266\",\"ENERGY_MANAGEMENT 17:0712\",\"REINFORCEMENT_LEARNING 17:0450\",\"PHOTOVOLTAIC_SYSTEMS 16:1628\",\"WIND_ENERGY 16:0861\",\"GENETIC_ALGORITHMS 15:1987\",\"PARTICLE_SWARM_OPTIMIZATION 15:0892\",\"MULTI_AGENT_SYSTEMS 12:0514\",\"ENERGY_EFFICIENCY 12:0350\",\"FUZZY_LOGIC 11:1752\",\"WIND_TURBINES 11:0882\",\"SOLAR_RADIATION 11:0845\",\"MICROGRID 10:0405\",\"STATE_OF_CHARGE 10:0385\",\"INTERNET_OF_THINGS 10:0258\",\"SUPPORT_VECTOR_MACHINES 09:1758\",\"MAXIMUM_POWER_POINT_TRACKING 09:0647\",\"MPPT 09:0490\",\"HYBRID_RENEWABLE_ENERGY_SYSTEMS 09:0169\",\"SOLAR_RADIATION_PREDICTIONS 08:2217\",\"CONDITION_MONITORING 08:0977\",\"FAULT_DETECTION 08:0672\",\"FUEL_CELLS 08:0644\",\"META_HEURISTIC_ALGORITHM 08:0427\",\"METAHEURISTIC 08:0314\",\"STATE_OF_HEALTH 08:0263\",\"LONG_SHORT_TERM_MEMORY 08:0228\",\"HYBRID_SYSTEMS 07:1321\",\"POWER_SYSTEM 07:0540\",\"BIG_DATA 07:0363\",\"DEEP_REINFORCEMENT_LEARNING 07:0284\",\"BATTERY_MANAGEMENT_SYSTEMS 07:0258\",\"DEMAND_RESPONSE 07:0190\",\"FAULT_DIAGNOSIS 07:0106\",\"PARTIAL_SHADING 06:0721\",\"EVOLUTIONARY_ALGORITHMS 06:0434\",\"BIOENERGY 06:0293\",\"COMPUTATIONAL_INTELLIGENCE 06:0193\",\"SMART_BUILDINGS 06:0188\",\"CHARGING 06:0186\",\"ENERGY_STORAGE 06:0137\",\"WIND_POWER 06:0093\",\"ENERGY_MANAGEMENT_SYSTEMS 06:0063\",\"DATA_MINING 05:0243\",\"ENERGY_HARVESTING 05:0117\",\"BIOFUELS 05:0111\",\"ENERGY_CONSUMPTION 05:0111\",\"ADSORPTION 05:0088\",\"RENEWABLE_ENERGY_SOURCE 05:0059\",\"DISTRIBUTED_ENERGY_RESOURCES 05:0056\",\"ELECTROCATALYSIS 05:0047\",\"ENERGY 05:0041\",\"CONVOLUTIONAL_NEURAL_NETWORK 05:0005\"],\"x\":[-0.02255445849607741,-0.07302517807265257,-0.04411474174643428,0.08454043703939625,0.03349324352788613,-0.05022313516650214,-0.10867589590122384,-0.042670106985513684,-0.12297866697639599,0.04881175386657501,0.06785103515693583,-0.11876863509836466,0.01754902091177313,-0.05743664108679999,-0.028531869662610156,0.15067676022460644,0.0429122785328855,-0.04494137109334906,-0.11852981431706612,-0.185969777356427,0.22212978070237124,0.015375274835434157,0.10925689071633819,-0.12281203031820706,-0.22617170516911447,-0.20322555557068964,0.05331442071425577,-0.12418001476300108,-0.13898107580962668,-0.19994489303716426,-0.029583570089209407,0.12993462954978785,-0.18195453098118677,-0.010866533329472718,-0.1092578961238818,0.04645437665232618,0.05677264608881407,0.09463985170778691,0.07054972484232797,0.024100532088113642,0.17987280261923122,-0.22282847311132453,-0.24520841550402134,0.0505300072439258,-0.0845170272992704,0.1629398261141471,0.15139500288560356,-0.17196493272656052,0.09851911586340306,0.04893262955072509,0.12865044068409745,-0.06961446972372612,-0.1523779696754982,-0.15002438170646445,-0.1336542052629159,-0.19593672891538652,0.20985144520622326,0.2647041771882963,1.0,0.28344486598556645,-0.05567826942269471],\"y\":[-0.08027263031689079,-0.03507102863817463,-0.02570351964636365,-0.028587744644051612,-0.1157046877996965,-0.005931601344967606,0.012581899781084321,-0.24786919397009546,-0.017694577327360822,0.01944277062717638,0.035862581526662815,0.0306078948548714,-0.022860884368591298,0.02205456565204265,0.04347368601494208,0.02232923283115474,0.14095673312259907,0.09626481248136597,-0.06908282270504768,0.02332577388026551,0.027184782024261556,-0.22541852025411738,0.11010146346982091,-0.09843536964066334,0.0603623399545939,0.15596519720010432,-0.07893475661902369,-0.12457297487950686,-0.1491506013185887,-0.05531259315115445,-0.11385733988125694,-0.1563171772286875,0.10886380939931106,-0.26282440909225024,-0.15960943916650963,0.09566720919718977,0.06110489881926472,-0.007683810103451875,0.18463618836255125,-0.2523412728071196,-0.0526411189593778,-0.0980183233713624,0.13374798501657167,-0.1483416769659575,0.19638202589624437,-0.11103709893423747,0.11912451908541347,-0.12740813074216217,-0.15617504689855694,-0.19740398728816083,-0.07965475491803664,0.12226732652610431,0.22344848946648113,0.34963395440696804,0.13209859572922225,0.9419869523172495,-0.053745137854570565,-0.11834360961746553,0.15658505109083465,0.04243165910201216,-0.19248655738290024],\"type\":\"scatter\"}],                        {\"annotations\":[{\"align\":\"left\",\"font\":{\"size\":10},\"showarrow\":false,\"text\":\"\",\"x\":0.005,\"xref\":\"paper\",\"y\":-0.002,\"yref\":\"paper\"},{\"bgcolor\":\"white\",\"bordercolor\":\"grey\",\"font\":{\"size\":8.0},\"opacity\":0.5,\"showarrow\":false,\"text\":\"CONVOLUTIONAL_NEURAL_NETWORK 05:0005\",\"x\":-0.05567826942269471,\"xanchor\":\"right\",\"xshift\":-4,\"y\":-0.19248655738290024,\"yanchor\":\"top\",\"yshift\":-4},{\"bgcolor\":\"white\",\"bordercolor\":\"grey\",\"font\":{\"size\":8.0},\"opacity\":0.5,\"showarrow\":false,\"text\":\"ENERGY 05:0041\",\"x\":0.28344486598556645,\"xanchor\":\"left\",\"xshift\":4,\"y\":0.04243165910201216,\"yanchor\":\"bottom\",\"yshift\":4},{\"bgcolor\":\"white\",\"bordercolor\":\"grey\",\"font\":{\"size\":8.0},\"opacity\":0.5,\"showarrow\":false,\"text\":\"ELECTROCATALYSIS 05:0047\",\"x\":1.0,\"xanchor\":\"left\",\"xshift\":4,\"y\":0.15658505109083465,\"yanchor\":\"bottom\",\"yshift\":4},{\"bgcolor\":\"white\",\"bordercolor\":\"grey\",\"font\":{\"size\":8.0},\"opacity\":0.5,\"showarrow\":false,\"text\":\"DISTRIBUTED_ENERGY_RESOURCES 05:0056\",\"x\":0.2647041771882963,\"xanchor\":\"left\",\"xshift\":4,\"y\":-0.11834360961746553,\"yanchor\":\"top\",\"yshift\":-4},{\"bgcolor\":\"white\",\"bordercolor\":\"grey\",\"font\":{\"size\":8.0},\"opacity\":0.5,\"showarrow\":false,\"text\":\"RENEWABLE_ENERGY_SOURCE 05:0059\",\"x\":0.20985144520622326,\"xanchor\":\"left\",\"xshift\":4,\"y\":-0.053745137854570565,\"yanchor\":\"top\",\"yshift\":-4},{\"bgcolor\":\"white\",\"bordercolor\":\"grey\",\"font\":{\"size\":8.0},\"opacity\":0.5,\"showarrow\":false,\"text\":\"ADSORPTION 05:0088\",\"x\":-0.19593672891538652,\"xanchor\":\"right\",\"xshift\":-4,\"y\":0.9419869523172495,\"yanchor\":\"bottom\",\"yshift\":4},{\"bgcolor\":\"white\",\"bordercolor\":\"grey\",\"font\":{\"size\":8.0},\"opacity\":0.5,\"showarrow\":false,\"text\":\"ENERGY_CONSUMPTION 05:0111\",\"x\":-0.1336542052629159,\"xanchor\":\"right\",\"xshift\":-4,\"y\":0.13209859572922225,\"yanchor\":\"bottom\",\"yshift\":4},{\"bgcolor\":\"white\",\"bordercolor\":\"grey\",\"font\":{\"size\":8.0},\"opacity\":0.5,\"showarrow\":false,\"text\":\"BIOFUELS 05:0111\",\"x\":-0.15002438170646445,\"xanchor\":\"right\",\"xshift\":-4,\"y\":0.34963395440696804,\"yanchor\":\"bottom\",\"yshift\":4},{\"bgcolor\":\"white\",\"bordercolor\":\"grey\",\"font\":{\"size\":8.0},\"opacity\":0.5,\"showarrow\":false,\"text\":\"ENERGY_HARVESTING 05:0117\",\"x\":-0.1523779696754982,\"xanchor\":\"right\",\"xshift\":-4,\"y\":0.22344848946648113,\"yanchor\":\"bottom\",\"yshift\":4},{\"bgcolor\":\"white\",\"bordercolor\":\"grey\",\"font\":{\"size\":8.0},\"opacity\":0.5,\"showarrow\":false,\"text\":\"DATA_MINING 05:0243\",\"x\":-0.06961446972372612,\"xanchor\":\"right\",\"xshift\":-4,\"y\":0.12226732652610431,\"yanchor\":\"bottom\",\"yshift\":4},{\"bgcolor\":\"white\",\"bordercolor\":\"grey\",\"font\":{\"size\":8.117647058823529},\"opacity\":0.5144957554275266,\"showarrow\":false,\"text\":\"ENERGY_MANAGEMENT_SYSTEMS 06:0063\",\"x\":0.12865044068409745,\"xanchor\":\"left\",\"xshift\":4,\"y\":-0.07965475491803664,\"yanchor\":\"top\",\"yshift\":-4},{\"bgcolor\":\"white\",\"bordercolor\":\"grey\",\"font\":{\"size\":8.117647058823529},\"opacity\":0.5144957554275266,\"showarrow\":false,\"text\":\"WIND_POWER 06:0093\",\"x\":0.04893262955072509,\"xanchor\":\"left\",\"xshift\":4,\"y\":-0.19740398728816083,\"yanchor\":\"top\",\"yshift\":-4},{\"bgcolor\":\"white\",\"bordercolor\":\"grey\",\"font\":{\"size\":8.117647058823529},\"opacity\":0.5144957554275266,\"showarrow\":false,\"text\":\"ENERGY_STORAGE 06:0137\",\"x\":0.09851911586340306,\"xanchor\":\"left\",\"xshift\":4,\"y\":-0.15617504689855694,\"yanchor\":\"top\",\"yshift\":-4},{\"bgcolor\":\"white\",\"bordercolor\":\"grey\",\"font\":{\"size\":8.117647058823529},\"opacity\":0.5144957554275266,\"showarrow\":false,\"text\":\"CHARGING 06:0186\",\"x\":-0.17196493272656052,\"xanchor\":\"right\",\"xshift\":-4,\"y\":-0.12740813074216217,\"yanchor\":\"top\",\"yshift\":-4},{\"bgcolor\":\"white\",\"bordercolor\":\"grey\",\"font\":{\"size\":8.117647058823529},\"opacity\":0.5144957554275266,\"showarrow\":false,\"text\":\"SMART_BUILDINGS 06:0188\",\"x\":0.15139500288560356,\"xanchor\":\"left\",\"xshift\":4,\"y\":0.11912451908541347,\"yanchor\":\"bottom\",\"yshift\":4},{\"bgcolor\":\"white\",\"bordercolor\":\"grey\",\"font\":{\"size\":8.117647058823529},\"opacity\":0.5144957554275266,\"showarrow\":false,\"text\":\"COMPUTATIONAL_INTELLIGENCE 06:0193\",\"x\":0.1629398261141471,\"xanchor\":\"left\",\"xshift\":4,\"y\":-0.11103709893423747,\"yanchor\":\"top\",\"yshift\":-4},{\"bgcolor\":\"white\",\"bordercolor\":\"grey\",\"font\":{\"size\":8.117647058823529},\"opacity\":0.5144957554275266,\"showarrow\":false,\"text\":\"BIOENERGY 06:0293\",\"x\":-0.0845170272992704,\"xanchor\":\"right\",\"xshift\":-4,\"y\":0.19638202589624437,\"yanchor\":\"bottom\",\"yshift\":4},{\"bgcolor\":\"white\",\"bordercolor\":\"grey\",\"font\":{\"size\":8.117647058823529},\"opacity\":0.5144957554275266,\"showarrow\":false,\"text\":\"EVOLUTIONARY_ALGORITHMS 06:0434\",\"x\":0.0505300072439258,\"xanchor\":\"left\",\"xshift\":4,\"y\":-0.1483416769659575,\"yanchor\":\"top\",\"yshift\":-4},{\"bgcolor\":\"white\",\"bordercolor\":\"grey\",\"font\":{\"size\":8.117647058823529},\"opacity\":0.5144957554275266,\"showarrow\":false,\"text\":\"PARTIAL_SHADING 06:0721\",\"x\":-0.24520841550402134,\"xanchor\":\"right\",\"xshift\":-4,\"y\":0.13374798501657167,\"yanchor\":\"bottom\",\"yshift\":4},{\"bgcolor\":\"white\",\"bordercolor\":\"grey\",\"font\":{\"size\":8.235294117647058},\"opacity\":0.5285941398709244,\"showarrow\":false,\"text\":\"FAULT_DIAGNOSIS 07:0106\",\"x\":-0.22282847311132453,\"xanchor\":\"right\",\"xshift\":-4,\"y\":-0.0980183233713624,\"yanchor\":\"top\",\"yshift\":-4},{\"bgcolor\":\"white\",\"bordercolor\":\"grey\",\"font\":{\"size\":8.235294117647058},\"opacity\":0.5285941398709244,\"showarrow\":false,\"text\":\"DEMAND_RESPONSE 07:0190\",\"x\":0.17987280261923122,\"xanchor\":\"left\",\"xshift\":4,\"y\":-0.0526411189593778,\"yanchor\":\"top\",\"yshift\":-4},{\"bgcolor\":\"white\",\"bordercolor\":\"grey\",\"font\":{\"size\":8.235294117647058},\"opacity\":0.5285941398709244,\"showarrow\":false,\"text\":\"BATTERY_MANAGEMENT_SYSTEMS 07:0258\",\"x\":0.024100532088113642,\"xanchor\":\"left\",\"xshift\":4,\"y\":-0.2523412728071196,\"yanchor\":\"top\",\"yshift\":-4},{\"bgcolor\":\"white\",\"bordercolor\":\"grey\",\"font\":{\"size\":8.235294117647058},\"opacity\":0.5285941398709244,\"showarrow\":false,\"text\":\"DEEP_REINFORCEMENT_LEARNING 07:0284\",\"x\":0.07054972484232797,\"xanchor\":\"left\",\"xshift\":4,\"y\":0.18463618836255125,\"yanchor\":\"bottom\",\"yshift\":4},{\"bgcolor\":\"white\",\"bordercolor\":\"grey\",\"font\":{\"size\":8.235294117647058},\"opacity\":0.5285941398709244,\"showarrow\":false,\"text\":\"BIG_DATA 07:0363\",\"x\":0.09463985170778691,\"xanchor\":\"left\",\"xshift\":4,\"y\":-0.007683810103451875,\"yanchor\":\"top\",\"yshift\":-4},{\"bgcolor\":\"white\",\"bordercolor\":\"grey\",\"font\":{\"size\":8.235294117647058},\"opacity\":0.5285941398709244,\"showarrow\":false,\"text\":\"POWER_SYSTEM 07:0540\",\"x\":0.05677264608881407,\"xanchor\":\"left\",\"xshift\":4,\"y\":0.06110489881926472,\"yanchor\":\"bottom\",\"yshift\":4},{\"bgcolor\":\"white\",\"bordercolor\":\"grey\",\"font\":{\"size\":8.235294117647058},\"opacity\":0.5285941398709244,\"showarrow\":false,\"text\":\"HYBRID_SYSTEMS 07:1321\",\"x\":0.04645437665232618,\"xanchor\":\"left\",\"xshift\":4,\"y\":0.09566720919718977,\"yanchor\":\"bottom\",\"yshift\":4},{\"bgcolor\":\"white\",\"bordercolor\":\"grey\",\"font\":{\"size\":8.352941176470589},\"opacity\":0.5423261445466404,\"showarrow\":false,\"text\":\"LONG_SHORT_TERM_MEMORY 08:0228\",\"x\":-0.1092578961238818,\"xanchor\":\"right\",\"xshift\":-4,\"y\":-0.15960943916650963,\"yanchor\":\"top\",\"yshift\":-4},{\"bgcolor\":\"white\",\"bordercolor\":\"grey\",\"font\":{\"size\":8.352941176470589},\"opacity\":0.5423261445466404,\"showarrow\":false,\"text\":\"STATE_OF_HEALTH 08:0263\",\"x\":-0.010866533329472718,\"xanchor\":\"right\",\"xshift\":-4,\"y\":-0.26282440909225024,\"yanchor\":\"top\",\"yshift\":-4},{\"bgcolor\":\"white\",\"bordercolor\":\"grey\",\"font\":{\"size\":8.352941176470589},\"opacity\":0.5423261445466404,\"showarrow\":false,\"text\":\"METAHEURISTIC 08:0314\",\"x\":-0.18195453098118677,\"xanchor\":\"right\",\"xshift\":-4,\"y\":0.10886380939931106,\"yanchor\":\"bottom\",\"yshift\":4},{\"bgcolor\":\"white\",\"bordercolor\":\"grey\",\"font\":{\"size\":8.352941176470589},\"opacity\":0.5423261445466404,\"showarrow\":false,\"text\":\"META_HEURISTIC_ALGORITHM 08:0427\",\"x\":0.12993462954978785,\"xanchor\":\"left\",\"xshift\":4,\"y\":-0.1563171772286875,\"yanchor\":\"top\",\"yshift\":-4},{\"bgcolor\":\"white\",\"bordercolor\":\"grey\",\"font\":{\"size\":8.352941176470589},\"opacity\":0.5423261445466404,\"showarrow\":false,\"text\":\"FUEL_CELLS 08:0644\",\"x\":-0.029583570089209407,\"xanchor\":\"right\",\"xshift\":-4,\"y\":-0.11385733988125694,\"yanchor\":\"top\",\"yshift\":-4},{\"bgcolor\":\"white\",\"bordercolor\":\"grey\",\"font\":{\"size\":8.352941176470589},\"opacity\":0.5423261445466404,\"showarrow\":false,\"text\":\"FAULT_DETECTION 08:0672\",\"x\":-0.19994489303716426,\"xanchor\":\"right\",\"xshift\":-4,\"y\":-0.05531259315115445,\"yanchor\":\"top\",\"yshift\":-4},{\"bgcolor\":\"white\",\"bordercolor\":\"grey\",\"font\":{\"size\":8.352941176470589},\"opacity\":0.5423261445466404,\"showarrow\":false,\"text\":\"CONDITION_MONITORING 08:0977\",\"x\":-0.13898107580962668,\"xanchor\":\"right\",\"xshift\":-4,\"y\":-0.1491506013185887,\"yanchor\":\"top\",\"yshift\":-4},{\"bgcolor\":\"white\",\"bordercolor\":\"grey\",\"font\":{\"size\":8.352941176470589},\"opacity\":0.5423261445466404,\"showarrow\":false,\"text\":\"SOLAR_RADIATION_PREDICTIONS 08:2217\",\"x\":-0.12418001476300108,\"xanchor\":\"right\",\"xshift\":-4,\"y\":-0.12457297487950686,\"yanchor\":\"top\",\"yshift\":-4},{\"bgcolor\":\"white\",\"bordercolor\":\"grey\",\"font\":{\"size\":8.470588235294118},\"opacity\":0.5557189302262113,\"showarrow\":false,\"text\":\"HYBRID_RENEWABLE_ENERGY_SYSTEMS 09:0169\",\"x\":0.05331442071425577,\"xanchor\":\"left\",\"xshift\":4,\"y\":-0.07893475661902369,\"yanchor\":\"top\",\"yshift\":-4},{\"bgcolor\":\"white\",\"bordercolor\":\"grey\",\"font\":{\"size\":8.470588235294118},\"opacity\":0.5557189302262113,\"showarrow\":false,\"text\":\"MPPT 09:0490\",\"x\":-0.20322555557068964,\"xanchor\":\"right\",\"xshift\":-4,\"y\":0.15596519720010432,\"yanchor\":\"bottom\",\"yshift\":4},{\"bgcolor\":\"white\",\"bordercolor\":\"grey\",\"font\":{\"size\":8.470588235294118},\"opacity\":0.5557189302262113,\"showarrow\":false,\"text\":\"MAXIMUM_POWER_POINT_TRACKING 09:0647\",\"x\":-0.22617170516911447,\"xanchor\":\"right\",\"xshift\":-4,\"y\":0.0603623399545939,\"yanchor\":\"bottom\",\"yshift\":4},{\"bgcolor\":\"white\",\"bordercolor\":\"grey\",\"font\":{\"size\":8.470588235294118},\"opacity\":0.5557189302262113,\"showarrow\":false,\"text\":\"SUPPORT_VECTOR_MACHINES 09:1758\",\"x\":-0.12281203031820706,\"xanchor\":\"right\",\"xshift\":-4,\"y\":-0.09843536964066334,\"yanchor\":\"top\",\"yshift\":-4},{\"bgcolor\":\"white\",\"bordercolor\":\"grey\",\"font\":{\"size\":8.588235294117647},\"opacity\":0.568796458994521,\"showarrow\":false,\"text\":\"INTERNET_OF_THINGS 10:0258\",\"x\":0.10925689071633819,\"xanchor\":\"left\",\"xshift\":4,\"y\":0.11010146346982091,\"yanchor\":\"bottom\",\"yshift\":4},{\"bgcolor\":\"white\",\"bordercolor\":\"grey\",\"font\":{\"size\":8.588235294117647},\"opacity\":0.568796458994521,\"showarrow\":false,\"text\":\"STATE_OF_CHARGE 10:0385\",\"x\":0.015375274835434157,\"xanchor\":\"left\",\"xshift\":4,\"y\":-0.22541852025411738,\"yanchor\":\"top\",\"yshift\":-4},{\"bgcolor\":\"white\",\"bordercolor\":\"grey\",\"font\":{\"size\":8.588235294117647},\"opacity\":0.568796458994521,\"showarrow\":false,\"text\":\"MICROGRID 10:0405\",\"x\":0.22212978070237124,\"xanchor\":\"left\",\"xshift\":4,\"y\":0.027184782024261556,\"yanchor\":\"bottom\",\"yshift\":4},{\"bgcolor\":\"white\",\"bordercolor\":\"grey\",\"font\":{\"size\":8.705882352941176},\"opacity\":0.5815799980377997,\"showarrow\":false,\"text\":\"SOLAR_RADIATION 11:0845\",\"x\":-0.185969777356427,\"xanchor\":\"right\",\"xshift\":-4,\"y\":0.02332577388026551,\"yanchor\":\"bottom\",\"yshift\":4},{\"bgcolor\":\"white\",\"bordercolor\":\"grey\",\"font\":{\"size\":8.705882352941176},\"opacity\":0.5815799980377997,\"showarrow\":false,\"text\":\"WIND_TURBINES 11:0882\",\"x\":-0.11852981431706612,\"xanchor\":\"right\",\"xshift\":-4,\"y\":-0.06908282270504768,\"yanchor\":\"top\",\"yshift\":-4},{\"bgcolor\":\"white\",\"bordercolor\":\"grey\",\"font\":{\"size\":8.705882352941176},\"opacity\":0.5815799980377997,\"showarrow\":false,\"text\":\"FUZZY_LOGIC 11:1752\",\"x\":-0.04494137109334906,\"xanchor\":\"right\",\"xshift\":-4,\"y\":0.09626481248136597,\"yanchor\":\"bottom\",\"yshift\":4},{\"bgcolor\":\"white\",\"bordercolor\":\"grey\",\"font\":{\"size\":8.823529411764707},\"opacity\":0.5940885257860046,\"showarrow\":false,\"text\":\"ENERGY_EFFICIENCY 12:0350\",\"x\":0.0429122785328855,\"xanchor\":\"left\",\"xshift\":4,\"y\":0.14095673312259907,\"yanchor\":\"bottom\",\"yshift\":4},{\"bgcolor\":\"white\",\"bordercolor\":\"grey\",\"font\":{\"size\":8.823529411764707},\"opacity\":0.5940885257860046,\"showarrow\":false,\"text\":\"MULTI_AGENT_SYSTEMS 12:0514\",\"x\":0.15067676022460644,\"xanchor\":\"left\",\"xshift\":4,\"y\":0.02232923283115474,\"yanchor\":\"bottom\",\"yshift\":4},{\"bgcolor\":\"white\",\"bordercolor\":\"grey\",\"font\":{\"size\":9.176470588235293},\"opacity\":0.6301260378126045,\"showarrow\":false,\"text\":\"PARTICLE_SWARM_OPTIMIZATION 15:0892\",\"x\":-0.028531869662610156,\"xanchor\":\"right\",\"xshift\":-4,\"y\":0.04347368601494208,\"yanchor\":\"bottom\",\"yshift\":4},{\"bgcolor\":\"white\",\"bordercolor\":\"grey\",\"font\":{\"size\":9.176470588235293},\"opacity\":0.6301260378126045,\"showarrow\":false,\"text\":\"GENETIC_ALGORITHMS 15:1987\",\"x\":-0.05743664108679999,\"xanchor\":\"right\",\"xshift\":-4,\"y\":0.02205456565204265,\"yanchor\":\"bottom\",\"yshift\":4},{\"bgcolor\":\"white\",\"bordercolor\":\"grey\",\"font\":{\"size\":9.294117647058824},\"opacity\":0.6416889479197478,\"showarrow\":false,\"text\":\"WIND_ENERGY 16:0861\",\"x\":0.01754902091177313,\"xanchor\":\"left\",\"xshift\":4,\"y\":-0.022860884368591298,\"yanchor\":\"top\",\"yshift\":-4},{\"bgcolor\":\"white\",\"bordercolor\":\"grey\",\"font\":{\"size\":9.294117647058824},\"opacity\":0.6416889479197478,\"showarrow\":false,\"text\":\"PHOTOVOLTAIC_SYSTEMS 16:1628\",\"x\":-0.11876863509836466,\"xanchor\":\"right\",\"xshift\":-4,\"y\":0.0306078948548714,\"yanchor\":\"bottom\",\"yshift\":4},{\"bgcolor\":\"white\",\"bordercolor\":\"grey\",\"font\":{\"size\":9.411764705882353},\"opacity\":0.6530471562110152,\"showarrow\":false,\"text\":\"REINFORCEMENT_LEARNING 17:0450\",\"x\":0.06785103515693583,\"xanchor\":\"left\",\"xshift\":4,\"y\":0.035862581526662815,\"yanchor\":\"bottom\",\"yshift\":4},{\"bgcolor\":\"white\",\"bordercolor\":\"grey\",\"font\":{\"size\":9.411764705882353},\"opacity\":0.6530471562110152,\"showarrow\":false,\"text\":\"ENERGY_MANAGEMENT 17:0712\",\"x\":0.04881175386657501,\"xanchor\":\"left\",\"xshift\":4,\"y\":0.01944277062717638,\"yanchor\":\"bottom\",\"yshift\":4},{\"bgcolor\":\"white\",\"bordercolor\":\"grey\",\"font\":{\"size\":9.411764705882353},\"opacity\":0.6530471562110152,\"showarrow\":false,\"text\":\"ARTIFICIAL_NEURAL_NETWORKS 17:2266\",\"x\":-0.12297866697639599,\"xanchor\":\"right\",\"xshift\":-4,\"y\":-0.017694577327360822,\"yanchor\":\"top\",\"yshift\":-4},{\"bgcolor\":\"white\",\"bordercolor\":\"grey\",\"font\":{\"size\":9.529411764705882},\"opacity\":0.6642111641550714,\"showarrow\":false,\"text\":\"LITHIUM_ION_BATTERIES 18:0566\",\"x\":-0.042670106985513684,\"xanchor\":\"right\",\"xshift\":-4,\"y\":-0.24786919397009546,\"yanchor\":\"top\",\"yshift\":-4},{\"bgcolor\":\"white\",\"bordercolor\":\"grey\",\"font\":{\"size\":9.647058823529411},\"opacity\":0.6751906048969998,\"showarrow\":false,\"text\":\"PHOTOVOLTAICS 19:0610\",\"x\":-0.10867589590122384,\"xanchor\":\"right\",\"xshift\":-4,\"y\":0.012581899781084321,\"yanchor\":\"bottom\",\"yshift\":4},{\"bgcolor\":\"white\",\"bordercolor\":\"grey\",\"font\":{\"size\":10.117647058823529},\"opacity\":0.7174300539794393,\"showarrow\":false,\"text\":\"SOLAR_ENERGY 23:2447\",\"x\":-0.05022313516650214,\"xanchor\":\"right\",\"xshift\":-4,\"y\":-0.005931601344967606,\"yanchor\":\"top\",\"yshift\":-4},{\"bgcolor\":\"white\",\"bordercolor\":\"grey\",\"font\":{\"size\":10.941176470588236},\"opacity\":0.7859052479933758,\"showarrow\":false,\"text\":\"ELECTRIC_VEHICLES 30:1093\",\"x\":0.03349324352788613,\"xanchor\":\"left\",\"xshift\":4,\"y\":-0.1157046877996965,\"yanchor\":\"top\",\"yshift\":-4},{\"bgcolor\":\"white\",\"bordercolor\":\"grey\",\"font\":{\"size\":11.764705882352942},\"opacity\":0.8488746876271654,\"showarrow\":false,\"text\":\"SMART_GRID 37:1742\",\"x\":0.08454043703939625,\"xanchor\":\"left\",\"xshift\":4,\"y\":-0.028587744644051612,\"yanchor\":\"top\",\"yshift\":-4},{\"bgcolor\":\"white\",\"bordercolor\":\"grey\",\"font\":{\"size\":11.764705882352942},\"opacity\":0.8488746876271654,\"showarrow\":false,\"text\":\"RENEWABLE_ENERGIES 37:2859\",\"x\":-0.04411474174643428,\"xanchor\":\"right\",\"xshift\":-4,\"y\":-0.02570351964636365,\"yanchor\":\"top\",\"yshift\":-4},{\"bgcolor\":\"white\",\"bordercolor\":\"grey\",\"font\":{\"size\":13.411764705882353},\"opacity\":0.9625334218796219,\"showarrow\":false,\"text\":\"NEURAL_NETWORKS 51:4292\",\"x\":-0.07302517807265257,\"xanchor\":\"right\",\"xshift\":-4,\"y\":-0.03507102863817463,\"yanchor\":\"top\",\"yshift\":-4},{\"bgcolor\":\"white\",\"bordercolor\":\"grey\",\"font\":{\"size\":14.0},\"opacity\":1.0,\"showarrow\":false,\"text\":\"DEEP_LEARNING 56:2479\",\"x\":-0.02255445849607741,\"xanchor\":\"right\",\"xshift\":-4,\"y\":-0.08027263031689079,\"yanchor\":\"top\",\"yshift\":-4}],\"hovermode\":\"closest\",\"margin\":{\"b\":0,\"l\":0,\"r\":0,\"t\":0},\"showlegend\":false,\"title\":{\"font\":{\"size\":16},\"text\":\"\"},\"template\":{\"data\":{\"histogram2dcontour\":[{\"type\":\"histogram2dcontour\",\"colorbar\":{\"outlinewidth\":0,\"ticks\":\"\"},\"colorscale\":[[0.0,\"#0d0887\"],[0.1111111111111111,\"#46039f\"],[0.2222222222222222,\"#7201a8\"],[0.3333333333333333,\"#9c179e\"],[0.4444444444444444,\"#bd3786\"],[0.5555555555555556,\"#d8576b\"],[0.6666666666666666,\"#ed7953\"],[0.7777777777777778,\"#fb9f3a\"],[0.8888888888888888,\"#fdca26\"],[1.0,\"#f0f921\"]]}],\"choropleth\":[{\"type\":\"choropleth\",\"colorbar\":{\"outlinewidth\":0,\"ticks\":\"\"}}],\"histogram2d\":[{\"type\":\"histogram2d\",\"colorbar\":{\"outlinewidth\":0,\"ticks\":\"\"},\"colorscale\":[[0.0,\"#0d0887\"],[0.1111111111111111,\"#46039f\"],[0.2222222222222222,\"#7201a8\"],[0.3333333333333333,\"#9c179e\"],[0.4444444444444444,\"#bd3786\"],[0.5555555555555556,\"#d8576b\"],[0.6666666666666666,\"#ed7953\"],[0.7777777777777778,\"#fb9f3a\"],[0.8888888888888888,\"#fdca26\"],[1.0,\"#f0f921\"]]}],\"heatmap\":[{\"type\":\"heatmap\",\"colorbar\":{\"outlinewidth\":0,\"ticks\":\"\"},\"colorscale\":[[0.0,\"#0d0887\"],[0.1111111111111111,\"#46039f\"],[0.2222222222222222,\"#7201a8\"],[0.3333333333333333,\"#9c179e\"],[0.4444444444444444,\"#bd3786\"],[0.5555555555555556,\"#d8576b\"],[0.6666666666666666,\"#ed7953\"],[0.7777777777777778,\"#fb9f3a\"],[0.8888888888888888,\"#fdca26\"],[1.0,\"#f0f921\"]]}],\"heatmapgl\":[{\"type\":\"heatmapgl\",\"colorbar\":{\"outlinewidth\":0,\"ticks\":\"\"},\"colorscale\":[[0.0,\"#0d0887\"],[0.1111111111111111,\"#46039f\"],[0.2222222222222222,\"#7201a8\"],[0.3333333333333333,\"#9c179e\"],[0.4444444444444444,\"#bd3786\"],[0.5555555555555556,\"#d8576b\"],[0.6666666666666666,\"#ed7953\"],[0.7777777777777778,\"#fb9f3a\"],[0.8888888888888888,\"#fdca26\"],[1.0,\"#f0f921\"]]}],\"contourcarpet\":[{\"type\":\"contourcarpet\",\"colorbar\":{\"outlinewidth\":0,\"ticks\":\"\"}}],\"contour\":[{\"type\":\"contour\",\"colorbar\":{\"outlinewidth\":0,\"ticks\":\"\"},\"colorscale\":[[0.0,\"#0d0887\"],[0.1111111111111111,\"#46039f\"],[0.2222222222222222,\"#7201a8\"],[0.3333333333333333,\"#9c179e\"],[0.4444444444444444,\"#bd3786\"],[0.5555555555555556,\"#d8576b\"],[0.6666666666666666,\"#ed7953\"],[0.7777777777777778,\"#fb9f3a\"],[0.8888888888888888,\"#fdca26\"],[1.0,\"#f0f921\"]]}],\"surface\":[{\"type\":\"surface\",\"colorbar\":{\"outlinewidth\":0,\"ticks\":\"\"},\"colorscale\":[[0.0,\"#0d0887\"],[0.1111111111111111,\"#46039f\"],[0.2222222222222222,\"#7201a8\"],[0.3333333333333333,\"#9c179e\"],[0.4444444444444444,\"#bd3786\"],[0.5555555555555556,\"#d8576b\"],[0.6666666666666666,\"#ed7953\"],[0.7777777777777778,\"#fb9f3a\"],[0.8888888888888888,\"#fdca26\"],[1.0,\"#f0f921\"]]}],\"mesh3d\":[{\"type\":\"mesh3d\",\"colorbar\":{\"outlinewidth\":0,\"ticks\":\"\"}}],\"scatter\":[{\"fillpattern\":{\"fillmode\":\"overlay\",\"size\":10,\"solidity\":0.2},\"type\":\"scatter\"}],\"parcoords\":[{\"type\":\"parcoords\",\"line\":{\"colorbar\":{\"outlinewidth\":0,\"ticks\":\"\"}}}],\"scatterpolargl\":[{\"type\":\"scatterpolargl\",\"marker\":{\"colorbar\":{\"outlinewidth\":0,\"ticks\":\"\"}}}],\"bar\":[{\"error_x\":{\"color\":\"#2a3f5f\"},\"error_y\":{\"color\":\"#2a3f5f\"},\"marker\":{\"line\":{\"color\":\"#E5ECF6\",\"width\":0.5},\"pattern\":{\"fillmode\":\"overlay\",\"size\":10,\"solidity\":0.2}},\"type\":\"bar\"}],\"scattergeo\":[{\"type\":\"scattergeo\",\"marker\":{\"colorbar\":{\"outlinewidth\":0,\"ticks\":\"\"}}}],\"scatterpolar\":[{\"type\":\"scatterpolar\",\"marker\":{\"colorbar\":{\"outlinewidth\":0,\"ticks\":\"\"}}}],\"histogram\":[{\"marker\":{\"pattern\":{\"fillmode\":\"overlay\",\"size\":10,\"solidity\":0.2}},\"type\":\"histogram\"}],\"scattergl\":[{\"type\":\"scattergl\",\"marker\":{\"colorbar\":{\"outlinewidth\":0,\"ticks\":\"\"}}}],\"scatter3d\":[{\"type\":\"scatter3d\",\"line\":{\"colorbar\":{\"outlinewidth\":0,\"ticks\":\"\"}},\"marker\":{\"colorbar\":{\"outlinewidth\":0,\"ticks\":\"\"}}}],\"scattermapbox\":[{\"type\":\"scattermapbox\",\"marker\":{\"colorbar\":{\"outlinewidth\":0,\"ticks\":\"\"}}}],\"scatterternary\":[{\"type\":\"scatterternary\",\"marker\":{\"colorbar\":{\"outlinewidth\":0,\"ticks\":\"\"}}}],\"scattercarpet\":[{\"type\":\"scattercarpet\",\"marker\":{\"colorbar\":{\"outlinewidth\":0,\"ticks\":\"\"}}}],\"carpet\":[{\"aaxis\":{\"endlinecolor\":\"#2a3f5f\",\"gridcolor\":\"white\",\"linecolor\":\"white\",\"minorgridcolor\":\"white\",\"startlinecolor\":\"#2a3f5f\"},\"baxis\":{\"endlinecolor\":\"#2a3f5f\",\"gridcolor\":\"white\",\"linecolor\":\"white\",\"minorgridcolor\":\"white\",\"startlinecolor\":\"#2a3f5f\"},\"type\":\"carpet\"}],\"table\":[{\"cells\":{\"fill\":{\"color\":\"#EBF0F8\"},\"line\":{\"color\":\"white\"}},\"header\":{\"fill\":{\"color\":\"#C8D4E3\"},\"line\":{\"color\":\"white\"}},\"type\":\"table\"}],\"barpolar\":[{\"marker\":{\"line\":{\"color\":\"#E5ECF6\",\"width\":0.5},\"pattern\":{\"fillmode\":\"overlay\",\"size\":10,\"solidity\":0.2}},\"type\":\"barpolar\"}],\"pie\":[{\"automargin\":true,\"type\":\"pie\"}]},\"layout\":{\"autotypenumbers\":\"strict\",\"colorway\":[\"#636efa\",\"#EF553B\",\"#00cc96\",\"#ab63fa\",\"#FFA15A\",\"#19d3f3\",\"#FF6692\",\"#B6E880\",\"#FF97FF\",\"#FECB52\"],\"font\":{\"color\":\"#2a3f5f\"},\"hovermode\":\"closest\",\"hoverlabel\":{\"align\":\"left\"},\"paper_bgcolor\":\"white\",\"plot_bgcolor\":\"#E5ECF6\",\"polar\":{\"bgcolor\":\"#E5ECF6\",\"angularaxis\":{\"gridcolor\":\"white\",\"linecolor\":\"white\",\"ticks\":\"\"},\"radialaxis\":{\"gridcolor\":\"white\",\"linecolor\":\"white\",\"ticks\":\"\"}},\"ternary\":{\"bgcolor\":\"#E5ECF6\",\"aaxis\":{\"gridcolor\":\"white\",\"linecolor\":\"white\",\"ticks\":\"\"},\"baxis\":{\"gridcolor\":\"white\",\"linecolor\":\"white\",\"ticks\":\"\"},\"caxis\":{\"gridcolor\":\"white\",\"linecolor\":\"white\",\"ticks\":\"\"}},\"coloraxis\":{\"colorbar\":{\"outlinewidth\":0,\"ticks\":\"\"}},\"colorscale\":{\"sequential\":[[0.0,\"#0d0887\"],[0.1111111111111111,\"#46039f\"],[0.2222222222222222,\"#7201a8\"],[0.3333333333333333,\"#9c179e\"],[0.4444444444444444,\"#bd3786\"],[0.5555555555555556,\"#d8576b\"],[0.6666666666666666,\"#ed7953\"],[0.7777777777777778,\"#fb9f3a\"],[0.8888888888888888,\"#fdca26\"],[1.0,\"#f0f921\"]],\"sequentialminus\":[[0.0,\"#0d0887\"],[0.1111111111111111,\"#46039f\"],[0.2222222222222222,\"#7201a8\"],[0.3333333333333333,\"#9c179e\"],[0.4444444444444444,\"#bd3786\"],[0.5555555555555556,\"#d8576b\"],[0.6666666666666666,\"#ed7953\"],[0.7777777777777778,\"#fb9f3a\"],[0.8888888888888888,\"#fdca26\"],[1.0,\"#f0f921\"]],\"diverging\":[[0,\"#8e0152\"],[0.1,\"#c51b7d\"],[0.2,\"#de77ae\"],[0.3,\"#f1b6da\"],[0.4,\"#fde0ef\"],[0.5,\"#f7f7f7\"],[0.6,\"#e6f5d0\"],[0.7,\"#b8e186\"],[0.8,\"#7fbc41\"],[0.9,\"#4d9221\"],[1,\"#276419\"]]},\"xaxis\":{\"gridcolor\":\"white\",\"linecolor\":\"white\",\"ticks\":\"\",\"title\":{\"standoff\":15},\"zerolinecolor\":\"white\",\"automargin\":true,\"zerolinewidth\":2},\"yaxis\":{\"gridcolor\":\"white\",\"linecolor\":\"white\",\"ticks\":\"\",\"title\":{\"standoff\":15},\"zerolinecolor\":\"white\",\"automargin\":true,\"zerolinewidth\":2},\"scene\":{\"xaxis\":{\"backgroundcolor\":\"#E5ECF6\",\"gridcolor\":\"white\",\"linecolor\":\"white\",\"showbackground\":true,\"ticks\":\"\",\"zerolinecolor\":\"white\",\"gridwidth\":2},\"yaxis\":{\"backgroundcolor\":\"#E5ECF6\",\"gridcolor\":\"white\",\"linecolor\":\"white\",\"showbackground\":true,\"ticks\":\"\",\"zerolinecolor\":\"white\",\"gridwidth\":2},\"zaxis\":{\"backgroundcolor\":\"#E5ECF6\",\"gridcolor\":\"white\",\"linecolor\":\"white\",\"showbackground\":true,\"ticks\":\"\",\"zerolinecolor\":\"white\",\"gridwidth\":2}},\"shapedefaults\":{\"line\":{\"color\":\"#2a3f5f\"}},\"annotationdefaults\":{\"arrowcolor\":\"#2a3f5f\",\"arrowhead\":0,\"arrowwidth\":1},\"geo\":{\"bgcolor\":\"white\",\"landcolor\":\"#E5ECF6\",\"subunitcolor\":\"white\",\"showland\":true,\"showlakes\":true,\"lakecolor\":\"white\"},\"title\":{\"x\":0.05},\"mapbox\":{\"style\":\"light\"}}},\"xaxis\":{\"showgrid\":false,\"zeroline\":false,\"showticklabels\":false},\"yaxis\":{\"showgrid\":false,\"zeroline\":false,\"showticklabels\":false},\"hoverlabel\":{\"font\":{\"family\":\"monospace\"},\"bgcolor\":\"white\"},\"paper_bgcolor\":\"white\",\"plot_bgcolor\":\"white\",\"width\":1100,\"height\":1100},                        {\"responsive\": true}                    ).then(function(){\n",
       "                            \n",
       "var gd = document.getElementById('ebdc77a5-b107-486a-8e92-f91e405fcaf3');\n",
       "var x = new MutationObserver(function (mutations, observer) {{\n",
       "        var display = window.getComputedStyle(gd).display;\n",
       "        if (!display || display === 'none') {{\n",
       "            console.log([gd, 'removed!']);\n",
       "            Plotly.purge(gd);\n",
       "            observer.disconnect();\n",
       "        }}\n",
       "}});\n",
       "\n",
       "// Listen for the removal of the full notebook cells\n",
       "var notebookContainer = gd.closest('#notebook-container');\n",
       "if (notebookContainer) {{\n",
       "    x.observe(notebookContainer, {childList: true});\n",
       "}}\n",
       "\n",
       "// Listen for the clearing of the current output cell\n",
       "var outputEl = gd.closest('.output');\n",
       "if (outputEl) {{\n",
       "    x.observe(outputEl, {childList: true});\n",
       "}}\n",
       "\n",
       "                        })                };                });            </script>        </div>"
      ]
     },
     "metadata": {},
     "output_type": "display_data"
    }
   ],
   "source": [
    "matrix_viewer(\n",
    "    #\n",
    "    # FUNCTION PARAMS:\n",
    "    columns='author_keywords',\n",
    "    rows=None,\n",
    "    #\n",
    "    # COLUMN PARAMS:\n",
    "    col_top_n=None,\n",
    "    col_occ_range=(5, None),\n",
    "    col_gc_range=(None, None),\n",
    "    col_custom_items=None,\n",
    "    #\n",
    "    # ROW PARAMS:\n",
    "    row_top_n=10,\n",
    "    row_occ_range=(None, None),\n",
    "    row_gc_range=(None, None),\n",
    "    row_custom_items=None,\n",
    "    #\n",
    "    # LAYOUT:\n",
    "    nx_k=None,\n",
    "    nx_iterations=15,\n",
    "    nx_random_state=0,\n",
    "    #\n",
    "    # NODES:\n",
    "    node_size_min=8,\n",
    "    node_size_max=20,\n",
    "    textfont_size_min=8,\n",
    "    textfont_size_max=14,\n",
    "    textfont_opacity_min=0.25,\n",
    "    textfont_opacity_max=1.00,\n",
    "    #\n",
    "    # EDGES\n",
    "    edge_color=\"#E8E8E8\",\n",
    "    edge_width_min=0.7,\n",
    "    edge_width_max=3.0,\n",
    "    #\n",
    "    # AXES:\n",
    "    xaxes_range=None,\n",
    "    yaxes_range=None,\n",
    "    show_axes=False,\n",
    "    #\n",
    "    # DATABASE PARAMS:\n",
    "    root_dir=\"./\",\n",
    "    database=\"main\",\n",
    "    year_filter=(None, None),\n",
    "    cited_by_filter=(None, None),\n",
    ").update_layout(width=1100, height=1100).show()"
   ]
  }
 ],
 "metadata": {
  "kernelspec": {
   "display_name": "Python 3 (ipykernel)",
   "language": "python",
   "name": "python3"
  },
  "language_info": {
   "codemirror_mode": {
    "name": "ipython",
    "version": 3
   },
   "file_extension": ".py",
   "mimetype": "text/x-python",
   "name": "python",
   "nbconvert_exporter": "python",
   "pygments_lexer": "ipython3",
   "version": "3.9.6"
  }
 },
 "nbformat": 4,
 "nbformat_minor": 5
}
