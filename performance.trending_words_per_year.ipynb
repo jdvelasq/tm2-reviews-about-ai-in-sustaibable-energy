{
 "cells": [
  {
   "cell_type": "code",
   "execution_count": 1,
   "id": "77870c9a-a824-473a-bd4a-c08b09826e74",
   "metadata": {},
   "outputs": [],
   "source": [
    "data = {\n",
    "    \"2013\": {\n",
    "        \"0\": [\n",
    "            \"GENETIC_ALGORITHMS\",\n",
    "            \"PARTICLE_SWARM_OPTIMIZATION\",\n",
    "            \"DISTRIBUTED_GENERATION\",\n",
    "            \"WIND_ENERGY\",\n",
    "            \"DATA_MINING\",\n",
    "            \"MULTI_OBJECTIVE_OPTIMIZATION\",\n",
    "            \"DEMAND_RESPONSE\",\n",
    "            \"DEMAND_SIDE_MANAGEMENT\",\n",
    "            \"WIND_FARM\",\n",
    "            \"COMBINED_HEAT_AND_POWER\"\n",
    "        ],\n",
    "        \"1\": [\n",
    "            \"ARTIFICIAL_NEURAL_NETWORKS\",\n",
    "            \"RADIAL_BASIS_FUNCTION_NETWORK\",\n",
    "            \"WIND_SPEED\",\n",
    "            \"BIODIESEL\",\n",
    "            \"PEMFC\",\n",
    "            \"WIND_SPEED_FORECASTING\",\n",
    "            \"BACK_PROPAGATION\",\n",
    "            \"GLOBAL_SOLAR_RADIATION\",\n",
    "            \"WIND_ENERGY_FORECASTING\",\n",
    "            \"SOLAR_RADIATION\"\n",
    "        ],\n",
    "        \"2\": [\n",
    "            \"MPPT\",\n",
    "            \"FUZZY_LOGIC_CONTROL\",\n",
    "            \"PHOTO_VOLTAIC\",\n",
    "            \"FUZZY_LOGIC\",\n",
    "            \"PHOTO_VOLTAIC_SYSTEM\",\n",
    "            \"PARTIAL_SHADING\",\n",
    "            \"PERMANENT_MAGNET_SYNCHRONOUS_GENERATOR\",\n",
    "            \"DOUBLY_FED_INDUCTION_GENERATOR\",\n",
    "            \"INVERTER\",\n",
    "            \"FUZZY_SYSTEMS\"\n",
    "        ],\n",
    "        \"3\": [\n",
    "            \"ELECTRIC_AND_HYBRID_VEHICLES\",\n",
    "            \"SUPPORT_VECTOR_MACHINES\",\n",
    "            \"SMART_GRID\",\n",
    "            \"MICRO_GRID\",\n",
    "            \"ENERGY_MANAGEMENT\",\n",
    "            \"MULTI_AGENT_SYSTEMS\",\n",
    "            \"STATE_OF_CHARGE\",\n",
    "            \"ENERGY_MANAGEMENT_SYSTEMS\",\n",
    "            \"STATE_OF_HEALTH\",\n",
    "            \"LITHIUM_BATTERIES\"\n",
    "        ],\n",
    "        \"4\": [\n",
    "            \"WIND_TURBINES\",\n",
    "            \"DIFFERENTIAL_EVOLUTION\",\n",
    "            \"EVOLUTIONARY_ALGORITHMS\",\n",
    "            \"PARAMETER_PREDICTION\",\n",
    "            \"SOLAR_CELLS\",\n",
    "            \"HYBRID_EVOLUTIONARY_ALGORITHM\",\n",
    "            \"PITCH_CONTROL\"\n",
    "        ]\n",
    "    },\n",
    "    \"2014\": {\n",
    "        \"0\": [\n",
    "            \"ARTIFICIAL_NEURAL_NETWORKS\",\n",
    "            \"GENETIC_ALGORITHMS\",\n",
    "            \"WIND_ENERGY\",\n",
    "            \"SUPPORT_VECTOR_MACHINES\",\n",
    "            \"WIND_TURBINES\",\n",
    "            \"WIND_SPEED_FORECASTING\",\n",
    "            \"WIND_FARM\",\n",
    "            \"RADIAL_BASIS_FUNCTION_NETWORK\",\n",
    "            \"BIODIESEL\",\n",
    "            \"SOLAR_RADIATION\"\n",
    "        ],\n",
    "        \"1\": [\n",
    "            \"DISTRIBUTED_GENERATION\",\n",
    "            \"SMART_GRID\",\n",
    "            \"MICRO_GRID\",\n",
    "            \"ENERGY_EFFICIENCY\",\n",
    "            \"ADAPTIVE_NEURO_FUZZY_INFERENCE_SYSTEM\",\n",
    "            \"MULTI_AGENT_SYSTEMS\",\n",
    "            \"DEMAND_RESPONSE\",\n",
    "            \"DATA_MINING\",\n",
    "            \"EVOLUTIONARY_ALGORITHMS\",\n",
    "            \"ENERGY_CONSUMPTION\"\n",
    "        ],\n",
    "        \"2\": [\n",
    "            \"PARTICLE_SWARM_OPTIMIZATION\",\n",
    "            \"ELECTRIC_AND_HYBRID_VEHICLES\",\n",
    "            \"ENERGY_MANAGEMENT\",\n",
    "            \"LITHIUM_BATTERIES\",\n",
    "            \"STATE_OF_CHARGE\",\n",
    "            \"FUEL_CELL\",\n",
    "            \"CHARGING_STRATEGIES\",\n",
    "            \"PEMFC\",\n",
    "            \"POWER_MANAGEMENT\",\n",
    "            \"STATE_OF_HEALTH\"\n",
    "        ],\n",
    "        \"3\": [\n",
    "            \"MPPT\",\n",
    "            \"FUZZY_LOGIC\",\n",
    "            \"FUZZY_LOGIC_CONTROL\",\n",
    "            \"PHOTO_VOLTAIC_SYSTEM\",\n",
    "            \"PHOTO_VOLTAIC\",\n",
    "            \"PERTURB_AND_OBSERVE\",\n",
    "            \"SOLAR_ENERGY\",\n",
    "            \"DC_DC_CONVERTERS\",\n",
    "            \"DOUBLY_FED_INDUCTION_GENERATOR\",\n",
    "            \"PARTIAL_SHADING\"\n",
    "        ]\n",
    "    },\n",
    "    \"2015\": {\n",
    "        \"0\": [\n",
    "            \"GENETIC_ALGORITHMS\",\n",
    "            \"FUZZY_LOGIC\",\n",
    "            \"SMART_GRID\",\n",
    "            \"MICRO_GRID\",\n",
    "            \"DISTRIBUTED_GENERATION\",\n",
    "            \"MULTI_OBJECTIVE_OPTIMIZATION\",\n",
    "            \"MULTI_AGENT_SYSTEMS\",\n",
    "            \"DEMAND_RESPONSE\",\n",
    "            \"ENERGY_CONSUMPTION\",\n",
    "            \"DEMAND_SIDE_MANAGEMENT\"\n",
    "        ],\n",
    "        \"1\": [\n",
    "            \"ARTIFICIAL_NEURAL_NETWORKS\",\n",
    "            \"WIND_TURBINES\",\n",
    "            \"WIND_ENERGY\",\n",
    "            \"WIND_SPEED_FORECASTING\",\n",
    "            \"SOLAR_RADIATION\",\n",
    "            \"BIODIESEL\",\n",
    "            \"WIND_ENERGY_FORECASTING\",\n",
    "            \"ADAPTIVE_NEURO_FUZZY_INFERENCE_SYSTEM\",\n",
    "            \"EXTREME_LEARNING_MACHINE\",\n",
    "            \"GENETIC_PROGRAMMING\"\n",
    "        ],\n",
    "        \"2\": [\n",
    "            \"ELECTRIC_AND_HYBRID_VEHICLES\",\n",
    "            \"SUPPORT_VECTOR_MACHINES\",\n",
    "            \"ENERGY_MANAGEMENT\",\n",
    "            \"CHARGING_STRATEGIES\",\n",
    "            \"Q_LEARNING\",\n",
    "            \"REINFORCEMENT_LEARNING\",\n",
    "            \"PEMFC\",\n",
    "            \"STATE_OF_CHARGE\",\n",
    "            \"LITHIUM_BATTERIES\",\n",
    "            \"DYNAMIC_PROGRAMMING\"\n",
    "        ],\n",
    "        \"3\": [\n",
    "            \"PARTICLE_SWARM_OPTIMIZATION\",\n",
    "            \"FUZZY_LOGIC_CONTROL\",\n",
    "            \"MPPT\",\n",
    "            \"PHOTO_VOLTAIC\",\n",
    "            \"DIFFERENTIAL_EVOLUTION\",\n",
    "            \"DOUBLY_FED_INDUCTION_GENERATOR\",\n",
    "            \"FUEL_CELL\",\n",
    "            \"HYBRID_SYSTEMS\",\n",
    "            \"PARTIAL_SHADING\",\n",
    "            \"SOLAR_ENERGY\"\n",
    "        ],\n",
    "        \"4\": [\n",
    "            \"PHOTO_VOLTAIC_SYSTEM\",\n",
    "            \"PI_CONTROL\",\n",
    "            \"FIREFLY_ALGORITHMS\",\n",
    "            \"ANT_COLONY_OPTIMIZATION\",\n",
    "            \"INTELLIGENT_CONTROL\",\n",
    "            \"SPEED_CONTROL\"\n",
    "        ]\n",
    "    },\n",
    "    \"2016\": {\n",
    "        \"0\": [\n",
    "            \"ARTIFICIAL_NEURAL_NETWORKS\",\n",
    "            \"SUPPORT_VECTOR_MACHINES\",\n",
    "            \"WIND_TURBINES\",\n",
    "            \"WIND_SPEED_FORECASTING\",\n",
    "            \"SOLAR_RADIATION\",\n",
    "            \"SOLAR_ENERGY\",\n",
    "            \"EXTREME_LEARNING_MACHINE\",\n",
    "            \"DATA_MINING\",\n",
    "            \"DEEP_LEARNING\",\n",
    "            \"STATE_OF_CHARGE\"\n",
    "        ],\n",
    "        \"1\": [\n",
    "            \"PARTICLE_SWARM_OPTIMIZATION\",\n",
    "            \"MICRO_GRID\",\n",
    "            \"SMART_GRID\",\n",
    "            \"ELECTRIC_AND_HYBRID_VEHICLES\",\n",
    "            \"ENERGY_MANAGEMENT\",\n",
    "            \"MULTI_AGENT_SYSTEMS\",\n",
    "            \"RADIAL_BASIS_FUNCTION_NETWORK\",\n",
    "            \"DEMAND_SIDE_MANAGEMENT\",\n",
    "            \"ENERGY_SAVINGS\",\n",
    "            \"DEMAND_RESPONSE\"\n",
    "        ],\n",
    "        \"2\": [\n",
    "            \"FUZZY_LOGIC_CONTROL\",\n",
    "            \"MPPT\",\n",
    "            \"PHOTO_VOLTAIC\",\n",
    "            \"FUZZY_LOGIC\",\n",
    "            \"DISTRIBUTED_GENERATION\",\n",
    "            \"PHOTO_VOLTAIC_SYSTEM\",\n",
    "            \"ADAPTIVE_NEURO_FUZZY_INFERENCE_SYSTEM\",\n",
    "            \"WIND_ENERGY_CONVERSION_SYSTEM\",\n",
    "            \"ENERGY_STORAGE\",\n",
    "            \"DOUBLY_FED_INDUCTION_GENERATOR\"\n",
    "        ],\n",
    "        \"3\": [\n",
    "            \"GENETIC_ALGORITHMS\",\n",
    "            \"DIFFERENTIAL_EVOLUTION\",\n",
    "            \"ENERGY_EFFICIENCY\",\n",
    "            \"MULTI_OBJECTIVE_OPTIMIZATION\",\n",
    "            \"ARTIFICIAL_BEE_COLONY\",\n",
    "            \"ECONOMIC_DISPATCH\",\n",
    "            \"ANT_COLONY_OPTIMIZATION\",\n",
    "            \"CLOUD_COMPUTING\",\n",
    "            \"EMISSION\",\n",
    "            \"FIREFLY_ALGORITHMS\"\n",
    "        ],\n",
    "        \"4\": [\n",
    "            \"WIND_ENERGY\",\n",
    "            \"EVOLUTIONARY_ALGORITHMS\",\n",
    "            \"PROBABILISTIC_FORECASTING\",\n",
    "            \"WIND_FARM\",\n",
    "            \"UNCERTAINTY\",\n",
    "            \"SOLAR_POWER\",\n",
    "            \"ELMAN_NEURAL_NETWORK\"\n",
    "        ]\n",
    "    },\n",
    "    \"2017\": {\n",
    "        \"0\": [\n",
    "            \"ARTIFICIAL_NEURAL_NETWORKS\",\n",
    "            \"SUPPORT_VECTOR_MACHINES\",\n",
    "            \"LITHIUM_BATTERIES\",\n",
    "            \"EXTREME_LEARNING_MACHINE\",\n",
    "            \"SOLAR_RADIATION\",\n",
    "            \"WIND_ENERGY_FORECASTING\",\n",
    "            \"CHARGING_STRATEGIES\",\n",
    "            \"ADAPTIVE_NEURO_FUZZY_INFERENCE_SYSTEM\",\n",
    "            \"STATE_OF_CHARGE\",\n",
    "            \"FAULT_DIAGNOSIS\"\n",
    "        ],\n",
    "        \"1\": [\n",
    "            \"PARTICLE_SWARM_OPTIMIZATION\",\n",
    "            \"MICRO_GRID\",\n",
    "            \"ELECTRIC_AND_HYBRID_VEHICLES\",\n",
    "            \"SMART_GRID\",\n",
    "            \"ENERGY_MANAGEMENT\",\n",
    "            \"MULTI_OBJECTIVE_OPTIMIZATION\",\n",
    "            \"DEMAND_RESPONSE\",\n",
    "            \"MULTI_AGENT_SYSTEMS\",\n",
    "            \"REINFORCEMENT_LEARNING\",\n",
    "            \"EVOLUTIONARY_ALGORITHMS\"\n",
    "        ],\n",
    "        \"2\": [\n",
    "            \"MPPT\",\n",
    "            \"FUZZY_LOGIC_CONTROL\",\n",
    "            \"FUZZY_LOGIC\",\n",
    "            \"PHOTO_VOLTAIC\",\n",
    "            \"PHOTO_VOLTAIC_SYSTEM\",\n",
    "            \"SOLAR_ENERGY\",\n",
    "            \"FIREFLY_ALGORITHMS\",\n",
    "            \"PI_CONTROL\",\n",
    "            \"INCREMENTAL_CONDUCTANCE\",\n",
    "            \"PERTURB_AND_OBSERVE\"\n",
    "        ],\n",
    "        \"3\": [\n",
    "            \"WIND_ENERGY\",\n",
    "            \"ENERGY_EFFICIENCY\",\n",
    "            \"DATA_MINING\",\n",
    "            \"DEEP_LEARNING\",\n",
    "            \"CLUSTERING_ALGORITHMS\",\n",
    "            \"CONVOLUTIONAL_NEURAL_NETWORK\",\n",
    "            \"CLASSIFICATION\",\n",
    "            \"THERMAL_COMFORT\",\n",
    "            \"ENERGY_SAVINGS\",\n",
    "            \"LONG_SHORT_TERM_MEMORY_NETWORK\"\n",
    "        ],\n",
    "        \"4\": [\n",
    "            \"GENETIC_ALGORITHMS\",\n",
    "            \"WIND_TURBINES\",\n",
    "            \"DISTRIBUTED_GENERATION\",\n",
    "            \"WIND_FARM\",\n",
    "            \"ENERGY\",\n",
    "            \"DOUBLY_FED_INDUCTION_GENERATOR\",\n",
    "            \"DISTRIBUTION_SYSTEMS\",\n",
    "            \"VARIABLE_SPEED_WIND_TURBINES\",\n",
    "            \"CONDITION_MONITORING\",\n",
    "            \"K_MEANS_CLUSTERING\"\n",
    "        ],\n",
    "        \"5\": [\n",
    "            \"ARTIFICIAL_BEE_COLONY\",\n",
    "            \"SOLAR_CELLS\",\n",
    "            \"META_HEURISTIC_ALGORITHM\",\n",
    "            \"GRAVITATIONAL_SEARCH_ALGORITHM\",\n",
    "            \"PARAMETER_PREDICTION\",\n",
    "            \"PHOTO_VOLTAIC_CELL\",\n",
    "            \"RELIABILITY\"\n",
    "        ]\n",
    "    },\n",
    "    \"2018\": {\n",
    "        \"0\": [\n",
    "            \"ARTIFICIAL_NEURAL_NETWORKS\",\n",
    "            \"SUPPORT_VECTOR_MACHINES\",\n",
    "            \"DEEP_LEARNING\",\n",
    "            \"ADAPTIVE_NEURO_FUZZY_INFERENCE_SYSTEM\",\n",
    "            \"WIND_SPEED_FORECASTING\",\n",
    "            \"WIND_ENERGY\",\n",
    "            \"WIND_ENERGY_FORECASTING\",\n",
    "            \"LONG_SHORT_TERM_MEMORY_NETWORK\",\n",
    "            \"EXTREME_LEARNING_MACHINE\",\n",
    "            \"SOLAR_ENERGY\"\n",
    "        ],\n",
    "        \"1\": [\n",
    "            \"PARTICLE_SWARM_OPTIMIZATION\",\n",
    "            \"MPPT\",\n",
    "            \"FUZZY_LOGIC_CONTROL\",\n",
    "            \"PHOTO_VOLTAIC\",\n",
    "            \"FUZZY_LOGIC\",\n",
    "            \"PHOTO_VOLTAIC_SYSTEM\",\n",
    "            \"DIFFERENTIAL_EVOLUTION\",\n",
    "            \"FIREFLY_ALGORITHMS\",\n",
    "            \"PERTURB_AND_OBSERVE\",\n",
    "            \"BOOST_CONVERTER\"\n",
    "        ],\n",
    "        \"2\": [\n",
    "            \"GENETIC_ALGORITHMS\",\n",
    "            \"SMART_GRID\",\n",
    "            \"ENERGY_EFFICIENCY\",\n",
    "            \"ENERGY_CONSUMPTION\",\n",
    "            \"DATA_MINING\",\n",
    "            \"DEMAND_SIDE_MANAGEMENT\",\n",
    "            \"DEMAND_RESPONSE\",\n",
    "            \"DISTRIBUTED_ENERGY_RESOURCES\",\n",
    "            \"ARTIFICIAL_BEE_COLONY\",\n",
    "            \"BIG_DATA\"\n",
    "        ],\n",
    "        \"3\": [\n",
    "            \"MICRO_GRID\",\n",
    "            \"ENERGY_MANAGEMENT\",\n",
    "            \"REINFORCEMENT_LEARNING\",\n",
    "            \"DISTRIBUTED_GENERATION\",\n",
    "            \"MULTI_OBJECTIVE_OPTIMIZATION\",\n",
    "            \"MULTI_AGENT_SYSTEMS\",\n",
    "            \"META_HEURISTIC_ALGORITHM\",\n",
    "            \"FUEL_CELL\",\n",
    "            \"Q_LEARNING\",\n",
    "            \"EVOLUTIONARY_ALGORITHMS\"\n",
    "        ],\n",
    "        \"4\": [\n",
    "            \"ELECTRIC_AND_HYBRID_VEHICLES\",\n",
    "            \"LITHIUM_BATTERIES\",\n",
    "            \"STATE_OF_CHARGE\",\n",
    "            \"ENERGY_STORAGE\",\n",
    "            \"STATE_OF_HEALTH\",\n",
    "            \"CHARGING_STRATEGIES\",\n",
    "            \"ENERGY_STORAGE_SYSTEMS\",\n",
    "            \"RANDOM_FOREST\",\n",
    "            \"BATTERY_MANAGEMENT_SYSTEMS\",\n",
    "            \"WAVELET_NEURAL_NETWORK\"\n",
    "        ],\n",
    "        \"5\": [\n",
    "            \"WIND_TURBINES\",\n",
    "            \"FAULT_DIAGNOSIS\",\n",
    "            \"ENERGY\",\n",
    "            \"FEATURE_EXTRACTION\",\n",
    "            \"CONDITION_MONITORING\",\n",
    "            \"FUZZY\",\n",
    "            \"FAULT_DETECTION\",\n",
    "            \"ANOMALY_DETECTION\",\n",
    "            \"CONTROL\",\n",
    "            \"OPTIMAL_DESIGN\"\n",
    "        ]\n",
    "    },\n",
    "    \"2019\": {\n",
    "        \"0\": [\n",
    "            \"SMART_GRID\",\n",
    "            \"GENETIC_ALGORITHMS\",\n",
    "            \"ELECTRIC_AND_HYBRID_VEHICLES\",\n",
    "            \"MICRO_GRID\",\n",
    "            \"ENERGY_MANAGEMENT\",\n",
    "            \"REINFORCEMENT_LEARNING\",\n",
    "            \"DISTRIBUTED_GENERATION\",\n",
    "            \"MULTI_AGENT_SYSTEMS\",\n",
    "            \"DEMAND_RESPONSE\",\n",
    "            \"MULTI_OBJECTIVE_OPTIMIZATION\"\n",
    "        ],\n",
    "        \"1\": [\n",
    "            \"DEEP_LEARNING\",\n",
    "            \"LONG_SHORT_TERM_MEMORY_NETWORK\",\n",
    "            \"SUPPORT_VECTOR_MACHINES\",\n",
    "            \"CONVOLUTIONAL_NEURAL_NETWORK\",\n",
    "            \"LITHIUM_BATTERIES\",\n",
    "            \"WIND_SPEED_FORECASTING\",\n",
    "            \"WIND_ENERGY_FORECASTING\",\n",
    "            \"STATE_OF_CHARGE\",\n",
    "            \"RECURRENT_NEURAL_NETWORKS\",\n",
    "            \"DATA_MINING\"\n",
    "        ],\n",
    "        \"2\": [\n",
    "            \"ARTIFICIAL_NEURAL_NETWORKS\",\n",
    "            \"WIND_TURBINES\",\n",
    "            \"WIND_ENERGY\",\n",
    "            \"ENERGY_EFFICIENCY\",\n",
    "            \"ENERGY_CONSUMPTION\",\n",
    "            \"SOLAR_ENERGY\",\n",
    "            \"SOLAR_RADIATION\",\n",
    "            \"FAULT_DIAGNOSIS\",\n",
    "            \"WAVELET_TRANSFORM\",\n",
    "            \"FAULT_DETECTION\"\n",
    "        ],\n",
    "        \"3\": [\n",
    "            \"MPPT\",\n",
    "            \"PARTICLE_SWARM_OPTIMIZATION\",\n",
    "            \"FUZZY_LOGIC_CONTROL\",\n",
    "            \"PHOTO_VOLTAIC\",\n",
    "            \"FUZZY_LOGIC\",\n",
    "            \"PHOTO_VOLTAIC_SYSTEM\",\n",
    "            \"ADAPTIVE_NEURO_FUZZY_INFERENCE_SYSTEM\",\n",
    "            \"DIFFERENTIAL_EVOLUTION\",\n",
    "            \"DOUBLY_FED_INDUCTION_GENERATOR\",\n",
    "            \"FIREFLY_ALGORITHMS\"\n",
    "        ]\n",
    "    },\n",
    "    \"2020\": {\n",
    "        \"0\": [\n",
    "            \"ELECTRIC_AND_HYBRID_VEHICLES\",\n",
    "            \"GENETIC_ALGORITHMS\",\n",
    "            \"SMART_GRID\",\n",
    "            \"MICRO_GRID\",\n",
    "            \"REINFORCEMENT_LEARNING\",\n",
    "            \"ENERGY_MANAGEMENT\",\n",
    "            \"DEEP_REINFORCEMENT_LEARNING\",\n",
    "            \"DEMAND_RESPONSE\",\n",
    "            \"ENERGY_EFFICIENCY\",\n",
    "            \"Q_LEARNING\"\n",
    "        ],\n",
    "        \"1\": [\n",
    "            \"DEEP_LEARNING\",\n",
    "            \"LONG_SHORT_TERM_MEMORY_NETWORK\",\n",
    "            \"CONVOLUTIONAL_NEURAL_NETWORK\",\n",
    "            \"WIND_ENERGY\",\n",
    "            \"SOLAR_RADIATION\",\n",
    "            \"SOLAR_ENERGY\",\n",
    "            \"WIND_ENERGY_FORECASTING\",\n",
    "            \"RECURRENT_NEURAL_NETWORKS\",\n",
    "            \"WIND_SPEED_FORECASTING\",\n",
    "            \"RANDOM_FOREST\"\n",
    "        ],\n",
    "        \"2\": [\n",
    "            \"PARTICLE_SWARM_OPTIMIZATION\",\n",
    "            \"MPPT\",\n",
    "            \"PHOTO_VOLTAIC\",\n",
    "            \"FUZZY_LOGIC_CONTROL\",\n",
    "            \"PHOTO_VOLTAIC_SYSTEM\",\n",
    "            \"FUZZY_LOGIC\",\n",
    "            \"DISTRIBUTED_GENERATION\",\n",
    "            \"DIFFERENTIAL_EVOLUTION\",\n",
    "            \"CHARGING_STRATEGIES\",\n",
    "            \"ADAPTIVE_NEURO_FUZZY_INFERENCE_SYSTEM\"\n",
    "        ],\n",
    "        \"3\": [\n",
    "            \"ARTIFICIAL_NEURAL_NETWORKS\",\n",
    "            \"LITHIUM_BATTERIES\",\n",
    "            \"SUPPORT_VECTOR_MACHINES\",\n",
    "            \"STATE_OF_CHARGE\",\n",
    "            \"ENERGY_CONSUMPTION\",\n",
    "            \"EXTREME_LEARNING_MACHINE\",\n",
    "            \"STATE_OF_HEALTH\",\n",
    "            \"CLUSTERING_ALGORITHMS\",\n",
    "            \"POWER_PREDICTION\",\n",
    "            \"ENSEMBLE_LEARNING\"\n",
    "        ],\n",
    "        \"4\": [\n",
    "            \"MULTI_OBJECTIVE_OPTIMIZATION\",\n",
    "            \"SOLAR_CELLS\",\n",
    "            \"ARTIFICIAL_BEE_COLONY\",\n",
    "            \"INTEGRATED_ENERGY_SYSTEMS\",\n",
    "            \"SENSITIVITY_ANALYSIS\",\n",
    "            \"SOLID_OXIDE_FUEL_CELLS\",\n",
    "            \"NSGA_II\",\n",
    "            \"HYBRID_ENERGY_SYSTEM\",\n",
    "            \"OPTIMAL_DESIGN\",\n",
    "            \"ECONOMIC_DISPATCH\"\n",
    "        ],\n",
    "        \"5\": [\n",
    "            \"WIND_TURBINES\",\n",
    "            \"FAULT_DETECTION\",\n",
    "            \"DOUBLY_FED_INDUCTION_GENERATOR\",\n",
    "            \"CONDITION_MONITORING\",\n",
    "            \"ANOMALY_DETECTION\",\n",
    "            \"FEATURE_EXTRACTION\",\n",
    "            \"SCADA\",\n",
    "            \"AUTO_ENCODERS\",\n",
    "            \"WIND_ENERGY_CONVERSION_SYSTEM\",\n",
    "            \"FAULT_CLASSIFICATION\"\n",
    "        ],\n",
    "        \"6\": [\n",
    "            \"OXYGEN_EVOLUTION_REACTION\",\n",
    "            \"ELECTROCATALYSTS\",\n",
    "            \"METAL_ORGANIC_FRAMEWORKS\",\n",
    "            \"HYDROGEN_EVOLUTION_REACTION\",\n",
    "            \"DENSITY_FUNCTIONAL_THEORY\",\n",
    "            \"DFT_CALCULATIONS\",\n",
    "            \"OVERALL_WATER_SPLITTING\",\n",
    "            \"ELECTRODE_MATERIAL\",\n",
    "            \"ELECTROCATALYSIS\"\n",
    "        ]\n",
    "    },\n",
    "    \"2021\": {\n",
    "        \"0\": [\n",
    "            \"ELECTRIC_AND_HYBRID_VEHICLES\",\n",
    "            \"MICRO_GRID\",\n",
    "            \"REINFORCEMENT_LEARNING\",\n",
    "            \"SMART_GRID\",\n",
    "            \"ENERGY_MANAGEMENT\",\n",
    "            \"DEEP_REINFORCEMENT_LEARNING\",\n",
    "            \"ENERGY_EFFICIENCY\",\n",
    "            \"INTERNET_OF_THINGS\",\n",
    "            \"CHARGING_STRATEGIES\",\n",
    "            \"DEMAND_RESPONSE\"\n",
    "        ],\n",
    "        \"1\": [\n",
    "            \"ARTIFICIAL_NEURAL_NETWORKS\",\n",
    "            \"GENETIC_ALGORITHMS\",\n",
    "            \"PARTICLE_SWARM_OPTIMIZATION\",\n",
    "            \"PHOTO_VOLTAIC\",\n",
    "            \"MPPT\",\n",
    "            \"FUZZY_LOGIC_CONTROL\",\n",
    "            \"WIND_ENERGY\",\n",
    "            \"PHOTO_VOLTAIC_SYSTEM\",\n",
    "            \"FUZZY_LOGIC\",\n",
    "            \"PEMFC\"\n",
    "        ],\n",
    "        \"2\": [\n",
    "            \"DEEP_LEARNING\",\n",
    "            \"LONG_SHORT_TERM_MEMORY_NETWORK\",\n",
    "            \"LITHIUM_BATTERIES\",\n",
    "            \"CONVOLUTIONAL_NEURAL_NETWORK\",\n",
    "            \"RECURRENT_NEURAL_NETWORKS\",\n",
    "            \"STATE_OF_CHARGE\",\n",
    "            \"WIND_SPEED_FORECASTING\",\n",
    "            \"WIND_ENERGY_FORECASTING\",\n",
    "            \"ENERGY_CONSUMPTION\",\n",
    "            \"SOLAR_RADIATION\"\n",
    "        ],\n",
    "        \"3\": [\n",
    "            \"WIND_TURBINES\",\n",
    "            \"SUPPORT_VECTOR_MACHINES\",\n",
    "            \"FAULT_DIAGNOSIS\",\n",
    "            \"FAULT_DETECTION\",\n",
    "            \"RANDOM_FOREST\",\n",
    "            \"DATA_MINING\",\n",
    "            \"ENSEMBLE_LEARNING\",\n",
    "            \"EXTREME_GRADIENT_BOOSTING\",\n",
    "            \"K_MEANS\",\n",
    "            \"FEATURE_EXTRACTION\"\n",
    "        ],\n",
    "        \"4\": [\n",
    "            \"OXYGEN_EVOLUTION_REACTION\",\n",
    "            \"ELECTROCATALYSTS\",\n",
    "            \"OXYGEN_REDUCTION_REACTION\",\n",
    "            \"HYDROGEN_EVOLUTION_REACTION\",\n",
    "            \"PEROVSKITE_SOLAR_CELLS\",\n",
    "            \"ELECTROCATALYSIS\",\n",
    "            \"CO<SUB>2<_SUB>_REDUCTION\",\n",
    "            \"MICROBIAL_FUEL_CELLS\",\n",
    "            \"OXYGEN_VACANCIES\",\n",
    "            \"DOPING\"\n",
    "        ],\n",
    "        \"5\": [\n",
    "            \"MULTI_OBJECTIVE_OPTIMIZATION\",\n",
    "            \"NSGA_II\",\n",
    "            \"BUILDING_ENERGY_CONSUMPTION\",\n",
    "            \"THERMAL_COMFORT\"\n",
    "        ]\n",
    "    },\n",
    "    \"2022\": {\n",
    "        \"0\": [\n",
    "            \"ELECTRIC_AND_HYBRID_VEHICLES\",\n",
    "            \"ENERGY_MANAGEMENT\",\n",
    "            \"GENETIC_ALGORITHMS\",\n",
    "            \"MICRO_GRID\",\n",
    "            \"SMART_GRID\",\n",
    "            \"DEEP_REINFORCEMENT_LEARNING\",\n",
    "            \"REINFORCEMENT_LEARNING\",\n",
    "            \"ENERGY_EFFICIENCY\",\n",
    "            \"CHARGING_STRATEGIES\",\n",
    "            \"DEMAND_RESPONSE\"\n",
    "        ],\n",
    "        \"1\": [\n",
    "            \"DEEP_LEARNING\",\n",
    "            \"LONG_SHORT_TERM_MEMORY_NETWORK\",\n",
    "            \"CONVOLUTIONAL_NEURAL_NETWORK\",\n",
    "            \"WIND_TURBINES\",\n",
    "            \"WIND_ENERGY\",\n",
    "            \"WIND_ENERGY_FORECASTING\",\n",
    "            \"ENERGY_CONSUMPTION\",\n",
    "            \"SOLAR_ENERGY\",\n",
    "            \"FAULT_DIAGNOSIS\",\n",
    "            \"RECURRENT_NEURAL_NETWORKS\"\n",
    "        ],\n",
    "        \"2\": [\n",
    "            \"PARTICLE_SWARM_OPTIMIZATION\",\n",
    "            \"MPPT\",\n",
    "            \"PHOTO_VOLTAIC\",\n",
    "            \"FUZZY_LOGIC_CONTROL\",\n",
    "            \"PHOTO_VOLTAIC_SYSTEM\",\n",
    "            \"FUZZY_LOGIC\",\n",
    "            \"FAULT_DETECTION\",\n",
    "            \"META_HEURISTIC_ALGORITHM\",\n",
    "            \"DIFFERENTIAL_EVOLUTION\",\n",
    "            \"SOLAR_PHOTO_VOLTAIC\"\n",
    "        ],\n",
    "        \"3\": [\n",
    "            \"ARTIFICIAL_NEURAL_NETWORKS\",\n",
    "            \"SUPPORT_VECTOR_MACHINES\",\n",
    "            \"PEMFC\",\n",
    "            \"RANDOM_FOREST\",\n",
    "            \"EXTREME_GRADIENT_BOOSTING\",\n",
    "            \"CLUSTERING_ALGORITHMS\",\n",
    "            \"BIOCHAR\",\n",
    "            \"DECISION_TREES\",\n",
    "            \"RESPONSE_SURFACE_METHODOLOGY\",\n",
    "            \"DATA_MINING\"\n",
    "        ],\n",
    "        \"4\": [\n",
    "            \"LITHIUM_BATTERIES\",\n",
    "            \"STATE_OF_CHARGE\",\n",
    "            \"STATE_OF_HEALTH\",\n",
    "            \"TRANSFER_LEARNING\",\n",
    "            \"REMAINING_USEFUL_LIFE\",\n",
    "            \"EXTREME_LEARNING_MACHINE\",\n",
    "            \"ENSEMBLE_LEARNING\",\n",
    "            \"BATTERY_MANAGEMENT_SYSTEMS\",\n",
    "            \"AUTO_ENCODERS\",\n",
    "            \"FEATURE_EXTRACTION\"\n",
    "        ],\n",
    "        \"5\": [\n",
    "            \"OXYGEN_EVOLUTION_REACTION\",\n",
    "            \"HYDROGEN_EVOLUTION_REACTION\",\n",
    "            \"OXYGEN_REDUCTION_REACTION\",\n",
    "            \"PEROVSKITE_SOLAR_CELLS\",\n",
    "            \"OXYGEN_VACANCIES\",\n",
    "            \"ELECTROCATALYSIS\",\n",
    "            \"DENSITY_FUNCTIONAL_THEORY\",\n",
    "            \"PHOTOCATALYTIC_CO<SUB>2<_SUB>_REDUCTION\",\n",
    "            \"ELECTROCATALYSTS\",\n",
    "            \"HYDROGEN_PRODUCTION\"\n",
    "        ]\n",
    "    }\n",
    "}\n"
   ]
  },
  {
   "cell_type": "code",
   "execution_count": 2,
   "id": "21f2838a-0d22-41fa-bab6-c7715902b8dd",
   "metadata": {},
   "outputs": [],
   "source": [
    "from techminer2.performance.plots import trending_words_per_year"
   ]
  },
  {
   "cell_type": "code",
   "execution_count": 11,
   "id": "f5710678-0900-4bc9-8c77-7175b379003e",
   "metadata": {},
   "outputs": [
    {
     "data": {
      "text/plain": [
       "['ADAPTIVE_NEURO_FUZZY_INFERENCE_SYSTEM',\n",
       " 'ANOMALY_DETECTION',\n",
       " 'ANT_COLONY_OPTIMIZATION',\n",
       " 'ARTIFICIAL_BEE_COLONY',\n",
       " 'ARTIFICIAL_NEURAL_NETWORKS',\n",
       " 'AUTO_ENCODERS',\n",
       " 'BACK_PROPAGATION',\n",
       " 'BATTERY_MANAGEMENT_SYSTEMS',\n",
       " 'BIG_DATA',\n",
       " 'BIOCHAR',\n",
       " 'BIODIESEL',\n",
       " 'BOOST_CONVERTER',\n",
       " 'BUILDING_ENERGY_CONSUMPTION',\n",
       " 'CHARGING_STRATEGIES',\n",
       " 'CLASSIFICATION',\n",
       " 'CLOUD_COMPUTING',\n",
       " 'CLUSTERING_ALGORITHMS',\n",
       " 'CO<SUB>2<_SUB>_REDUCTION',\n",
       " 'COMBINED_HEAT_AND_POWER',\n",
       " 'CONDITION_MONITORING',\n",
       " 'CONTROL',\n",
       " 'CONVOLUTIONAL_NEURAL_NETWORK',\n",
       " 'DATA_MINING',\n",
       " 'DC_DC_CONVERTERS',\n",
       " 'DECISION_TREES',\n",
       " 'DEEP_LEARNING',\n",
       " 'DEEP_REINFORCEMENT_LEARNING',\n",
       " 'DEMAND_RESPONSE',\n",
       " 'DEMAND_SIDE_MANAGEMENT',\n",
       " 'DENSITY_FUNCTIONAL_THEORY',\n",
       " 'DFT_CALCULATIONS',\n",
       " 'DIFFERENTIAL_EVOLUTION',\n",
       " 'DISTRIBUTED_ENERGY_RESOURCES',\n",
       " 'DISTRIBUTED_GENERATION',\n",
       " 'DISTRIBUTION_SYSTEMS',\n",
       " 'DOPING',\n",
       " 'DOUBLY_FED_INDUCTION_GENERATOR',\n",
       " 'DYNAMIC_PROGRAMMING',\n",
       " 'ECONOMIC_DISPATCH',\n",
       " 'ELECTRIC_AND_HYBRID_VEHICLES',\n",
       " 'ELECTROCATALYSIS',\n",
       " 'ELECTROCATALYSTS',\n",
       " 'ELECTRODE_MATERIAL',\n",
       " 'ELMAN_NEURAL_NETWORK',\n",
       " 'EMISSION',\n",
       " 'ENERGY',\n",
       " 'ENERGY_CONSUMPTION',\n",
       " 'ENERGY_EFFICIENCY',\n",
       " 'ENERGY_MANAGEMENT',\n",
       " 'ENERGY_MANAGEMENT_SYSTEMS',\n",
       " 'ENERGY_SAVINGS',\n",
       " 'ENERGY_STORAGE',\n",
       " 'ENERGY_STORAGE_SYSTEMS',\n",
       " 'ENSEMBLE_LEARNING',\n",
       " 'EVOLUTIONARY_ALGORITHMS',\n",
       " 'EXTREME_GRADIENT_BOOSTING',\n",
       " 'EXTREME_LEARNING_MACHINE',\n",
       " 'FAULT_CLASSIFICATION',\n",
       " 'FAULT_DETECTION',\n",
       " 'FAULT_DIAGNOSIS',\n",
       " 'FEATURE_EXTRACTION',\n",
       " 'FIREFLY_ALGORITHMS',\n",
       " 'FUEL_CELL',\n",
       " 'FUZZY',\n",
       " 'FUZZY_LOGIC',\n",
       " 'FUZZY_LOGIC_CONTROL',\n",
       " 'FUZZY_SYSTEMS',\n",
       " 'GENETIC_ALGORITHMS',\n",
       " 'GENETIC_PROGRAMMING',\n",
       " 'GLOBAL_SOLAR_RADIATION',\n",
       " 'GRAVITATIONAL_SEARCH_ALGORITHM',\n",
       " 'HYBRID_ENERGY_SYSTEM',\n",
       " 'HYBRID_EVOLUTIONARY_ALGORITHM',\n",
       " 'HYBRID_SYSTEMS',\n",
       " 'HYDROGEN_EVOLUTION_REACTION',\n",
       " 'HYDROGEN_PRODUCTION',\n",
       " 'INCREMENTAL_CONDUCTANCE',\n",
       " 'INTEGRATED_ENERGY_SYSTEMS',\n",
       " 'INTELLIGENT_CONTROL',\n",
       " 'INTERNET_OF_THINGS',\n",
       " 'INVERTER',\n",
       " 'K_MEANS',\n",
       " 'K_MEANS_CLUSTERING',\n",
       " 'LITHIUM_BATTERIES',\n",
       " 'LONG_SHORT_TERM_MEMORY_NETWORK',\n",
       " 'METAL_ORGANIC_FRAMEWORKS',\n",
       " 'META_HEURISTIC_ALGORITHM',\n",
       " 'MICROBIAL_FUEL_CELLS',\n",
       " 'MICRO_GRID',\n",
       " 'MPPT',\n",
       " 'MULTI_AGENT_SYSTEMS',\n",
       " 'MULTI_OBJECTIVE_OPTIMIZATION',\n",
       " 'NSGA_II',\n",
       " 'OPTIMAL_DESIGN',\n",
       " 'OVERALL_WATER_SPLITTING',\n",
       " 'OXYGEN_EVOLUTION_REACTION',\n",
       " 'OXYGEN_REDUCTION_REACTION',\n",
       " 'OXYGEN_VACANCIES',\n",
       " 'PARAMETER_PREDICTION',\n",
       " 'PARTIAL_SHADING',\n",
       " 'PARTICLE_SWARM_OPTIMIZATION',\n",
       " 'PEMFC',\n",
       " 'PERMANENT_MAGNET_SYNCHRONOUS_GENERATOR',\n",
       " 'PEROVSKITE_SOLAR_CELLS',\n",
       " 'PERTURB_AND_OBSERVE',\n",
       " 'PHOTOCATALYTIC_CO<SUB>2<_SUB>_REDUCTION',\n",
       " 'PHOTO_VOLTAIC',\n",
       " 'PHOTO_VOLTAIC_CELL',\n",
       " 'PHOTO_VOLTAIC_SYSTEM',\n",
       " 'PITCH_CONTROL',\n",
       " 'PI_CONTROL',\n",
       " 'POWER_MANAGEMENT',\n",
       " 'POWER_PREDICTION',\n",
       " 'PROBABILISTIC_FORECASTING',\n",
       " 'Q_LEARNING',\n",
       " 'RADIAL_BASIS_FUNCTION_NETWORK',\n",
       " 'RANDOM_FOREST',\n",
       " 'RECURRENT_NEURAL_NETWORKS',\n",
       " 'REINFORCEMENT_LEARNING',\n",
       " 'RELIABILITY',\n",
       " 'REMAINING_USEFUL_LIFE',\n",
       " 'RESPONSE_SURFACE_METHODOLOGY',\n",
       " 'SCADA',\n",
       " 'SENSITIVITY_ANALYSIS',\n",
       " 'SMART_GRID',\n",
       " 'SOLAR_CELLS',\n",
       " 'SOLAR_ENERGY',\n",
       " 'SOLAR_PHOTO_VOLTAIC',\n",
       " 'SOLAR_POWER',\n",
       " 'SOLAR_RADIATION',\n",
       " 'SOLID_OXIDE_FUEL_CELLS',\n",
       " 'SPEED_CONTROL',\n",
       " 'STATE_OF_CHARGE',\n",
       " 'STATE_OF_HEALTH',\n",
       " 'SUPPORT_VECTOR_MACHINES',\n",
       " 'THERMAL_COMFORT',\n",
       " 'TRANSFER_LEARNING',\n",
       " 'UNCERTAINTY',\n",
       " 'VARIABLE_SPEED_WIND_TURBINES',\n",
       " 'WAVELET_NEURAL_NETWORK',\n",
       " 'WAVELET_TRANSFORM',\n",
       " 'WIND_ENERGY',\n",
       " 'WIND_ENERGY_CONVERSION_SYSTEM',\n",
       " 'WIND_ENERGY_FORECASTING',\n",
       " 'WIND_FARM',\n",
       " 'WIND_SPEED',\n",
       " 'WIND_SPEED_FORECASTING',\n",
       " 'WIND_TURBINES']"
      ]
     },
     "execution_count": 11,
     "metadata": {},
     "output_type": "execute_result"
    }
   ],
   "source": [
    "custom_items = []\n",
    "\n",
    "for year in data.keys():\n",
    "\n",
    "    for cluster in data[year].keys():\n",
    "\n",
    "        words = data[year][cluster]\n",
    "        custom_items += words\n",
    "\n",
    "custom_items = sorted(set(custom_items))\n",
    "custom_items"
   ]
  },
  {
   "cell_type": "code",
   "execution_count": 16,
   "id": "114bd009-f323-431c-b1a0-a654ec8a3ff4",
   "metadata": {},
   "outputs": [
    {
     "name": "stderr",
     "output_type": "stream",
     "text": [
      "/Volumes/GitHub/techminer2/techminer2/indicators/global_indicators_by_field.py:298: FutureWarning:\n",
      "\n",
      "The provided callable <function max at 0x104ee4d30> is currently using SeriesGroupBy.max. In a future version of pandas, the provided callable will be used directly. To keep current behavior pass 'max' instead.\n",
      "\n",
      "/Volumes/GitHub/techminer2/techminer2/indicators/global_indicators_by_field.py:304: FutureWarning:\n",
      "\n",
      "The provided callable <function max at 0x104ee4d30> is currently using SeriesGroupBy.max. In a future version of pandas, the provided callable will be used directly. To keep current behavior pass 'max' instead.\n",
      "\n"
     ]
    },
    {
     "data": {
      "application/vnd.plotly.v1+json": {
       "config": {
        "plotlyServerURL": "https://plot.ly"
       },
       "data": [
        {
         "base": [
          2013,
          2015,
          2016,
          2016,
          2016,
          2016,
          2016,
          2016,
          2016,
          2016,
          2016,
          2016,
          2016,
          2016,
          2016,
          2016,
          2016,
          2016,
          2017,
          2017,
          2017,
          2017,
          2017,
          2017,
          2017,
          2017,
          2017,
          2018,
          2018,
          2018,
          2018,
          2018,
          2018,
          2018,
          2018,
          2019,
          2019,
          2019,
          2019,
          2020,
          2020,
          2020,
          2020,
          2020,
          2021,
          2021,
          2021
         ],
         "marker": {
          "color": "lightslategrey"
         },
         "orientation": "h",
         "type": "bar",
         "width": [
          0.15,
          0.15173056630320084,
          0.15490327119240238,
          0.16096025325360533,
          0.16182553640520575,
          0.16759409074920859,
          0.16759409074920859,
          0.17076679563841013,
          0.17797748856841364,
          0.186918747801618,
          0.1606718255364052,
          0.16759409074920859,
          0.17163207879001055,
          0.21114667604642984,
          0.23422089342244107,
          0.28729159338726695,
          0.35536053464650014,
          0.4378508617657404,
          0.20566654941962714,
          0.20797397115722827,
          0.2656595145972564,
          0.2870031656700668,
          0.3144037988040802,
          0.32392191347168486,
          0.3882412944073162,
          0.402085824832923,
          0.97,
          0.22989447766443896,
          0.23220189940204009,
          0.2970981357720718,
          0.35103411888849806,
          0.35161097432289834,
          0.2131656700668308,
          0.2414315863524446,
          0.2953675694688709,
          0.2117235314808301,
          0.28411888849806544,
          0.3412275765036933,
          0.41910306014773124,
          0.16326767499120648,
          0.23797045374604292,
          0.2714280689412592,
          0.3879528666901161,
          0.4802497361941611,
          0.15317270488920154,
          0.15490327119240238,
          0.1557685543440028
         ],
         "x": [
          2,
          4,
          4,
          5,
          5,
          5,
          5,
          5,
          5,
          5,
          6,
          6,
          6,
          6,
          6,
          6,
          6,
          6,
          5,
          5,
          5,
          5,
          5,
          5,
          5,
          5,
          5,
          4,
          4,
          4,
          4,
          4,
          5,
          5,
          5,
          4,
          4,
          4,
          4,
          3,
          3,
          3,
          3,
          3,
          2,
          2,
          2
         ],
         "y": [
          "HYBRID_EVOLUTIONARY_ALGORITHM",
          "SPEED_CONTROL",
          "VARIABLE_SPEED_WIND_TURBINES",
          "PERMANENT_MAGNET_SYNCHRONOUS_GENERATOR",
          "GRAVITATIONAL_SEARCH_ALGORITHM",
          "GLOBAL_SOLAR_RADIATION",
          "ANT_COLONY_OPTIMIZATION",
          "WIND_ENERGY_CONVERSION_SYSTEM",
          "EVOLUTIONARY_ALGORITHMS",
          "RADIAL_BASIS_FUNCTION_NETWORK",
          "INCREMENTAL_CONDUCTANCE",
          "ECONOMIC_DISPATCH",
          "PI_CONTROL",
          "DIFFERENTIAL_EVOLUTION",
          "DISTRIBUTED_GENERATION",
          "FUZZY_LOGIC",
          "FUZZY_LOGIC_CONTROL",
          "GENETIC_ALGORITHMS",
          "EXTREME_LEARNING_MACHINE",
          "ADAPTIVE_NEURO_FUZZY_INFERENCE_SYSTEM",
          "PHOTO_VOLTAIC_SYSTEM",
          "WIND_ENERGY",
          "SUPPORT_VECTOR_MACHINES",
          "PHOTO_VOLTAIC",
          "MPPT",
          "PARTICLE_SWARM_OPTIMIZATION",
          "ARTIFICIAL_NEURAL_NETWORKS",
          "WIND_SPEED_FORECASTING",
          "ENERGY_EFFICIENCY",
          "WIND_TURBINES",
          "MICRO_GRID",
          "SMART_GRID",
          "CHARGING_STRATEGIES",
          "STATE_OF_CHARGE",
          "ENERGY_MANAGEMENT",
          "RECURRENT_NEURAL_NETWORKS",
          "REINFORCEMENT_LEARNING",
          "LITHIUM_BATTERIES",
          "ELECTRIC_AND_HYBRID_VEHICLES",
          "BIOCHAR",
          "DEEP_REINFORCEMENT_LEARNING",
          "CONVOLUTIONAL_NEURAL_NETWORK",
          "LONG_SHORT_TERM_MEMORY_NETWORK",
          "DEEP_LEARNING",
          "PHOTOCATALYTIC_CO<SUB>2<_SUB>_REDUCTION",
          "HYDROGEN_PRODUCTION",
          "OXYGEN_VACANCIES"
         ]
        }
       ],
       "layout": {
        "height": 1100,
        "paper_bgcolor": "white",
        "plot_bgcolor": "white",
        "template": {
         "data": {
          "bar": [
           {
            "error_x": {
             "color": "#2a3f5f"
            },
            "error_y": {
             "color": "#2a3f5f"
            },
            "marker": {
             "line": {
              "color": "#E5ECF6",
              "width": 0.5
             },
             "pattern": {
              "fillmode": "overlay",
              "size": 10,
              "solidity": 0.2
             }
            },
            "type": "bar"
           }
          ],
          "barpolar": [
           {
            "marker": {
             "line": {
              "color": "#E5ECF6",
              "width": 0.5
             },
             "pattern": {
              "fillmode": "overlay",
              "size": 10,
              "solidity": 0.2
             }
            },
            "type": "barpolar"
           }
          ],
          "carpet": [
           {
            "aaxis": {
             "endlinecolor": "#2a3f5f",
             "gridcolor": "white",
             "linecolor": "white",
             "minorgridcolor": "white",
             "startlinecolor": "#2a3f5f"
            },
            "baxis": {
             "endlinecolor": "#2a3f5f",
             "gridcolor": "white",
             "linecolor": "white",
             "minorgridcolor": "white",
             "startlinecolor": "#2a3f5f"
            },
            "type": "carpet"
           }
          ],
          "choropleth": [
           {
            "colorbar": {
             "outlinewidth": 0,
             "ticks": ""
            },
            "type": "choropleth"
           }
          ],
          "contour": [
           {
            "colorbar": {
             "outlinewidth": 0,
             "ticks": ""
            },
            "colorscale": [
             [
              0,
              "#0d0887"
             ],
             [
              0.1111111111111111,
              "#46039f"
             ],
             [
              0.2222222222222222,
              "#7201a8"
             ],
             [
              0.3333333333333333,
              "#9c179e"
             ],
             [
              0.4444444444444444,
              "#bd3786"
             ],
             [
              0.5555555555555556,
              "#d8576b"
             ],
             [
              0.6666666666666666,
              "#ed7953"
             ],
             [
              0.7777777777777778,
              "#fb9f3a"
             ],
             [
              0.8888888888888888,
              "#fdca26"
             ],
             [
              1,
              "#f0f921"
             ]
            ],
            "type": "contour"
           }
          ],
          "contourcarpet": [
           {
            "colorbar": {
             "outlinewidth": 0,
             "ticks": ""
            },
            "type": "contourcarpet"
           }
          ],
          "heatmap": [
           {
            "colorbar": {
             "outlinewidth": 0,
             "ticks": ""
            },
            "colorscale": [
             [
              0,
              "#0d0887"
             ],
             [
              0.1111111111111111,
              "#46039f"
             ],
             [
              0.2222222222222222,
              "#7201a8"
             ],
             [
              0.3333333333333333,
              "#9c179e"
             ],
             [
              0.4444444444444444,
              "#bd3786"
             ],
             [
              0.5555555555555556,
              "#d8576b"
             ],
             [
              0.6666666666666666,
              "#ed7953"
             ],
             [
              0.7777777777777778,
              "#fb9f3a"
             ],
             [
              0.8888888888888888,
              "#fdca26"
             ],
             [
              1,
              "#f0f921"
             ]
            ],
            "type": "heatmap"
           }
          ],
          "heatmapgl": [
           {
            "colorbar": {
             "outlinewidth": 0,
             "ticks": ""
            },
            "colorscale": [
             [
              0,
              "#0d0887"
             ],
             [
              0.1111111111111111,
              "#46039f"
             ],
             [
              0.2222222222222222,
              "#7201a8"
             ],
             [
              0.3333333333333333,
              "#9c179e"
             ],
             [
              0.4444444444444444,
              "#bd3786"
             ],
             [
              0.5555555555555556,
              "#d8576b"
             ],
             [
              0.6666666666666666,
              "#ed7953"
             ],
             [
              0.7777777777777778,
              "#fb9f3a"
             ],
             [
              0.8888888888888888,
              "#fdca26"
             ],
             [
              1,
              "#f0f921"
             ]
            ],
            "type": "heatmapgl"
           }
          ],
          "histogram": [
           {
            "marker": {
             "pattern": {
              "fillmode": "overlay",
              "size": 10,
              "solidity": 0.2
             }
            },
            "type": "histogram"
           }
          ],
          "histogram2d": [
           {
            "colorbar": {
             "outlinewidth": 0,
             "ticks": ""
            },
            "colorscale": [
             [
              0,
              "#0d0887"
             ],
             [
              0.1111111111111111,
              "#46039f"
             ],
             [
              0.2222222222222222,
              "#7201a8"
             ],
             [
              0.3333333333333333,
              "#9c179e"
             ],
             [
              0.4444444444444444,
              "#bd3786"
             ],
             [
              0.5555555555555556,
              "#d8576b"
             ],
             [
              0.6666666666666666,
              "#ed7953"
             ],
             [
              0.7777777777777778,
              "#fb9f3a"
             ],
             [
              0.8888888888888888,
              "#fdca26"
             ],
             [
              1,
              "#f0f921"
             ]
            ],
            "type": "histogram2d"
           }
          ],
          "histogram2dcontour": [
           {
            "colorbar": {
             "outlinewidth": 0,
             "ticks": ""
            },
            "colorscale": [
             [
              0,
              "#0d0887"
             ],
             [
              0.1111111111111111,
              "#46039f"
             ],
             [
              0.2222222222222222,
              "#7201a8"
             ],
             [
              0.3333333333333333,
              "#9c179e"
             ],
             [
              0.4444444444444444,
              "#bd3786"
             ],
             [
              0.5555555555555556,
              "#d8576b"
             ],
             [
              0.6666666666666666,
              "#ed7953"
             ],
             [
              0.7777777777777778,
              "#fb9f3a"
             ],
             [
              0.8888888888888888,
              "#fdca26"
             ],
             [
              1,
              "#f0f921"
             ]
            ],
            "type": "histogram2dcontour"
           }
          ],
          "mesh3d": [
           {
            "colorbar": {
             "outlinewidth": 0,
             "ticks": ""
            },
            "type": "mesh3d"
           }
          ],
          "parcoords": [
           {
            "line": {
             "colorbar": {
              "outlinewidth": 0,
              "ticks": ""
             }
            },
            "type": "parcoords"
           }
          ],
          "pie": [
           {
            "automargin": true,
            "type": "pie"
           }
          ],
          "scatter": [
           {
            "fillpattern": {
             "fillmode": "overlay",
             "size": 10,
             "solidity": 0.2
            },
            "type": "scatter"
           }
          ],
          "scatter3d": [
           {
            "line": {
             "colorbar": {
              "outlinewidth": 0,
              "ticks": ""
             }
            },
            "marker": {
             "colorbar": {
              "outlinewidth": 0,
              "ticks": ""
             }
            },
            "type": "scatter3d"
           }
          ],
          "scattercarpet": [
           {
            "marker": {
             "colorbar": {
              "outlinewidth": 0,
              "ticks": ""
             }
            },
            "type": "scattercarpet"
           }
          ],
          "scattergeo": [
           {
            "marker": {
             "colorbar": {
              "outlinewidth": 0,
              "ticks": ""
             }
            },
            "type": "scattergeo"
           }
          ],
          "scattergl": [
           {
            "marker": {
             "colorbar": {
              "outlinewidth": 0,
              "ticks": ""
             }
            },
            "type": "scattergl"
           }
          ],
          "scattermapbox": [
           {
            "marker": {
             "colorbar": {
              "outlinewidth": 0,
              "ticks": ""
             }
            },
            "type": "scattermapbox"
           }
          ],
          "scatterpolar": [
           {
            "marker": {
             "colorbar": {
              "outlinewidth": 0,
              "ticks": ""
             }
            },
            "type": "scatterpolar"
           }
          ],
          "scatterpolargl": [
           {
            "marker": {
             "colorbar": {
              "outlinewidth": 0,
              "ticks": ""
             }
            },
            "type": "scatterpolargl"
           }
          ],
          "scatterternary": [
           {
            "marker": {
             "colorbar": {
              "outlinewidth": 0,
              "ticks": ""
             }
            },
            "type": "scatterternary"
           }
          ],
          "surface": [
           {
            "colorbar": {
             "outlinewidth": 0,
             "ticks": ""
            },
            "colorscale": [
             [
              0,
              "#0d0887"
             ],
             [
              0.1111111111111111,
              "#46039f"
             ],
             [
              0.2222222222222222,
              "#7201a8"
             ],
             [
              0.3333333333333333,
              "#9c179e"
             ],
             [
              0.4444444444444444,
              "#bd3786"
             ],
             [
              0.5555555555555556,
              "#d8576b"
             ],
             [
              0.6666666666666666,
              "#ed7953"
             ],
             [
              0.7777777777777778,
              "#fb9f3a"
             ],
             [
              0.8888888888888888,
              "#fdca26"
             ],
             [
              1,
              "#f0f921"
             ]
            ],
            "type": "surface"
           }
          ],
          "table": [
           {
            "cells": {
             "fill": {
              "color": "#EBF0F8"
             },
             "line": {
              "color": "white"
             }
            },
            "header": {
             "fill": {
              "color": "#C8D4E3"
             },
             "line": {
              "color": "white"
             }
            },
            "type": "table"
           }
          ]
         },
         "layout": {
          "annotationdefaults": {
           "arrowcolor": "#2a3f5f",
           "arrowhead": 0,
           "arrowwidth": 1
          },
          "autotypenumbers": "strict",
          "coloraxis": {
           "colorbar": {
            "outlinewidth": 0,
            "ticks": ""
           }
          },
          "colorscale": {
           "diverging": [
            [
             0,
             "#8e0152"
            ],
            [
             0.1,
             "#c51b7d"
            ],
            [
             0.2,
             "#de77ae"
            ],
            [
             0.3,
             "#f1b6da"
            ],
            [
             0.4,
             "#fde0ef"
            ],
            [
             0.5,
             "#f7f7f7"
            ],
            [
             0.6,
             "#e6f5d0"
            ],
            [
             0.7,
             "#b8e186"
            ],
            [
             0.8,
             "#7fbc41"
            ],
            [
             0.9,
             "#4d9221"
            ],
            [
             1,
             "#276419"
            ]
           ],
           "sequential": [
            [
             0,
             "#0d0887"
            ],
            [
             0.1111111111111111,
             "#46039f"
            ],
            [
             0.2222222222222222,
             "#7201a8"
            ],
            [
             0.3333333333333333,
             "#9c179e"
            ],
            [
             0.4444444444444444,
             "#bd3786"
            ],
            [
             0.5555555555555556,
             "#d8576b"
            ],
            [
             0.6666666666666666,
             "#ed7953"
            ],
            [
             0.7777777777777778,
             "#fb9f3a"
            ],
            [
             0.8888888888888888,
             "#fdca26"
            ],
            [
             1,
             "#f0f921"
            ]
           ],
           "sequentialminus": [
            [
             0,
             "#0d0887"
            ],
            [
             0.1111111111111111,
             "#46039f"
            ],
            [
             0.2222222222222222,
             "#7201a8"
            ],
            [
             0.3333333333333333,
             "#9c179e"
            ],
            [
             0.4444444444444444,
             "#bd3786"
            ],
            [
             0.5555555555555556,
             "#d8576b"
            ],
            [
             0.6666666666666666,
             "#ed7953"
            ],
            [
             0.7777777777777778,
             "#fb9f3a"
            ],
            [
             0.8888888888888888,
             "#fdca26"
            ],
            [
             1,
             "#f0f921"
            ]
           ]
          },
          "colorway": [
           "#636efa",
           "#EF553B",
           "#00cc96",
           "#ab63fa",
           "#FFA15A",
           "#19d3f3",
           "#FF6692",
           "#B6E880",
           "#FF97FF",
           "#FECB52"
          ],
          "font": {
           "color": "#2a3f5f"
          },
          "geo": {
           "bgcolor": "white",
           "lakecolor": "white",
           "landcolor": "#E5ECF6",
           "showlakes": true,
           "showland": true,
           "subunitcolor": "white"
          },
          "hoverlabel": {
           "align": "left"
          },
          "hovermode": "closest",
          "mapbox": {
           "style": "light"
          },
          "paper_bgcolor": "white",
          "plot_bgcolor": "#E5ECF6",
          "polar": {
           "angularaxis": {
            "gridcolor": "white",
            "linecolor": "white",
            "ticks": ""
           },
           "bgcolor": "#E5ECF6",
           "radialaxis": {
            "gridcolor": "white",
            "linecolor": "white",
            "ticks": ""
           }
          },
          "scene": {
           "xaxis": {
            "backgroundcolor": "#E5ECF6",
            "gridcolor": "white",
            "gridwidth": 2,
            "linecolor": "white",
            "showbackground": true,
            "ticks": "",
            "zerolinecolor": "white"
           },
           "yaxis": {
            "backgroundcolor": "#E5ECF6",
            "gridcolor": "white",
            "gridwidth": 2,
            "linecolor": "white",
            "showbackground": true,
            "ticks": "",
            "zerolinecolor": "white"
           },
           "zaxis": {
            "backgroundcolor": "#E5ECF6",
            "gridcolor": "white",
            "gridwidth": 2,
            "linecolor": "white",
            "showbackground": true,
            "ticks": "",
            "zerolinecolor": "white"
           }
          },
          "shapedefaults": {
           "line": {
            "color": "#2a3f5f"
           }
          },
          "ternary": {
           "aaxis": {
            "gridcolor": "white",
            "linecolor": "white",
            "ticks": ""
           },
           "baxis": {
            "gridcolor": "white",
            "linecolor": "white",
            "ticks": ""
           },
           "bgcolor": "#E5ECF6",
           "caxis": {
            "gridcolor": "white",
            "linecolor": "white",
            "ticks": ""
           }
          },
          "title": {
           "x": 0.05
          },
          "xaxis": {
           "automargin": true,
           "gridcolor": "white",
           "linecolor": "white",
           "ticks": "",
           "title": {
            "standoff": 15
           },
           "zerolinecolor": "white",
           "zerolinewidth": 2
          },
          "yaxis": {
           "automargin": true,
           "gridcolor": "white",
           "linecolor": "white",
           "ticks": "",
           "title": {
            "standoff": 15
           },
           "zerolinecolor": "white",
           "zerolinewidth": 2
          }
         }
        },
        "width": 800,
        "xaxis": {
         "autorange": true,
         "dtick": 1,
         "gridcolor": "lightgray",
         "griddash": "dot",
         "linecolor": "gray",
         "linewidth": 1,
         "range": [
          2012.4444444444443,
          2023.5555555555557
         ],
         "tickangle": -90,
         "type": "linear"
        },
        "yaxis": {
         "autorange": true,
         "gridcolor": "lightgray",
         "griddash": "dot",
         "linecolor": "gray",
         "linewidth": 1,
         "range": [
          -0.5,
          46.5
         ],
         "type": "category"
        }
       }
      },
      "image/png": "[encoded data removed]",
      "text/html": [
       "<div>                            <div id=\"a4e76f39-78dc-4dc0-9565-dcde5eb43140\" class=\"plotly-graph-div\" style=\"height:1100px; width:800px;\"></div>            <script type=\"text/javascript\">                require([\"plotly\"], function(Plotly) {                    window.PLOTLYENV=window.PLOTLYENV || {};                                    if (document.getElementById(\"a4e76f39-78dc-4dc0-9565-dcde5eb43140\")) {                    Plotly.newPlot(                        \"a4e76f39-78dc-4dc0-9565-dcde5eb43140\",                        [{\"base\":[2013,2015,2016,2016,2016,2016,2016,2016,2016,2016,2016,2016,2016,2016,2016,2016,2016,2016,2017,2017,2017,2017,2017,2017,2017,2017,2017,2018,2018,2018,2018,2018,2018,2018,2018,2019,2019,2019,2019,2020,2020,2020,2020,2020,2021,2021,2021],\"marker\":{\"color\":\"lightslategrey\"},\"orientation\":\"h\",\"width\":[0.15,0.15173056630320084,0.15490327119240238,0.16096025325360533,0.16182553640520575,0.16759409074920859,0.16759409074920859,0.17076679563841013,0.17797748856841364,0.186918747801618,0.1606718255364052,0.16759409074920859,0.17163207879001055,0.21114667604642984,0.23422089342244107,0.28729159338726695,0.35536053464650014,0.4378508617657404,0.20566654941962714,0.20797397115722827,0.2656595145972564,0.2870031656700668,0.3144037988040802,0.32392191347168486,0.3882412944073162,0.402085824832923,0.97,0.22989447766443896,0.23220189940204009,0.2970981357720718,0.35103411888849806,0.35161097432289834,0.2131656700668308,0.2414315863524446,0.2953675694688709,0.2117235314808301,0.28411888849806544,0.3412275765036933,0.41910306014773124,0.16326767499120648,0.23797045374604292,0.2714280689412592,0.3879528666901161,0.4802497361941611,0.15317270488920154,0.15490327119240238,0.1557685543440028],\"x\":[2,4,4,5,5,5,5,5,5,5,6,6,6,6,6,6,6,6,5,5,5,5,5,5,5,5,5,4,4,4,4,4,5,5,5,4,4,4,4,3,3,3,3,3,2,2,2],\"y\":[\"HYBRID_EVOLUTIONARY_ALGORITHM\",\"SPEED_CONTROL\",\"VARIABLE_SPEED_WIND_TURBINES\",\"PERMANENT_MAGNET_SYNCHRONOUS_GENERATOR\",\"GRAVITATIONAL_SEARCH_ALGORITHM\",\"GLOBAL_SOLAR_RADIATION\",\"ANT_COLONY_OPTIMIZATION\",\"WIND_ENERGY_CONVERSION_SYSTEM\",\"EVOLUTIONARY_ALGORITHMS\",\"RADIAL_BASIS_FUNCTION_NETWORK\",\"INCREMENTAL_CONDUCTANCE\",\"ECONOMIC_DISPATCH\",\"PI_CONTROL\",\"DIFFERENTIAL_EVOLUTION\",\"DISTRIBUTED_GENERATION\",\"FUZZY_LOGIC\",\"FUZZY_LOGIC_CONTROL\",\"GENETIC_ALGORITHMS\",\"EXTREME_LEARNING_MACHINE\",\"ADAPTIVE_NEURO_FUZZY_INFERENCE_SYSTEM\",\"PHOTO_VOLTAIC_SYSTEM\",\"WIND_ENERGY\",\"SUPPORT_VECTOR_MACHINES\",\"PHOTO_VOLTAIC\",\"MPPT\",\"PARTICLE_SWARM_OPTIMIZATION\",\"ARTIFICIAL_NEURAL_NETWORKS\",\"WIND_SPEED_FORECASTING\",\"ENERGY_EFFICIENCY\",\"WIND_TURBINES\",\"MICRO_GRID\",\"SMART_GRID\",\"CHARGING_STRATEGIES\",\"STATE_OF_CHARGE\",\"ENERGY_MANAGEMENT\",\"RECURRENT_NEURAL_NETWORKS\",\"REINFORCEMENT_LEARNING\",\"LITHIUM_BATTERIES\",\"ELECTRIC_AND_HYBRID_VEHICLES\",\"BIOCHAR\",\"DEEP_REINFORCEMENT_LEARNING\",\"CONVOLUTIONAL_NEURAL_NETWORK\",\"LONG_SHORT_TERM_MEMORY_NETWORK\",\"DEEP_LEARNING\",\"PHOTOCATALYTIC_CO\\u003cSUB\\u003e2\\u003c_SUB\\u003e_REDUCTION\",\"HYDROGEN_PRODUCTION\",\"OXYGEN_VACANCIES\"],\"type\":\"bar\"}],                        {\"template\":{\"data\":{\"histogram2dcontour\":[{\"type\":\"histogram2dcontour\",\"colorbar\":{\"outlinewidth\":0,\"ticks\":\"\"},\"colorscale\":[[0.0,\"#0d0887\"],[0.1111111111111111,\"#46039f\"],[0.2222222222222222,\"#7201a8\"],[0.3333333333333333,\"#9c179e\"],[0.4444444444444444,\"#bd3786\"],[0.5555555555555556,\"#d8576b\"],[0.6666666666666666,\"#ed7953\"],[0.7777777777777778,\"#fb9f3a\"],[0.8888888888888888,\"#fdca26\"],[1.0,\"#f0f921\"]]}],\"choropleth\":[{\"type\":\"choropleth\",\"colorbar\":{\"outlinewidth\":0,\"ticks\":\"\"}}],\"histogram2d\":[{\"type\":\"histogram2d\",\"colorbar\":{\"outlinewidth\":0,\"ticks\":\"\"},\"colorscale\":[[0.0,\"#0d0887\"],[0.1111111111111111,\"#46039f\"],[0.2222222222222222,\"#7201a8\"],[0.3333333333333333,\"#9c179e\"],[0.4444444444444444,\"#bd3786\"],[0.5555555555555556,\"#d8576b\"],[0.6666666666666666,\"#ed7953\"],[0.7777777777777778,\"#fb9f3a\"],[0.8888888888888888,\"#fdca26\"],[1.0,\"#f0f921\"]]}],\"heatmap\":[{\"type\":\"heatmap\",\"colorbar\":{\"outlinewidth\":0,\"ticks\":\"\"},\"colorscale\":[[0.0,\"#0d0887\"],[0.1111111111111111,\"#46039f\"],[0.2222222222222222,\"#7201a8\"],[0.3333333333333333,\"#9c179e\"],[0.4444444444444444,\"#bd3786\"],[0.5555555555555556,\"#d8576b\"],[0.6666666666666666,\"#ed7953\"],[0.7777777777777778,\"#fb9f3a\"],[0.8888888888888888,\"#fdca26\"],[1.0,\"#f0f921\"]]}],\"heatmapgl\":[{\"type\":\"heatmapgl\",\"colorbar\":{\"outlinewidth\":0,\"ticks\":\"\"},\"colorscale\":[[0.0,\"#0d0887\"],[0.1111111111111111,\"#46039f\"],[0.2222222222222222,\"#7201a8\"],[0.3333333333333333,\"#9c179e\"],[0.4444444444444444,\"#bd3786\"],[0.5555555555555556,\"#d8576b\"],[0.6666666666666666,\"#ed7953\"],[0.7777777777777778,\"#fb9f3a\"],[0.8888888888888888,\"#fdca26\"],[1.0,\"#f0f921\"]]}],\"contourcarpet\":[{\"type\":\"contourcarpet\",\"colorbar\":{\"outlinewidth\":0,\"ticks\":\"\"}}],\"contour\":[{\"type\":\"contour\",\"colorbar\":{\"outlinewidth\":0,\"ticks\":\"\"},\"colorscale\":[[0.0,\"#0d0887\"],[0.1111111111111111,\"#46039f\"],[0.2222222222222222,\"#7201a8\"],[0.3333333333333333,\"#9c179e\"],[0.4444444444444444,\"#bd3786\"],[0.5555555555555556,\"#d8576b\"],[0.6666666666666666,\"#ed7953\"],[0.7777777777777778,\"#fb9f3a\"],[0.8888888888888888,\"#fdca26\"],[1.0,\"#f0f921\"]]}],\"surface\":[{\"type\":\"surface\",\"colorbar\":{\"outlinewidth\":0,\"ticks\":\"\"},\"colorscale\":[[0.0,\"#0d0887\"],[0.1111111111111111,\"#46039f\"],[0.2222222222222222,\"#7201a8\"],[0.3333333333333333,\"#9c179e\"],[0.4444444444444444,\"#bd3786\"],[0.5555555555555556,\"#d8576b\"],[0.6666666666666666,\"#ed7953\"],[0.7777777777777778,\"#fb9f3a\"],[0.8888888888888888,\"#fdca26\"],[1.0,\"#f0f921\"]]}],\"mesh3d\":[{\"type\":\"mesh3d\",\"colorbar\":{\"outlinewidth\":0,\"ticks\":\"\"}}],\"scatter\":[{\"fillpattern\":{\"fillmode\":\"overlay\",\"size\":10,\"solidity\":0.2},\"type\":\"scatter\"}],\"parcoords\":[{\"type\":\"parcoords\",\"line\":{\"colorbar\":{\"outlinewidth\":0,\"ticks\":\"\"}}}],\"scatterpolargl\":[{\"type\":\"scatterpolargl\",\"marker\":{\"colorbar\":{\"outlinewidth\":0,\"ticks\":\"\"}}}],\"bar\":[{\"error_x\":{\"color\":\"#2a3f5f\"},\"error_y\":{\"color\":\"#2a3f5f\"},\"marker\":{\"line\":{\"color\":\"#E5ECF6\",\"width\":0.5},\"pattern\":{\"fillmode\":\"overlay\",\"size\":10,\"solidity\":0.2}},\"type\":\"bar\"}],\"scattergeo\":[{\"type\":\"scattergeo\",\"marker\":{\"colorbar\":{\"outlinewidth\":0,\"ticks\":\"\"}}}],\"scatterpolar\":[{\"type\":\"scatterpolar\",\"marker\":{\"colorbar\":{\"outlinewidth\":0,\"ticks\":\"\"}}}],\"histogram\":[{\"marker\":{\"pattern\":{\"fillmode\":\"overlay\",\"size\":10,\"solidity\":0.2}},\"type\":\"histogram\"}],\"scattergl\":[{\"type\":\"scattergl\",\"marker\":{\"colorbar\":{\"outlinewidth\":0,\"ticks\":\"\"}}}],\"scatter3d\":[{\"type\":\"scatter3d\",\"line\":{\"colorbar\":{\"outlinewidth\":0,\"ticks\":\"\"}},\"marker\":{\"colorbar\":{\"outlinewidth\":0,\"ticks\":\"\"}}}],\"scattermapbox\":[{\"type\":\"scattermapbox\",\"marker\":{\"colorbar\":{\"outlinewidth\":0,\"ticks\":\"\"}}}],\"scatterternary\":[{\"type\":\"scatterternary\",\"marker\":{\"colorbar\":{\"outlinewidth\":0,\"ticks\":\"\"}}}],\"scattercarpet\":[{\"type\":\"scattercarpet\",\"marker\":{\"colorbar\":{\"outlinewidth\":0,\"ticks\":\"\"}}}],\"carpet\":[{\"aaxis\":{\"endlinecolor\":\"#2a3f5f\",\"gridcolor\":\"white\",\"linecolor\":\"white\",\"minorgridcolor\":\"white\",\"startlinecolor\":\"#2a3f5f\"},\"baxis\":{\"endlinecolor\":\"#2a3f5f\",\"gridcolor\":\"white\",\"linecolor\":\"white\",\"minorgridcolor\":\"white\",\"startlinecolor\":\"#2a3f5f\"},\"type\":\"carpet\"}],\"table\":[{\"cells\":{\"fill\":{\"color\":\"#EBF0F8\"},\"line\":{\"color\":\"white\"}},\"header\":{\"fill\":{\"color\":\"#C8D4E3\"},\"line\":{\"color\":\"white\"}},\"type\":\"table\"}],\"barpolar\":[{\"marker\":{\"line\":{\"color\":\"#E5ECF6\",\"width\":0.5},\"pattern\":{\"fillmode\":\"overlay\",\"size\":10,\"solidity\":0.2}},\"type\":\"barpolar\"}],\"pie\":[{\"automargin\":true,\"type\":\"pie\"}]},\"layout\":{\"autotypenumbers\":\"strict\",\"colorway\":[\"#636efa\",\"#EF553B\",\"#00cc96\",\"#ab63fa\",\"#FFA15A\",\"#19d3f3\",\"#FF6692\",\"#B6E880\",\"#FF97FF\",\"#FECB52\"],\"font\":{\"color\":\"#2a3f5f\"},\"hovermode\":\"closest\",\"hoverlabel\":{\"align\":\"left\"},\"paper_bgcolor\":\"white\",\"plot_bgcolor\":\"#E5ECF6\",\"polar\":{\"bgcolor\":\"#E5ECF6\",\"angularaxis\":{\"gridcolor\":\"white\",\"linecolor\":\"white\",\"ticks\":\"\"},\"radialaxis\":{\"gridcolor\":\"white\",\"linecolor\":\"white\",\"ticks\":\"\"}},\"ternary\":{\"bgcolor\":\"#E5ECF6\",\"aaxis\":{\"gridcolor\":\"white\",\"linecolor\":\"white\",\"ticks\":\"\"},\"baxis\":{\"gridcolor\":\"white\",\"linecolor\":\"white\",\"ticks\":\"\"},\"caxis\":{\"gridcolor\":\"white\",\"linecolor\":\"white\",\"ticks\":\"\"}},\"coloraxis\":{\"colorbar\":{\"outlinewidth\":0,\"ticks\":\"\"}},\"colorscale\":{\"sequential\":[[0.0,\"#0d0887\"],[0.1111111111111111,\"#46039f\"],[0.2222222222222222,\"#7201a8\"],[0.3333333333333333,\"#9c179e\"],[0.4444444444444444,\"#bd3786\"],[0.5555555555555556,\"#d8576b\"],[0.6666666666666666,\"#ed7953\"],[0.7777777777777778,\"#fb9f3a\"],[0.8888888888888888,\"#fdca26\"],[1.0,\"#f0f921\"]],\"sequentialminus\":[[0.0,\"#0d0887\"],[0.1111111111111111,\"#46039f\"],[0.2222222222222222,\"#7201a8\"],[0.3333333333333333,\"#9c179e\"],[0.4444444444444444,\"#bd3786\"],[0.5555555555555556,\"#d8576b\"],[0.6666666666666666,\"#ed7953\"],[0.7777777777777778,\"#fb9f3a\"],[0.8888888888888888,\"#fdca26\"],[1.0,\"#f0f921\"]],\"diverging\":[[0,\"#8e0152\"],[0.1,\"#c51b7d\"],[0.2,\"#de77ae\"],[0.3,\"#f1b6da\"],[0.4,\"#fde0ef\"],[0.5,\"#f7f7f7\"],[0.6,\"#e6f5d0\"],[0.7,\"#b8e186\"],[0.8,\"#7fbc41\"],[0.9,\"#4d9221\"],[1,\"#276419\"]]},\"xaxis\":{\"gridcolor\":\"white\",\"linecolor\":\"white\",\"ticks\":\"\",\"title\":{\"standoff\":15},\"zerolinecolor\":\"white\",\"automargin\":true,\"zerolinewidth\":2},\"yaxis\":{\"gridcolor\":\"white\",\"linecolor\":\"white\",\"ticks\":\"\",\"title\":{\"standoff\":15},\"zerolinecolor\":\"white\",\"automargin\":true,\"zerolinewidth\":2},\"scene\":{\"xaxis\":{\"backgroundcolor\":\"#E5ECF6\",\"gridcolor\":\"white\",\"linecolor\":\"white\",\"showbackground\":true,\"ticks\":\"\",\"zerolinecolor\":\"white\",\"gridwidth\":2},\"yaxis\":{\"backgroundcolor\":\"#E5ECF6\",\"gridcolor\":\"white\",\"linecolor\":\"white\",\"showbackground\":true,\"ticks\":\"\",\"zerolinecolor\":\"white\",\"gridwidth\":2},\"zaxis\":{\"backgroundcolor\":\"#E5ECF6\",\"gridcolor\":\"white\",\"linecolor\":\"white\",\"showbackground\":true,\"ticks\":\"\",\"zerolinecolor\":\"white\",\"gridwidth\":2}},\"shapedefaults\":{\"line\":{\"color\":\"#2a3f5f\"}},\"annotationdefaults\":{\"arrowcolor\":\"#2a3f5f\",\"arrowhead\":0,\"arrowwidth\":1},\"geo\":{\"bgcolor\":\"white\",\"landcolor\":\"#E5ECF6\",\"subunitcolor\":\"white\",\"showland\":true,\"showlakes\":true,\"lakecolor\":\"white\"},\"title\":{\"x\":0.05},\"mapbox\":{\"style\":\"light\"}}},\"paper_bgcolor\":\"white\",\"plot_bgcolor\":\"white\",\"yaxis\":{\"linecolor\":\"gray\",\"linewidth\":1,\"gridcolor\":\"lightgray\",\"griddash\":\"dot\"},\"xaxis\":{\"linecolor\":\"gray\",\"linewidth\":1,\"gridcolor\":\"lightgray\",\"griddash\":\"dot\",\"tickangle\":-90,\"dtick\":1.0},\"width\":800,\"height\":1100},                        {\"responsive\": true}                    ).then(function(){\n",
       "                            \n",
       "var gd = document.getElementById('a4e76f39-78dc-4dc0-9565-dcde5eb43140');\n",
       "var x = new MutationObserver(function (mutations, observer) {{\n",
       "        var display = window.getComputedStyle(gd).display;\n",
       "        if (!display || display === 'none') {{\n",
       "            console.log([gd, 'removed!']);\n",
       "            Plotly.purge(gd);\n",
       "            observer.disconnect();\n",
       "        }}\n",
       "}});\n",
       "\n",
       "// Listen for the removal of the full notebook cells\n",
       "var notebookContainer = gd.closest('#notebook-container');\n",
       "if (notebookContainer) {{\n",
       "    x.observe(notebookContainer, {childList: true});\n",
       "}}\n",
       "\n",
       "// Listen for the clearing of the current output cell\n",
       "var outputEl = gd.closest('.output');\n",
       "if (outputEl) {{\n",
       "    x.observe(outputEl, {childList: true});\n",
       "}}\n",
       "\n",
       "                        })                };                });            </script>        </div>"
      ]
     },
     "metadata": {},
     "output_type": "display_data"
    }
   ],
   "source": [
    "trending_words_per_year(\n",
    "    #\n",
    "    # PARAMS:\n",
    "    field=\"author_keywords\",\n",
    "    n_words_per_year=10,\n",
    "    custom_items=custom_items,\n",
    "    #\n",
    "    # DATABASE PARAMS:\n",
    "    root_dir=\"./\",\n",
    "    database=\"main\",\n",
    "    year_filter=None,\n",
    "    cited_by_filter=None,\n",
    ").fig_.update_layout(width=800, height=1100).show()"
   ]
  },
  {
   "cell_type": "code",
   "execution_count": null,
   "id": "2bfb9fb5-2751-467d-8002-e6f368c9f939",
   "metadata": {},
   "outputs": [],
   "source": []
  }
 ],
 "metadata": {
  "kernelspec": {
   "display_name": "Python 3 (ipykernel)",
   "language": "python",
   "name": "python3"
  },
  "language_info": {
   "codemirror_mode": {
    "name": "ipython",
    "version": 3
   },
   "file_extension": ".py",
   "mimetype": "text/x-python",
   "name": "python",
   "nbconvert_exporter": "python",
   "pygments_lexer": "ipython3",
   "version": "3.9.6"
  }
 },
 "nbformat": 4,
 "nbformat_minor": 5
}
