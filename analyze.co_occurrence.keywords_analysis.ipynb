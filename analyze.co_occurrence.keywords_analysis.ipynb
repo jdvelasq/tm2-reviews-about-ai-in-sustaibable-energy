{
 "cells": [
  {
   "cell_type": "code",
   "execution_count": 1,
   "id": "8f621681-606c-404e-a541-2f0f4e8cacc6",
   "metadata": {},
   "outputs": [
    {
     "name": "stdout",
     "output_type": "stream",
     "text": [
      "Note: to be able to use all crisp methods, you need to install some additional packages:  {'wurlitzer', 'graph_tool', 'bayanpy', 'infomap'}\n",
      "Note: to be able to use all crisp methods, you need to install some additional packages:  {'pyclustering', 'ASLPAw'}\n",
      "Note: to be able to use all crisp methods, you need to install some additional packages:  {'wurlitzer', 'infomap'}\n"
     ]
    }
   ],
   "source": [
    "from techminer2.co_occurrence.network.thematic_map.author_keywords import report"
   ]
  },
  {
   "cell_type": "code",
   "execution_count": 2,
   "id": "e0934be0-fcc5-4954-9716-d67ac9de9514",
   "metadata": {},
   "outputs": [
    {
     "name": "stdout",
     "output_type": "stream",
     "text": [
      "****** 2021 ******\n",
      "--INFO-- The file './reports/co_occurrence/network/thematic_map/author_keywords/CL_0_abstracts_report.txt' was created.\n",
      "--INFO-- The file './reports/co_occurrence/network/thematic_map/author_keywords/CL_1_abstracts_report.txt' was created.\n",
      "--INFO-- The file './reports/co_occurrence/network/thematic_map/author_keywords/CL_2_abstracts_report.txt' was created.\n",
      "--INFO-- The file './reports/co_occurrence/network/thematic_map/author_keywords/CL_3_abstracts_report.txt' was created.\n",
      "--INFO-- The file './reports/co_occurrence/network/thematic_map/author_keywords/CL_4_abstracts_report.txt' was created.\n",
      "--INFO-- The file './reports/co_occurrence/network/thematic_map/author_keywords/CL_5_abstracts_report.txt' was created.\n",
      "--INFO-- The file './reports/co_occurrence/network/thematic_map/author_keywords/CL_0_prompt.txt' was created.\n",
      "--INFO-- The file './reports/co_occurrence/network/thematic_map/author_keywords/CL_1_prompt.txt' was created.\n",
      "--INFO-- The file './reports/co_occurrence/network/thematic_map/author_keywords/CL_2_prompt.txt' was created.\n",
      "--INFO-- The file './reports/co_occurrence/network/thematic_map/author_keywords/CL_3_prompt.txt' was created.\n",
      "--INFO-- The file './reports/co_occurrence/network/thematic_map/author_keywords/CL_4_prompt.txt' was created.\n",
      "--INFO-- The file './reports/co_occurrence/network/thematic_map/author_keywords/CL_5_prompt.txt' was created.\n",
      "\n",
      "****** 2022 ******\n",
      "--INFO-- The file './reports/co_occurrence/network/thematic_map/author_keywords/CL_0_abstracts_report.txt' was created.\n",
      "--INFO-- The file './reports/co_occurrence/network/thematic_map/author_keywords/CL_1_abstracts_report.txt' was created.\n",
      "--INFO-- The file './reports/co_occurrence/network/thematic_map/author_keywords/CL_2_abstracts_report.txt' was created.\n",
      "--INFO-- The file './reports/co_occurrence/network/thematic_map/author_keywords/CL_3_abstracts_report.txt' was created.\n",
      "--INFO-- The file './reports/co_occurrence/network/thematic_map/author_keywords/CL_4_abstracts_report.txt' was created.\n",
      "--INFO-- The file './reports/co_occurrence/network/thematic_map/author_keywords/CL_5_abstracts_report.txt' was created.\n",
      "--INFO-- The file './reports/co_occurrence/network/thematic_map/author_keywords/CL_0_prompt.txt' was created.\n",
      "--INFO-- The file './reports/co_occurrence/network/thematic_map/author_keywords/CL_1_prompt.txt' was created.\n",
      "--INFO-- The file './reports/co_occurrence/network/thematic_map/author_keywords/CL_2_prompt.txt' was created.\n",
      "--INFO-- The file './reports/co_occurrence/network/thematic_map/author_keywords/CL_3_prompt.txt' was created.\n",
      "--INFO-- The file './reports/co_occurrence/network/thematic_map/author_keywords/CL_4_prompt.txt' was created.\n",
      "--INFO-- The file './reports/co_occurrence/network/thematic_map/author_keywords/CL_5_prompt.txt' was created.\n",
      "\n",
      "finished!!!\n"
     ]
    }
   ],
   "source": [
    "occ_min = {\n",
    "    2013: 3,\n",
    "    2014: 5,\n",
    "    2015: 4,\n",
    "    2016: 5,\n",
    "    2017: 4,\n",
    "    2018: 4, \n",
    "    2019: 6,\n",
    "    2020: 4,\n",
    "    2021: 5,\n",
    "    2022: 5,\n",
    "}\n",
    "\n",
    "for year in range(2021, 2023):\n",
    "\n",
    "    \n",
    "    print(f\"****** {year} ******\")\n",
    "    \n",
    "    report(\n",
    "        #\n",
    "        # COLUMN PARAMS:\n",
    "        top_n=None,\n",
    "        occ_range=(occ_min[year], None),\n",
    "        gc_range=(None, None),\n",
    "        custom_items=None,\n",
    "        #\n",
    "        # NETWORK PARAMS:\n",
    "        algorithm_or_dict=\"louvain\",\n",
    "        association_index=\"association\",\n",
    "        #\n",
    "        # DATABASE PARAMS:\n",
    "        root_dir=\"./\",\n",
    "        database=\"main\",\n",
    "        year_filter=(year, year),\n",
    "        cited_by_filter=(None, None),\n",
    "    )\n",
    "    !mv reports/co_occurrence/network/thematic_map/author_keywords reports/{year}\n",
    "\n",
    "    print()\n",
    "    \n",
    "print(\"finished!!!\")"
   ]
  },
  {
   "cell_type": "code",
   "execution_count": null,
   "id": "f292bbd4-620a-4a93-b605-8579d729f3b4",
   "metadata": {},
   "outputs": [],
   "source": []
  }
 ],
 "metadata": {
  "kernelspec": {
   "display_name": "Python 3 (ipykernel)",
   "language": "python",
   "name": "python3"
  },
  "language_info": {
   "codemirror_mode": {
    "name": "ipython",
    "version": 3
   },
   "file_extension": ".py",
   "mimetype": "text/x-python",
   "name": "python",
   "nbconvert_exporter": "python",
   "pygments_lexer": "ipython3",
   "version": "3.9.6"
  }
 },
 "nbformat": 4,
 "nbformat_minor": 5
}
