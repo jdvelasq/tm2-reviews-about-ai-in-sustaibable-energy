{
 "cells": [
  {
   "cell_type": "code",
   "execution_count": 1,
   "id": "1de351f1-6c28-49ef-aa44-e8963a0c5e91",
   "metadata": {},
   "outputs": [
    {
     "name": "stdout",
     "output_type": "stream",
     "text": [
      "Note: to be able to use all crisp methods, you need to install some additional packages:  {'bayanpy', 'wurlitzer', 'infomap', 'graph_tool'}\n",
      "Note: to be able to use all crisp methods, you need to install some additional packages:  {'ASLPAw', 'pyclustering'}\n",
      "Note: to be able to use all crisp methods, you need to install some additional packages:  {'wurlitzer', 'infomap'}\n",
      "--INFO-- The file './reports/co_occurrence/network/CL_0_abstracts_report.txt' was created.\n",
      "--INFO-- The file './reports/co_occurrence/network/CL_1_abstracts_report.txt' was created.\n",
      "--INFO-- The file './reports/co_occurrence/network/CL_2_abstracts_report.txt' was created.\n",
      "--INFO-- The file './reports/co_occurrence/network/CL_3_abstracts_report.txt' was created.\n",
      "--INFO-- The file './reports/co_occurrence/network/CL_4_abstracts_report.txt' was created.\n",
      "--INFO-- The file './reports/co_occurrence/network/CL_0_relationships_prompt.txt' was created.\n",
      "--INFO-- The file './reports/co_occurrence/network/CL_1_relationships_prompt.txt' was created.\n",
      "--INFO-- The file './reports/co_occurrence/network/CL_2_relationships_prompt.txt' was created.\n",
      "--INFO-- The file './reports/co_occurrence/network/CL_3_relationships_prompt.txt' was created.\n",
      "--INFO-- The file './reports/co_occurrence/network/CL_4_relationships_prompt.txt' was created.\n",
      "--INFO-- The file './reports/co_occurrence/network/CL_0_conclusions_prompt.txt' was created.\n",
      "--INFO-- The file './reports/co_occurrence/network/CL_1_conclusions_prompt.txt' was created.\n",
      "--INFO-- The file './reports/co_occurrence/network/CL_2_conclusions_prompt.txt' was created.\n",
      "--INFO-- The file './reports/co_occurrence/network/CL_3_conclusions_prompt.txt' was created.\n",
      "--INFO-- The file './reports/co_occurrence/network/CL_4_conclusions_prompt.txt' was created.\n"
     ]
    }
   ],
   "source": [
    "from techminer2.analyze.co_occurrence.network import report\n",
    "\n",
    "report(\n",
    "    #\n",
    "    # FUNCTION PARAMS:\n",
    "    field='keywords',\n",
    "    #\n",
    "    # COLUMN PARAMS:\n",
    "    top_n=None,\n",
    "    occ_range=(5, None),\n",
    "    gc_range=(None, None),\n",
    "    custom_items=None,\n",
    "    #\n",
    "    # NETWORK PARAMS:\n",
    "    algorithm_or_dict=\"louvain\",\n",
    "    association_index=\"association\",\n",
    "    #\n",
    "    # DATABASE PARAMS:\n",
    "    root_dir=\"./\",\n",
    "    database=\"main\",\n",
    "    year_filter=(None, None),\n",
    "    cited_by_filter=(None, None),\n",
    ")"
   ]
  },
  {
   "cell_type": "code",
   "execution_count": null,
   "id": "30fc68f1-a850-4798-8a44-b485e52221d0",
   "metadata": {},
   "outputs": [],
   "source": []
  }
 ],
 "metadata": {
  "kernelspec": {
   "display_name": "Python 3 (ipykernel)",
   "language": "python",
   "name": "python3"
  },
  "language_info": {
   "codemirror_mode": {
    "name": "ipython",
    "version": 3
   },
   "file_extension": ".py",
   "mimetype": "text/x-python",
   "name": "python",
   "nbconvert_exporter": "python",
   "pygments_lexer": "ipython3",
   "version": "3.9.6"
  }
 },
 "nbformat": 4,
 "nbformat_minor": 5
}
