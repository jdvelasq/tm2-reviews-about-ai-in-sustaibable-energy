{
 "cells": [
  {
   "cell_type": "code",
   "execution_count": 1,
   "id": "f6193ab4-0670-40c5-b1a9-d201ef8b1d37",
   "metadata": {},
   "outputs": [
    {
     "name": "stdout",
     "output_type": "stream",
     "text": [
      "Your task is to generate a short summary for a research paper of a table \\\n",
      "with record and field statistics for a dataset of scientific publications. \\\n",
      "The table below, delimited by triple backticks, provides data on the main \\\n",
      "characteristics of the records and fields of the bibliographic dataset. Use \\\n",
      "the the information in the table to draw conclusions. Limit your \\\n",
      "description to one paragraph in at most 100 words.\n",
      "\n",
      "Table:\n",
      "```\n",
      "|                                                        | Value     |\n",
      "|:-------------------------------------------------------|:----------|\n",
      "| ('GENERAL', 'Timespan')                                | 1989:2023 |\n",
      "| ('GENERAL', 'Documents')                               | 539       |\n",
      "| ('GENERAL', 'Annual growth rate %')                    | 19.69     |\n",
      "| ('GENERAL', 'Document average age')                    | 2.82      |\n",
      "| ('GENERAL', 'Average citations per document')          | 51.59     |\n",
      "| ('GENERAL', 'Average citations per document per year') | 1.47      |\n",
      "| ('GENERAL', 'Sources')                                 | 238       |\n",
      "| ('GENERAL', 'Average documents per source')            | 2.26      |\n",
      "| ('DOCUMENT TYPES', 'article')                          | 1         |\n",
      "| ('DOCUMENT TYPES', 'review')                           | 538       |\n",
      "| ('AUTHORS', 'Authors')                                 | 2330      |\n",
      "| ('AUTHORS', 'Authors of single-authored documents')    | 21        |\n",
      "| ('AUTHORS', 'Single-authored documents')               | 21        |\n",
      "| ('AUTHORS', 'Multi-authored documents')                | 518       |\n",
      "| ('AUTHORS', 'Authors per document')                    | 4.68      |\n",
      "| ('AUTHORS', 'Co-authors per document')                 | 4.83      |\n",
      "| ('AUTHORS', 'International co-authorship %')           | 39.96     |\n",
      "| ('AUTHORS', 'Author appearances')                      | 2524      |\n",
      "| ('AUTHORS', 'Documents per author')                    | 0.21      |\n",
      "| ('AUTHORS', 'Collaboration index')                     | 1.0       |\n",
      "| ('AUTHORS', 'Organizations')                           | 1039      |\n",
      "| ('AUTHORS', 'Organizations (1st author)')              | 0         |\n",
      "| ('AUTHORS', 'Countries')                               | 74        |\n",
      "| ('AUTHORS', 'Countries (1st author)')                  | 0         |\n",
      "| ('KEYWORDS', 'Raw author keywords')                    | 1484      |\n",
      "| ('KEYWORDS', 'Cleaned author keywords')                | 1271      |\n",
      "| ('KEYWORDS', 'Raw index keywords')                     | 3872      |\n",
      "| ('KEYWORDS', 'Cleaned index keywords')                 | 3403      |\n",
      "| ('KEYWORDS', 'Raw keywords')                           | 4603      |\n",
      "| ('KEYWORDS', 'Cleaned keywords')                       | 3776      |\n",
      "| ('NLP PHRASES', 'Raw title NLP phrases')               | 830       |\n",
      "| ('NLP PHRASES', 'Cleaned title NLP phrases')           | 735       |\n",
      "| ('NLP PHRASES', 'Raw abstract NLP phrases')            | 8672      |\n",
      "| ('NLP PHRASES', 'Cleaned abstract NLP phrases')        | 7657      |\n",
      "| ('NLP PHRASES', 'Raw NLP phrases')                     | 9034      |\n",
      "| ('NLP PHRASES', 'Cleaned NLP phrases')                 | 7945      |\n",
      "| ('DESCRIPTORS', 'Raw descriptors')                     | 12440     |\n",
      "| ('DESCRIPTORS', 'Cleaned descriptors')                 | 10279     |\n",
      "```\n",
      "\n"
     ]
    }
   ],
   "source": [
    "from techminer2.performance.overview import general_metrics\n",
    "\n",
    "info = general_metrics(\n",
    "    #\n",
    "    # DATABASE PARAMS:\n",
    "    root_dir=\"./\",\n",
    "    database=\"main\",\n",
    "    year_filter=(None, None),\n",
    "    cited_by_filter=(None, None),\n",
    ")\n",
    "\n",
    "print(info.prompt_)"
   ]
  }
 ],
 "metadata": {
  "kernelspec": {
   "display_name": "Python 3 (ipykernel)",
   "language": "python",
   "name": "python3"
  },
  "language_info": {
   "codemirror_mode": {
    "name": "ipython",
    "version": 3
   },
   "file_extension": ".py",
   "mimetype": "text/x-python",
   "name": "python",
   "nbconvert_exporter": "python",
   "pygments_lexer": "ipython3",
   "version": "3.9.6"
  }
 },
 "nbformat": 4,
 "nbformat_minor": 5
}
